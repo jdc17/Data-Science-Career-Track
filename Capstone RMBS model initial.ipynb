{
 "cells": [
  {
   "cell_type": "code",
   "execution_count": 1,
   "metadata": {},
   "outputs": [],
   "source": [
    "#####Capstone RMBS model Spring 2021 for Springboard Data Science Track #####"
   ]
  },
  {
   "cell_type": "code",
   "execution_count": 2,
   "metadata": {},
   "outputs": [],
   "source": [
    "###Load required pacakages"
   ]
  },
  {
   "cell_type": "code",
   "execution_count": 3,
   "metadata": {},
   "outputs": [],
   "source": [
    "import pandas as pd\n",
    "import numpy as np\n",
    "\n",
    "import matplotlib.pyplot as plt\n",
    "import datetime\n",
    "import warnings\n",
    "warnings.filterwarnings('ignore')\n",
    "plt.style.use('seaborn')\n",
    "\n",
    "from fredapi import Fred\n",
    "fred = Fred(api_key='3ddb1f6991ad9fb5f0afad664be60280')\n",
    "#API key removed from Github copy\n",
    "\n",
    "import pandas_profiling\n",
    "from pandas_profiling.utils.cache import cache_file"
   ]
  },
  {
   "cell_type": "code",
   "execution_count": 4,
   "metadata": {},
   "outputs": [],
   "source": [
    "###Load Freddie Mac mortgage data"
   ]
  },
  {
   "cell_type": "code",
   "execution_count": 5,
   "metadata": {},
   "outputs": [],
   "source": [
    "##Develop language to Unzip source files?"
   ]
  },
  {
   "cell_type": "code",
   "execution_count": 6,
   "metadata": {},
   "outputs": [],
   "source": [
    "#Sample data files downloaded and stored here\n",
    "#Note these files are now stored locally \n",
    "filepath = 'J:/Springboard_RMBS_model_data/FHLB/Sample/'"
   ]
  },
  {
   "cell_type": "code",
   "execution_count": 7,
   "metadata": {},
   "outputs": [],
   "source": [
    "#Root file names for both origination and monthly servicing files\n",
    "#National Mortgage Database Available at Freddie Mac (https://www.fhfa.gov/DataTools/Downloads/Pages/National-Mortgage-Database-Aggregate-Data.aspx)\n",
    "origination_root_file ='sample_orig_'\n",
    "monthly_root_file ='sample_svcg_'"
   ]
  },
  {
   "cell_type": "code",
   "execution_count": 8,
   "metadata": {},
   "outputs": [],
   "source": [
    "#Initialize both dataframes\n",
    "origination_data_combined =pd.DataFrame()\n",
    "monthly_data_combined =pd.DataFrame()"
   ]
  },
  {
   "cell_type": "code",
   "execution_count": 9,
   "metadata": {},
   "outputs": [],
   "source": [
    "#Documentation placed on Github"
   ]
  },
  {
   "cell_type": "code",
   "execution_count": 10,
   "metadata": {},
   "outputs": [],
   "source": [
    "#Origination files labels from documentation -- note underscores added to help with syntax\n",
    "origination_labels = [\"Credit_Score\",\n",
    "\"First_Payment_Date\",\n",
    "\"First_Time_Homebuyer_Flag\",\n",
    "\"Maturity_Date\",\n",
    "\"MSA\",\n",
    "\"MI%\",\n",
    "\"Number_of_Units\",\n",
    "\"Occupancy_Status\",\n",
    "\"Original_CLTV\",\n",
    "\"Original_DTI\",\n",
    "\"Original_UPB\",\n",
    "\"Original_LTV\",\n",
    "\"Original_Interest_Rate\",\n",
    "\"Channel\",\n",
    "\"Prepayment_Penalty_Flag\",\n",
    "\"Product_Type\",\n",
    "\"Property_State\",\n",
    "\"Property_Type\",\n",
    "\"Postal_Code\",\n",
    "\"Loan_Sequence_Number\",\n",
    "\"Loan_Purpose\",\n",
    "\"Original_Loan_Term\",\n",
    "\"Number_of_Borrowers\",\n",
    "\"Seller_Name\",\n",
    "\"Servicer_Name\",\n",
    "\"Super_Conforming_Flag\",\n",
    "\"Pre-HARP_Loan_Seq_Number\",\n",
    "\"Program_Indicator\",\n",
    "\"HARP_Indicator\",\n",
    "\"Property_Valuation_Method\"]\n",
    "#servicing_labels"
   ]
  },
  {
   "cell_type": "code",
   "execution_count": 11,
   "metadata": {},
   "outputs": [],
   "source": [
    "#Monthly servicing files labels from documentation -- note underscores added to help with syntax\n",
    "#columns_to_use =list(range(0,13) + range(23,25) + range(26,30))\n",
    "columns_to_use =[0,1,2,3,4,5,6,7,8,10,11,21,26]\n",
    "monthly_labels =['Loan_Sequence_Number',\n",
    "'Monthly_Reporting_Period',\n",
    "'Current_Actual_UPB',\n",
    "'Current_Loan_Delinquency_Status',\n",
    "'Loan_Age',\n",
    "'Remaining_Months_to_Legal_Maturity',\n",
    "'Repurchase_Flag',\n",
    "'Modification_Flag',\n",
    "'Zero_Balance_Code',\n",
    "'Current_Interest_Rate',              \n",
    "'Current_Deferred_UPB',\n",
    "'Actual_Loss_Calculation',\n",
    "'Zero_Balance_Removal_UPB']"
   ]
  },
  {
   "cell_type": "code",
   "execution_count": 12,
   "metadata": {
    "scrolled": true
   },
   "outputs": [],
   "source": [
    "#Loops through files and appends origination data to single dataframe\n",
    "for year in range(1999,2020):\n",
    "    year=str(year)\n",
    "    filename = filepath+origination_root_file+year+'.txt'\n",
    "    data=pd.read_csv(filename,sep=\"|\", header =None, names =origination_labels)\n",
    "    origination_data_combined=origination_data_combined.append(data)"
   ]
  },
  {
   "cell_type": "code",
   "execution_count": 13,
   "metadata": {
    "scrolled": true
   },
   "outputs": [
    {
     "name": "stdout",
     "output_type": "stream",
     "text": [
      "<class 'pandas.core.frame.DataFrame'>\n",
      "Int64Index: 1050000 entries, 0 to 49999\n",
      "Data columns (total 30 columns):\n",
      " #   Column                     Non-Null Count    Dtype  \n",
      "---  ------                     --------------    -----  \n",
      " 0   Credit_Score               1050000 non-null  int64  \n",
      " 1   First_Payment_Date         1050000 non-null  int64  \n",
      " 2   First_Time_Homebuyer_Flag  1050000 non-null  object \n",
      " 3   Maturity_Date              1050000 non-null  int64  \n",
      " 4   MSA                        905638 non-null   float64\n",
      " 5   MI%                        1050000 non-null  int64  \n",
      " 6   Number_of_Units            1050000 non-null  int64  \n",
      " 7   Occupancy_Status           1050000 non-null  object \n",
      " 8   Original_CLTV              1050000 non-null  int64  \n",
      " 9   Original_DTI               1050000 non-null  int64  \n",
      " 10  Original_UPB               1050000 non-null  int64  \n",
      " 11  Original_LTV               1050000 non-null  int64  \n",
      " 12  Original_Interest_Rate     1050000 non-null  float64\n",
      " 13  Channel                    1050000 non-null  object \n",
      " 14  Prepayment_Penalty_Flag    1045281 non-null  object \n",
      " 15  Product_Type               1050000 non-null  object \n",
      " 16  Property_State             1050000 non-null  object \n",
      " 17  Property_Type              1050000 non-null  object \n",
      " 18  Postal_Code                1049924 non-null  float64\n",
      " 19  Loan_Sequence_Number       1050000 non-null  object \n",
      " 20  Loan_Purpose               1050000 non-null  object \n",
      " 21  Original_Loan_Term         1050000 non-null  int64  \n",
      " 22  Number_of_Borrowers        1050000 non-null  int64  \n",
      " 23  Seller_Name                1049342 non-null  object \n",
      " 24  Servicer_Name              1050000 non-null  object \n",
      " 25  Super_Conforming_Flag      20333 non-null    object \n",
      " 26  Pre-HARP_Loan_Seq_Number   1 non-null        object \n",
      " 27  Program_Indicator          1050000 non-null  object \n",
      " 28  HARP_Indicator             1 non-null        object \n",
      " 29  Property_Valuation_Method  1050000 non-null  int64  \n",
      "dtypes: float64(3), int64(12), object(15)\n",
      "memory usage: 248.3+ MB\n"
     ]
    }
   ],
   "source": [
    "#Initial look at data with info()\n",
    "origination_data_combined.info()"
   ]
  },
  {
   "cell_type": "code",
   "execution_count": 14,
   "metadata": {
    "scrolled": true
   },
   "outputs": [
    {
     "data": {
      "text/html": [
       "<div>\n",
       "<style scoped>\n",
       "    .dataframe tbody tr th:only-of-type {\n",
       "        vertical-align: middle;\n",
       "    }\n",
       "\n",
       "    .dataframe tbody tr th {\n",
       "        vertical-align: top;\n",
       "    }\n",
       "\n",
       "    .dataframe thead th {\n",
       "        text-align: right;\n",
       "    }\n",
       "</style>\n",
       "<table border=\"1\" class=\"dataframe\">\n",
       "  <thead>\n",
       "    <tr style=\"text-align: right;\">\n",
       "      <th></th>\n",
       "      <th>Credit_Score</th>\n",
       "      <th>First_Payment_Date</th>\n",
       "      <th>First_Time_Homebuyer_Flag</th>\n",
       "      <th>Maturity_Date</th>\n",
       "      <th>MSA</th>\n",
       "      <th>MI%</th>\n",
       "      <th>Number_of_Units</th>\n",
       "      <th>Occupancy_Status</th>\n",
       "      <th>Original_CLTV</th>\n",
       "      <th>Original_DTI</th>\n",
       "      <th>...</th>\n",
       "      <th>Loan_Purpose</th>\n",
       "      <th>Original_Loan_Term</th>\n",
       "      <th>Number_of_Borrowers</th>\n",
       "      <th>Seller_Name</th>\n",
       "      <th>Servicer_Name</th>\n",
       "      <th>Super_Conforming_Flag</th>\n",
       "      <th>Pre-HARP_Loan_Seq_Number</th>\n",
       "      <th>Program_Indicator</th>\n",
       "      <th>HARP_Indicator</th>\n",
       "      <th>Property_Valuation_Method</th>\n",
       "    </tr>\n",
       "  </thead>\n",
       "  <tbody>\n",
       "    <tr>\n",
       "      <th>0</th>\n",
       "      <td>799</td>\n",
       "      <td>199903</td>\n",
       "      <td>N</td>\n",
       "      <td>202901</td>\n",
       "      <td>37620.0</td>\n",
       "      <td>0</td>\n",
       "      <td>1</td>\n",
       "      <td>P</td>\n",
       "      <td>70</td>\n",
       "      <td>25</td>\n",
       "      <td>...</td>\n",
       "      <td>N</td>\n",
       "      <td>359</td>\n",
       "      <td>1</td>\n",
       "      <td>Other sellers</td>\n",
       "      <td>Other servicers</td>\n",
       "      <td>NaN</td>\n",
       "      <td>NaN</td>\n",
       "      <td>9</td>\n",
       "      <td>NaN</td>\n",
       "      <td>9</td>\n",
       "    </tr>\n",
       "    <tr>\n",
       "      <th>1</th>\n",
       "      <td>635</td>\n",
       "      <td>200212</td>\n",
       "      <td>N</td>\n",
       "      <td>202904</td>\n",
       "      <td>10420.0</td>\n",
       "      <td>0</td>\n",
       "      <td>1</td>\n",
       "      <td>P</td>\n",
       "      <td>76</td>\n",
       "      <td>21</td>\n",
       "      <td>...</td>\n",
       "      <td>P</td>\n",
       "      <td>317</td>\n",
       "      <td>2</td>\n",
       "      <td>Other sellers</td>\n",
       "      <td>Other servicers</td>\n",
       "      <td>NaN</td>\n",
       "      <td>NaN</td>\n",
       "      <td>9</td>\n",
       "      <td>NaN</td>\n",
       "      <td>9</td>\n",
       "    </tr>\n",
       "    <tr>\n",
       "      <th>2</th>\n",
       "      <td>787</td>\n",
       "      <td>199905</td>\n",
       "      <td>N</td>\n",
       "      <td>202904</td>\n",
       "      <td>12060.0</td>\n",
       "      <td>999</td>\n",
       "      <td>1</td>\n",
       "      <td>P</td>\n",
       "      <td>80</td>\n",
       "      <td>18</td>\n",
       "      <td>...</td>\n",
       "      <td>P</td>\n",
       "      <td>360</td>\n",
       "      <td>2</td>\n",
       "      <td>FT MORTGAGE COMPANIES</td>\n",
       "      <td>CHASE MANHATTAN MORTGAGE CORPORATION</td>\n",
       "      <td>NaN</td>\n",
       "      <td>NaN</td>\n",
       "      <td>9</td>\n",
       "      <td>NaN</td>\n",
       "      <td>9</td>\n",
       "    </tr>\n",
       "    <tr>\n",
       "      <th>3</th>\n",
       "      <td>726</td>\n",
       "      <td>199904</td>\n",
       "      <td>N</td>\n",
       "      <td>202903</td>\n",
       "      <td>28140.0</td>\n",
       "      <td>0</td>\n",
       "      <td>1</td>\n",
       "      <td>P</td>\n",
       "      <td>80</td>\n",
       "      <td>37</td>\n",
       "      <td>...</td>\n",
       "      <td>P</td>\n",
       "      <td>360</td>\n",
       "      <td>2</td>\n",
       "      <td>FLEET MORTGAGE CORPORATION</td>\n",
       "      <td>Other servicers</td>\n",
       "      <td>NaN</td>\n",
       "      <td>NaN</td>\n",
       "      <td>9</td>\n",
       "      <td>NaN</td>\n",
       "      <td>9</td>\n",
       "    </tr>\n",
       "    <tr>\n",
       "      <th>4</th>\n",
       "      <td>748</td>\n",
       "      <td>199905</td>\n",
       "      <td>9</td>\n",
       "      <td>202904</td>\n",
       "      <td>17140.0</td>\n",
       "      <td>999</td>\n",
       "      <td>1</td>\n",
       "      <td>P</td>\n",
       "      <td>80</td>\n",
       "      <td>28</td>\n",
       "      <td>...</td>\n",
       "      <td>N</td>\n",
       "      <td>360</td>\n",
       "      <td>2</td>\n",
       "      <td>Other sellers</td>\n",
       "      <td>Other servicers</td>\n",
       "      <td>NaN</td>\n",
       "      <td>NaN</td>\n",
       "      <td>9</td>\n",
       "      <td>NaN</td>\n",
       "      <td>9</td>\n",
       "    </tr>\n",
       "  </tbody>\n",
       "</table>\n",
       "<p>5 rows × 30 columns</p>\n",
       "</div>"
      ],
      "text/plain": [
       "   Credit_Score  First_Payment_Date First_Time_Homebuyer_Flag  Maturity_Date  \\\n",
       "0           799              199903                         N         202901   \n",
       "1           635              200212                         N         202904   \n",
       "2           787              199905                         N         202904   \n",
       "3           726              199904                         N         202903   \n",
       "4           748              199905                         9         202904   \n",
       "\n",
       "       MSA  MI%  Number_of_Units Occupancy_Status  Original_CLTV  \\\n",
       "0  37620.0    0                1                P             70   \n",
       "1  10420.0    0                1                P             76   \n",
       "2  12060.0  999                1                P             80   \n",
       "3  28140.0    0                1                P             80   \n",
       "4  17140.0  999                1                P             80   \n",
       "\n",
       "   Original_DTI  ...  Loan_Purpose  Original_Loan_Term  Number_of_Borrowers  \\\n",
       "0            25  ...             N                 359                    1   \n",
       "1            21  ...             P                 317                    2   \n",
       "2            18  ...             P                 360                    2   \n",
       "3            37  ...             P                 360                    2   \n",
       "4            28  ...             N                 360                    2   \n",
       "\n",
       "                  Seller_Name                         Servicer_Name  \\\n",
       "0               Other sellers                       Other servicers   \n",
       "1               Other sellers                       Other servicers   \n",
       "2       FT MORTGAGE COMPANIES  CHASE MANHATTAN MORTGAGE CORPORATION   \n",
       "3  FLEET MORTGAGE CORPORATION                       Other servicers   \n",
       "4               Other sellers                       Other servicers   \n",
       "\n",
       "  Super_Conforming_Flag Pre-HARP_Loan_Seq_Number Program_Indicator  \\\n",
       "0                   NaN                      NaN                 9   \n",
       "1                   NaN                      NaN                 9   \n",
       "2                   NaN                      NaN                 9   \n",
       "3                   NaN                      NaN                 9   \n",
       "4                   NaN                      NaN                 9   \n",
       "\n",
       "   HARP_Indicator Property_Valuation_Method  \n",
       "0             NaN                         9  \n",
       "1             NaN                         9  \n",
       "2             NaN                         9  \n",
       "3             NaN                         9  \n",
       "4             NaN                         9  \n",
       "\n",
       "[5 rows x 30 columns]"
      ]
     },
     "execution_count": 14,
     "metadata": {},
     "output_type": "execute_result"
    }
   ],
   "source": [
    "#Initial look at data with head()\n",
    "origination_data_combined.head()"
   ]
  },
  {
   "cell_type": "code",
   "execution_count": 15,
   "metadata": {},
   "outputs": [
    {
     "data": {
      "text/html": [
       "<div>\n",
       "<style scoped>\n",
       "    .dataframe tbody tr th:only-of-type {\n",
       "        vertical-align: middle;\n",
       "    }\n",
       "\n",
       "    .dataframe tbody tr th {\n",
       "        vertical-align: top;\n",
       "    }\n",
       "\n",
       "    .dataframe thead th {\n",
       "        text-align: right;\n",
       "    }\n",
       "</style>\n",
       "<table border=\"1\" class=\"dataframe\">\n",
       "  <thead>\n",
       "    <tr style=\"text-align: right;\">\n",
       "      <th></th>\n",
       "      <th>count</th>\n",
       "      <th>%</th>\n",
       "    </tr>\n",
       "  </thead>\n",
       "  <tbody>\n",
       "    <tr>\n",
       "      <th>HARP_Indicator</th>\n",
       "      <td>1049999</td>\n",
       "      <td>99.999905</td>\n",
       "    </tr>\n",
       "    <tr>\n",
       "      <th>Pre-HARP_Loan_Seq_Number</th>\n",
       "      <td>1049999</td>\n",
       "      <td>99.999905</td>\n",
       "    </tr>\n",
       "    <tr>\n",
       "      <th>Super_Conforming_Flag</th>\n",
       "      <td>1029667</td>\n",
       "      <td>98.063524</td>\n",
       "    </tr>\n",
       "    <tr>\n",
       "      <th>MSA</th>\n",
       "      <td>144362</td>\n",
       "      <td>13.748762</td>\n",
       "    </tr>\n",
       "    <tr>\n",
       "      <th>Prepayment_Penalty_Flag</th>\n",
       "      <td>4719</td>\n",
       "      <td>0.449429</td>\n",
       "    </tr>\n",
       "    <tr>\n",
       "      <th>Seller_Name</th>\n",
       "      <td>658</td>\n",
       "      <td>0.062667</td>\n",
       "    </tr>\n",
       "    <tr>\n",
       "      <th>Postal_Code</th>\n",
       "      <td>76</td>\n",
       "      <td>0.007238</td>\n",
       "    </tr>\n",
       "    <tr>\n",
       "      <th>Credit_Score</th>\n",
       "      <td>0</td>\n",
       "      <td>0.000000</td>\n",
       "    </tr>\n",
       "    <tr>\n",
       "      <th>Property_State</th>\n",
       "      <td>0</td>\n",
       "      <td>0.000000</td>\n",
       "    </tr>\n",
       "    <tr>\n",
       "      <th>Program_Indicator</th>\n",
       "      <td>0</td>\n",
       "      <td>0.000000</td>\n",
       "    </tr>\n",
       "    <tr>\n",
       "      <th>Servicer_Name</th>\n",
       "      <td>0</td>\n",
       "      <td>0.000000</td>\n",
       "    </tr>\n",
       "    <tr>\n",
       "      <th>Number_of_Borrowers</th>\n",
       "      <td>0</td>\n",
       "      <td>0.000000</td>\n",
       "    </tr>\n",
       "    <tr>\n",
       "      <th>Original_Loan_Term</th>\n",
       "      <td>0</td>\n",
       "      <td>0.000000</td>\n",
       "    </tr>\n",
       "    <tr>\n",
       "      <th>Loan_Purpose</th>\n",
       "      <td>0</td>\n",
       "      <td>0.000000</td>\n",
       "    </tr>\n",
       "    <tr>\n",
       "      <th>Loan_Sequence_Number</th>\n",
       "      <td>0</td>\n",
       "      <td>0.000000</td>\n",
       "    </tr>\n",
       "    <tr>\n",
       "      <th>Property_Type</th>\n",
       "      <td>0</td>\n",
       "      <td>0.000000</td>\n",
       "    </tr>\n",
       "    <tr>\n",
       "      <th>Product_Type</th>\n",
       "      <td>0</td>\n",
       "      <td>0.000000</td>\n",
       "    </tr>\n",
       "    <tr>\n",
       "      <th>First_Payment_Date</th>\n",
       "      <td>0</td>\n",
       "      <td>0.000000</td>\n",
       "    </tr>\n",
       "    <tr>\n",
       "      <th>Channel</th>\n",
       "      <td>0</td>\n",
       "      <td>0.000000</td>\n",
       "    </tr>\n",
       "    <tr>\n",
       "      <th>Original_Interest_Rate</th>\n",
       "      <td>0</td>\n",
       "      <td>0.000000</td>\n",
       "    </tr>\n",
       "    <tr>\n",
       "      <th>Original_LTV</th>\n",
       "      <td>0</td>\n",
       "      <td>0.000000</td>\n",
       "    </tr>\n",
       "    <tr>\n",
       "      <th>Original_UPB</th>\n",
       "      <td>0</td>\n",
       "      <td>0.000000</td>\n",
       "    </tr>\n",
       "    <tr>\n",
       "      <th>Original_DTI</th>\n",
       "      <td>0</td>\n",
       "      <td>0.000000</td>\n",
       "    </tr>\n",
       "    <tr>\n",
       "      <th>Original_CLTV</th>\n",
       "      <td>0</td>\n",
       "      <td>0.000000</td>\n",
       "    </tr>\n",
       "    <tr>\n",
       "      <th>Occupancy_Status</th>\n",
       "      <td>0</td>\n",
       "      <td>0.000000</td>\n",
       "    </tr>\n",
       "    <tr>\n",
       "      <th>Number_of_Units</th>\n",
       "      <td>0</td>\n",
       "      <td>0.000000</td>\n",
       "    </tr>\n",
       "    <tr>\n",
       "      <th>MI%</th>\n",
       "      <td>0</td>\n",
       "      <td>0.000000</td>\n",
       "    </tr>\n",
       "    <tr>\n",
       "      <th>Maturity_Date</th>\n",
       "      <td>0</td>\n",
       "      <td>0.000000</td>\n",
       "    </tr>\n",
       "    <tr>\n",
       "      <th>First_Time_Homebuyer_Flag</th>\n",
       "      <td>0</td>\n",
       "      <td>0.000000</td>\n",
       "    </tr>\n",
       "    <tr>\n",
       "      <th>Property_Valuation_Method</th>\n",
       "      <td>0</td>\n",
       "      <td>0.000000</td>\n",
       "    </tr>\n",
       "  </tbody>\n",
       "</table>\n",
       "</div>"
      ],
      "text/plain": [
       "                             count          %\n",
       "HARP_Indicator             1049999  99.999905\n",
       "Pre-HARP_Loan_Seq_Number   1049999  99.999905\n",
       "Super_Conforming_Flag      1029667  98.063524\n",
       "MSA                         144362  13.748762\n",
       "Prepayment_Penalty_Flag       4719   0.449429\n",
       "Seller_Name                    658   0.062667\n",
       "Postal_Code                     76   0.007238\n",
       "Credit_Score                     0   0.000000\n",
       "Property_State                   0   0.000000\n",
       "Program_Indicator                0   0.000000\n",
       "Servicer_Name                    0   0.000000\n",
       "Number_of_Borrowers              0   0.000000\n",
       "Original_Loan_Term               0   0.000000\n",
       "Loan_Purpose                     0   0.000000\n",
       "Loan_Sequence_Number             0   0.000000\n",
       "Property_Type                    0   0.000000\n",
       "Product_Type                     0   0.000000\n",
       "First_Payment_Date               0   0.000000\n",
       "Channel                          0   0.000000\n",
       "Original_Interest_Rate           0   0.000000\n",
       "Original_LTV                     0   0.000000\n",
       "Original_UPB                     0   0.000000\n",
       "Original_DTI                     0   0.000000\n",
       "Original_CLTV                    0   0.000000\n",
       "Occupancy_Status                 0   0.000000\n",
       "Number_of_Units                  0   0.000000\n",
       "MI%                              0   0.000000\n",
       "Maturity_Date                    0   0.000000\n",
       "First_Time_Homebuyer_Flag        0   0.000000\n",
       "Property_Valuation_Method        0   0.000000"
      ]
     },
     "execution_count": 15,
     "metadata": {},
     "output_type": "execute_result"
    }
   ],
   "source": [
    "#Number of missing values by column\n",
    "missing = pd.concat([origination_data_combined.isnull().sum(), 100 * origination_data_combined.isnull().mean()], axis=1)\n",
    "missing.columns=['count', '%']\n",
    "missing.sort_values(by='count', ascending =False)"
   ]
  },
  {
   "cell_type": "code",
   "execution_count": 16,
   "metadata": {},
   "outputs": [],
   "source": [
    "#Checking HARP_REALTED FLAG...\n",
    "origination_data_combined = origination_data_combined[origination_data_combined['HARP_Indicator'] != 'Y']"
   ]
  },
  {
   "cell_type": "code",
   "execution_count": 17,
   "metadata": {},
   "outputs": [],
   "source": [
    "#Drop HARP-RELATED columns -- not much coverage, probably not used -- in any case covered my modification flag\n",
    "origination_data_combined.drop(labels=['HARP_Indicator','Pre-HARP_Loan_Seq_Number'],axis=1,inplace=True)"
   ]
  },
  {
   "cell_type": "code",
   "execution_count": 18,
   "metadata": {},
   "outputs": [
    {
     "data": {
      "text/plain": [
       "Y    20333\n",
       "Name: Super_Conforming_Flag, dtype: int64"
      ]
     },
     "execution_count": 18,
     "metadata": {},
     "output_type": "execute_result"
    }
   ],
   "source": [
    "#Checking SUPER CONFORMING FLAG...\n",
    "origination_data_combined['Super_Conforming_Flag'].value_counts()"
   ]
  },
  {
   "cell_type": "code",
   "execution_count": 19,
   "metadata": {},
   "outputs": [],
   "source": [
    "#Checking SUPER CONFORMING FLAG...and replacing blanks with N\n",
    "origination_data_combined['Super_Conforming_Flag'].fillna('N',inplace=True)"
   ]
  },
  {
   "cell_type": "code",
   "execution_count": 20,
   "metadata": {},
   "outputs": [],
   "source": [
    "#Fix two columns with date types\n",
    "origination_data_combined['First_Payment_Date']=pd.to_datetime(origination_data_combined['First_Payment_Date'],format='%Y%m', errors='coerce')\n",
    "origination_data_combined['Maturity_Date']=pd.to_datetime(origination_data_combined['Maturity_Date'],format='%Y%m', errors='coerce')"
   ]
  },
  {
   "cell_type": "code",
   "execution_count": 21,
   "metadata": {},
   "outputs": [],
   "source": [
    "#Replace missing MSA and assume that these are not in National\n",
    "origination_data_combined['MSA'].fillna('National',inplace=True)"
   ]
  },
  {
   "cell_type": "code",
   "execution_count": 22,
   "metadata": {},
   "outputs": [
    {
     "data": {
      "text/plain": [
       "National    144362\n",
       "16974.0      30921\n",
       "31084.0      25618\n",
       "12060.0      20458\n",
       "38060.0      19970\n",
       "             ...  \n",
       "21940.0          5\n",
       "25020.0          4\n",
       "41900.0          2\n",
       "10380.0          2\n",
       "11640.0          1\n",
       "Name: MSA, Length: 437, dtype: int64"
      ]
     },
     "execution_count": 22,
     "metadata": {},
     "output_type": "execute_result"
    }
   ],
   "source": [
    "#Verify MSA fix-1\n",
    "origination_data_combined['MSA'].value_counts()\n"
   ]
  },
  {
   "cell_type": "code",
   "execution_count": 23,
   "metadata": {},
   "outputs": [
    {
     "data": {
      "text/plain": [
       "0"
      ]
     },
     "execution_count": 23,
     "metadata": {},
     "output_type": "execute_result"
    }
   ],
   "source": [
    "#Verify MSA fix-2\n",
    "origination_data_combined['MSA'].isnull().sum(axis = 0)"
   ]
  },
  {
   "cell_type": "code",
   "execution_count": 24,
   "metadata": {},
   "outputs": [
    {
     "data": {
      "text/plain": [
       "21       54700.0\n",
       "22       44600.0\n",
       "33       96900.0\n",
       "42       81400.0\n",
       "47       50400.0\n",
       "          ...   \n",
       "49966    30500.0\n",
       "49994    30500.0\n",
       "49995    32000.0\n",
       "49996    53500.0\n",
       "49997    98600.0\n",
       "Name: Postal_Code, Length: 144362, dtype: float64"
      ]
     },
     "execution_count": 24,
     "metadata": {},
     "output_type": "execute_result"
    }
   ],
   "source": [
    "#A reasonable number of ZIPs have no corresponding MSA -- spot checked to confirm, keep those ZIPs but...\n",
    "origination_data_combined[origination_data_combined['MSA']=='National']['Postal_Code']"
   ]
  },
  {
   "cell_type": "code",
   "execution_count": 25,
   "metadata": {},
   "outputs": [],
   "source": [
    "#...dropped postal (ZIP) codes, which provide too much geographic granularity\n",
    "origination_data_combined.drop(labels=['Postal_Code'],axis=1,inplace=True)"
   ]
  },
  {
   "cell_type": "code",
   "execution_count": 26,
   "metadata": {},
   "outputs": [
    {
     "data": {
      "text/plain": [
       "N    1044384\n",
       "Y        896\n",
       "Name: Prepayment_Penalty_Flag, dtype: int64"
      ]
     },
     "execution_count": 26,
     "metadata": {},
     "output_type": "execute_result"
    }
   ],
   "source": [
    "#Vast number of loans have no PP flag, so...\n",
    "origination_data_combined['Prepayment_Penalty_Flag'].value_counts()"
   ]
  },
  {
   "cell_type": "code",
   "execution_count": 27,
   "metadata": {},
   "outputs": [],
   "source": [
    "#...missing prepayment fields assumed to be N\n",
    "origination_data_combined['Prepayment_Penalty_Flag'].fillna('N',inplace=True)"
   ]
  },
  {
   "cell_type": "code",
   "execution_count": 28,
   "metadata": {},
   "outputs": [
    {
     "data": {
      "text/plain": [
       "Other sellers                        265290\n",
       "WELLS FARGO BANK, N.A.               142445\n",
       "WELLS FARGO HOME MORTGAGE, INC.       61501\n",
       "U.S. BANK N.A.                        55142\n",
       "BANK OF AMERICA, N.A.                 53644\n",
       "                                      ...  \n",
       "CMG MORTGAGE, INC.                      129\n",
       "DITECH FINANCIAL LLC                    121\n",
       "REGIONS BANK DBA REGIONS MORTGAGE       112\n",
       "PROSPECT MORTGAGE, LLC                  108\n",
       "ALLY BANK                               102\n",
       "Name: Seller_Name, Length: 96, dtype: int64"
      ]
     },
     "execution_count": 28,
     "metadata": {},
     "output_type": "execute_result"
    }
   ],
   "source": [
    "#Largest originator category is the (catch-all) Other sellers, so....\n",
    "origination_data_combined['Seller_Name'].value_counts()"
   ]
  },
  {
   "cell_type": "code",
   "execution_count": 29,
   "metadata": {},
   "outputs": [],
   "source": [
    "#...so missing fields are replace with Other Sellers\n",
    "origination_data_combined['Seller_Name'].fillna('Other_Sellers',inplace=True)"
   ]
  },
  {
   "cell_type": "code",
   "execution_count": 30,
   "metadata": {},
   "outputs": [
    {
     "data": {
      "text/plain": [
       "(700, 800]      708783\n",
       "(600, 700]      234962\n",
       "(800, 900]       94277\n",
       "(500, 600]        9837\n",
       "(900, 20000]      1688\n",
       "(0, 500]           452\n",
       "Name: Credit_Score, dtype: int64"
      ]
     },
     "execution_count": 30,
     "metadata": {},
     "output_type": "execute_result"
    }
   ],
   "source": [
    "#CREDIT SCORE data looks pretty clean with 999 designating missing data - 1\n",
    "pd.cut(origination_data_combined['Credit_Score'], bins =[0,500,600,700,800,900,20000]).value_counts()"
   ]
  },
  {
   "cell_type": "code",
   "execution_count": 31,
   "metadata": {
    "scrolled": true
   },
   "outputs": [
    {
     "data": {
      "text/plain": [
       "134      9999\n",
       "181      9999\n",
       "372      9999\n",
       "483      9999\n",
       "604      9999\n",
       "         ... \n",
       "25607    9999\n",
       "42766    9999\n",
       "44724    9999\n",
       "27547    9999\n",
       "47959    9999\n",
       "Name: Credit_Score, Length: 1688, dtype: int64"
      ]
     },
     "execution_count": 31,
     "metadata": {},
     "output_type": "execute_result"
    }
   ],
   "source": [
    "#CREDIT SCORE data looks pretty clean with 999 designating missing data - 2\n",
    "origination_data_combined[origination_data_combined['Credit_Score']==9999]['Credit_Score']"
   ]
  },
  {
   "cell_type": "code",
   "execution_count": 32,
   "metadata": {},
   "outputs": [],
   "source": [
    "#Loans without a credit score are deleted\n",
    "origination_data_combined = origination_data_combined[origination_data_combined['Credit_Score'] != 9999]"
   ]
  },
  {
   "cell_type": "code",
   "execution_count": 33,
   "metadata": {},
   "outputs": [],
   "source": [
    "origination_data_combined['Orig_Year']=origination_data_combined['First_Payment_Date'].dt.year"
   ]
  },
  {
   "cell_type": "code",
   "execution_count": 34,
   "metadata": {
    "scrolled": false
   },
   "outputs": [
    {
     "data": {
      "image/png": "[encoded data removed]",
      "text/plain": [
       "<Figure size 576x396 with 1 Axes>"
      ]
     },
     "metadata": {},
     "output_type": "display_data"
    }
   ],
   "source": [
    "x1 = (origination_data_combined['Orig_Year'].unique())\n",
    "y1 = (origination_data_combined.groupby('Orig_Year').Credit_Score.mean())\n",
    "fig = plt.figure()\n",
    "ax = fig.add_axes([0,0,1,1])\n",
    "ax.bar(x1,y1)\n",
    "ax.set_ylim(600,800)\n",
    "plt.ylabel('Credit_Score')\n",
    "plt.xlabel('Year')\n",
    "plt.show()"
   ]
  },
  {
   "cell_type": "code",
   "execution_count": 35,
   "metadata": {},
   "outputs": [
    {
     "data": {
      "text/plain": [
       "(400.0, 1000.0)"
      ]
     },
     "execution_count": 35,
     "metadata": {},
     "output_type": "execute_result"
    },
    {
     "data": {
      "image/png": "[encoded data removed]",
      "text/plain": [
       "<Figure size 576x396 with 1 Axes>"
      ]
     },
     "metadata": {},
     "output_type": "display_data"
    }
   ],
   "source": [
    "plt.hist(origination_data_combined['Credit_Score'], bins =[0,500,550,600,650,700,750,800,850,900,20000])\n",
    "plt.ylabel('Count')\n",
    "plt.xlabel('Credit_Score Bin')\n",
    "plt.xlim(xmin=400, xmax = 1000)"
   ]
  },
  {
   "cell_type": "code",
   "execution_count": 36,
   "metadata": {},
   "outputs": [],
   "source": [
    "#Checking First time buyer flag -- just assuming missing number is no\n",
    "origination_data_combined['First_Time_Homebuyer_Flag'].replace(to_replace='9', value='N', inplace=True)"
   ]
  },
  {
   "cell_type": "code",
   "execution_count": 37,
   "metadata": {
    "scrolled": true
   },
   "outputs": [
    {
     "data": {
      "text/plain": [
       "0      817761\n",
       "30      90476\n",
       "25      79186\n",
       "12      29316\n",
       "999      9125\n",
       "Name: MI%, dtype: int64"
      ]
     },
     "execution_count": 37,
     "metadata": {},
     "output_type": "execute_result"
    }
   ],
   "source": [
    "#Checking MI - since only 9,125 are missing...\n",
    "origination_data_combined['MI%'].value_counts().head()"
   ]
  },
  {
   "cell_type": "code",
   "execution_count": 38,
   "metadata": {},
   "outputs": [],
   "source": [
    "#Checking MI -- just assuming there is no MI (like most) and set to missing to 0\n",
    "origination_data_combined['MI%'].replace(to_replace=999, value=0, inplace=True)"
   ]
  },
  {
   "cell_type": "code",
   "execution_count": 39,
   "metadata": {},
   "outputs": [
    {
     "data": {
      "text/plain": [
       "1     1026730\n",
       "2       15813\n",
       "3        2976\n",
       "4        2785\n",
       "99          7\n",
       "Name: Number_of_Units, dtype: int64"
      ]
     },
     "execution_count": 39,
     "metadata": {},
     "output_type": "execute_result"
    }
   ],
   "source": [
    "#Checking NUMBER OF UNITS - since only 7 are missing...\n",
    "origination_data_combined['Number_of_Units'].value_counts()"
   ]
  },
  {
   "cell_type": "code",
   "execution_count": 40,
   "metadata": {},
   "outputs": [],
   "source": [
    "#Checking NUMBER OF UNITS ...will delete\n",
    "origination_data_combined = origination_data_combined[origination_data_combined['Number_of_Units'] != 99]"
   ]
  },
  {
   "cell_type": "code",
   "execution_count": 41,
   "metadata": {},
   "outputs": [
    {
     "data": {
      "text/plain": [
       "P    942309\n",
       "I     62334\n",
       "S     43661\n",
       "Name: Occupancy_Status, dtype: int64"
      ]
     },
     "execution_count": 41,
     "metadata": {},
     "output_type": "execute_result"
    }
   ],
   "source": [
    "#Checking OCCUPANCY STATUS -- looks fine\n",
    "origination_data_combined['Occupancy_Status'].value_counts()"
   ]
  },
  {
   "cell_type": "code",
   "execution_count": 42,
   "metadata": {
    "scrolled": true
   },
   "outputs": [
    {
     "data": {
      "text/plain": [
       "(75, 80]       305756\n",
       "(60, 70]       139627\n",
       "(90, 100]      135288\n",
       "(80, 90]       131630\n",
       "(0, 50]        124009\n",
       "(70, 75]       116230\n",
       "(50, 60]        95397\n",
       "(100, 110]        282\n",
       "(200, 1000]        48\n",
       "(110, 120]         25\n",
       "(140, 200]          7\n",
       "(120, 130]          5\n",
       "(130, 140]          0\n",
       "Name: Original_CLTV, dtype: int64"
      ]
     },
     "execution_count": 42,
     "metadata": {},
     "output_type": "execute_result"
    }
   ],
   "source": [
    "#Checking ORIGINAL CLTV\n",
    "pd.cut(origination_data_combined['Original_CLTV'], bins =[0,50,60,70,75,80,90,100,110,120,130,140,200,1000]).value_counts()"
   ]
  },
  {
   "cell_type": "code",
   "execution_count": 43,
   "metadata": {},
   "outputs": [],
   "source": [
    "#Checking ORIGINAL CLTV -- loans with greater than 100% LTV are eliminated as typos/bad data\n",
    "origination_data_combined = origination_data_combined[origination_data_combined['Original_CLTV'] <= 100]"
   ]
  },
  {
   "cell_type": "code",
   "execution_count": 44,
   "metadata": {},
   "outputs": [
    {
     "data": {
      "image/png": "[encoded data removed]",
      "text/plain": [
       "<Figure size 576x396 with 1 Axes>"
      ]
     },
     "metadata": {},
     "output_type": "display_data"
    }
   ],
   "source": [
    "x1 = (origination_data_combined['Orig_Year'].unique())\n",
    "y1 = (origination_data_combined.groupby('Orig_Year').Original_CLTV.mean())\n",
    "fig = plt.figure()\n",
    "ax = fig.add_axes([0,0,1,1])\n",
    "ax.bar(x1,y1)\n",
    "ax.set_ylim(60,100)\n",
    "plt.show()"
   ]
  },
  {
   "cell_type": "code",
   "execution_count": 45,
   "metadata": {},
   "outputs": [
    {
     "data": {
      "text/plain": [
       "(60.0, 200.0)"
      ]
     },
     "execution_count": 45,
     "metadata": {},
     "output_type": "execute_result"
    },
    {
     "data": {
      "image/png": "[encoded data removed]",
      "text/plain": [
       "<Figure size 576x396 with 1 Axes>"
      ]
     },
     "metadata": {},
     "output_type": "display_data"
    }
   ],
   "source": [
    "plt.hist(origination_data_combined['Original_LTV'], bins =[0,50,60,70,75,80,90,100,110,120,130,140,200,1000])\n",
    "plt.ylabel('Count')\n",
    "plt.xlabel('Original_LTV')\n",
    "plt.xlim(xmin=60, xmax = 200)"
   ]
  },
  {
   "cell_type": "code",
   "execution_count": 46,
   "metadata": {},
   "outputs": [
    {
     "data": {
      "text/plain": [
       "(30, 40]       332591\n",
       "(20, 30]       266002\n",
       "(40, 50]       262363\n",
       "(10, 20]       112595\n",
       "(50, 55]        26303\n",
       "(55, 60]        14615\n",
       "(0, 10]         13544\n",
       "(100, 1000]     11594\n",
       "(60, 65]         8330\n",
       "(65, 70]            0\n",
       "(70, 75]            0\n",
       "(75, 80]            0\n",
       "(80, 100]           0\n",
       "Name: Original_DTI, dtype: int64"
      ]
     },
     "execution_count": 46,
     "metadata": {},
     "output_type": "execute_result"
    }
   ],
   "source": [
    "#Checking ORIGINAL DTI \n",
    "pd.cut(origination_data_combined['Original_DTI'], bins =[0,10,20,30,40,50,55,60,65,70,75,80,100,1000]).value_counts()"
   ]
  },
  {
   "cell_type": "code",
   "execution_count": 47,
   "metadata": {},
   "outputs": [],
   "source": [
    "#Checking ORIGINAL DTI -- elimininated 999 (no data)\n",
    "origination_data_combined = origination_data_combined[origination_data_combined['Original_DTI'] != 999]"
   ]
  },
  {
   "cell_type": "code",
   "execution_count": 48,
   "metadata": {},
   "outputs": [
    {
     "data": {
      "text/plain": [
       "(100000, 200000]     428254\n",
       "(200000, 300000]     236048\n",
       "(0, 100000]          201019\n",
       "(300000, 400000]     108160\n",
       "(400000, 500000]      47763\n",
       "(500000, 700000]      14039\n",
       "(700000, 1000000]      1055\n",
       "Name: Original_UPB, dtype: int64"
      ]
     },
     "execution_count": 48,
     "metadata": {},
     "output_type": "execute_result"
    }
   ],
   "source": [
    "#Checking ORIGINAL UPB -- looks OK, no change\n",
    "pd.cut(origination_data_combined['Original_UPB'], bins =[0,100000,200000,300000,400000,500000,700000,1000000]).value_counts()"
   ]
  },
  {
   "cell_type": "code",
   "execution_count": 49,
   "metadata": {},
   "outputs": [
    {
     "data": {
      "text/plain": [
       "(70, 80]       451403\n",
       "(60, 70]       141224\n",
       "(0, 50]        128869\n",
       "(90, 100]      113026\n",
       "(80, 90]       103999\n",
       "(50, 60]        97822\n",
       "(100, 110]          0\n",
       "(110, 120]          0\n",
       "(120, 130]          0\n",
       "(130, 140]          0\n",
       "(140, 200]          0\n",
       "(200, 1000]         0\n",
       "Name: Original_LTV, dtype: int64"
      ]
     },
     "execution_count": 49,
     "metadata": {},
     "output_type": "execute_result"
    }
   ],
   "source": [
    "#Checking ORIGINAL LTV -- looks fine (also helped by cleaning up CLTV)\n",
    "pd.cut(origination_data_combined['Original_LTV'], bins =[0,50,60,70,80,90,100,110,120,130,140,200,1000]).value_counts()"
   ]
  },
  {
   "cell_type": "code",
   "execution_count": 50,
   "metadata": {},
   "outputs": [
    {
     "data": {
      "text/plain": [
       "count    1.036343e+06\n",
       "mean     5.325925e+00\n",
       "std      1.387037e+00\n",
       "min      2.250000e+00\n",
       "25%      4.250000e+00\n",
       "50%      5.125000e+00\n",
       "75%      6.375000e+00\n",
       "max      1.149000e+01\n",
       "Name: Original_Interest_Rate, dtype: float64"
      ]
     },
     "execution_count": 50,
     "metadata": {},
     "output_type": "execute_result"
    }
   ],
   "source": [
    "#Checking ORIGINAL INTEREST RATE -- looks OK, some outliers look unusual, but not change\n",
    "origination_data_combined['Original_Interest_Rate'].describe()"
   ]
  },
  {
   "cell_type": "code",
   "execution_count": 51,
   "metadata": {
    "scrolled": true
   },
   "outputs": [
    {
     "data": {
      "text/plain": [
       "R    516028\n",
       "T    251581\n",
       "C    201068\n",
       "B     67666\n",
       "Name: Channel, dtype: int64"
      ]
     },
     "execution_count": 51,
     "metadata": {},
     "output_type": "execute_result"
    }
   ],
   "source": [
    "#CHANNEL -- looks fine but not change\n",
    "origination_data_combined['Channel'].value_counts()"
   ]
  },
  {
   "cell_type": "code",
   "execution_count": 52,
   "metadata": {},
   "outputs": [
    {
     "data": {
      "text/plain": [
       "FRM    1036199\n",
       "_          144\n",
       "Name: Product_Type, dtype: int64"
      ]
     },
     "execution_count": 52,
     "metadata": {},
     "output_type": "execute_result"
    }
   ],
   "source": [
    "#PRODUCT TYPE -- All should be FRM...\n",
    "origination_data_combined['Product_Type'].value_counts()"
   ]
  },
  {
   "cell_type": "code",
   "execution_count": 53,
   "metadata": {},
   "outputs": [],
   "source": [
    "#PRODUCT TYPE ... so entire FIELD is dropped\n",
    "origination_data_combined.drop(labels=['Product_Type'],axis=1,inplace=True)"
   ]
  },
  {
   "cell_type": "code",
   "execution_count": 54,
   "metadata": {
    "scrolled": true
   },
   "outputs": [
    {
     "data": {
      "text/plain": [
       "SD    2024\n",
       "WY    1819\n",
       "PR    1385\n",
       "GU     248\n",
       "VI      38\n",
       "Name: Property_State, dtype: int64"
      ]
     },
     "execution_count": 54,
     "metadata": {},
     "output_type": "execute_result"
    }
   ],
   "source": [
    "#PROPERTY STATE looks OK but...\n",
    "origination_data_combined['Property_State'].value_counts().tail()"
   ]
  },
  {
   "cell_type": "code",
   "execution_count": 55,
   "metadata": {},
   "outputs": [],
   "source": [
    "#PROPERTY STATE... PR, GU, VI loans eliminated\n",
    "origination_data_combined = origination_data_combined[origination_data_combined['Property_State'] != ('PR','GU','VI')]"
   ]
  },
  {
   "cell_type": "code",
   "execution_count": 56,
   "metadata": {},
   "outputs": [
    {
     "data": {
      "text/plain": [
       "SF    754674\n",
       "PU    200049\n",
       "CO     73588\n",
       "MH      5826\n",
       "CP      2167\n",
       "99        39\n",
       "Name: Property_Type, dtype: int64"
      ]
     },
     "execution_count": 56,
     "metadata": {},
     "output_type": "execute_result"
    }
   ],
   "source": [
    "#PROPERTY TYPE -- looks OK...\n",
    "origination_data_combined['Property_Type'].value_counts()"
   ]
  },
  {
   "cell_type": "code",
   "execution_count": 57,
   "metadata": {},
   "outputs": [],
   "source": [
    "#PROPERTY TYPE -- ...but remove 99s\n",
    "origination_data_combined = origination_data_combined[origination_data_combined['Property_Type'] != '99']"
   ]
  },
  {
   "cell_type": "code",
   "execution_count": 58,
   "metadata": {
    "scrolled": true
   },
   "outputs": [
    {
     "data": {
      "text/plain": [
       "<AxesSubplot:ylabel='Property_Type'>"
      ]
     },
     "execution_count": 58,
     "metadata": {},
     "output_type": "execute_result"
    },
    {
     "data": {
      "image/png": "[encoded data removed]",
      "text/plain": [
       "<Figure size 576x396 with 1 Axes>"
      ]
     },
     "metadata": {},
     "output_type": "display_data"
    }
   ],
   "source": [
    "#PROPERTY TYPE -- looks good\n",
    "origination_data_combined.Property_Type.str.get_dummies().sum().plot.pie(label='Property_Type', autopct='%1.0f%%')"
   ]
  },
  {
   "cell_type": "code",
   "execution_count": 59,
   "metadata": {},
   "outputs": [
    {
     "data": {
      "text/plain": [
       "P    466058\n",
       "N    299680\n",
       "C    270566\n",
       "Name: Loan_Purpose, dtype: int64"
      ]
     },
     "execution_count": 59,
     "metadata": {},
     "output_type": "execute_result"
    }
   ],
   "source": [
    "#LOAN PURPOSE -- looks OK...\n",
    "origination_data_combined['Loan_Purpose'].value_counts()"
   ]
  },
  {
   "cell_type": "code",
   "execution_count": 60,
   "metadata": {},
   "outputs": [
    {
     "data": {
      "text/plain": [
       "<AxesSubplot:ylabel='Loan_Purpose'>"
      ]
     },
     "execution_count": 60,
     "metadata": {},
     "output_type": "execute_result"
    },
    {
     "data": {
      "image/png": "[encoded data removed]",
      "text/plain": [
       "<Figure size 576x396 with 1 Axes>"
      ]
     },
     "metadata": {},
     "output_type": "display_data"
    }
   ],
   "source": [
    "origination_data_combined.Loan_Purpose.str.get_dummies().sum().plot.pie(label='Loan_Purpose', autopct='%1.0f%%')"
   ]
  },
  {
   "cell_type": "code",
   "execution_count": 61,
   "metadata": {
    "scrolled": true
   },
   "outputs": [
    {
     "data": {
      "text/plain": [
       "360    849875\n",
       "180    131757\n",
       "240     32096\n",
       "120     10841\n",
       "300      4508\n",
       "        ...  \n",
       "233         1\n",
       "224         1\n",
       "223         1\n",
       "220         1\n",
       "504         1\n",
       "Name: Original_Loan_Term, Length: 220, dtype: int64"
      ]
     },
     "execution_count": 61,
     "metadata": {},
     "output_type": "execute_result"
    }
   ],
   "source": [
    "#ORIGINAL LOAN TERM -- looks OK...\n",
    "origination_data_combined['Original_Loan_Term'].value_counts()"
   ]
  },
  {
   "cell_type": "code",
   "execution_count": 62,
   "metadata": {},
   "outputs": [],
   "source": [
    "#ORIGINAL LOAN TERM ...but deleted loan terms > 400 (possible further investigation)\n",
    "origination_data_combined = origination_data_combined[origination_data_combined['Original_Loan_Term'] < 400]"
   ]
  },
  {
   "cell_type": "code",
   "execution_count": 63,
   "metadata": {},
   "outputs": [
    {
     "data": {
      "text/plain": [
       "2     586501\n",
       "1     449441\n",
       "99       140\n",
       "Name: Number_of_Borrowers, dtype: int64"
      ]
     },
     "execution_count": 63,
     "metadata": {},
     "output_type": "execute_result"
    }
   ],
   "source": [
    "#NUMBER OF BORROWERS -- looks OK...\n",
    "origination_data_combined['Number_of_Borrowers'].value_counts()"
   ]
  },
  {
   "cell_type": "code",
   "execution_count": 64,
   "metadata": {},
   "outputs": [],
   "source": [
    "#NUMBER OF BORROWERS -- ...delete small number of loans with na -- might be interesting variable\n",
    "origination_data_combined = origination_data_combined[origination_data_combined['Number_of_Borrowers'] != 99]"
   ]
  },
  {
   "cell_type": "code",
   "execution_count": 65,
   "metadata": {},
   "outputs": [
    {
     "data": {
      "text/plain": [
       "Other servicers                           252767\n",
       "WELLS FARGO BANK, N.A.                    181654\n",
       "BANK OF AMERICA, N.A.                      68786\n",
       "U.S. BANK N.A.                             62019\n",
       "JPMORGAN CHASE BANK, N.A.                  46302\n",
       "                                           ...  \n",
       "RUSHMORE LOAN MANAGEMENT SERVICES, LLC       186\n",
       "U.S. BANK, N.A.                              154\n",
       "TEXAS CAPITAL BANK, N.A.                     153\n",
       "FIRST NATIONWIDE MORTGAGE CORPORATION        111\n",
       "AMTRUST BANK                                 111\n",
       "Name: Servicer_Name, Length: 75, dtype: int64"
      ]
     },
     "execution_count": 65,
     "metadata": {},
     "output_type": "execute_result"
    }
   ],
   "source": [
    "#SERVICER NAME -- looks OK...\n",
    "origination_data_combined['Servicer_Name'].value_counts()"
   ]
  },
  {
   "cell_type": "code",
   "execution_count": 66,
   "metadata": {},
   "outputs": [
    {
     "data": {
      "text/plain": [
       "9    951666\n",
       "9     79616\n",
       "H      4660\n",
       "Name: Program_Indicator, dtype: int64"
      ]
     },
     "execution_count": 66,
     "metadata": {},
     "output_type": "execute_result"
    }
   ],
   "source": [
    "#PROGRAM INDICATOR -- looks of questionable value, with few observations...\n",
    "origination_data_combined['Program_Indicator'].value_counts()"
   ]
  },
  {
   "cell_type": "code",
   "execution_count": 67,
   "metadata": {},
   "outputs": [],
   "source": [
    "#PROGRAM INDICATOR -- so field deleted\n",
    "origination_data_combined.drop(labels=['Program_Indicator'],axis=1,inplace=True)"
   ]
  },
  {
   "cell_type": "code",
   "execution_count": 68,
   "metadata": {},
   "outputs": [
    {
     "data": {
      "text/plain": [
       "9    886285\n",
       "2    141430\n",
       "1      7719\n",
       "3       508\n",
       "Name: Property_Valuation_Method, dtype: int64"
      ]
     },
     "execution_count": 68,
     "metadata": {},
     "output_type": "execute_result"
    }
   ],
   "source": [
    "#PROPERTY VALUATION METHOD -- investigate later for comparing to estimated current LTVs, but limited coverage\n",
    "origination_data_combined['Property_Valuation_Method'].value_counts()"
   ]
  },
  {
   "cell_type": "code",
   "execution_count": 69,
   "metadata": {},
   "outputs": [],
   "source": [
    "#PROPERTY VALUATION METHOD -- but delete here\n",
    "origination_data_combined.drop(labels=['Property_Valuation_Method'],axis=1,inplace=True)"
   ]
  },
  {
   "cell_type": "code",
   "execution_count": 70,
   "metadata": {},
   "outputs": [],
   "source": [
    "#Convert some variables into categoricals to increases resource efficiency\n",
    "convert_to_cat = ['First_Time_Homebuyer_Flag','Number_of_Units','Occupancy_Status',\n",
    "                  'Channel','Prepayment_Penalty_Flag','Property_Type','Loan_Purpose',\n",
    "                 'Number_of_Borrowers','Super_Conforming_Flag']\n",
    "for col in convert_to_cat:\n",
    "    origination_data_combined[col]=origination_data_combined[col].astype('category') "
   ]
  },
  {
   "cell_type": "code",
   "execution_count": 71,
   "metadata": {},
   "outputs": [],
   "source": [
    "#Set index equal to LOAN SEQUENCE NUMBER\n",
    "origination_data_combined.set_index('Loan_Sequence_Number', inplace=True)"
   ]
  },
  {
   "cell_type": "code",
   "execution_count": 72,
   "metadata": {},
   "outputs": [],
   "source": [
    "#Final data frame"
   ]
  },
  {
   "cell_type": "code",
   "execution_count": 73,
   "metadata": {},
   "outputs": [],
   "source": [
    "#Sample of final data frame -- initial very small for development -- will increase for model\n",
    "origination_data_combined=origination_data_combined.sample(frac=.25, replace=False, weights=None, random_state=1234, axis=0)\n",
    "#using 10% sample"
   ]
  },
  {
   "cell_type": "code",
   "execution_count": 74,
   "metadata": {},
   "outputs": [
    {
     "name": "stdout",
     "output_type": "stream",
     "text": [
      "<class 'pandas.core.frame.DataFrame'>\n",
      "Index: 258986 entries, F109Q1201125 to F106Q4127892\n",
      "Data columns (total 24 columns):\n",
      " #   Column                     Non-Null Count   Dtype         \n",
      "---  ------                     --------------   -----         \n",
      " 0   Credit_Score               258986 non-null  int64         \n",
      " 1   First_Payment_Date         258986 non-null  datetime64[ns]\n",
      " 2   First_Time_Homebuyer_Flag  258986 non-null  category      \n",
      " 3   Maturity_Date              258986 non-null  datetime64[ns]\n",
      " 4   MSA                        258986 non-null  object        \n",
      " 5   MI%                        258986 non-null  int64         \n",
      " 6   Number_of_Units            258986 non-null  category      \n",
      " 7   Occupancy_Status           258986 non-null  category      \n",
      " 8   Original_CLTV              258986 non-null  int64         \n",
      " 9   Original_DTI               258986 non-null  int64         \n",
      " 10  Original_UPB               258986 non-null  int64         \n",
      " 11  Original_LTV               258986 non-null  int64         \n",
      " 12  Original_Interest_Rate     258986 non-null  float64       \n",
      " 13  Channel                    258986 non-null  category      \n",
      " 14  Prepayment_Penalty_Flag    258986 non-null  category      \n",
      " 15  Property_State             258986 non-null  object        \n",
      " 16  Property_Type              258986 non-null  category      \n",
      " 17  Loan_Purpose               258986 non-null  category      \n",
      " 18  Original_Loan_Term         258986 non-null  int64         \n",
      " 19  Number_of_Borrowers        258986 non-null  category      \n",
      " 20  Seller_Name                258986 non-null  object        \n",
      " 21  Servicer_Name              258986 non-null  object        \n",
      " 22  Super_Conforming_Flag      258986 non-null  category      \n",
      " 23  Orig_Year                  258986 non-null  int64         \n",
      "dtypes: category(9), datetime64[ns](2), float64(1), int64(8), object(4)\n",
      "memory usage: 33.8+ MB\n"
     ]
    }
   ],
   "source": [
    "#Re-check sample\n",
    "origination_data_combined.info()"
   ]
  },
  {
   "cell_type": "code",
   "execution_count": 75,
   "metadata": {},
   "outputs": [
    {
     "data": {
      "text/html": [
       "<div>\n",
       "<style scoped>\n",
       "    .dataframe tbody tr th:only-of-type {\n",
       "        vertical-align: middle;\n",
       "    }\n",
       "\n",
       "    .dataframe tbody tr th {\n",
       "        vertical-align: top;\n",
       "    }\n",
       "\n",
       "    .dataframe thead th {\n",
       "        text-align: right;\n",
       "    }\n",
       "</style>\n",
       "<table border=\"1\" class=\"dataframe\">\n",
       "  <thead>\n",
       "    <tr style=\"text-align: right;\">\n",
       "      <th></th>\n",
       "      <th>count</th>\n",
       "      <th>%</th>\n",
       "    </tr>\n",
       "  </thead>\n",
       "  <tbody>\n",
       "    <tr>\n",
       "      <th>Credit_Score</th>\n",
       "      <td>0</td>\n",
       "      <td>0.0</td>\n",
       "    </tr>\n",
       "    <tr>\n",
       "      <th>First_Payment_Date</th>\n",
       "      <td>0</td>\n",
       "      <td>0.0</td>\n",
       "    </tr>\n",
       "    <tr>\n",
       "      <th>Super_Conforming_Flag</th>\n",
       "      <td>0</td>\n",
       "      <td>0.0</td>\n",
       "    </tr>\n",
       "    <tr>\n",
       "      <th>Servicer_Name</th>\n",
       "      <td>0</td>\n",
       "      <td>0.0</td>\n",
       "    </tr>\n",
       "    <tr>\n",
       "      <th>Seller_Name</th>\n",
       "      <td>0</td>\n",
       "      <td>0.0</td>\n",
       "    </tr>\n",
       "    <tr>\n",
       "      <th>Number_of_Borrowers</th>\n",
       "      <td>0</td>\n",
       "      <td>0.0</td>\n",
       "    </tr>\n",
       "    <tr>\n",
       "      <th>Original_Loan_Term</th>\n",
       "      <td>0</td>\n",
       "      <td>0.0</td>\n",
       "    </tr>\n",
       "    <tr>\n",
       "      <th>Loan_Purpose</th>\n",
       "      <td>0</td>\n",
       "      <td>0.0</td>\n",
       "    </tr>\n",
       "    <tr>\n",
       "      <th>Property_Type</th>\n",
       "      <td>0</td>\n",
       "      <td>0.0</td>\n",
       "    </tr>\n",
       "    <tr>\n",
       "      <th>Property_State</th>\n",
       "      <td>0</td>\n",
       "      <td>0.0</td>\n",
       "    </tr>\n",
       "    <tr>\n",
       "      <th>Prepayment_Penalty_Flag</th>\n",
       "      <td>0</td>\n",
       "      <td>0.0</td>\n",
       "    </tr>\n",
       "    <tr>\n",
       "      <th>Channel</th>\n",
       "      <td>0</td>\n",
       "      <td>0.0</td>\n",
       "    </tr>\n",
       "    <tr>\n",
       "      <th>Original_Interest_Rate</th>\n",
       "      <td>0</td>\n",
       "      <td>0.0</td>\n",
       "    </tr>\n",
       "    <tr>\n",
       "      <th>Original_LTV</th>\n",
       "      <td>0</td>\n",
       "      <td>0.0</td>\n",
       "    </tr>\n",
       "    <tr>\n",
       "      <th>Original_UPB</th>\n",
       "      <td>0</td>\n",
       "      <td>0.0</td>\n",
       "    </tr>\n",
       "    <tr>\n",
       "      <th>Original_DTI</th>\n",
       "      <td>0</td>\n",
       "      <td>0.0</td>\n",
       "    </tr>\n",
       "    <tr>\n",
       "      <th>Original_CLTV</th>\n",
       "      <td>0</td>\n",
       "      <td>0.0</td>\n",
       "    </tr>\n",
       "    <tr>\n",
       "      <th>Occupancy_Status</th>\n",
       "      <td>0</td>\n",
       "      <td>0.0</td>\n",
       "    </tr>\n",
       "    <tr>\n",
       "      <th>Number_of_Units</th>\n",
       "      <td>0</td>\n",
       "      <td>0.0</td>\n",
       "    </tr>\n",
       "    <tr>\n",
       "      <th>MI%</th>\n",
       "      <td>0</td>\n",
       "      <td>0.0</td>\n",
       "    </tr>\n",
       "    <tr>\n",
       "      <th>MSA</th>\n",
       "      <td>0</td>\n",
       "      <td>0.0</td>\n",
       "    </tr>\n",
       "    <tr>\n",
       "      <th>Maturity_Date</th>\n",
       "      <td>0</td>\n",
       "      <td>0.0</td>\n",
       "    </tr>\n",
       "    <tr>\n",
       "      <th>First_Time_Homebuyer_Flag</th>\n",
       "      <td>0</td>\n",
       "      <td>0.0</td>\n",
       "    </tr>\n",
       "    <tr>\n",
       "      <th>Orig_Year</th>\n",
       "      <td>0</td>\n",
       "      <td>0.0</td>\n",
       "    </tr>\n",
       "  </tbody>\n",
       "</table>\n",
       "</div>"
      ],
      "text/plain": [
       "                           count    %\n",
       "Credit_Score                   0  0.0\n",
       "First_Payment_Date             0  0.0\n",
       "Super_Conforming_Flag          0  0.0\n",
       "Servicer_Name                  0  0.0\n",
       "Seller_Name                    0  0.0\n",
       "Number_of_Borrowers            0  0.0\n",
       "Original_Loan_Term             0  0.0\n",
       "Loan_Purpose                   0  0.0\n",
       "Property_Type                  0  0.0\n",
       "Property_State                 0  0.0\n",
       "Prepayment_Penalty_Flag        0  0.0\n",
       "Channel                        0  0.0\n",
       "Original_Interest_Rate         0  0.0\n",
       "Original_LTV                   0  0.0\n",
       "Original_UPB                   0  0.0\n",
       "Original_DTI                   0  0.0\n",
       "Original_CLTV                  0  0.0\n",
       "Occupancy_Status               0  0.0\n",
       "Number_of_Units                0  0.0\n",
       "MI%                            0  0.0\n",
       "MSA                            0  0.0\n",
       "Maturity_Date                  0  0.0\n",
       "First_Time_Homebuyer_Flag      0  0.0\n",
       "Orig_Year                      0  0.0"
      ]
     },
     "execution_count": 75,
     "metadata": {},
     "output_type": "execute_result"
    }
   ],
   "source": [
    "#Re-check sample -- number of missing values by column\n",
    "missing = pd.concat([origination_data_combined.isnull().sum(), 100 * origination_data_combined.isnull().mean()], axis=1)\n",
    "missing.columns=['count', '%']\n",
    "missing.sort_values(by='count', ascending =False)"
   ]
  },
  {
   "cell_type": "code",
   "execution_count": 76,
   "metadata": {},
   "outputs": [
    {
     "data": {
      "text/html": [
       "<div>\n",
       "<style scoped>\n",
       "    .dataframe tbody tr th:only-of-type {\n",
       "        vertical-align: middle;\n",
       "    }\n",
       "\n",
       "    .dataframe tbody tr th {\n",
       "        vertical-align: top;\n",
       "    }\n",
       "\n",
       "    .dataframe thead th {\n",
       "        text-align: right;\n",
       "    }\n",
       "</style>\n",
       "<table border=\"1\" class=\"dataframe\">\n",
       "  <thead>\n",
       "    <tr style=\"text-align: right;\">\n",
       "      <th></th>\n",
       "      <th>Credit_Score</th>\n",
       "      <th>First_Payment_Date</th>\n",
       "      <th>First_Time_Homebuyer_Flag</th>\n",
       "      <th>Maturity_Date</th>\n",
       "      <th>MSA</th>\n",
       "      <th>MI%</th>\n",
       "      <th>Number_of_Units</th>\n",
       "      <th>Occupancy_Status</th>\n",
       "      <th>Original_CLTV</th>\n",
       "      <th>Original_DTI</th>\n",
       "      <th>...</th>\n",
       "      <th>Prepayment_Penalty_Flag</th>\n",
       "      <th>Property_State</th>\n",
       "      <th>Property_Type</th>\n",
       "      <th>Loan_Purpose</th>\n",
       "      <th>Original_Loan_Term</th>\n",
       "      <th>Number_of_Borrowers</th>\n",
       "      <th>Seller_Name</th>\n",
       "      <th>Servicer_Name</th>\n",
       "      <th>Super_Conforming_Flag</th>\n",
       "      <th>Orig_Year</th>\n",
       "    </tr>\n",
       "    <tr>\n",
       "      <th>Loan_Sequence_Number</th>\n",
       "      <th></th>\n",
       "      <th></th>\n",
       "      <th></th>\n",
       "      <th></th>\n",
       "      <th></th>\n",
       "      <th></th>\n",
       "      <th></th>\n",
       "      <th></th>\n",
       "      <th></th>\n",
       "      <th></th>\n",
       "      <th></th>\n",
       "      <th></th>\n",
       "      <th></th>\n",
       "      <th></th>\n",
       "      <th></th>\n",
       "      <th></th>\n",
       "      <th></th>\n",
       "      <th></th>\n",
       "      <th></th>\n",
       "      <th></th>\n",
       "      <th></th>\n",
       "    </tr>\n",
       "  </thead>\n",
       "  <tbody>\n",
       "    <tr>\n",
       "      <th>F109Q1201125</th>\n",
       "      <td>778</td>\n",
       "      <td>2009-04-01</td>\n",
       "      <td>N</td>\n",
       "      <td>2039-03-01</td>\n",
       "      <td>10740.0</td>\n",
       "      <td>0</td>\n",
       "      <td>1</td>\n",
       "      <td>P</td>\n",
       "      <td>62</td>\n",
       "      <td>21</td>\n",
       "      <td>...</td>\n",
       "      <td>N</td>\n",
       "      <td>NM</td>\n",
       "      <td>SF</td>\n",
       "      <td>C</td>\n",
       "      <td>360</td>\n",
       "      <td>1</td>\n",
       "      <td>Other sellers</td>\n",
       "      <td>Other servicers</td>\n",
       "      <td>N</td>\n",
       "      <td>2009</td>\n",
       "    </tr>\n",
       "    <tr>\n",
       "      <th>F102Q3438808</th>\n",
       "      <td>765</td>\n",
       "      <td>2002-11-01</td>\n",
       "      <td>N</td>\n",
       "      <td>2032-10-01</td>\n",
       "      <td>National</td>\n",
       "      <td>30</td>\n",
       "      <td>1</td>\n",
       "      <td>S</td>\n",
       "      <td>95</td>\n",
       "      <td>40</td>\n",
       "      <td>...</td>\n",
       "      <td>N</td>\n",
       "      <td>AZ</td>\n",
       "      <td>SF</td>\n",
       "      <td>P</td>\n",
       "      <td>360</td>\n",
       "      <td>2</td>\n",
       "      <td>WELLS FARGO HOME MORTGAGE, INC.</td>\n",
       "      <td>WELLS FARGO BANK, N.A.</td>\n",
       "      <td>N</td>\n",
       "      <td>2002</td>\n",
       "    </tr>\n",
       "    <tr>\n",
       "      <th>F102Q2236734</th>\n",
       "      <td>784</td>\n",
       "      <td>2002-08-01</td>\n",
       "      <td>N</td>\n",
       "      <td>2032-07-01</td>\n",
       "      <td>39580.0</td>\n",
       "      <td>0</td>\n",
       "      <td>1</td>\n",
       "      <td>P</td>\n",
       "      <td>80</td>\n",
       "      <td>27</td>\n",
       "      <td>...</td>\n",
       "      <td>N</td>\n",
       "      <td>NC</td>\n",
       "      <td>SF</td>\n",
       "      <td>P</td>\n",
       "      <td>360</td>\n",
       "      <td>1</td>\n",
       "      <td>BANK OF AMERICA, N.A.</td>\n",
       "      <td>BANK OF AMERICA, N.A.</td>\n",
       "      <td>N</td>\n",
       "      <td>2002</td>\n",
       "    </tr>\n",
       "    <tr>\n",
       "      <th>F103Q2218530</th>\n",
       "      <td>738</td>\n",
       "      <td>2003-07-01</td>\n",
       "      <td>N</td>\n",
       "      <td>2033-06-01</td>\n",
       "      <td>31084.0</td>\n",
       "      <td>0</td>\n",
       "      <td>1</td>\n",
       "      <td>P</td>\n",
       "      <td>58</td>\n",
       "      <td>18</td>\n",
       "      <td>...</td>\n",
       "      <td>N</td>\n",
       "      <td>CA</td>\n",
       "      <td>SF</td>\n",
       "      <td>N</td>\n",
       "      <td>360</td>\n",
       "      <td>2</td>\n",
       "      <td>WELLS FARGO HOME MORTGAGE, INC.</td>\n",
       "      <td>WELLS FARGO BANK, N.A.</td>\n",
       "      <td>N</td>\n",
       "      <td>2003</td>\n",
       "    </tr>\n",
       "    <tr>\n",
       "      <th>F117Q2088651</th>\n",
       "      <td>786</td>\n",
       "      <td>2017-07-01</td>\n",
       "      <td>N</td>\n",
       "      <td>2047-06-01</td>\n",
       "      <td>45300.0</td>\n",
       "      <td>0</td>\n",
       "      <td>1</td>\n",
       "      <td>I</td>\n",
       "      <td>75</td>\n",
       "      <td>23</td>\n",
       "      <td>...</td>\n",
       "      <td>N</td>\n",
       "      <td>FL</td>\n",
       "      <td>PU</td>\n",
       "      <td>C</td>\n",
       "      <td>360</td>\n",
       "      <td>1</td>\n",
       "      <td>Other sellers</td>\n",
       "      <td>Other servicers</td>\n",
       "      <td>N</td>\n",
       "      <td>2017</td>\n",
       "    </tr>\n",
       "  </tbody>\n",
       "</table>\n",
       "<p>5 rows × 24 columns</p>\n",
       "</div>"
      ],
      "text/plain": [
       "                      Credit_Score First_Payment_Date  \\\n",
       "Loan_Sequence_Number                                    \n",
       "F109Q1201125                   778         2009-04-01   \n",
       "F102Q3438808                   765         2002-11-01   \n",
       "F102Q2236734                   784         2002-08-01   \n",
       "F103Q2218530                   738         2003-07-01   \n",
       "F117Q2088651                   786         2017-07-01   \n",
       "\n",
       "                     First_Time_Homebuyer_Flag Maturity_Date       MSA  MI%  \\\n",
       "Loan_Sequence_Number                                                          \n",
       "F109Q1201125                                 N    2039-03-01   10740.0    0   \n",
       "F102Q3438808                                 N    2032-10-01  National   30   \n",
       "F102Q2236734                                 N    2032-07-01   39580.0    0   \n",
       "F103Q2218530                                 N    2033-06-01   31084.0    0   \n",
       "F117Q2088651                                 N    2047-06-01   45300.0    0   \n",
       "\n",
       "                     Number_of_Units Occupancy_Status  Original_CLTV  \\\n",
       "Loan_Sequence_Number                                                   \n",
       "F109Q1201125                       1                P             62   \n",
       "F102Q3438808                       1                S             95   \n",
       "F102Q2236734                       1                P             80   \n",
       "F103Q2218530                       1                P             58   \n",
       "F117Q2088651                       1                I             75   \n",
       "\n",
       "                      Original_DTI  ...  Prepayment_Penalty_Flag  \\\n",
       "Loan_Sequence_Number                ...                            \n",
       "F109Q1201125                    21  ...                        N   \n",
       "F102Q3438808                    40  ...                        N   \n",
       "F102Q2236734                    27  ...                        N   \n",
       "F103Q2218530                    18  ...                        N   \n",
       "F117Q2088651                    23  ...                        N   \n",
       "\n",
       "                      Property_State  Property_Type Loan_Purpose  \\\n",
       "Loan_Sequence_Number                                               \n",
       "F109Q1201125                      NM             SF            C   \n",
       "F102Q3438808                      AZ             SF            P   \n",
       "F102Q2236734                      NC             SF            P   \n",
       "F103Q2218530                      CA             SF            N   \n",
       "F117Q2088651                      FL             PU            C   \n",
       "\n",
       "                     Original_Loan_Term Number_of_Borrowers  \\\n",
       "Loan_Sequence_Number                                          \n",
       "F109Q1201125                        360                   1   \n",
       "F102Q3438808                        360                   2   \n",
       "F102Q2236734                        360                   1   \n",
       "F103Q2218530                        360                   2   \n",
       "F117Q2088651                        360                   1   \n",
       "\n",
       "                                          Seller_Name           Servicer_Name  \\\n",
       "Loan_Sequence_Number                                                            \n",
       "F109Q1201125                            Other sellers         Other servicers   \n",
       "F102Q3438808          WELLS FARGO HOME MORTGAGE, INC.  WELLS FARGO BANK, N.A.   \n",
       "F102Q2236734                    BANK OF AMERICA, N.A.   BANK OF AMERICA, N.A.   \n",
       "F103Q2218530          WELLS FARGO HOME MORTGAGE, INC.  WELLS FARGO BANK, N.A.   \n",
       "F117Q2088651                            Other sellers         Other servicers   \n",
       "\n",
       "                      Super_Conforming_Flag Orig_Year  \n",
       "Loan_Sequence_Number                                   \n",
       "F109Q1201125                              N      2009  \n",
       "F102Q3438808                              N      2002  \n",
       "F102Q2236734                              N      2002  \n",
       "F103Q2218530                              N      2003  \n",
       "F117Q2088651                              N      2017  \n",
       "\n",
       "[5 rows x 24 columns]"
      ]
     },
     "execution_count": 76,
     "metadata": {},
     "output_type": "execute_result"
    }
   ],
   "source": [
    "#Re-check sample\n",
    "origination_data_combined.head()"
   ]
  },
  {
   "cell_type": "code",
   "execution_count": 77,
   "metadata": {},
   "outputs": [
    {
     "data": {
      "text/plain": [
       "(258986, 24)"
      ]
     },
     "execution_count": 77,
     "metadata": {},
     "output_type": "execute_result"
    }
   ],
   "source": [
    "#Re-check sample\n",
    "origination_data_combined.shape"
   ]
  },
  {
   "cell_type": "code",
   "execution_count": 78,
   "metadata": {},
   "outputs": [],
   "source": [
    "#### Performance data section\n",
    "names= monthly_labels"
   ]
  },
  {
   "cell_type": "code",
   "execution_count": 79,
   "metadata": {
    "scrolled": false
   },
   "outputs": [],
   "source": [
    "#Loops through files and appends monthly performance data to single dataframe\n",
    "for year in range(1999,2020):\n",
    "    year=str(year)\n",
    "    filename = filepath+monthly_root_file+year+'.txt'\n",
    "    data=pd.read_csv(filename,sep=\"|\", header =None, names= monthly_labels, usecols =columns_to_use)\n",
    "    monthly_data_combined=monthly_data_combined.append(data)"
   ]
  },
  {
   "cell_type": "code",
   "execution_count": 80,
   "metadata": {
    "scrolled": true
   },
   "outputs": [
    {
     "data": {
      "text/html": [
       "<div>\n",
       "<style scoped>\n",
       "    .dataframe tbody tr th:only-of-type {\n",
       "        vertical-align: middle;\n",
       "    }\n",
       "\n",
       "    .dataframe tbody tr th {\n",
       "        vertical-align: top;\n",
       "    }\n",
       "\n",
       "    .dataframe thead th {\n",
       "        text-align: right;\n",
       "    }\n",
       "</style>\n",
       "<table border=\"1\" class=\"dataframe\">\n",
       "  <thead>\n",
       "    <tr style=\"text-align: right;\">\n",
       "      <th></th>\n",
       "      <th>Loan_Sequence_Number</th>\n",
       "      <th>Monthly_Reporting_Period</th>\n",
       "      <th>Current_Actual_UPB</th>\n",
       "      <th>Current_Loan_Delinquency_Status</th>\n",
       "      <th>Loan_Age</th>\n",
       "      <th>Remaining_Months_to_Legal_Maturity</th>\n",
       "      <th>Repurchase_Flag</th>\n",
       "      <th>Modification_Flag</th>\n",
       "      <th>Zero_Balance_Code</th>\n",
       "      <th>Current_Interest_Rate</th>\n",
       "      <th>Current_Deferred_UPB</th>\n",
       "      <th>Actual_Loss_Calculation</th>\n",
       "      <th>Zero_Balance_Removal_UPB</th>\n",
       "    </tr>\n",
       "  </thead>\n",
       "  <tbody>\n",
       "    <tr>\n",
       "      <th>0</th>\n",
       "      <td>F199Q1000012</td>\n",
       "      <td>200208</td>\n",
       "      <td>42058.58</td>\n",
       "      <td>0</td>\n",
       "      <td>42</td>\n",
       "      <td>317</td>\n",
       "      <td>NaN</td>\n",
       "      <td>NaN</td>\n",
       "      <td>NaN</td>\n",
       "      <td>6.875</td>\n",
       "      <td>0.0</td>\n",
       "      <td>NaN</td>\n",
       "      <td>NaN</td>\n",
       "    </tr>\n",
       "    <tr>\n",
       "      <th>1</th>\n",
       "      <td>F199Q1000012</td>\n",
       "      <td>200209</td>\n",
       "      <td>42011.81</td>\n",
       "      <td>0</td>\n",
       "      <td>43</td>\n",
       "      <td>316</td>\n",
       "      <td>NaN</td>\n",
       "      <td>NaN</td>\n",
       "      <td>NaN</td>\n",
       "      <td>6.875</td>\n",
       "      <td>0.0</td>\n",
       "      <td>NaN</td>\n",
       "      <td>NaN</td>\n",
       "    </tr>\n",
       "    <tr>\n",
       "      <th>2</th>\n",
       "      <td>F199Q1000012</td>\n",
       "      <td>200210</td>\n",
       "      <td>41964.77</td>\n",
       "      <td>0</td>\n",
       "      <td>44</td>\n",
       "      <td>315</td>\n",
       "      <td>NaN</td>\n",
       "      <td>NaN</td>\n",
       "      <td>NaN</td>\n",
       "      <td>6.875</td>\n",
       "      <td>0.0</td>\n",
       "      <td>NaN</td>\n",
       "      <td>NaN</td>\n",
       "    </tr>\n",
       "    <tr>\n",
       "      <th>3</th>\n",
       "      <td>F199Q1000012</td>\n",
       "      <td>200211</td>\n",
       "      <td>41917.46</td>\n",
       "      <td>0</td>\n",
       "      <td>45</td>\n",
       "      <td>314</td>\n",
       "      <td>NaN</td>\n",
       "      <td>NaN</td>\n",
       "      <td>NaN</td>\n",
       "      <td>6.875</td>\n",
       "      <td>0.0</td>\n",
       "      <td>NaN</td>\n",
       "      <td>NaN</td>\n",
       "    </tr>\n",
       "    <tr>\n",
       "      <th>4</th>\n",
       "      <td>F199Q1000012</td>\n",
       "      <td>200212</td>\n",
       "      <td>41869.88</td>\n",
       "      <td>0</td>\n",
       "      <td>46</td>\n",
       "      <td>313</td>\n",
       "      <td>NaN</td>\n",
       "      <td>NaN</td>\n",
       "      <td>NaN</td>\n",
       "      <td>6.875</td>\n",
       "      <td>0.0</td>\n",
       "      <td>NaN</td>\n",
       "      <td>NaN</td>\n",
       "    </tr>\n",
       "  </tbody>\n",
       "</table>\n",
       "</div>"
      ],
      "text/plain": [
       "  Loan_Sequence_Number  Monthly_Reporting_Period  Current_Actual_UPB  \\\n",
       "0         F199Q1000012                    200208            42058.58   \n",
       "1         F199Q1000012                    200209            42011.81   \n",
       "2         F199Q1000012                    200210            41964.77   \n",
       "3         F199Q1000012                    200211            41917.46   \n",
       "4         F199Q1000012                    200212            41869.88   \n",
       "\n",
       "  Current_Loan_Delinquency_Status  Loan_Age  \\\n",
       "0                               0        42   \n",
       "1                               0        43   \n",
       "2                               0        44   \n",
       "3                               0        45   \n",
       "4                               0        46   \n",
       "\n",
       "   Remaining_Months_to_Legal_Maturity Repurchase_Flag Modification_Flag  \\\n",
       "0                                 317             NaN               NaN   \n",
       "1                                 316             NaN               NaN   \n",
       "2                                 315             NaN               NaN   \n",
       "3                                 314             NaN               NaN   \n",
       "4                                 313             NaN               NaN   \n",
       "\n",
       "   Zero_Balance_Code  Current_Interest_Rate  Current_Deferred_UPB  \\\n",
       "0                NaN                  6.875                   0.0   \n",
       "1                NaN                  6.875                   0.0   \n",
       "2                NaN                  6.875                   0.0   \n",
       "3                NaN                  6.875                   0.0   \n",
       "4                NaN                  6.875                   0.0   \n",
       "\n",
       "   Actual_Loss_Calculation  Zero_Balance_Removal_UPB  \n",
       "0                      NaN                       NaN  \n",
       "1                      NaN                       NaN  \n",
       "2                      NaN                       NaN  \n",
       "3                      NaN                       NaN  \n",
       "4                      NaN                       NaN  "
      ]
     },
     "execution_count": 80,
     "metadata": {},
     "output_type": "execute_result"
    }
   ],
   "source": [
    "#Quick initial look\n",
    "monthly_data_combined.head()"
   ]
  },
  {
   "cell_type": "code",
   "execution_count": 81,
   "metadata": {},
   "outputs": [],
   "source": [
    "#Convert some variables into categoricals to increases resource efficiency\n",
    "convert_to_cat = ['Current_Loan_Delinquency_Status','Repurchase_Flag','Modification_Flag',\n",
    "                  'Zero_Balance_Code']\n",
    "for col in convert_to_cat:\n",
    "    monthly_data_combined[col]=monthly_data_combined[col].astype('category')"
   ]
  },
  {
   "cell_type": "code",
   "execution_count": 82,
   "metadata": {},
   "outputs": [
    {
     "data": {
      "text/plain": [
       "(53494709, 13)"
      ]
     },
     "execution_count": 82,
     "metadata": {},
     "output_type": "execute_result"
    }
   ],
   "source": [
    "#Quick initial look\n",
    "monthly_data_combined.shape"
   ]
  },
  {
   "cell_type": "code",
   "execution_count": 83,
   "metadata": {},
   "outputs": [
    {
     "name": "stdout",
     "output_type": "stream",
     "text": [
      "<class 'pandas.core.frame.DataFrame'>\n",
      "Int64Index: 53494709 entries, 0 to 657511\n",
      "Data columns (total 13 columns):\n",
      " #   Column                              Dtype   \n",
      "---  ------                              -----   \n",
      " 0   Loan_Sequence_Number                object  \n",
      " 1   Monthly_Reporting_Period            int64   \n",
      " 2   Current_Actual_UPB                  float64 \n",
      " 3   Current_Loan_Delinquency_Status     category\n",
      " 4   Loan_Age                            int64   \n",
      " 5   Remaining_Months_to_Legal_Maturity  int64   \n",
      " 6   Repurchase_Flag                     category\n",
      " 7   Modification_Flag                   category\n",
      " 8   Zero_Balance_Code                   category\n",
      " 9   Current_Interest_Rate               float64 \n",
      " 10  Current_Deferred_UPB                float64 \n",
      " 11  Actual_Loss_Calculation             float64 \n",
      " 12  Zero_Balance_Removal_UPB            float64 \n",
      "dtypes: category(4), float64(5), int64(3), object(1)\n",
      "memory usage: 4.2+ GB\n"
     ]
    }
   ],
   "source": [
    "#Quick initial look\n",
    "monthly_data_combined.info()"
   ]
  },
  {
   "cell_type": "code",
   "execution_count": 84,
   "metadata": {},
   "outputs": [
    {
     "data": {
      "text/html": [
       "<div>\n",
       "<style scoped>\n",
       "    .dataframe tbody tr th:only-of-type {\n",
       "        vertical-align: middle;\n",
       "    }\n",
       "\n",
       "    .dataframe tbody tr th {\n",
       "        vertical-align: top;\n",
       "    }\n",
       "\n",
       "    .dataframe thead th {\n",
       "        text-align: right;\n",
       "    }\n",
       "</style>\n",
       "<table border=\"1\" class=\"dataframe\">\n",
       "  <thead>\n",
       "    <tr style=\"text-align: right;\">\n",
       "      <th></th>\n",
       "      <th>count</th>\n",
       "      <th>%</th>\n",
       "    </tr>\n",
       "  </thead>\n",
       "  <tbody>\n",
       "    <tr>\n",
       "      <th>Modification_Flag</th>\n",
       "      <td>53476990</td>\n",
       "      <td>99.966877</td>\n",
       "    </tr>\n",
       "    <tr>\n",
       "      <th>Actual_Loss_Calculation</th>\n",
       "      <td>53471509</td>\n",
       "      <td>99.956631</td>\n",
       "    </tr>\n",
       "    <tr>\n",
       "      <th>Zero_Balance_Code</th>\n",
       "      <td>52708225</td>\n",
       "      <td>98.529791</td>\n",
       "    </tr>\n",
       "    <tr>\n",
       "      <th>Zero_Balance_Removal_UPB</th>\n",
       "      <td>52708224</td>\n",
       "      <td>98.529789</td>\n",
       "    </tr>\n",
       "    <tr>\n",
       "      <th>Repurchase_Flag</th>\n",
       "      <td>52708168</td>\n",
       "      <td>98.529684</td>\n",
       "    </tr>\n",
       "    <tr>\n",
       "      <th>Loan_Sequence_Number</th>\n",
       "      <td>0</td>\n",
       "      <td>0.000000</td>\n",
       "    </tr>\n",
       "    <tr>\n",
       "      <th>Monthly_Reporting_Period</th>\n",
       "      <td>0</td>\n",
       "      <td>0.000000</td>\n",
       "    </tr>\n",
       "    <tr>\n",
       "      <th>Current_Actual_UPB</th>\n",
       "      <td>0</td>\n",
       "      <td>0.000000</td>\n",
       "    </tr>\n",
       "    <tr>\n",
       "      <th>Current_Loan_Delinquency_Status</th>\n",
       "      <td>0</td>\n",
       "      <td>0.000000</td>\n",
       "    </tr>\n",
       "    <tr>\n",
       "      <th>Loan_Age</th>\n",
       "      <td>0</td>\n",
       "      <td>0.000000</td>\n",
       "    </tr>\n",
       "    <tr>\n",
       "      <th>Remaining_Months_to_Legal_Maturity</th>\n",
       "      <td>0</td>\n",
       "      <td>0.000000</td>\n",
       "    </tr>\n",
       "    <tr>\n",
       "      <th>Current_Interest_Rate</th>\n",
       "      <td>0</td>\n",
       "      <td>0.000000</td>\n",
       "    </tr>\n",
       "    <tr>\n",
       "      <th>Current_Deferred_UPB</th>\n",
       "      <td>0</td>\n",
       "      <td>0.000000</td>\n",
       "    </tr>\n",
       "  </tbody>\n",
       "</table>\n",
       "</div>"
      ],
      "text/plain": [
       "                                       count          %\n",
       "Modification_Flag                   53476990  99.966877\n",
       "Actual_Loss_Calculation             53471509  99.956631\n",
       "Zero_Balance_Code                   52708225  98.529791\n",
       "Zero_Balance_Removal_UPB            52708224  98.529789\n",
       "Repurchase_Flag                     52708168  98.529684\n",
       "Loan_Sequence_Number                       0   0.000000\n",
       "Monthly_Reporting_Period                   0   0.000000\n",
       "Current_Actual_UPB                         0   0.000000\n",
       "Current_Loan_Delinquency_Status            0   0.000000\n",
       "Loan_Age                                   0   0.000000\n",
       "Remaining_Months_to_Legal_Maturity         0   0.000000\n",
       "Current_Interest_Rate                      0   0.000000\n",
       "Current_Deferred_UPB                       0   0.000000"
      ]
     },
     "execution_count": 84,
     "metadata": {},
     "output_type": "execute_result"
    }
   ],
   "source": [
    "###Number Of Missing Values By Column\n",
    "missing = pd.concat([monthly_data_combined.isnull().sum(), 100 * monthly_data_combined.isnull().mean()], axis=1)\n",
    "missing.columns=['count', '%']\n",
    "missing.sort_values(by='count', ascending =False)"
   ]
  },
  {
   "cell_type": "code",
   "execution_count": 85,
   "metadata": {},
   "outputs": [],
   "source": [
    "#Set index equal to LOAN SEQUENCE NUMBER\n",
    "monthly_data_combined.set_index(['Loan_Sequence_Number'], inplace=True)"
   ]
  },
  {
   "cell_type": "code",
   "execution_count": 86,
   "metadata": {},
   "outputs": [],
   "source": [
    "#May integrate 11 field with multiple 98% NULLs later as part of impact of mods -- for now focus on 8 remaining fields"
   ]
  },
  {
   "cell_type": "code",
   "execution_count": 87,
   "metadata": {},
   "outputs": [
    {
     "data": {
      "text/plain": [
       "202009"
      ]
     },
     "execution_count": 87,
     "metadata": {},
     "output_type": "execute_result"
    }
   ],
   "source": [
    "#MONTHLY REPORTING PERIOD -- looks OK...\n",
    "monthly_data_combined['Monthly_Reporting_Period'].max()"
   ]
  },
  {
   "cell_type": "code",
   "execution_count": 88,
   "metadata": {
    "scrolled": true
   },
   "outputs": [
    {
     "data": {
      "text/plain": [
       "count    5.349471e+07\n",
       "mean     1.629504e+02\n",
       "std      3.677347e+03\n",
       "min      0.000000e+00\n",
       "25%      0.000000e+00\n",
       "50%      0.000000e+00\n",
       "75%      0.000000e+00\n",
       "max      3.957869e+05\n",
       "Name: Current_Deferred_UPB, dtype: float64"
      ]
     },
     "execution_count": 88,
     "metadata": {},
     "output_type": "execute_result"
    }
   ],
   "source": [
    "#CURRENT DEFERRED UPB -- looks good, with small amounts as expected...\n",
    "monthly_data_combined['Current_Deferred_UPB'].describe()"
   ]
  },
  {
   "cell_type": "code",
   "execution_count": 89,
   "metadata": {},
   "outputs": [
    {
     "data": {
      "text/plain": [
       "0.00        53289805\n",
       "19700.00         515\n",
       "7100.00          512\n",
       "4200.00          481\n",
       "35600.00         474\n",
       "              ...   \n",
       "9533.72            1\n",
       "2900.10            1\n",
       "2675.30            1\n",
       "39700.00           1\n",
       "2705.91            1\n",
       "Name: Current_Deferred_UPB, Length: 6373, dtype: int64"
      ]
     },
     "execution_count": 89,
     "metadata": {},
     "output_type": "execute_result"
    }
   ],
   "source": [
    "#CURRENT DEFERRED UPB...so keep\n",
    "monthly_data_combined['Current_Deferred_UPB'].value_counts()"
   ]
  },
  {
   "cell_type": "code",
   "execution_count": 90,
   "metadata": {
    "scrolled": true
   },
   "outputs": [
    {
     "data": {
      "text/plain": [
       "486    14\n",
       "490    14\n",
       "491    14\n",
       "487    14\n",
       "489    14\n",
       "       ..\n",
       "581     2\n",
       "600     1\n",
       "601     1\n",
       "602     1\n",
       "603     1\n",
       "Name: Remaining_Months_to_Legal_Maturity, Length: 118, dtype: int64"
      ]
     },
     "execution_count": 90,
     "metadata": {},
     "output_type": "execute_result"
    }
   ],
   "source": [
    "#REMAINING MONTHS TO LEGAL MATURITY -- a few loans longer than 40 years, but this variable likely not important -- DELETE LATER?\n",
    "monthly_data_combined['Remaining_Months_to_Legal_Maturity'].loc[monthly_data_combined['Remaining_Months_to_Legal_Maturity'] > 485].value_counts()"
   ]
  },
  {
   "cell_type": "code",
   "execution_count": 91,
   "metadata": {},
   "outputs": [
    {
     "data": {
      "text/plain": [
       "3      1016578\n",
       "4      1014237\n",
       "2      1013957\n",
       "5      1009238\n",
       "6      1002397\n",
       "        ...   \n",
       "255        318\n",
       "256        247\n",
       "257        179\n",
       "258        114\n",
       "259         64\n",
       "Name: Loan_Age, Length: 260, dtype: int64"
      ]
     },
     "execution_count": 91,
     "metadata": {},
     "output_type": "execute_result"
    }
   ],
   "source": [
    "#LOAN AGE -- looks fine\n",
    "monthly_data_combined['Loan_Age'].value_counts()"
   ]
  },
  {
   "cell_type": "code",
   "execution_count": 92,
   "metadata": {
    "scrolled": true
   },
   "outputs": [
    {
     "data": {
      "text/plain": [
       "0     35502360\n",
       "0     16247812\n",
       "1       687734\n",
       "2       215027\n",
       "3        99312\n",
       "        ...   \n",
       "85           1\n",
       "84           1\n",
       "83           1\n",
       "82           1\n",
       "91           1\n",
       "Name: Current_Loan_Delinquency_Status, Length: 270, dtype: int64"
      ]
     },
     "execution_count": 92,
     "metadata": {},
     "output_type": "execute_result"
    }
   ],
   "source": [
    "#CURRENT LOAN DELINQUENCY STATUS -- looks fine but may bucket\n",
    "monthly_data_combined['Current_Loan_Delinquency_Status'].value_counts()"
   ]
  },
  {
   "cell_type": "code",
   "execution_count": 93,
   "metadata": {},
   "outputs": [
    {
     "data": {
      "text/plain": [
       "0.00         786695\n",
       "100000.00     67764\n",
       "199000.00     48441\n",
       "99000.00      43817\n",
       "120000.00     43557\n",
       "              ...  \n",
       "164491.61         1\n",
       "213574.32         1\n",
       "368781.92         1\n",
       "84090.61          1\n",
       "113200.90         1\n",
       "Name: Current_Actual_UPB, Length: 20946143, dtype: int64"
      ]
     },
     "execution_count": 93,
     "metadata": {},
     "output_type": "execute_result"
    }
   ],
   "source": [
    "#CURRENT ACTUAL UPB -- looks fine...\n",
    "monthly_data_combined['Current_Actual_UPB'].value_counts()"
   ]
  },
  {
   "cell_type": "code",
   "execution_count": 94,
   "metadata": {
    "scrolled": true
   },
   "outputs": [
    {
     "data": {
      "text/plain": [
       "(100000, 200000]    21492035\n",
       "(0, 100000]         15590869\n",
       "(200000, 300000]     9883319\n",
       "(300000, 400000]     4235632\n",
       "(400000, 500000]     1093523\n",
       "(500000, 600000]      304712\n",
       "(600000, 700000]       88169\n",
       "(700000, 800000]       17278\n",
       "Name: Current_Actual_UPB, dtype: int64"
      ]
     },
     "execution_count": 94,
     "metadata": {},
     "output_type": "execute_result"
    }
   ],
   "source": [
    "#CURRENT ACTUAL UPB...but may look at some of the high values\n",
    "pd.cut(monthly_data_combined['Current_Actual_UPB'], bins =[0,100000,200000,300000,400000,500000,600000,700000,800000]).value_counts()"
   ]
  },
  {
   "cell_type": "code",
   "execution_count": 95,
   "metadata": {},
   "outputs": [],
   "source": [
    "#Fix MONTHLY REPORTING PERIOD date so all conform to same format\n",
    "monthly_data_combined['Monthly_Reporting_Period']=pd.to_datetime(monthly_data_combined['Monthly_Reporting_Period'],format='%Y%m', errors='coerce')\n",
    "#monthly_data_combined['Zero_Balance_Effective_Date']=pd.to_datetime(monthly_data_combined['Zero_Balance_Effective_Date'],format='%Y%m', errors='coerce')\n",
    "#monthly_data_combined['Due_Date_of_Last_Paid_Installment']=pd.to_datetime(monthly_data_combined['Due_Date_of_Last_Paid_Installment'],format='%Y%m', errors='coerce')"
   ]
  },
  {
   "cell_type": "code",
   "execution_count": 96,
   "metadata": {},
   "outputs": [],
   "source": [
    "#Assigning label to x-axis \n",
    "monthly_data_combined = pd.DataFrame(monthly_data_combined).rename_axis('Monthly_Attribute', axis=1)"
   ]
  },
  {
   "cell_type": "code",
   "execution_count": 97,
   "metadata": {},
   "outputs": [],
   "source": [
    "monthly_data_pivot = monthly_data_combined.pivot(columns='Monthly_Reporting_Period',values='Current_Loan_Delinquency_Status')"
   ]
  },
  {
   "cell_type": "code",
   "execution_count": 98,
   "metadata": {},
   "outputs": [],
   "source": [
    "#Initialize data from using origination sample loans only\n",
    "monthly_data_combined_orig_sample_only =pd.DataFrame(index=origination_data_combined.index.values)\n",
    "monthly_data_combined_orig_sample_only.rename_axis(\"Loan_Sequence_Number\", inplace=True)"
   ]
  },
  {
   "cell_type": "code",
   "execution_count": 99,
   "metadata": {
    "scrolled": true
   },
   "outputs": [],
   "source": [
    "#Assigning label to x-axis and y-axis\n",
    "monthly_data_combined_orig_sample_only=monthly_data_combined_orig_sample_only.join(monthly_data_combined, on='Loan_Sequence_Number', how='left')\n",
    "monthly_data_combined_orig_sample_only = pd.DataFrame(monthly_data_combined_orig_sample_only).rename_axis('Monthly_Attribute', axis=1)"
   ]
  },
  {
   "cell_type": "code",
   "execution_count": 100,
   "metadata": {},
   "outputs": [],
   "source": [
    "#monthly_data_combined_orig_sample_only['Monthly_Reporting_Period'].to_csv('C:/Users/Jonathan/Desktop/Springboard_Course/Save to folder/testY.csv')"
   ]
  },
  {
   "cell_type": "code",
   "execution_count": null,
   "metadata": {},
   "outputs": [],
   "source": []
  },
  {
   "cell_type": "code",
   "execution_count": 101,
   "metadata": {},
   "outputs": [],
   "source": [
    "##Data from FRED\n",
    "# S&P/Case-Shiller 20-City Composite Home Price (SA): SPCS20RSA\n",
    "# S&P/Case-Shiller U.S. National Home Price Index (SA): CSUSHPISA\n",
    "# Unemployment Rate (SA):UNRATENSA\n",
    "# Labor Force Participation Rate:CIVPART\n",
    "# 10-Year Treasury Constant Maturity Rate: DGS10\n",
    "# 30-Year Fixed Rate Mortgage Average in the United States: MORTGAGE30US"
   ]
  },
  {
   "cell_type": "code",
   "execution_count": 102,
   "metadata": {},
   "outputs": [],
   "source": [
    "#fred.search('shiller')"
   ]
  },
  {
   "cell_type": "code",
   "execution_count": 103,
   "metadata": {},
   "outputs": [],
   "source": [
    "#Look at graphs quickly -- all check out\n",
    "quick_look=fred.get_series('CSUSHPISA')"
   ]
  },
  {
   "cell_type": "code",
   "execution_count": 104,
   "metadata": {},
   "outputs": [
    {
     "data": {
      "image/png": "[encoded data removed]",
      "text/plain": [
       "<Figure size 576x396 with 1 Axes>"
      ]
     },
     "metadata": {},
     "output_type": "display_data"
    }
   ],
   "source": [
    "plt.plot(quick_look)\n",
    "plt.title('Quick Look')\n",
    "plt.ylabel('%')\n",
    "plt.xlabel('Date')\n",
    "plt.show()"
   ]
  },
  {
   "cell_type": "code",
   "execution_count": 105,
   "metadata": {},
   "outputs": [],
   "source": [
    "#Pull the indixes -- note that the last two needed further work on dates before transposing\n",
    "CS_HPA_20_cities= pd.DataFrame(fred.get_series('SPCS20RSA')).T\n",
    "CS_HP =pd.DataFrame(fred.get_series('CSUSHPISA')).T\n",
    "UNEMPLOY = pd.DataFrame(fred.get_series('UNRATENSA')).T\n",
    "LF_Part = pd.DataFrame(fred.get_series('CIVPART')).T\n",
    "Y10_CMT = pd.DataFrame(fred.get_series('DGS10'))\n",
    "Y30_fixed_mortgage_rate=pd.DataFrame(fred.get_series('MORTGAGE30US'))"
   ]
  },
  {
   "cell_type": "code",
   "execution_count": 106,
   "metadata": {},
   "outputs": [],
   "source": [
    "##This section to fix Y10_CMT date -- there must be a better way! *******"
   ]
  },
  {
   "cell_type": "code",
   "execution_count": 107,
   "metadata": {},
   "outputs": [],
   "source": [
    "Y10_CMT = Y10_CMT.resample('M').mean().fillna(0)"
   ]
  },
  {
   "cell_type": "code",
   "execution_count": 108,
   "metadata": {},
   "outputs": [],
   "source": [
    "Y10_CMT['new_year'] =Y10_CMT.index.year \n",
    "Y10_CMT['new_month'] =Y10_CMT.index.month\n",
    "Y10_CMT['new_day']=1"
   ]
  },
  {
   "cell_type": "code",
   "execution_count": 109,
   "metadata": {
    "scrolled": true
   },
   "outputs": [],
   "source": [
    "cols = ['new_year', 'new_month', 'new_day']\n",
    "Y10_CMT['new_date'] = Y10_CMT[cols].apply(lambda row: '-'.join(row.values.astype(str)), axis=1)"
   ]
  },
  {
   "cell_type": "code",
   "execution_count": 110,
   "metadata": {},
   "outputs": [],
   "source": [
    "Y10_CMT['new_date'] =pd.to_datetime(Y10_CMT['new_date'])"
   ]
  },
  {
   "cell_type": "code",
   "execution_count": 111,
   "metadata": {},
   "outputs": [
    {
     "data": {
      "text/plain": [
       "1962-01-31   1962-01-01\n",
       "1962-02-28   1962-02-01\n",
       "1962-03-31   1962-03-01\n",
       "1962-04-30   1962-04-01\n",
       "1962-05-31   1962-05-01\n",
       "                ...    \n",
       "2021-01-31   2021-01-01\n",
       "2021-02-28   2021-02-01\n",
       "2021-03-31   2021-03-01\n",
       "2021-04-30   2021-04-01\n",
       "2021-05-31   2021-05-01\n",
       "Freq: M, Name: new_date, Length: 713, dtype: datetime64[ns]"
      ]
     },
     "execution_count": 111,
     "metadata": {},
     "output_type": "execute_result"
    }
   ],
   "source": [
    "Y10_CMT['new_date']"
   ]
  },
  {
   "cell_type": "code",
   "execution_count": 112,
   "metadata": {},
   "outputs": [],
   "source": [
    "Y10_CMT.set_index('new_date',inplace=True)"
   ]
  },
  {
   "cell_type": "code",
   "execution_count": 113,
   "metadata": {},
   "outputs": [],
   "source": [
    "Y10_CMT=Y10_CMT[0]"
   ]
  },
  {
   "cell_type": "code",
   "execution_count": 114,
   "metadata": {
    "scrolled": true
   },
   "outputs": [
    {
     "data": {
      "text/plain": [
       "new_date\n",
       "1962-01-01    4.083182\n",
       "1962-02-01    4.039444\n",
       "1962-03-01    3.930455\n",
       "1962-04-01    3.843000\n",
       "1962-05-01    3.873636\n",
       "                ...   \n",
       "2021-01-01    1.081053\n",
       "2021-02-01    1.257895\n",
       "2021-03-01    1.610870\n",
       "2021-04-01    1.635000\n",
       "2021-05-01    1.602500\n",
       "Name: 0, Length: 713, dtype: float64"
      ]
     },
     "execution_count": 114,
     "metadata": {},
     "output_type": "execute_result"
    }
   ],
   "source": [
    "Y10_CMT"
   ]
  },
  {
   "cell_type": "code",
   "execution_count": 115,
   "metadata": {},
   "outputs": [],
   "source": [
    "Y10_CMT=Y10_CMT.T"
   ]
  },
  {
   "cell_type": "code",
   "execution_count": 116,
   "metadata": {},
   "outputs": [],
   "source": [
    "#This section to fix Y30_fixed_mortgage_rate date -- there must be a better way! *******"
   ]
  },
  {
   "cell_type": "code",
   "execution_count": 117,
   "metadata": {},
   "outputs": [],
   "source": [
    "Y30_fixed_mortgage_rate = Y30_fixed_mortgage_rate.resample('M').mean().fillna(0)"
   ]
  },
  {
   "cell_type": "code",
   "execution_count": 118,
   "metadata": {},
   "outputs": [],
   "source": [
    "Y30_fixed_mortgage_rate['new_year'] =Y30_fixed_mortgage_rate.index.year \n",
    "Y30_fixed_mortgage_rate['new_month'] =Y30_fixed_mortgage_rate.index.month\n",
    "Y30_fixed_mortgage_rate['new_day']=1"
   ]
  },
  {
   "cell_type": "code",
   "execution_count": 119,
   "metadata": {},
   "outputs": [],
   "source": [
    "cols = ['new_year', 'new_month', 'new_day']\n",
    "Y30_fixed_mortgage_rate['new_date'] = Y30_fixed_mortgage_rate[cols].apply(lambda row: '-'.join(row.values.astype(str)), axis=1)"
   ]
  },
  {
   "cell_type": "code",
   "execution_count": 120,
   "metadata": {},
   "outputs": [],
   "source": [
    "Y30_fixed_mortgage_rate['new_date'] =pd.to_datetime(Y30_fixed_mortgage_rate['new_date'])"
   ]
  },
  {
   "cell_type": "code",
   "execution_count": 121,
   "metadata": {},
   "outputs": [
    {
     "data": {
      "text/plain": [
       "1971-04-30   1971-04-01\n",
       "1971-05-31   1971-05-01\n",
       "1971-06-30   1971-06-01\n",
       "1971-07-31   1971-07-01\n",
       "1971-08-31   1971-08-01\n",
       "                ...    \n",
       "2021-01-31   2021-01-01\n",
       "2021-02-28   2021-02-01\n",
       "2021-03-31   2021-03-01\n",
       "2021-04-30   2021-04-01\n",
       "2021-05-31   2021-05-01\n",
       "Freq: M, Name: new_date, Length: 602, dtype: datetime64[ns]"
      ]
     },
     "execution_count": 121,
     "metadata": {},
     "output_type": "execute_result"
    }
   ],
   "source": [
    "Y30_fixed_mortgage_rate['new_date']"
   ]
  },
  {
   "cell_type": "code",
   "execution_count": 122,
   "metadata": {},
   "outputs": [],
   "source": [
    "Y30_fixed_mortgage_rate.set_index('new_date',inplace=True)"
   ]
  },
  {
   "cell_type": "code",
   "execution_count": 123,
   "metadata": {},
   "outputs": [],
   "source": [
    "Y30_fixed_mortgage_rate=Y30_fixed_mortgage_rate[0]"
   ]
  },
  {
   "cell_type": "code",
   "execution_count": 124,
   "metadata": {},
   "outputs": [
    {
     "data": {
      "text/plain": [
       "new_date\n",
       "1971-04-01    7.3100\n",
       "1971-05-01    7.4250\n",
       "1971-06-01    7.5300\n",
       "1971-07-01    7.6040\n",
       "1971-08-01    7.6975\n",
       "               ...  \n",
       "2021-01-01    2.7350\n",
       "2021-02-01    2.8100\n",
       "2021-03-01    3.0825\n",
       "2021-04-01    3.0600\n",
       "2021-05-01    2.9600\n",
       "Name: 0, Length: 602, dtype: float64"
      ]
     },
     "execution_count": 124,
     "metadata": {},
     "output_type": "execute_result"
    }
   ],
   "source": [
    "Y30_fixed_mortgage_rate"
   ]
  },
  {
   "cell_type": "code",
   "execution_count": 125,
   "metadata": {},
   "outputs": [],
   "source": [
    "Y30_fixed_mortgage_rate=Y30_fixed_mortgage_rate.T"
   ]
  },
  {
   "cell_type": "code",
   "execution_count": 126,
   "metadata": {},
   "outputs": [],
   "source": [
    "##End of the date fixes"
   ]
  },
  {
   "cell_type": "code",
   "execution_count": 127,
   "metadata": {},
   "outputs": [],
   "source": [
    "#Preparing to constructing data frame for macro data\n",
    "macro_index_list =[CS_HPA_20_cities,CS_HP,UNEMPLOY,LF_Part,Y10_CMT,Y30_fixed_mortgage_rate]\n",
    "macro_index_labels =['CS_HPA_20_cities','CS_HP','UNEMPLOY','LF_Part','Y10_CMT','Y30_fixed_mortgage_rate']"
   ]
  },
  {
   "cell_type": "code",
   "execution_count": 128,
   "metadata": {},
   "outputs": [],
   "source": [
    "macro_data =pd.DataFrame()\n",
    "macro_data=macro_data.fillna(0)"
   ]
  },
  {
   "cell_type": "code",
   "execution_count": 129,
   "metadata": {},
   "outputs": [],
   "source": [
    "#Appending all the indices to data frame - Note cannot include all appends in single ccell\n",
    "macro_data = macro_data.append(CS_HPA_20_cities)"
   ]
  },
  {
   "cell_type": "code",
   "execution_count": 130,
   "metadata": {},
   "outputs": [],
   "source": [
    "macro_data = macro_data.append(CS_HP)"
   ]
  },
  {
   "cell_type": "code",
   "execution_count": 131,
   "metadata": {},
   "outputs": [],
   "source": [
    "macro_data = macro_data.append(UNEMPLOY)"
   ]
  },
  {
   "cell_type": "code",
   "execution_count": 132,
   "metadata": {},
   "outputs": [],
   "source": [
    "macro_data = macro_data.append(LF_Part)"
   ]
  },
  {
   "cell_type": "code",
   "execution_count": 133,
   "metadata": {},
   "outputs": [],
   "source": [
    "macro_data = macro_data.append(Y10_CMT)"
   ]
  },
  {
   "cell_type": "code",
   "execution_count": 134,
   "metadata": {},
   "outputs": [],
   "source": [
    "macro_data = macro_data.append(Y30_fixed_mortgage_rate)"
   ]
  },
  {
   "cell_type": "code",
   "execution_count": null,
   "metadata": {},
   "outputs": [],
   "source": []
  },
  {
   "cell_type": "code",
   "execution_count": 135,
   "metadata": {},
   "outputs": [],
   "source": [
    "#Adding index labels to data frame\n",
    "macro_data.index=macro_index_labels"
   ]
  },
  {
   "cell_type": "code",
   "execution_count": 136,
   "metadata": {},
   "outputs": [],
   "source": [
    "#Deleting unneccessary history\n",
    "macro_data=macro_data.loc[:,\"1998-1-01\":\"2020-12-01\"]"
   ]
  },
  {
   "cell_type": "code",
   "execution_count": 137,
   "metadata": {},
   "outputs": [
    {
     "data": {
      "text/html": [
       "<div>\n",
       "<style scoped>\n",
       "    .dataframe tbody tr th:only-of-type {\n",
       "        vertical-align: middle;\n",
       "    }\n",
       "\n",
       "    .dataframe tbody tr th {\n",
       "        vertical-align: top;\n",
       "    }\n",
       "\n",
       "    .dataframe thead th {\n",
       "        text-align: right;\n",
       "    }\n",
       "</style>\n",
       "<table border=\"1\" class=\"dataframe\">\n",
       "  <thead>\n",
       "    <tr style=\"text-align: right;\">\n",
       "      <th></th>\n",
       "      <th>CS_HPA_20_cities</th>\n",
       "      <th>CS_HP</th>\n",
       "      <th>UNEMPLOY</th>\n",
       "      <th>LF_Part</th>\n",
       "      <th>Y10_CMT</th>\n",
       "      <th>Y30_fixed_mortgage_rate</th>\n",
       "    </tr>\n",
       "  </thead>\n",
       "  <tbody>\n",
       "    <tr>\n",
       "      <th>1998-01-01</th>\n",
       "      <td>NaN</td>\n",
       "      <td>87.619</td>\n",
       "      <td>5.2</td>\n",
       "      <td>67.1</td>\n",
       "      <td>5.544500</td>\n",
       "      <td>6.9940</td>\n",
       "    </tr>\n",
       "    <tr>\n",
       "      <th>1998-02-01</th>\n",
       "      <td>NaN</td>\n",
       "      <td>88.007</td>\n",
       "      <td>5.0</td>\n",
       "      <td>67.1</td>\n",
       "      <td>5.574737</td>\n",
       "      <td>7.0425</td>\n",
       "    </tr>\n",
       "    <tr>\n",
       "      <th>1998-03-01</th>\n",
       "      <td>NaN</td>\n",
       "      <td>88.446</td>\n",
       "      <td>5.0</td>\n",
       "      <td>67.1</td>\n",
       "      <td>5.647273</td>\n",
       "      <td>7.1275</td>\n",
       "    </tr>\n",
       "    <tr>\n",
       "      <th>1998-04-01</th>\n",
       "      <td>NaN</td>\n",
       "      <td>88.883</td>\n",
       "      <td>4.1</td>\n",
       "      <td>67.0</td>\n",
       "      <td>5.637619</td>\n",
       "      <td>7.1400</td>\n",
       "    </tr>\n",
       "    <tr>\n",
       "      <th>1998-05-01</th>\n",
       "      <td>NaN</td>\n",
       "      <td>89.368</td>\n",
       "      <td>4.2</td>\n",
       "      <td>67.0</td>\n",
       "      <td>5.652500</td>\n",
       "      <td>7.1440</td>\n",
       "    </tr>\n",
       "    <tr>\n",
       "      <th>...</th>\n",
       "      <td>...</td>\n",
       "      <td>...</td>\n",
       "      <td>...</td>\n",
       "      <td>...</td>\n",
       "      <td>...</td>\n",
       "      <td>...</td>\n",
       "    </tr>\n",
       "    <tr>\n",
       "      <th>2020-08-01</th>\n",
       "      <td>228.710737</td>\n",
       "      <td>222.690</td>\n",
       "      <td>8.5</td>\n",
       "      <td>61.7</td>\n",
       "      <td>0.650000</td>\n",
       "      <td>2.9350</td>\n",
       "    </tr>\n",
       "    <tr>\n",
       "      <th>2020-09-01</th>\n",
       "      <td>232.045219</td>\n",
       "      <td>225.820</td>\n",
       "      <td>7.7</td>\n",
       "      <td>61.4</td>\n",
       "      <td>0.679524</td>\n",
       "      <td>2.8900</td>\n",
       "    </tr>\n",
       "    <tr>\n",
       "      <th>2020-10-01</th>\n",
       "      <td>235.664228</td>\n",
       "      <td>229.309</td>\n",
       "      <td>6.6</td>\n",
       "      <td>61.6</td>\n",
       "      <td>0.787143</td>\n",
       "      <td>2.8340</td>\n",
       "    </tr>\n",
       "    <tr>\n",
       "      <th>2020-11-01</th>\n",
       "      <td>239.045367</td>\n",
       "      <td>232.560</td>\n",
       "      <td>6.4</td>\n",
       "      <td>61.5</td>\n",
       "      <td>0.870000</td>\n",
       "      <td>2.7650</td>\n",
       "    </tr>\n",
       "    <tr>\n",
       "      <th>2020-12-01</th>\n",
       "      <td>242.101105</td>\n",
       "      <td>235.442</td>\n",
       "      <td>6.5</td>\n",
       "      <td>61.5</td>\n",
       "      <td>0.933636</td>\n",
       "      <td>2.6840</td>\n",
       "    </tr>\n",
       "  </tbody>\n",
       "</table>\n",
       "<p>276 rows × 6 columns</p>\n",
       "</div>"
      ],
      "text/plain": [
       "            CS_HPA_20_cities    CS_HP  UNEMPLOY  LF_Part   Y10_CMT  \\\n",
       "1998-01-01               NaN   87.619       5.2     67.1  5.544500   \n",
       "1998-02-01               NaN   88.007       5.0     67.1  5.574737   \n",
       "1998-03-01               NaN   88.446       5.0     67.1  5.647273   \n",
       "1998-04-01               NaN   88.883       4.1     67.0  5.637619   \n",
       "1998-05-01               NaN   89.368       4.2     67.0  5.652500   \n",
       "...                      ...      ...       ...      ...       ...   \n",
       "2020-08-01        228.710737  222.690       8.5     61.7  0.650000   \n",
       "2020-09-01        232.045219  225.820       7.7     61.4  0.679524   \n",
       "2020-10-01        235.664228  229.309       6.6     61.6  0.787143   \n",
       "2020-11-01        239.045367  232.560       6.4     61.5  0.870000   \n",
       "2020-12-01        242.101105  235.442       6.5     61.5  0.933636   \n",
       "\n",
       "            Y30_fixed_mortgage_rate  \n",
       "1998-01-01                   6.9940  \n",
       "1998-02-01                   7.0425  \n",
       "1998-03-01                   7.1275  \n",
       "1998-04-01                   7.1400  \n",
       "1998-05-01                   7.1440  \n",
       "...                             ...  \n",
       "2020-08-01                   2.9350  \n",
       "2020-09-01                   2.8900  \n",
       "2020-10-01                   2.8340  \n",
       "2020-11-01                   2.7650  \n",
       "2020-12-01                   2.6840  \n",
       "\n",
       "[276 rows x 6 columns]"
      ]
     },
     "execution_count": 137,
     "metadata": {},
     "output_type": "execute_result"
    }
   ],
   "source": [
    "macro_data.T\n",
    "#macro_data.to_csv('C:/Users/Jonathan/Desktop/Springboard_Course/Save to folder/testZ.csv')"
   ]
  },
  {
   "cell_type": "code",
   "execution_count": 138,
   "metadata": {},
   "outputs": [],
   "source": [
    "#Changing index labels to facilitate joining\n",
    "macro_data = macro_data.rename_axis('Macro_Index').rename_axis(\"Monthly_Reporting_Period\", axis=\"columns\")"
   ]
  },
  {
   "cell_type": "code",
   "execution_count": 139,
   "metadata": {
    "scrolled": true
   },
   "outputs": [],
   "source": [
    "#Transpose to join to monthly file\n",
    "macro_data=macro_data.T"
   ]
  },
  {
   "cell_type": "code",
   "execution_count": 140,
   "metadata": {},
   "outputs": [],
   "source": [
    "#Join monthly loan file to macro file\n",
    "monthly_loan_macro_combined=monthly_data_combined_orig_sample_only.join(macro_data, on='Monthly_Reporting_Period', how='left')"
   ]
  },
  {
   "cell_type": "code",
   "execution_count": 141,
   "metadata": {},
   "outputs": [],
   "source": [
    "#Final join \n",
    "all_data_combined = monthly_loan_macro_combined.join(origination_data_combined, on='Loan_Sequence_Number', how='left')"
   ]
  },
  {
   "cell_type": "code",
   "execution_count": 142,
   "metadata": {},
   "outputs": [],
   "source": [
    "#changing to df\n",
    "df=all_data_combined.copy()"
   ]
  },
  {
   "cell_type": "code",
   "execution_count": 143,
   "metadata": {},
   "outputs": [],
   "source": [
    "df.reset_index(inplace=True)"
   ]
  },
  {
   "cell_type": "code",
   "execution_count": 144,
   "metadata": {},
   "outputs": [],
   "source": [
    "df.set_index(['Loan_Sequence_Number', 'Monthly_Reporting_Period'], inplace=True)"
   ]
  },
  {
   "cell_type": "code",
   "execution_count": 145,
   "metadata": {},
   "outputs": [],
   "source": [
    "##Create numeric value only delinquency field"
   ]
  },
  {
   "cell_type": "code",
   "execution_count": 146,
   "metadata": {},
   "outputs": [],
   "source": [
    "df['numeric_Loan_Delinquency_Status']=df['Current_Loan_Delinquency_Status']"
   ]
  },
  {
   "cell_type": "code",
   "execution_count": 147,
   "metadata": {},
   "outputs": [],
   "source": [
    "df['numeric_Loan_Delinquency_Status'].replace(to_replace='R', value=np.nan, inplace=True)"
   ]
  },
  {
   "cell_type": "code",
   "execution_count": 148,
   "metadata": {},
   "outputs": [],
   "source": [
    "df['numeric_Loan_Delinquency_Status'] = df.groupby('Loan_Sequence_Number').numeric_Loan_Delinquency_Status.ffill()"
   ]
  },
  {
   "cell_type": "code",
   "execution_count": 149,
   "metadata": {},
   "outputs": [],
   "source": [
    "##Creating and modifying fields "
   ]
  },
  {
   "cell_type": "code",
   "execution_count": 150,
   "metadata": {},
   "outputs": [],
   "source": [
    "#Create unambiguous labels for ZB code\n",
    "\n",
    "#1 :'Prepaid or Matured',\n",
    "#2 : 'Third Party Sale',\n",
    "#3 : 'Short Sale or Charge Off',\n",
    "#6 : 'Repurchase prior to Property Disposition',\n",
    "#9 : 'REO Disposition',\n",
    "#15: 'Note sale/Reperforming sale'\n",
    "\n",
    "\n",
    "ZB_mapping ={1 :'Current',\n",
    "2 : 'Default',\n",
    "3 : 'Default',\n",
    "6 : 'Repurchase',\n",
    "9 : 'Default',\n",
    "15 : 'Default'}"
   ]
  },
  {
   "cell_type": "code",
   "execution_count": 151,
   "metadata": {},
   "outputs": [],
   "source": [
    "df['Zero_Balance_Code']=df['Zero_Balance_Code'].map(ZB_mapping)"
   ]
  },
  {
   "cell_type": "code",
   "execution_count": 152,
   "metadata": {},
   "outputs": [],
   "source": [
    "#df['Zero_Balance_Code']=pd.to_numeric(df['Zero_Balance_Code'],errors='coerce')"
   ]
  },
  {
   "cell_type": "code",
   "execution_count": 153,
   "metadata": {},
   "outputs": [],
   "source": [
    "#Consolidate late stage delinquencies"
   ]
  },
  {
   "cell_type": "code",
   "execution_count": 154,
   "metadata": {},
   "outputs": [],
   "source": [
    "df['consol_Loan_Delinquency_Status']=df['Current_Loan_Delinquency_Status']"
   ]
  },
  {
   "cell_type": "code",
   "execution_count": 155,
   "metadata": {},
   "outputs": [],
   "source": [
    "df['consol_Loan_Delinquency_Status'].replace(to_replace='R',value=9999, inplace=True)"
   ]
  },
  {
   "cell_type": "code",
   "execution_count": 156,
   "metadata": {},
   "outputs": [],
   "source": [
    "df['consol_Loan_Delinquency_Status']=pd.to_numeric(df['consol_Loan_Delinquency_Status'],errors='coerce')"
   ]
  },
  {
   "cell_type": "code",
   "execution_count": 157,
   "metadata": {},
   "outputs": [],
   "source": [
    "def consol_DQ(x):\n",
    "    if x == 0:\n",
    "        return 'Current'\n",
    "    if x == 1:\n",
    "        return '1m_DQ'\n",
    "    if x == 2:\n",
    "        return '2m_DQ'\n",
    "    if x == 3:\n",
    "        return '3m_DQ'\n",
    "    if x == 4:\n",
    "        return '4m_DQ'\n",
    "    if x == 5:\n",
    "        return '5m_DQ'\n",
    "    if x == 6:\n",
    "        return '6m_DQ'\n",
    "    if x > 6 and x <= 12:\n",
    "        return '7m_to_12m_DQ'\n",
    "    if x > 12 and x <= 24:\n",
    "        return '13m_to_24m_DQ'\n",
    "    if x > 24 and x <= 9998:\n",
    "        return '>24m_DQ'\n",
    "    if x==9999:\n",
    "        return 'REO'\n",
    "    else:\n",
    "        return 'missing'"
   ]
  },
  {
   "cell_type": "code",
   "execution_count": 158,
   "metadata": {
    "scrolled": true
   },
   "outputs": [],
   "source": [
    "df['consol_Loan_Delinquency_Status']=df['consol_Loan_Delinquency_Status'].apply(consol_DQ)"
   ]
  },
  {
   "cell_type": "code",
   "execution_count": 159,
   "metadata": {},
   "outputs": [],
   "source": [
    "df=df[df.consol_Loan_Delinquency_Status !='missing']"
   ]
  },
  {
   "cell_type": "code",
   "execution_count": 160,
   "metadata": {},
   "outputs": [],
   "source": [
    "#Carry forward modification flag"
   ]
  },
  {
   "cell_type": "code",
   "execution_count": 161,
   "metadata": {},
   "outputs": [],
   "source": [
    "df['Modification_Flag']=df.groupby('Loan_Sequence_Number').Modification_Flag.ffill()"
   ]
  },
  {
   "cell_type": "code",
   "execution_count": 162,
   "metadata": {},
   "outputs": [],
   "source": [
    "#Number of delinquencies in last 12 and 24 months"
   ]
  },
  {
   "cell_type": "code",
   "execution_count": 163,
   "metadata": {},
   "outputs": [],
   "source": [
    "#Under development"
   ]
  },
  {
   "cell_type": "code",
   "execution_count": 164,
   "metadata": {},
   "outputs": [],
   "source": [
    "##Create target variable from ZB code and current delinquency status fields"
   ]
  },
  {
   "cell_type": "code",
   "execution_count": 165,
   "metadata": {},
   "outputs": [],
   "source": [
    "df['Target_Performance_Variable']= df['consol_Loan_Delinquency_Status']"
   ]
  },
  {
   "cell_type": "code",
   "execution_count": 166,
   "metadata": {},
   "outputs": [],
   "source": [
    "df['Zero_Balance_Code'] = df['Zero_Balance_Code'].fillna(0)"
   ]
  },
  {
   "cell_type": "code",
   "execution_count": 167,
   "metadata": {},
   "outputs": [],
   "source": [
    "df['Target_Performance_Variable'] = np.where((df.Zero_Balance_Code == 0),df['Target_Performance_Variable'],df['Zero_Balance_Code'])"
   ]
  },
  {
   "cell_type": "code",
   "execution_count": 168,
   "metadata": {},
   "outputs": [],
   "source": [
    "#Ever defaulted "
   ]
  },
  {
   "cell_type": "code",
   "execution_count": 169,
   "metadata": {},
   "outputs": [],
   "source": [
    "df['Zero_Balance_Code'].replace(to_replace=0, value=np.nan, inplace=True)"
   ]
  },
  {
   "cell_type": "code",
   "execution_count": 170,
   "metadata": {},
   "outputs": [],
   "source": [
    "df['Ever_Default'] = df.groupby('Loan_Sequence_Number').Zero_Balance_Code.bfill()"
   ]
  },
  {
   "cell_type": "code",
   "execution_count": 171,
   "metadata": {},
   "outputs": [],
   "source": [
    "#Principal repayment"
   ]
  },
  {
   "cell_type": "code",
   "execution_count": 172,
   "metadata": {},
   "outputs": [],
   "source": [
    "df['prin_repay_pct'] = (df['Current_Actual_UPB']-df['Current_Actual_UPB'].groupby('Loan_Sequence_Number').shift(1, axis=0))/df['Current_Actual_UPB'].groupby('Loan_Sequence_Number').shift(1, axis=0)"
   ]
  },
  {
   "cell_type": "code",
   "execution_count": 173,
   "metadata": {},
   "outputs": [],
   "source": [
    "#This  zeros out the first \n",
    "df.loc[df.groupby('Loan_Sequence_Number')['prin_repay_pct'].head(1).index, 'prin_repay_pct'] = 0"
   ]
  },
  {
   "cell_type": "code",
   "execution_count": 174,
   "metadata": {},
   "outputs": [],
   "source": [
    "#HPA adjustment to LTV"
   ]
  },
  {
   "cell_type": "code",
   "execution_count": 175,
   "metadata": {},
   "outputs": [],
   "source": [
    "implied_orig_house_px = (1/df['Original_LTV'])*df['Original_UPB']"
   ]
  },
  {
   "cell_type": "code",
   "execution_count": 176,
   "metadata": {},
   "outputs": [],
   "source": [
    "hpa = ((df['CS_HP'] -df.groupby('Loan_Sequence_Number')['CS_HP'].first())/df.groupby('Loan_Sequence_Number')['CS_HPA_20_cities'].first())*100"
   ]
  },
  {
   "cell_type": "code",
   "execution_count": 177,
   "metadata": {},
   "outputs": [],
   "source": [
    "implied_new_house_px = implied_orig_house_px*(1+(hpa/100))"
   ]
  },
  {
   "cell_type": "code",
   "execution_count": 178,
   "metadata": {},
   "outputs": [],
   "source": [
    "df['HPA_adjusted_LTV']=df['Current_Actual_UPB']/implied_new_house_px"
   ]
  },
  {
   "cell_type": "code",
   "execution_count": 179,
   "metadata": {},
   "outputs": [],
   "source": [
    "#Fix LTVs for when loan balance = 0"
   ]
  },
  {
   "cell_type": "code",
   "execution_count": 180,
   "metadata": {},
   "outputs": [],
   "source": [
    "df.loc[(df['HPA_adjusted_LTV'] == 0) & (df['Current_Actual_UPB'] == 0), 'HPA_adjusted_LTV'] = df['HPA_adjusted_LTV'].shift(periods=1,axis=0) "
   ]
  },
  {
   "cell_type": "code",
   "execution_count": 181,
   "metadata": {},
   "outputs": [],
   "source": [
    "#Adjust LTV"
   ]
  },
  {
   "cell_type": "code",
   "execution_count": 182,
   "metadata": {},
   "outputs": [],
   "source": [
    "#Loss severity"
   ]
  },
  {
   "cell_type": "code",
   "execution_count": 183,
   "metadata": {},
   "outputs": [],
   "source": [
    "df.drop(columns=['Repurchase_Flag'], inplace=True)"
   ]
  },
  {
   "cell_type": "code",
   "execution_count": 184,
   "metadata": {},
   "outputs": [],
   "source": [
    "#For development purposes, saving locally to inspect\n",
    "df.to_csv('C:/Users/Jonathan/Desktop/Springboard_Course/Save to folder/data_frame_for_EDA.csv')\n",
    "#df.to_csv('C:/Users/Jonathan/Desktop/Springboard_Course/Save to folder/test1.csv')"
   ]
  },
  {
   "cell_type": "code",
   "execution_count": 185,
   "metadata": {},
   "outputs": [],
   "source": [
    "##Pandas profiling for use with final data frame"
   ]
  },
  {
   "cell_type": "code",
   "execution_count": 186,
   "metadata": {},
   "outputs": [],
   "source": [
    "#report = df.profile_report(sort='None', html={'style':{'full_width': True}}, progress_bar=False)\n",
    "#report"
   ]
  },
  {
   "cell_type": "code",
   "execution_count": 187,
   "metadata": {},
   "outputs": [],
   "source": [
    "#profile_report = df.profile_report(html={'style': {'full_width': True}})\n",
    "#profile_report.to_file(\"C:/Users/Jonathan/Desktop/Springboard_Course/Save to folder/example.html\")"
   ]
  },
  {
   "cell_type": "code",
   "execution_count": 188,
   "metadata": {},
   "outputs": [],
   "source": [
    "## Future tasks\n",
    "# Integrate loss data -- OK\n",
    "# Convert ZB code to categorical --OK \n",
    "# Convert DQ to other hist fields\n",
    "# Create one performance field -- OK\n",
    "# Make sure that mod flags carry forward into future --OK\n",
    "# Ever defaulted\n",
    "# Ever (other) ?\n",
    "# Function to adjust LTVs for HPI\n",
    "# Prepayments\n",
    "#    Amortization  schedule\n",
    "#    Implied prepayment (percent of UPB)"
   ]
  },
  {
   "cell_type": "code",
   "execution_count": null,
   "metadata": {},
   "outputs": [],
   "source": []
  }
 ],
 "metadata": {
  "kernelspec": {
   "display_name": "Python 3",
   "language": "python",
   "name": "python3"
  },
  "language_info": {
   "codemirror_mode": {
    "name": "ipython",
    "version": 3
   },
   "file_extension": ".py",
   "mimetype": "text/x-python",
   "name": "python",
   "nbconvert_exporter": "python",
   "pygments_lexer": "ipython3",
   "version": "3.8.5"
  }
 },
 "nbformat": 4,
 "nbformat_minor": 4
}
