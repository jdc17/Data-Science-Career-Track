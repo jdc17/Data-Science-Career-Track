{
 "cells": [
  {
   "cell_type": "code",
   "execution_count": 1,
   "metadata": {},
   "outputs": [],
   "source": [
    "#####Capstone RMBS model Spring 2021 for Springboard Data Science Track #####"
   ]
  },
  {
   "cell_type": "code",
   "execution_count": 2,
   "metadata": {},
   "outputs": [],
   "source": [
    "###Load required pacakages"
   ]
  },
  {
   "cell_type": "code",
   "execution_count": 3,
   "metadata": {},
   "outputs": [],
   "source": [
    "import pandas as pd\n",
    "import numpy as np\n",
    "\n",
    "import matplotlib.pyplot as plt\n",
    "import datetime\n",
    "import warnings\n",
    "import seaborn as sns\n",
    "\n",
    "import scipy.stats as stats\n",
    "import sklearn\n",
    "\n",
    "warnings.filterwarnings('ignore')\n",
    "plt.style.use('seaborn')\n",
    "\n",
    "# special IPython command to prepare the notebook for matplotlib and other libraries\n",
    "%matplotlib inline \n",
    "\n",
    "# special matplotlib argument for improved plots\n",
    "from matplotlib import rcParams\n",
    "sns.set_style(\"whitegrid\")\n",
    "sns.set_context(\"poster\")"
   ]
  },
  {
   "cell_type": "code",
   "execution_count": 4,
   "metadata": {},
   "outputs": [],
   "source": [
    "#EDA data filepath downloaded and stored here\n",
    "filename = 'C:/Users/Jonathan/Desktop/Springboard_Course/Save to folder/data_frame_for_EDA.csv'"
   ]
  },
  {
   "cell_type": "code",
   "execution_count": 5,
   "metadata": {},
   "outputs": [],
   "source": [
    "load=pd.read_csv(filename, header =0, index_col=['Loan_Sequence_Number','Monthly_Reporting_Period'])"
   ]
  },
  {
   "cell_type": "code",
   "execution_count": 6,
   "metadata": {},
   "outputs": [],
   "source": [
    "test_df =load"
   ]
  },
  {
   "cell_type": "code",
   "execution_count": 7,
   "metadata": {},
   "outputs": [],
   "source": [
    "test_df['Modification_Flag'].replace(to_replace=np.nan,value='N', inplace=True)"
   ]
  },
  {
   "cell_type": "code",
   "execution_count": 8,
   "metadata": {},
   "outputs": [],
   "source": [
    "test_df['Target_Performance_Variable'].replace(to_replace='Non-Default',value='Current', inplace=True)"
   ]
  },
  {
   "cell_type": "code",
   "execution_count": 9,
   "metadata": {},
   "outputs": [],
   "source": [
    "test_df['Target_Performance_Variable'].replace(to_replace='Repurchase',value='Default', inplace=True)"
   ]
  },
  {
   "cell_type": "code",
   "execution_count": 10,
   "metadata": {},
   "outputs": [],
   "source": [
    "test_df['previous_period'] = test_df['Target_Performance_Variable'].groupby('Loan_Sequence_Number').shift(1, axis=0)"
   ]
  },
  {
   "cell_type": "code",
   "execution_count": 11,
   "metadata": {},
   "outputs": [],
   "source": [
    "test_df['previous_period'].replace(to_replace=np.nan,value='Current', inplace=True)"
   ]
  },
  {
   "cell_type": "code",
   "execution_count": 12,
   "metadata": {},
   "outputs": [],
   "source": [
    "#test_df['previous_period'].replace(to_replace=0,value='Current', inplace=True)"
   ]
  },
  {
   "cell_type": "code",
   "execution_count": 13,
   "metadata": {},
   "outputs": [],
   "source": [
    "test_df = test_df.reset_index()"
   ]
  },
  {
   "cell_type": "code",
   "execution_count": 14,
   "metadata": {},
   "outputs": [],
   "source": [
    "test_df = test_df[test_df['Monthly_Reporting_Period']=='2004-01-01']"
   ]
  },
  {
   "cell_type": "code",
   "execution_count": 15,
   "metadata": {},
   "outputs": [],
   "source": [
    "drop_cols =['Loan_Sequence_Number', \n",
    "            'Monthly_Reporting_Period', \n",
    "            'Current_Actual_UPB', \n",
    "            'Current_Loan_Delinquency_Status', \n",
    "            'Remaining_Months_to_Legal_Maturity',\n",
    "            'Actual_Loss_Calculation', \n",
    "            'Zero_Balance_Code',\n",
    "            'Zero_Balance_Removal_UPB',\n",
    "            'Current_Deferred_UPB',\n",
    "            'CS_HPA_20_cities', 'UNEMPLOY',\n",
    "            'Y30_fixed_mortgage_rate', \n",
    "            'Credit_Score', \n",
    "            'First_Payment_Date', \n",
    "            'First_Time_Homebuyer_Flag', \n",
    "            'Maturity_Date', \n",
    "            'MSA', \n",
    "            'MI%',\n",
    "            'Original_Interest_Rate', \n",
    "            'Channel', \n",
    "            'Prepayment_Penalty_Flag', \n",
    "            'Property_State', \n",
    "            'Property_Type', \n",
    "            'Loan_Purpose', \n",
    "            'Original_Loan_Term', \n",
    "            'Number_of_Borrowers', \n",
    "            'Seller_Name', \n",
    "            'Servicer_Name', \n",
    "            'Super_Conforming_Flag', \n",
    "            'Orig_Year', \n",
    "            'numeric_Loan_Delinquency_Status', \n",
    "            'consol_Loan_Delinquency_Status',\n",
    "            'Original_LTV',\n",
    "            'Original_CLTV',\n",
    "            'Ever_Default', \n",
    "            'prin_repay_pct','CS_HP',\n",
    "            'LF_Part', 'Y10_CMT']"
   ]
  },
  {
   "cell_type": "code",
   "execution_count": 16,
   "metadata": {},
   "outputs": [],
   "source": [
    "test_df.drop(labels=drop_cols, axis=1, inplace=True)"
   ]
  },
  {
   "cell_type": "code",
   "execution_count": 17,
   "metadata": {},
   "outputs": [
    {
     "data": {
      "text/plain": [
       "array(['Loan_Age', 'Modification_Flag', 'Current_Interest_Rate',\n",
       "       'Number_of_Units', 'Occupancy_Status', 'Original_DTI',\n",
       "       'Original_UPB', 'Target_Performance_Variable', 'HPA_adjusted_LTV',\n",
       "       'previous_period'], dtype=object)"
      ]
     },
     "execution_count": 17,
     "metadata": {},
     "output_type": "execute_result"
    }
   ],
   "source": [
    "test_df.columns.values"
   ]
  },
  {
   "cell_type": "code",
   "execution_count": 18,
   "metadata": {
    "scrolled": true
   },
   "outputs": [
    {
     "data": {
      "text/plain": [
       "(25323, 10)"
      ]
     },
     "execution_count": 18,
     "metadata": {},
     "output_type": "execute_result"
    }
   ],
   "source": [
    "test_df.shape"
   ]
  },
  {
   "cell_type": "code",
   "execution_count": 19,
   "metadata": {
    "scrolled": false
   },
   "outputs": [
    {
     "data": {
      "text/plain": [
       "array(['Current', '1m_DQ', '5m_DQ', '7m_to_12m_DQ', '2m_DQ', '3m_DQ',\n",
       "       'REO', '4m_DQ', '6m_DQ', 'Default', '13m_to_24m_DQ'], dtype=object)"
      ]
     },
     "execution_count": 19,
     "metadata": {},
     "output_type": "execute_result"
    }
   ],
   "source": [
    "test_df['Target_Performance_Variable'].unique()"
   ]
  },
  {
   "cell_type": "code",
   "execution_count": 20,
   "metadata": {},
   "outputs": [
    {
     "data": {
      "text/plain": [
       "array(['Current', '1m_DQ', '4m_DQ', '6m_DQ', '2m_DQ', '3m_DQ', '5m_DQ',\n",
       "       '7m_to_12m_DQ', '13m_to_24m_DQ', 'REO', '>24m_DQ'], dtype=object)"
      ]
     },
     "execution_count": 20,
     "metadata": {},
     "output_type": "execute_result"
    }
   ],
   "source": [
    "test_df['previous_period'].unique()"
   ]
  },
  {
   "cell_type": "code",
   "execution_count": 21,
   "metadata": {},
   "outputs": [],
   "source": [
    "perf_mapping ={'Current' :1,\n",
    "'1m_DQ' : 2,\n",
    "'2m_DQ' : 3,\n",
    "'3m_DQ' : 4,\n",
    "'4m_DQ' : 5,\n",
    "'5m_DQ' : 6,\n",
    "'6m_DQ' : 7,\n",
    "'7m_to_12m_DQ' : 8,\n",
    "'13m_to_24m_DQ' : 9,               \n",
    "'REO' : 10}"
   ]
  },
  {
   "cell_type": "code",
   "execution_count": 22,
   "metadata": {},
   "outputs": [],
   "source": [
    "test_df['previous_period']=test_df['previous_period'].map(perf_mapping)"
   ]
  },
  {
   "cell_type": "code",
   "execution_count": 23,
   "metadata": {},
   "outputs": [],
   "source": [
    "test_df['Target_Performance_Variable']=test_df['Target_Performance_Variable'].map(perf_mapping)"
   ]
  },
  {
   "cell_type": "code",
   "execution_count": 24,
   "metadata": {},
   "outputs": [],
   "source": [
    "test_df.to_csv('C:/Users/Jonathan/Desktop/Springboard_Course/Save to folder/test99.csv')"
   ]
  },
  {
   "cell_type": "code",
   "execution_count": 25,
   "metadata": {},
   "outputs": [],
   "source": [
    "df=pd.DataFrame(test_df)"
   ]
  },
  {
   "cell_type": "code",
   "execution_count": null,
   "metadata": {},
   "outputs": [],
   "source": []
  },
  {
   "cell_type": "code",
   "execution_count": null,
   "metadata": {},
   "outputs": [],
   "source": []
  },
  {
   "cell_type": "code",
   "execution_count": 26,
   "metadata": {},
   "outputs": [],
   "source": [
    "df = pd.get_dummies(df,drop_first=True)"
   ]
  },
  {
   "cell_type": "code",
   "execution_count": 27,
   "metadata": {},
   "outputs": [],
   "source": [
    "numerical_features = ['Loan_Age','Current_Interest_Rate','Number_of_Units','Original_DTI','Original_UPB','HPA_adjusted_LTV','previous_period']"
   ]
  },
  {
   "cell_type": "code",
   "execution_count": 28,
   "metadata": {
    "scrolled": true
   },
   "outputs": [
    {
     "data": {
      "text/html": [
       "<div>\n",
       "<style scoped>\n",
       "    .dataframe tbody tr th:only-of-type {\n",
       "        vertical-align: middle;\n",
       "    }\n",
       "\n",
       "    .dataframe tbody tr th {\n",
       "        vertical-align: top;\n",
       "    }\n",
       "\n",
       "    .dataframe thead th {\n",
       "        text-align: right;\n",
       "    }\n",
       "</style>\n",
       "<table border=\"1\" class=\"dataframe\">\n",
       "  <thead>\n",
       "    <tr style=\"text-align: right;\">\n",
       "      <th></th>\n",
       "      <th>Loan_Age</th>\n",
       "      <th>Current_Interest_Rate</th>\n",
       "      <th>Number_of_Units</th>\n",
       "      <th>Original_DTI</th>\n",
       "      <th>Original_UPB</th>\n",
       "      <th>Target_Performance_Variable</th>\n",
       "      <th>HPA_adjusted_LTV</th>\n",
       "      <th>previous_period</th>\n",
       "      <th>Modification_Flag_Y</th>\n",
       "      <th>Occupancy_Status_P</th>\n",
       "      <th>Occupancy_Status_S</th>\n",
       "    </tr>\n",
       "  </thead>\n",
       "  <tbody>\n",
       "    <tr>\n",
       "      <th>0</th>\n",
       "      <td>0.254237</td>\n",
       "      <td>0.569767</td>\n",
       "      <td>0.0</td>\n",
       "      <td>0.609375</td>\n",
       "      <td>0.183236</td>\n",
       "      <td>1.0</td>\n",
       "      <td>0.844393</td>\n",
       "      <td>0.0</td>\n",
       "      <td>0</td>\n",
       "      <td>0</td>\n",
       "      <td>1</td>\n",
       "    </tr>\n",
       "    <tr>\n",
       "      <th>1</th>\n",
       "      <td>0.305085</td>\n",
       "      <td>0.627907</td>\n",
       "      <td>0.0</td>\n",
       "      <td>0.406250</td>\n",
       "      <td>0.163743</td>\n",
       "      <td>1.0</td>\n",
       "      <td>0.683856</td>\n",
       "      <td>0.0</td>\n",
       "      <td>0</td>\n",
       "      <td>1</td>\n",
       "      <td>0</td>\n",
       "    </tr>\n",
       "    <tr>\n",
       "      <th>2</th>\n",
       "      <td>0.101695</td>\n",
       "      <td>0.558140</td>\n",
       "      <td>0.0</td>\n",
       "      <td>0.265625</td>\n",
       "      <td>0.370370</td>\n",
       "      <td>1.0</td>\n",
       "      <td>0.543725</td>\n",
       "      <td>0.0</td>\n",
       "      <td>0</td>\n",
       "      <td>1</td>\n",
       "      <td>0</td>\n",
       "    </tr>\n",
       "    <tr>\n",
       "      <th>3</th>\n",
       "      <td>0.372881</td>\n",
       "      <td>0.790698</td>\n",
       "      <td>0.0</td>\n",
       "      <td>0.375000</td>\n",
       "      <td>0.103314</td>\n",
       "      <td>1.0</td>\n",
       "      <td>0.701691</td>\n",
       "      <td>0.0</td>\n",
       "      <td>0</td>\n",
       "      <td>1</td>\n",
       "      <td>0</td>\n",
       "    </tr>\n",
       "    <tr>\n",
       "      <th>4</th>\n",
       "      <td>0.067797</td>\n",
       "      <td>0.500000</td>\n",
       "      <td>0.0</td>\n",
       "      <td>0.328125</td>\n",
       "      <td>0.366472</td>\n",
       "      <td>1.0</td>\n",
       "      <td>0.639415</td>\n",
       "      <td>0.0</td>\n",
       "      <td>0</td>\n",
       "      <td>1</td>\n",
       "      <td>0</td>\n",
       "    </tr>\n",
       "  </tbody>\n",
       "</table>\n",
       "</div>"
      ],
      "text/plain": [
       "   Loan_Age  Current_Interest_Rate  Number_of_Units  Original_DTI  \\\n",
       "0  0.254237               0.569767              0.0      0.609375   \n",
       "1  0.305085               0.627907              0.0      0.406250   \n",
       "2  0.101695               0.558140              0.0      0.265625   \n",
       "3  0.372881               0.790698              0.0      0.375000   \n",
       "4  0.067797               0.500000              0.0      0.328125   \n",
       "\n",
       "   Original_UPB  Target_Performance_Variable  HPA_adjusted_LTV  \\\n",
       "0      0.183236                          1.0          0.844393   \n",
       "1      0.163743                          1.0          0.683856   \n",
       "2      0.370370                          1.0          0.543725   \n",
       "3      0.103314                          1.0          0.701691   \n",
       "4      0.366472                          1.0          0.639415   \n",
       "\n",
       "   previous_period  Modification_Flag_Y  Occupancy_Status_P  \\\n",
       "0              0.0                    0                   0   \n",
       "1              0.0                    0                   1   \n",
       "2              0.0                    0                   1   \n",
       "3              0.0                    0                   1   \n",
       "4              0.0                    0                   1   \n",
       "\n",
       "   Occupancy_Status_S  \n",
       "0                   1  \n",
       "1                   0  \n",
       "2                   0  \n",
       "3                   0  \n",
       "4                   0  "
      ]
     },
     "execution_count": 28,
     "metadata": {},
     "output_type": "execute_result"
    }
   ],
   "source": [
    "from sklearn.preprocessing import MinMaxScaler\n",
    "\n",
    "# Scale only columns that have values greater than 1\n",
    "to_scale = [feature for feature in numerical_features]\n",
    "mms = MinMaxScaler()\n",
    "scaled = mms.fit_transform(df[to_scale])\n",
    "scaled = pd.DataFrame(scaled, columns=to_scale)\n",
    "\n",
    "df.reset_index(inplace=True, drop=True)\n",
    "\n",
    "# Replace original columns with scaled ones\n",
    "for feature in numerical_features:\n",
    "    df[feature] = scaled[feature]\n",
    "    \n",
    "df.head()"
   ]
  },
  {
   "cell_type": "code",
   "execution_count": null,
   "metadata": {},
   "outputs": [],
   "source": []
  },
  {
   "cell_type": "code",
   "execution_count": 29,
   "metadata": {},
   "outputs": [
    {
     "name": "stdout",
     "output_type": "stream",
     "text": [
      "previous_period\n",
      "% Positive class in Train = 97.1\n",
      "% Positive class in Test  = 96.87\n",
      "_________\n"
     ]
    }
   ],
   "source": [
    "from sklearn.model_selection import train_test_split\n",
    "\n",
    "X = df.drop('Target_Performance_Variable', axis=1)\n",
    "\n",
    "y = df['Target_Performance_Variable']\n",
    "\n",
    "X_train, X_test, y_train, y_test = train_test_split(X, y, test_size=0.25, random_state=125)\n",
    "print(feature)\n",
    "print(f'''% Positive class in Train = {np.round(y_train.value_counts(normalize=True)[1] * 100, 2)}\n",
    "% Positive class in Test  = {np.round(y_test.value_counts(normalize=True)[1] * 100, 2)}''')\n",
    "print ('_________')\n"
   ]
  },
  {
   "cell_type": "code",
   "execution_count": 30,
   "metadata": {},
   "outputs": [
    {
     "data": {
      "text/plain": [
       "Loan_Age                        0\n",
       "Current_Interest_Rate           0\n",
       "Number_of_Units                 0\n",
       "Original_DTI                    0\n",
       "Original_UPB                    0\n",
       "Target_Performance_Variable    17\n",
       "HPA_adjusted_LTV                0\n",
       "previous_period                 1\n",
       "Modification_Flag_Y             0\n",
       "Occupancy_Status_P              0\n",
       "Occupancy_Status_S              0\n",
       "dtype: int64"
      ]
     },
     "execution_count": 30,
     "metadata": {},
     "output_type": "execute_result"
    }
   ],
   "source": [
    "df.isna().sum()"
   ]
  },
  {
   "cell_type": "code",
   "execution_count": 31,
   "metadata": {},
   "outputs": [],
   "source": [
    "#temp fix\n",
    "df.dropna(inplace=True)"
   ]
  },
  {
   "cell_type": "code",
   "execution_count": 44,
   "metadata": {},
   "outputs": [
    {
     "data": {
      "image/png": "[encoded data removed]",
      "text/plain": [
       "<Figure size 864x864 with 2 Axes>"
      ]
     },
     "metadata": {},
     "output_type": "display_data"
    }
   ],
   "source": [
    "from sklearn.linear_model import LogisticRegression\n",
    "from sklearn.metrics import accuracy_score, recall_score, confusion_matrix\n",
    "\n",
    "X = (df.drop('Target_Performance_Variable', axis=1))\n",
    "\n",
    "y = df['Target_Performance_Variable']\n",
    "\n",
    "X_train, X_test, y_train, y_test = train_test_split(X, y, test_size=0.25, random_state=123)\n",
    "# Train\n",
    "model = LogisticRegression(random_state=42, multi_class='ovr', penalty='none', solver='newton-cg')\n",
    "model.fit(X_train, y_train)\n",
    "preds = model.predict(X_test)\n",
    "\n",
    "# Evaluate\n",
    "#print(f'Accuracy = {accuracy_score(y_test, preds):.2f}\\nRecall = {recall_score(y_test, preds):.2f}\\n')\n",
    "cm = confusion_matrix(y_test, preds)\n",
    "plt.figure(figsize=(12,12))\n",
    "plt.rcParams.update({'font.size': 10})\n",
    "plt.title('Confusion Matrix (without SMOTE)' + feature, size=16)\n",
    "sns.heatmap(cm, annot=True, cmap='Blues');"
   ]
  },
  {
   "cell_type": "code",
   "execution_count": 34,
   "metadata": {},
   "outputs": [
    {
     "name": "stdout",
     "output_type": "stream",
     "text": [
      "Shape of X before SMOTE: (25305, 10)\n",
      "Shape of X after SMOTE: (245570, 10)\n",
      "\n",
      "Balance of positive and negative classes (%):\n"
     ]
    },
    {
     "data": {
      "text/plain": [
       "8.0     10.0\n",
       "7.0     10.0\n",
       "9.0     10.0\n",
       "10.0    10.0\n",
       "4.0     10.0\n",
       "3.0     10.0\n",
       "1.0     10.0\n",
       "2.0     10.0\n",
       "5.0     10.0\n",
       "6.0     10.0\n",
       "Name: Target_Performance_Variable, dtype: float64"
      ]
     },
     "execution_count": 34,
     "metadata": {},
     "output_type": "execute_result"
    }
   ],
   "source": [
    "from imblearn.over_sampling import SMOTE \n",
    "\n",
    "X = (df.drop('Target_Performance_Variable', axis=1))\n",
    "\n",
    "y = df['Target_Performance_Variable']\n",
    "\n",
    "sm = SMOTE(random_state=123)\n",
    "\n",
    "X_sm, y_sm = sm.fit_resample(X, y)\n",
    "\n",
    "print(f'''Shape of X before SMOTE: {X.shape}\n",
    "Shape of X after SMOTE: {X_sm.shape}''')\n",
    "\n",
    "print('\\nBalance of positive and negative classes (%):')\n",
    "y_sm.value_counts(normalize=True) * 100"
   ]
  },
  {
   "cell_type": "code",
   "execution_count": 45,
   "metadata": {},
   "outputs": [
    {
     "name": "stdout",
     "output_type": "stream",
     "text": [
      "_________\n",
      "                               coef\n",
      "Occupancy_Status_S     3.232558e+01\n",
      "Original_UPB           1.424328e+01\n",
      "HPA_adjusted_LTV       1.138421e+01\n",
      "Number_of_Units        9.718610e+00\n",
      "Loan_Age               4.704717e+00\n",
      "Original_DTI           3.997479e+00\n",
      "Occupancy_Status_P     1.730399e+00\n",
      "Modification_Flag_Y    1.178782e-01\n",
      "Current_Interest_Rate  3.837005e-02\n",
      "previous_period        1.489580e-38\n",
      "_________\n"
     ]
    },
    {
     "data": {
      "image/png": "[encoded data removed]",
      "text/plain": [
       "<Figure size 864x864 with 2 Axes>"
      ]
     },
     "metadata": {},
     "output_type": "display_data"
    }
   ],
   "source": [
    "from sklearn.linear_model import LogisticRegression\n",
    "from sklearn.metrics import accuracy_score, recall_score, confusion_matrix\n",
    "\n",
    "X = (df.drop('Target_Performance_Variable', axis=1))\n",
    "\n",
    "y = df['Target_Performance_Variable']\n",
    "\n",
    "sm = SMOTE(random_state=123)\n",
    "\n",
    "X_sm, y_sm = sm.fit_resample(X, y)\n",
    "X_train, X_test, y_train, y_test = train_test_split(X_sm, y_sm,test_size=0.25, random_state=123)\n",
    "# Train\n",
    "model = LogisticRegression(random_state=42)\n",
    "model.fit(X_train, y_train)\n",
    "preds = model.predict(X_test)\n",
    "\n",
    "# Evaluate\n",
    "#print(f'Accuracy = {accuracy_score(y_test, preds):.6f}\\nRecall = {recall_score(y_test, preds):.6f}\\n')\n",
    "print ('_________')\n",
    "    \n",
    "odds = np.exp(model.coef_[0])\n",
    "print(pd.DataFrame(odds, \n",
    "            X.columns, \n",
    "             columns=['coef'])\\\n",
    "            .sort_values(by='coef', ascending=False))\n",
    "print ('_________')\n",
    "    \n",
    "cm = confusion_matrix(y_test, preds)\n",
    "plt.figure(figsize=(12, 12))\n",
    "plt.rcParams.update({'font.size': 10})\n",
    "plt.title('Confusion Matrix (with SMOTE)' + feature, size=16)\n",
    "sns.heatmap(cm, annot=True, cmap='Blues');"
   ]
  },
  {
   "cell_type": "code",
   "execution_count": 53,
   "metadata": {},
   "outputs": [],
   "source": [
    "import statsmodels.api as sm"
   ]
  },
  {
   "cell_type": "code",
   "execution_count": 54,
   "metadata": {},
   "outputs": [],
   "source": [
    "X = (df.drop('Target_Performance_Variable', axis=1))\n",
    "\n",
    "y = df['Target_Performance_Variable']\n",
    "\n",
    "smote = SMOTE(random_state=123)\n",
    "\n",
    "X_sm, y_sm = smote.fit_resample(X, y)\n",
    "X_train, X_test, y_train, y_test = train_test_split(X_sm, y_sm,test_size=0.25, random_state=123)"
   ]
  },
  {
   "cell_type": "code",
   "execution_count": 55,
   "metadata": {},
   "outputs": [
    {
     "name": "stdout",
     "output_type": "stream",
     "text": [
      "Optimization terminated successfully.\n",
      "         Current function value: nan\n",
      "         Iterations 14\n",
      "                               MNLogit Regression Results                              \n",
      "=======================================================================================\n",
      "Dep. Variable:     Target_Performance_Variable   No. Observations:               184177\n",
      "Model:                                 MNLogit   Df Residuals:                   184078\n",
      "Method:                                    MLE   Df Model:                           90\n",
      "Date:                         Sat, 08 May 2021   Pseudo R-squ.:                     nan\n",
      "Time:                                 00:33:21   Log-Likelihood:                    nan\n",
      "converged:                                True   LL-Null:                   -4.2408e+05\n",
      "Covariance Type:                     nonrobust   LLR p-value:                       nan\n",
      "==================================================================================================\n",
      " Target_Performance_Variable=2       coef    std err          z      P>|z|      [0.025      0.975]\n",
      "--------------------------------------------------------------------------------------------------\n",
      "const                                 nan        nan        nan        nan         nan         nan\n",
      "Loan_Age                              nan        nan        nan        nan         nan         nan\n",
      "Current_Interest_Rate                 nan        nan        nan        nan         nan         nan\n",
      "Number_of_Units                       nan        nan        nan        nan         nan         nan\n",
      "Original_DTI                          nan        nan        nan        nan         nan         nan\n",
      "Original_UPB                          nan        nan        nan        nan         nan         nan\n",
      "HPA_adjusted_LTV                      nan        nan        nan        nan         nan         nan\n",
      "previous_period                       nan        nan        nan        nan         nan         nan\n",
      "Modification_Flag_Y                   nan        nan        nan        nan         nan         nan\n",
      "Occupancy_Status_P                    nan        nan        nan        nan         nan         nan\n",
      "Occupancy_Status_S                    nan        nan        nan        nan         nan         nan\n",
      "--------------------------------------------------------------------------------------------------\n",
      "Target_Performance_Variable=3       coef    std err          z      P>|z|      [0.025      0.975]\n",
      "-------------------------------------------------------------------------------------------------\n",
      "const                                nan        nan        nan        nan         nan         nan\n",
      "Loan_Age                             nan        nan        nan        nan         nan         nan\n",
      "Current_Interest_Rate                nan        nan        nan        nan         nan         nan\n",
      "Number_of_Units                      nan        nan        nan        nan         nan         nan\n",
      "Original_DTI                         nan        nan        nan        nan         nan         nan\n",
      "Original_UPB                         nan        nan        nan        nan         nan         nan\n",
      "HPA_adjusted_LTV                     nan        nan        nan        nan         nan         nan\n",
      "previous_period                      nan        nan        nan        nan         nan         nan\n",
      "Modification_Flag_Y                  nan        nan        nan        nan         nan         nan\n",
      "Occupancy_Status_P                   nan        nan        nan        nan         nan         nan\n",
      "Occupancy_Status_S                   nan        nan        nan        nan         nan         nan\n",
      "-------------------------------------------------------------------------------------------------\n",
      "Target_Performance_Variable=4       coef    std err          z      P>|z|      [0.025      0.975]\n",
      "-------------------------------------------------------------------------------------------------\n",
      "const                                nan        nan        nan        nan         nan         nan\n",
      "Loan_Age                             nan        nan        nan        nan         nan         nan\n",
      "Current_Interest_Rate                nan        nan        nan        nan         nan         nan\n",
      "Number_of_Units                      nan        nan        nan        nan         nan         nan\n",
      "Original_DTI                         nan        nan        nan        nan         nan         nan\n",
      "Original_UPB                         nan        nan        nan        nan         nan         nan\n",
      "HPA_adjusted_LTV                     nan        nan        nan        nan         nan         nan\n",
      "previous_period                      nan        nan        nan        nan         nan         nan\n",
      "Modification_Flag_Y                  nan        nan        nan        nan         nan         nan\n",
      "Occupancy_Status_P                   nan        nan        nan        nan         nan         nan\n",
      "Occupancy_Status_S                   nan        nan        nan        nan         nan         nan\n",
      "-------------------------------------------------------------------------------------------------\n",
      "Target_Performance_Variable=5       coef    std err          z      P>|z|      [0.025      0.975]\n",
      "-------------------------------------------------------------------------------------------------\n",
      "const                                nan        nan        nan        nan         nan         nan\n",
      "Loan_Age                             nan        nan        nan        nan         nan         nan\n",
      "Current_Interest_Rate                nan        nan        nan        nan         nan         nan\n",
      "Number_of_Units                      nan        nan        nan        nan         nan         nan\n",
      "Original_DTI                         nan        nan        nan        nan         nan         nan\n",
      "Original_UPB                         nan        nan        nan        nan         nan         nan\n",
      "HPA_adjusted_LTV                     nan        nan        nan        nan         nan         nan\n",
      "previous_period                      nan        nan        nan        nan         nan         nan\n",
      "Modification_Flag_Y                  nan        nan        nan        nan         nan         nan\n",
      "Occupancy_Status_P                   nan        nan        nan        nan         nan         nan\n",
      "Occupancy_Status_S                   nan        nan        nan        nan         nan         nan\n",
      "-------------------------------------------------------------------------------------------------\n",
      "Target_Performance_Variable=6       coef    std err          z      P>|z|      [0.025      0.975]\n",
      "-------------------------------------------------------------------------------------------------\n",
      "const                                nan        nan        nan        nan         nan         nan\n",
      "Loan_Age                             nan        nan        nan        nan         nan         nan\n",
      "Current_Interest_Rate                nan        nan        nan        nan         nan         nan\n",
      "Number_of_Units                      nan        nan        nan        nan         nan         nan\n",
      "Original_DTI                         nan        nan        nan        nan         nan         nan\n",
      "Original_UPB                         nan        nan        nan        nan         nan         nan\n",
      "HPA_adjusted_LTV                     nan        nan        nan        nan         nan         nan\n",
      "previous_period                      nan        nan        nan        nan         nan         nan\n",
      "Modification_Flag_Y                  nan        nan        nan        nan         nan         nan\n",
      "Occupancy_Status_P                   nan        nan        nan        nan         nan         nan\n",
      "Occupancy_Status_S                   nan        nan        nan        nan         nan         nan\n",
      "-------------------------------------------------------------------------------------------------\n",
      "Target_Performance_Variable=7       coef    std err          z      P>|z|      [0.025      0.975]\n",
      "-------------------------------------------------------------------------------------------------\n",
      "const                                nan        nan        nan        nan         nan         nan\n",
      "Loan_Age                             nan        nan        nan        nan         nan         nan\n",
      "Current_Interest_Rate                nan        nan        nan        nan         nan         nan\n",
      "Number_of_Units                      nan        nan        nan        nan         nan         nan\n",
      "Original_DTI                         nan        nan        nan        nan         nan         nan\n",
      "Original_UPB                         nan        nan        nan        nan         nan         nan\n",
      "HPA_adjusted_LTV                     nan        nan        nan        nan         nan         nan\n",
      "previous_period                      nan        nan        nan        nan         nan         nan\n",
      "Modification_Flag_Y                  nan        nan        nan        nan         nan         nan\n",
      "Occupancy_Status_P                   nan        nan        nan        nan         nan         nan\n",
      "Occupancy_Status_S                   nan        nan        nan        nan         nan         nan\n",
      "-------------------------------------------------------------------------------------------------\n",
      "Target_Performance_Variable=8       coef    std err          z      P>|z|      [0.025      0.975]\n",
      "-------------------------------------------------------------------------------------------------\n",
      "const                                nan        nan        nan        nan         nan         nan\n",
      "Loan_Age                             nan        nan        nan        nan         nan         nan\n",
      "Current_Interest_Rate                nan        nan        nan        nan         nan         nan\n",
      "Number_of_Units                      nan        nan        nan        nan         nan         nan\n",
      "Original_DTI                         nan        nan        nan        nan         nan         nan\n",
      "Original_UPB                         nan        nan        nan        nan         nan         nan\n",
      "HPA_adjusted_LTV                     nan        nan        nan        nan         nan         nan\n",
      "previous_period                      nan        nan        nan        nan         nan         nan\n",
      "Modification_Flag_Y                  nan        nan        nan        nan         nan         nan\n",
      "Occupancy_Status_P                   nan        nan        nan        nan         nan         nan\n",
      "Occupancy_Status_S                   nan        nan        nan        nan         nan         nan\n",
      "-------------------------------------------------------------------------------------------------\n",
      "Target_Performance_Variable=9       coef    std err          z      P>|z|      [0.025      0.975]\n",
      "-------------------------------------------------------------------------------------------------\n",
      "const                                nan        nan        nan        nan         nan         nan\n",
      "Loan_Age                             nan        nan        nan        nan         nan         nan\n",
      "Current_Interest_Rate                nan        nan        nan        nan         nan         nan\n",
      "Number_of_Units                      nan        nan        nan        nan         nan         nan\n",
      "Original_DTI                         nan        nan        nan        nan         nan         nan\n",
      "Original_UPB                         nan        nan        nan        nan         nan         nan\n",
      "HPA_adjusted_LTV                     nan        nan        nan        nan         nan         nan\n",
      "previous_period                      nan        nan        nan        nan         nan         nan\n",
      "Modification_Flag_Y                  nan        nan        nan        nan         nan         nan\n",
      "Occupancy_Status_P                   nan        nan        nan        nan         nan         nan\n",
      "Occupancy_Status_S                   nan        nan        nan        nan         nan         nan\n",
      "-------------------------------------------------------------------------------------------------\n",
      "Target_Performance_Variable=10       coef    std err          z      P>|z|      [0.025      0.975]\n",
      "--------------------------------------------------------------------------------------------------\n",
      "const                                 nan        nan        nan        nan         nan         nan\n",
      "Loan_Age                              nan        nan        nan        nan         nan         nan\n",
      "Current_Interest_Rate                 nan        nan        nan        nan         nan         nan\n",
      "Number_of_Units                       nan        nan        nan        nan         nan         nan\n",
      "Original_DTI                          nan        nan        nan        nan         nan         nan\n",
      "Original_UPB                          nan        nan        nan        nan         nan         nan\n",
      "HPA_adjusted_LTV                      nan        nan        nan        nan         nan         nan\n",
      "previous_period                       nan        nan        nan        nan         nan         nan\n",
      "Modification_Flag_Y                   nan        nan        nan        nan         nan         nan\n",
      "Occupancy_Status_P                    nan        nan        nan        nan         nan         nan\n",
      "Occupancy_Status_S                    nan        nan        nan        nan         nan         nan\n",
      "==================================================================================================\n",
      "                              Results: MNLogit\n",
      "=============================================================================\n",
      "Model:              MNLogit                     Pseudo R-squared: nan        \n",
      "Dependent Variable: Target_Performance_Variable AIC:              nan        \n",
      "Date:               2021-05-08 00:33            BIC:              nan        \n",
      "No. Observations:   184177                      Log-Likelihood:   nan        \n",
      "Df Model:           90                          LL-Null:          -4.2408e+05\n",
      "Df Residuals:       184078                      LLR p-value:      nan        \n",
      "Converged:          1.0000                      Scale:            1.0000     \n",
      "No. Iterations:     14.0000                                                  \n",
      "----------------------------------------------------------------------------\n",
      "Target_Performance_Variable = 0  Coef.  Std.Err.   t   P>|t|  [0.025  0.975]\n",
      "----------------------------------------------------------------------------\n",
      "                         const     nan       nan  nan    nan     nan     nan\n",
      "                      Loan_Age     nan       nan  nan    nan     nan     nan\n",
      "         Current_Interest_Rate     nan       nan  nan    nan     nan     nan\n",
      "               Number_of_Units     nan       nan  nan    nan     nan     nan\n",
      "                  Original_DTI     nan       nan  nan    nan     nan     nan\n",
      "                  Original_UPB     nan       nan  nan    nan     nan     nan\n",
      "              HPA_adjusted_LTV     nan       nan  nan    nan     nan     nan\n",
      "               previous_period     nan       nan  nan    nan     nan     nan\n",
      "           Modification_Flag_Y     nan       nan  nan    nan     nan     nan\n",
      "            Occupancy_Status_P     nan       nan  nan    nan     nan     nan\n",
      "            Occupancy_Status_S     nan       nan  nan    nan     nan     nan\n",
      "----------------------------------------------------------------------------\n",
      "Target_Performance_Variable = 1  Coef.  Std.Err.   t   P>|t|  [0.025  0.975]\n",
      "----------------------------------------------------------------------------\n",
      "                         const     nan       nan  nan    nan     nan     nan\n",
      "                      Loan_Age     nan       nan  nan    nan     nan     nan\n",
      "         Current_Interest_Rate     nan       nan  nan    nan     nan     nan\n",
      "               Number_of_Units     nan       nan  nan    nan     nan     nan\n",
      "                  Original_DTI     nan       nan  nan    nan     nan     nan\n",
      "                  Original_UPB     nan       nan  nan    nan     nan     nan\n",
      "              HPA_adjusted_LTV     nan       nan  nan    nan     nan     nan\n",
      "               previous_period     nan       nan  nan    nan     nan     nan\n",
      "           Modification_Flag_Y     nan       nan  nan    nan     nan     nan\n",
      "            Occupancy_Status_P     nan       nan  nan    nan     nan     nan\n",
      "            Occupancy_Status_S     nan       nan  nan    nan     nan     nan\n",
      "----------------------------------------------------------------------------\n",
      "Target_Performance_Variable = 2  Coef.  Std.Err.   t   P>|t|  [0.025  0.975]\n",
      "----------------------------------------------------------------------------\n",
      "                         const     nan       nan  nan    nan     nan     nan\n",
      "                      Loan_Age     nan       nan  nan    nan     nan     nan\n",
      "         Current_Interest_Rate     nan       nan  nan    nan     nan     nan\n",
      "               Number_of_Units     nan       nan  nan    nan     nan     nan\n",
      "                  Original_DTI     nan       nan  nan    nan     nan     nan\n",
      "                  Original_UPB     nan       nan  nan    nan     nan     nan\n",
      "              HPA_adjusted_LTV     nan       nan  nan    nan     nan     nan\n",
      "               previous_period     nan       nan  nan    nan     nan     nan\n",
      "           Modification_Flag_Y     nan       nan  nan    nan     nan     nan\n",
      "            Occupancy_Status_P     nan       nan  nan    nan     nan     nan\n",
      "            Occupancy_Status_S     nan       nan  nan    nan     nan     nan\n",
      "----------------------------------------------------------------------------\n",
      "Target_Performance_Variable = 3  Coef.  Std.Err.   t   P>|t|  [0.025  0.975]\n",
      "----------------------------------------------------------------------------\n",
      "                         const     nan       nan  nan    nan     nan     nan\n",
      "                      Loan_Age     nan       nan  nan    nan     nan     nan\n",
      "         Current_Interest_Rate     nan       nan  nan    nan     nan     nan\n",
      "               Number_of_Units     nan       nan  nan    nan     nan     nan\n",
      "                  Original_DTI     nan       nan  nan    nan     nan     nan\n",
      "                  Original_UPB     nan       nan  nan    nan     nan     nan\n",
      "              HPA_adjusted_LTV     nan       nan  nan    nan     nan     nan\n",
      "               previous_period     nan       nan  nan    nan     nan     nan\n",
      "           Modification_Flag_Y     nan       nan  nan    nan     nan     nan\n",
      "            Occupancy_Status_P     nan       nan  nan    nan     nan     nan\n",
      "            Occupancy_Status_S     nan       nan  nan    nan     nan     nan\n",
      "----------------------------------------------------------------------------\n",
      "Target_Performance_Variable = 4  Coef.  Std.Err.   t   P>|t|  [0.025  0.975]\n",
      "----------------------------------------------------------------------------\n",
      "                         const     nan       nan  nan    nan     nan     nan\n",
      "                      Loan_Age     nan       nan  nan    nan     nan     nan\n",
      "         Current_Interest_Rate     nan       nan  nan    nan     nan     nan\n",
      "               Number_of_Units     nan       nan  nan    nan     nan     nan\n",
      "                  Original_DTI     nan       nan  nan    nan     nan     nan\n",
      "                  Original_UPB     nan       nan  nan    nan     nan     nan\n",
      "              HPA_adjusted_LTV     nan       nan  nan    nan     nan     nan\n",
      "               previous_period     nan       nan  nan    nan     nan     nan\n",
      "           Modification_Flag_Y     nan       nan  nan    nan     nan     nan\n",
      "            Occupancy_Status_P     nan       nan  nan    nan     nan     nan\n",
      "            Occupancy_Status_S     nan       nan  nan    nan     nan     nan\n",
      "----------------------------------------------------------------------------\n",
      "Target_Performance_Variable = 5  Coef.  Std.Err.   t   P>|t|  [0.025  0.975]\n",
      "----------------------------------------------------------------------------\n",
      "                         const     nan       nan  nan    nan     nan     nan\n",
      "                      Loan_Age     nan       nan  nan    nan     nan     nan\n",
      "         Current_Interest_Rate     nan       nan  nan    nan     nan     nan\n",
      "               Number_of_Units     nan       nan  nan    nan     nan     nan\n",
      "                  Original_DTI     nan       nan  nan    nan     nan     nan\n",
      "                  Original_UPB     nan       nan  nan    nan     nan     nan\n",
      "              HPA_adjusted_LTV     nan       nan  nan    nan     nan     nan\n",
      "               previous_period     nan       nan  nan    nan     nan     nan\n",
      "           Modification_Flag_Y     nan       nan  nan    nan     nan     nan\n",
      "            Occupancy_Status_P     nan       nan  nan    nan     nan     nan\n",
      "            Occupancy_Status_S     nan       nan  nan    nan     nan     nan\n",
      "----------------------------------------------------------------------------\n",
      "Target_Performance_Variable = 6  Coef.  Std.Err.   t   P>|t|  [0.025  0.975]\n",
      "----------------------------------------------------------------------------\n",
      "                         const     nan       nan  nan    nan     nan     nan\n",
      "                      Loan_Age     nan       nan  nan    nan     nan     nan\n",
      "         Current_Interest_Rate     nan       nan  nan    nan     nan     nan\n",
      "               Number_of_Units     nan       nan  nan    nan     nan     nan\n",
      "                  Original_DTI     nan       nan  nan    nan     nan     nan\n",
      "                  Original_UPB     nan       nan  nan    nan     nan     nan\n",
      "              HPA_adjusted_LTV     nan       nan  nan    nan     nan     nan\n",
      "               previous_period     nan       nan  nan    nan     nan     nan\n",
      "           Modification_Flag_Y     nan       nan  nan    nan     nan     nan\n",
      "            Occupancy_Status_P     nan       nan  nan    nan     nan     nan\n",
      "            Occupancy_Status_S     nan       nan  nan    nan     nan     nan\n",
      "----------------------------------------------------------------------------\n",
      "Target_Performance_Variable = 7  Coef.  Std.Err.   t   P>|t|  [0.025  0.975]\n",
      "----------------------------------------------------------------------------\n",
      "                         const     nan       nan  nan    nan     nan     nan\n",
      "                      Loan_Age     nan       nan  nan    nan     nan     nan\n",
      "         Current_Interest_Rate     nan       nan  nan    nan     nan     nan\n",
      "               Number_of_Units     nan       nan  nan    nan     nan     nan\n",
      "                  Original_DTI     nan       nan  nan    nan     nan     nan\n",
      "                  Original_UPB     nan       nan  nan    nan     nan     nan\n",
      "              HPA_adjusted_LTV     nan       nan  nan    nan     nan     nan\n",
      "               previous_period     nan       nan  nan    nan     nan     nan\n",
      "           Modification_Flag_Y     nan       nan  nan    nan     nan     nan\n",
      "            Occupancy_Status_P     nan       nan  nan    nan     nan     nan\n",
      "            Occupancy_Status_S     nan       nan  nan    nan     nan     nan\n",
      "----------------------------------------------------------------------------\n",
      "Target_Performance_Variable = 8  Coef.  Std.Err.   t   P>|t|  [0.025  0.975]\n",
      "----------------------------------------------------------------------------\n",
      "                         const     nan       nan  nan    nan     nan     nan\n",
      "                      Loan_Age     nan       nan  nan    nan     nan     nan\n",
      "         Current_Interest_Rate     nan       nan  nan    nan     nan     nan\n",
      "               Number_of_Units     nan       nan  nan    nan     nan     nan\n",
      "                  Original_DTI     nan       nan  nan    nan     nan     nan\n",
      "                  Original_UPB     nan       nan  nan    nan     nan     nan\n",
      "              HPA_adjusted_LTV     nan       nan  nan    nan     nan     nan\n",
      "               previous_period     nan       nan  nan    nan     nan     nan\n",
      "           Modification_Flag_Y     nan       nan  nan    nan     nan     nan\n",
      "            Occupancy_Status_P     nan       nan  nan    nan     nan     nan\n",
      "            Occupancy_Status_S     nan       nan  nan    nan     nan     nan\n",
      "=============================================================================\n",
      "\n"
     ]
    }
   ],
   "source": [
    "logit_model=sm.MNLogit(y_train,sm.add_constant(X_train))\n",
    "logit_model\n",
    "result=logit_model.fit()\n",
    "stats1=result.summary()\n",
    "stats2=result.summary2()\n",
    "print(stats1)\n",
    "print(stats2)"
   ]
  },
  {
   "cell_type": "code",
   "execution_count": null,
   "metadata": {},
   "outputs": [],
   "source": []
  }
 ],
 "metadata": {
  "kernelspec": {
   "display_name": "Python 3",
   "language": "python",
   "name": "python3"
  },
  "language_info": {
   "codemirror_mode": {
    "name": "ipython",
    "version": 3
   },
   "file_extension": ".py",
   "mimetype": "text/x-python",
   "name": "python",
   "nbconvert_exporter": "python",
   "pygments_lexer": "ipython3",
   "version": "3.8.5"
  }
 },
 "nbformat": 4,
 "nbformat_minor": 4
}
