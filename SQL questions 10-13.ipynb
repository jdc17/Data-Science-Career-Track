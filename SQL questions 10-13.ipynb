{
 "cells": [
  {
   "cell_type": "code",
   "execution_count": 44,
   "metadata": {},
   "outputs": [],
   "source": [
    "###Q10\n",
    "query10= \"\"\"\n",
    "SELECT name,\n",
    "\tSUM(CASE WHEN memid =0 THEN slots * guestcost\n",
    "\tELSE slots * membercost END) AS total_revenue\n",
    "FROM Facilities as f\n",
    "INNER JOIN Bookings AS b\n",
    "ON f.facid=b.facid\n",
    "GROUP BY name\n",
    "HAVING total_revenue < 1000\n",
    "ORDER BY total_revenue\n",
    "        \"\"\""
   ]
  },
  {
   "cell_type": "code",
   "execution_count": 45,
   "metadata": {},
   "outputs": [],
   "source": [
    "###Q11\n",
    "query11= \"\"\"\n",
    "SELECT DISTINCT (m.firstname||','||m.surname|| ' recommended by '||r.firstname||','||r.surname) AS member_recommended\n",
    "FROM Members AS m\n",
    "LEFT JOIN Members as r \n",
    "ON m.recommendedby = r.memid\n",
    "WHERE r.memid <> 0\n",
    "ORDER BY m.surname, m.firstname\n",
    "        \"\"\""
   ]
  },
  {
   "cell_type": "code",
   "execution_count": 46,
   "metadata": {},
   "outputs": [],
   "source": [
    "###Q12\n",
    "query12= \"\"\"\n",
    "SELECT f.name, (surname|| \",\"||firstname) AS member_name, sum(slots)*.5 AS hours_usage\n",
    "FROM Facilities as f\n",
    "LEFT JOIN Bookings AS b\n",
    "USING (facid)\n",
    "LEFT JOIN Members AS m\n",
    "USING (memid)\n",
    "WHERE memid<>0\n",
    "GROUP BY f.name, member_name\n",
    "        \"\"\""
   ]
  },
  {
   "cell_type": "code",
   "execution_count": 47,
   "metadata": {},
   "outputs": [],
   "source": [
    "###Q13\n",
    "query13= \"\"\"\n",
    "SELECT f.name, \n",
    "\tCASE WHEN strftime('%M', starttime) = 7 THEN 'July'\n",
    "\tWHEN strftime('%M', starttime) = 8 THEN 'August'\n",
    "\tELSE 'September' END AS month, sum(slots) AS hours_used\n",
    "FROM Bookings AS b\n",
    "LEFT JOIN Facilities AS f\n",
    "USING (facid)\n",
    "WHERE memid <>0\n",
    "GROUP BY f.name, month\n",
    "ORDER BY f.name, strftime('%M', starttime)\n",
    "        \"\"\""
   ]
  },
  {
   "cell_type": "code",
   "execution_count": 48,
   "metadata": {},
   "outputs": [
    {
     "name": "stdout",
     "output_type": "stream",
     "text": [
      "2.6.0\n",
      "('Badminton Court', 'September', 1086)\n",
      "('Massage Room 1', 'September', 884)\n",
      "('Massage Room 2', 'September', 54)\n",
      "('Pool Table', 'September', 856)\n",
      "('Snooker Table', 'September', 860)\n",
      "('Squash Court', 'September', 418)\n",
      "('Table Tennis', 'September', 794)\n",
      "('Tennis Court 1', 'September', 957)\n",
      "('Tennis Court 2', 'September', 882)\n"
     ]
    }
   ],
   "source": [
    "import sqlite3\n",
    "from sqlite3 import Error\n",
    "\n",
    " \n",
    "def create_connection(db_file):\n",
    "    \"\"\" create a database connection to the SQLite database\n",
    "        specified by the db_file\n",
    "    :param db_file: database file\n",
    "    :return: Connection object or None\n",
    "    \"\"\"\n",
    "    conn = None\n",
    "    try:\n",
    "        conn = sqlite3.connect(db_file)\n",
    "        print(sqlite3.version)\n",
    "    except Error as e:\n",
    "        print(e)\n",
    " \n",
    "    return conn\n",
    "\n",
    " \n",
    "def select_all_tasks(conn):\n",
    "    \"\"\"\n",
    "    Query all rows in the tasks table\n",
    "    :param conn: the Connection object\n",
    "    :return:\n",
    "    \"\"\"\n",
    "    cur = conn.cursor()\n",
    "    \n",
    "    query1 = \"\"\"\n",
    "        SELECT *\n",
    "        FROM FACILITIES\n",
    "        \"\"\"\n",
    "    cur.execute(query13)\n",
    " \n",
    "    rows = cur.fetchall()\n",
    " \n",
    "    for row in rows:\n",
    "        print(row)\n",
    "\n",
    "\n",
    "def main():\n",
    "    database = \"sqlite_db_pythonsqlite.db\"\n",
    " \n",
    "    # create a database connection\n",
    "    conn = create_connection(database)\n",
    "    with conn: \n",
    "        #print(\"2. Query all tasks\")\n",
    "        select_all_tasks(conn)\n",
    " \n",
    " \n",
    "if __name__ == '__main__':\n",
    "    main()"
   ]
  },
  {
   "cell_type": "code",
   "execution_count": null,
   "metadata": {},
   "outputs": [],
   "source": []
  },
  {
   "cell_type": "code",
   "execution_count": null,
   "metadata": {},
   "outputs": [],
   "source": []
  }
 ],
 "metadata": {
  "kernelspec": {
   "display_name": "Python 3",
   "language": "python",
   "name": "python3"
  },
  "language_info": {
   "codemirror_mode": {
    "name": "ipython",
    "version": 3
   },
   "file_extension": ".py",
   "mimetype": "text/x-python",
   "name": "python",
   "nbconvert_exporter": "python",
   "pygments_lexer": "ipython3",
   "version": "3.8.5"
  }
 },
 "nbformat": 4,
 "nbformat_minor": 4
}
