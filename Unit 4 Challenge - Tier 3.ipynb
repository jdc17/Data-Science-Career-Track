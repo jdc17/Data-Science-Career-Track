{
 "cells": [
  {
   "cell_type": "markdown",
   "metadata": {
    "colab_type": "text",
    "id": "Tia3MP1SJpgj"
   },
   "source": [
    "# Springboard Data Science Career Track Unit 4 Challenge - Tier 3 Complete\n",
    "\n",
    "## Objectives\n",
    "Hey! Great job getting through those challenging DataCamp courses. You're learning a lot in a short span of time. \n",
    "\n",
    "In this notebook, you're going to apply the skills you've been learning, bridging the gap between the controlled environment of DataCamp and the *slightly* messier work that data scientists do with actual datasets!\n",
    "\n",
    "Here’s the mystery we’re going to solve: ***which boroughs of London have seen the greatest increase in housing prices, on average, over the last two decades?***\n",
    "\n",
    "\n",
    "A borough is just a fancy word for district. You may be familiar with the five boroughs of New York… well, there are 32 boroughs within Greater London [(here's some info for the curious)](https://en.wikipedia.org/wiki/London_boroughs). Some of them are more desirable areas to live in, and the data will reflect that with a greater rise in housing prices.\n",
    "\n",
    "***This is the Tier 3 notebook, which means it's not filled in at all: we'll just give you the skeleton of a project, the brief and the data. It's up to you to play around with it and see what you can find out! Good luck! If you struggle, feel free to look at easier tiers for help; but try to dip in and out of them, as the more independent work you do, the better it is for your learning!***\n",
    "\n",
    "This challenge will make use of only what you learned in the following DataCamp courses: \n",
    "- Prework courses (Introduction to Python for Data Science, Intermediate Python for Data Science)\n",
    "- Data Types for Data Science\n",
    "- Python Data Science Toolbox (Part One) \n",
    "- pandas Foundations\n",
    "- Manipulating DataFrames with pandas\n",
    "- Merging DataFrames with pandas\n",
    "\n",
    "Of the tools, techniques and concepts in the above DataCamp courses, this challenge should require the application of the following: \n",
    "- **pandas**\n",
    "    - **data ingestion and inspection** (pandas Foundations, Module One) \n",
    "    - **exploratory data analysis** (pandas Foundations, Module Two)\n",
    "    - **tidying and cleaning** (Manipulating DataFrames with pandas, Module Three) \n",
    "    - **transforming DataFrames** (Manipulating DataFrames with pandas, Module One)\n",
    "    - **subsetting DataFrames with lists** (Manipulating DataFrames with pandas, Module One) \n",
    "    - **filtering DataFrames** (Manipulating DataFrames with pandas, Module One) \n",
    "    - **grouping data** (Manipulating DataFrames with pandas, Module Four) \n",
    "    - **melting data** (Manipulating DataFrames with pandas, Module Three) \n",
    "    - **advanced indexing** (Manipulating DataFrames with pandas, Module Four) \n",
    "- **matplotlib** (Intermediate Python for Data Science, Module One)\n",
    "- **fundamental data types** (Data Types for Data Science, Module One) \n",
    "- **dictionaries** (Intermediate Python for Data Science, Module Two)\n",
    "- **handling dates and times** (Data Types for Data Science, Module Four)\n",
    "- **function definition** (Python Data Science Toolbox - Part One, Module One)\n",
    "- **default arguments, variable length, and scope** (Python Data Science Toolbox - Part One, Module Two) \n",
    "- **lambda functions and error handling** (Python Data Science Toolbox - Part One, Module Four) "
   ]
  },
  {
   "cell_type": "markdown",
   "metadata": {
    "colab_type": "text",
    "id": "Ipgd2nV8Jpgl"
   },
   "source": [
    "## The Data Science Pipeline\n",
    "\n",
    "This is Tier Three, so we'll get you started. But after that, it's all in your hands! When you feel done with your investigations, look back over what you've accomplished, and prepare a quick presentation of your findings for the next mentor meeting. \n",
    "\n",
    "Data Science is magical. In this case study, you'll get to apply some complex machine learning algorithms. But as  [David Spiegelhalter](https://www.youtube.com/watch?v=oUs1uvsz0Ok) reminds us, there is no substitute for simply **taking a really, really good look at the data.** Sometimes, this is all we need to answer our question.\n",
    "\n",
    "Data Science projects generally adhere to the four stages of Data Science Pipeline:\n",
    "1. Sourcing and loading \n",
    "2. Cleaning, transforming, and visualizing \n",
    "3. Modeling \n",
    "4. Evaluating and concluding \n"
   ]
  },
  {
   "cell_type": "markdown",
   "metadata": {
    "colab_type": "text",
    "id": "zswDqbefJpgm"
   },
   "source": [
    "### 1. Sourcing and Loading \n",
    "\n",
    "Any Data Science project kicks off by importing  ***pandas***. The documentation of this wonderful library can be found [here](https://pandas.pydata.org/). As you've seen, pandas is conveniently connected to the [Numpy](http://www.numpy.org/) and [Matplotlib](https://matplotlib.org/) libraries. \n",
    "\n",
    "***Hint:*** This part of the data science pipeline will test those skills you acquired in the pandas Foundations course, Module One. "
   ]
  },
  {
   "cell_type": "markdown",
   "metadata": {
    "colab_type": "text",
    "id": "aEau5nEvJpgm"
   },
   "source": [
    "#### 1.1. Importing Libraries"
   ]
  },
  {
   "cell_type": "code",
<<<<<<< HEAD
   "execution_count": 97,
=======
   "execution_count": 1,
>>>>>>> 145aba8a865dd334daa87e8f9cf73dce32bfb472
   "metadata": {
    "colab": {},
    "colab_type": "code",
    "id": "7Bt_Q_oPJpgn"
   },
   "outputs": [],
   "source": [
    "# Let's import the pandas, numpy libraries as pd, and np respectively. \n",
    "import pandas as pd\n",
    "import numpy as np\n",
    "\n",
    "# Load the pyplot collection of functions from matplotlib, as plt \n",
    "import matplotlib.pyplot as plt"
   ]
  },
  {
   "cell_type": "markdown",
   "metadata": {
    "colab_type": "text",
    "id": "koUrawxsJpgq"
   },
   "source": [
    "#### 1.2.  Loading the data\n",
    "Your data comes from the [London Datastore](https://data.london.gov.uk/): a free, open-source data-sharing portal for London-oriented datasets. "
   ]
  },
  {
   "cell_type": "code",
<<<<<<< HEAD
   "execution_count": 98,
=======
   "execution_count": 2,
>>>>>>> 145aba8a865dd334daa87e8f9cf73dce32bfb472
   "metadata": {
    "colab": {},
    "colab_type": "code",
    "id": "AiLiD4v3Jpgr"
   },
   "outputs": [],
   "source": [
    "# First, make a variable called url_LondonHousePrices, and assign it the following link, enclosed in quotation-marks as a string:\n",
    "# https://data.london.gov.uk/download/uk-house-price-index/70ac0766-8902-4eb5-aab5-01951aaed773/UK%20House%20price%20index.xls\n",
    "\n",
    "url_LondonHousePrices = \"https://data.london.gov.uk/download/uk-house-price-index/70ac0766-8902-4eb5-aab5-01951aaed773/UK%20House%20price%20index.xls\"\n",
    "\n",
    "# The dataset we're interested in contains the Average prices of the houses, and is actually on a particular sheet of the Excel file. \n",
    "# As a result, we need to specify the sheet name in the read_excel() method.\n",
    "# Put this data into a variable called properties.  \n",
    "properties = pd.read_excel(url_LondonHousePrices, sheet_name='Average price', index_col= None)"
   ]
  },
  {
   "cell_type": "markdown",
   "metadata": {
    "colab_type": "text",
    "id": "POukEJXgJpgu"
   },
   "source": [
    "### 2. Cleaning, transforming, and visualizing\n",
    "This second stage is arguably the most important part of any Data Science project. The first thing to do is take a proper look at the data. Cleaning forms the majority of this stage, and can be done both before or after Transformation.\n",
    "\n",
    "The end goal of data cleaning is to have tidy data. When data is tidy: \n",
    "\n",
    "1. Each variable has a column.\n",
    "2. Each observation forms a row.\n",
    "\n",
    "Keep the end goal in mind as you move through this process, every step will take you closer. \n",
    "\n",
    "\n",
    "\n",
    "***Hint:*** This part of the data science pipeline should test those skills you acquired in: \n",
    "- Intermediate Python for data science, all modules.\n",
    "- pandas Foundations, all modules. \n",
    "- Manipulating DataFrames with pandas, all modules.\n",
    "- Data Types for Data Science, Module Four.\n",
    "- Python Data Science Toolbox - Part One, all modules"
   ]
  },
  {
   "cell_type": "markdown",
   "metadata": {
    "colab_type": "text",
    "id": "Te0Q548tnzZa"
   },
   "source": [
    "**2.1. Exploring your data** \n",
    "\n",
    "Think about your pandas functions for checking out a dataframe. "
   ]
  },
  {
   "cell_type": "code",
<<<<<<< HEAD
   "execution_count": 99,
=======
   "execution_count": 3,
>>>>>>> 145aba8a865dd334daa87e8f9cf73dce32bfb472
   "metadata": {
    "colab": {},
    "colab_type": "code",
    "id": "Rxirxw_qoAJa"
   },
   "outputs": [
    {
     "data": {
      "text/html": [
       "<div>\n",
       "<style scoped>\n",
       "    .dataframe tbody tr th:only-of-type {\n",
       "        vertical-align: middle;\n",
       "    }\n",
       "\n",
       "    .dataframe tbody tr th {\n",
       "        vertical-align: top;\n",
       "    }\n",
       "\n",
       "    .dataframe thead th {\n",
       "        text-align: right;\n",
       "    }\n",
       "</style>\n",
       "<table border=\"1\" class=\"dataframe\">\n",
       "  <thead>\n",
       "    <tr style=\"text-align: right;\">\n",
       "      <th></th>\n",
       "      <th>Unnamed: 34</th>\n",
       "      <th>Unnamed: 37</th>\n",
       "      <th>Unnamed: 47</th>\n",
       "    </tr>\n",
       "  </thead>\n",
       "  <tbody>\n",
       "    <tr>\n",
       "      <th>count</th>\n",
       "      <td>0.0</td>\n",
       "      <td>0.0</td>\n",
       "      <td>0.0</td>\n",
       "    </tr>\n",
       "    <tr>\n",
       "      <th>mean</th>\n",
       "      <td>NaN</td>\n",
       "      <td>NaN</td>\n",
       "      <td>NaN</td>\n",
       "    </tr>\n",
       "    <tr>\n",
       "      <th>std</th>\n",
       "      <td>NaN</td>\n",
       "      <td>NaN</td>\n",
       "      <td>NaN</td>\n",
       "    </tr>\n",
       "    <tr>\n",
       "      <th>min</th>\n",
       "      <td>NaN</td>\n",
       "      <td>NaN</td>\n",
       "      <td>NaN</td>\n",
       "    </tr>\n",
       "    <tr>\n",
       "      <th>25%</th>\n",
       "      <td>NaN</td>\n",
       "      <td>NaN</td>\n",
       "      <td>NaN</td>\n",
       "    </tr>\n",
       "    <tr>\n",
       "      <th>50%</th>\n",
       "      <td>NaN</td>\n",
       "      <td>NaN</td>\n",
       "      <td>NaN</td>\n",
       "    </tr>\n",
       "    <tr>\n",
       "      <th>75%</th>\n",
       "      <td>NaN</td>\n",
       "      <td>NaN</td>\n",
       "      <td>NaN</td>\n",
       "    </tr>\n",
       "    <tr>\n",
       "      <th>max</th>\n",
       "      <td>NaN</td>\n",
       "      <td>NaN</td>\n",
       "      <td>NaN</td>\n",
       "    </tr>\n",
       "  </tbody>\n",
       "</table>\n",
       "</div>"
      ],
      "text/plain": [
       "       Unnamed: 34  Unnamed: 37  Unnamed: 47\n",
       "count          0.0          0.0          0.0\n",
       "mean           NaN          NaN          NaN\n",
       "std            NaN          NaN          NaN\n",
       "min            NaN          NaN          NaN\n",
       "25%            NaN          NaN          NaN\n",
       "50%            NaN          NaN          NaN\n",
       "75%            NaN          NaN          NaN\n",
       "max            NaN          NaN          NaN"
      ]
     },
<<<<<<< HEAD
     "execution_count": 99,
=======
     "execution_count": 3,
>>>>>>> 145aba8a865dd334daa87e8f9cf73dce32bfb472
     "metadata": {},
     "output_type": "execute_result"
    }
   ],
   "source": [
    "properties.describe()"
   ]
  },
  {
   "cell_type": "code",
<<<<<<< HEAD
   "execution_count": 100,
=======
   "execution_count": 4,
>>>>>>> 145aba8a865dd334daa87e8f9cf73dce32bfb472
   "metadata": {},
   "outputs": [
    {
     "name": "stdout",
     "output_type": "stream",
     "text": [
      "<class 'pandas.core.frame.DataFrame'>\n",
      "RangeIndex: 313 entries, 0 to 312\n",
      "Data columns (total 49 columns):\n",
      " #   Column                Non-Null Count  Dtype         \n",
      "---  ------                --------------  -----         \n",
      " 0   Unnamed: 0            312 non-null    datetime64[ns]\n",
      " 1   City of London        313 non-null    object        \n",
      " 2   Barking & Dagenham    313 non-null    object        \n",
      " 3   Barnet                313 non-null    object        \n",
      " 4   Bexley                313 non-null    object        \n",
      " 5   Brent                 313 non-null    object        \n",
      " 6   Bromley               313 non-null    object        \n",
      " 7   Camden                313 non-null    object        \n",
      " 8   Croydon               313 non-null    object        \n",
      " 9   Ealing                313 non-null    object        \n",
      " 10  Enfield               313 non-null    object        \n",
      " 11  Greenwich             313 non-null    object        \n",
      " 12  Hackney               313 non-null    object        \n",
      " 13  Hammersmith & Fulham  313 non-null    object        \n",
      " 14  Haringey              313 non-null    object        \n",
      " 15  Harrow                313 non-null    object        \n",
      " 16  Havering              313 non-null    object        \n",
      " 17  Hillingdon            313 non-null    object        \n",
      " 18  Hounslow              313 non-null    object        \n",
      " 19  Islington             313 non-null    object        \n",
      " 20  Kensington & Chelsea  313 non-null    object        \n",
      " 21  Kingston upon Thames  313 non-null    object        \n",
      " 22  Lambeth               313 non-null    object        \n",
      " 23  Lewisham              313 non-null    object        \n",
      " 24  Merton                313 non-null    object        \n",
      " 25  Newham                313 non-null    object        \n",
      " 26  Redbridge             313 non-null    object        \n",
      " 27  Richmond upon Thames  313 non-null    object        \n",
      " 28  Southwark             313 non-null    object        \n",
      " 29  Sutton                313 non-null    object        \n",
      " 30  Tower Hamlets         313 non-null    object        \n",
      " 31  Waltham Forest        313 non-null    object        \n",
      " 32  Wandsworth            313 non-null    object        \n",
      " 33  Westminster           313 non-null    object        \n",
      " 34  Unnamed: 34           0 non-null      float64       \n",
      " 35  Inner London          313 non-null    object        \n",
      " 36  Outer London          313 non-null    object        \n",
      " 37  Unnamed: 37           0 non-null      float64       \n",
      " 38  NORTH EAST            313 non-null    object        \n",
      " 39  NORTH WEST            313 non-null    object        \n",
      " 40  YORKS & THE HUMBER    313 non-null    object        \n",
      " 41  EAST MIDLANDS         313 non-null    object        \n",
      " 42  WEST MIDLANDS         313 non-null    object        \n",
      " 43  EAST OF ENGLAND       313 non-null    object        \n",
      " 44  LONDON                313 non-null    object        \n",
      " 45  SOUTH EAST            313 non-null    object        \n",
      " 46  SOUTH WEST            313 non-null    object        \n",
      " 47  Unnamed: 47           0 non-null      float64       \n",
      " 48  England               313 non-null    object        \n",
      "dtypes: datetime64[ns](1), float64(3), object(45)\n",
      "memory usage: 119.9+ KB\n"
     ]
    }
   ],
   "source": [
    "properties.info()"
   ]
  },
  {
   "cell_type": "code",
<<<<<<< HEAD
   "execution_count": 101,
=======
   "execution_count": 5,
>>>>>>> 145aba8a865dd334daa87e8f9cf73dce32bfb472
   "metadata": {},
   "outputs": [
    {
     "data": {
      "text/plain": [
       "(313, 49)"
      ]
     },
<<<<<<< HEAD
     "execution_count": 101,
=======
     "execution_count": 5,
>>>>>>> 145aba8a865dd334daa87e8f9cf73dce32bfb472
     "metadata": {},
     "output_type": "execute_result"
    }
   ],
   "source": [
    "properties.shape"
   ]
  },
  {
   "cell_type": "code",
<<<<<<< HEAD
   "execution_count": 102,
=======
   "execution_count": 6,
>>>>>>> 145aba8a865dd334daa87e8f9cf73dce32bfb472
   "metadata": {},
   "outputs": [
    {
     "data": {
      "text/html": [
       "<div>\n",
       "<style scoped>\n",
       "    .dataframe tbody tr th:only-of-type {\n",
       "        vertical-align: middle;\n",
       "    }\n",
       "\n",
       "    .dataframe tbody tr th {\n",
       "        vertical-align: top;\n",
       "    }\n",
       "\n",
       "    .dataframe thead th {\n",
       "        text-align: right;\n",
       "    }\n",
       "</style>\n",
       "<table border=\"1\" class=\"dataframe\">\n",
       "  <thead>\n",
       "    <tr style=\"text-align: right;\">\n",
       "      <th></th>\n",
       "      <th>Unnamed: 0</th>\n",
       "      <th>City of London</th>\n",
       "      <th>Barking &amp; Dagenham</th>\n",
       "      <th>Barnet</th>\n",
       "      <th>Bexley</th>\n",
       "      <th>Brent</th>\n",
       "      <th>Bromley</th>\n",
       "      <th>Camden</th>\n",
       "      <th>Croydon</th>\n",
       "      <th>Ealing</th>\n",
       "      <th>...</th>\n",
       "      <th>NORTH WEST</th>\n",
       "      <th>YORKS &amp; THE HUMBER</th>\n",
       "      <th>EAST MIDLANDS</th>\n",
       "      <th>WEST MIDLANDS</th>\n",
       "      <th>EAST OF ENGLAND</th>\n",
       "      <th>LONDON</th>\n",
       "      <th>SOUTH EAST</th>\n",
       "      <th>SOUTH WEST</th>\n",
       "      <th>Unnamed: 47</th>\n",
       "      <th>England</th>\n",
       "    </tr>\n",
       "  </thead>\n",
       "  <tbody>\n",
       "    <tr>\n",
       "      <th>0</th>\n",
       "      <td>NaT</td>\n",
       "      <td>E09000001</td>\n",
       "      <td>E09000002</td>\n",
       "      <td>E09000003</td>\n",
       "      <td>E09000004</td>\n",
       "      <td>E09000005</td>\n",
       "      <td>E09000006</td>\n",
       "      <td>E09000007</td>\n",
       "      <td>E09000008</td>\n",
       "      <td>E09000009</td>\n",
       "      <td>...</td>\n",
       "      <td>E12000002</td>\n",
       "      <td>E12000003</td>\n",
       "      <td>E12000004</td>\n",
       "      <td>E12000005</td>\n",
       "      <td>E12000006</td>\n",
       "      <td>E12000007</td>\n",
       "      <td>E12000008</td>\n",
       "      <td>E12000009</td>\n",
       "      <td>NaN</td>\n",
       "      <td>E92000001</td>\n",
       "    </tr>\n",
       "    <tr>\n",
       "      <th>1</th>\n",
       "      <td>1995-01-01</td>\n",
       "      <td>91449</td>\n",
       "      <td>50460.2</td>\n",
       "      <td>93284.5</td>\n",
       "      <td>64958.1</td>\n",
       "      <td>71306.6</td>\n",
       "      <td>81671.5</td>\n",
       "      <td>120933</td>\n",
       "      <td>69158.2</td>\n",
       "      <td>79885.9</td>\n",
       "      <td>...</td>\n",
       "      <td>43958.5</td>\n",
       "      <td>44803.4</td>\n",
       "      <td>45544.5</td>\n",
       "      <td>48527.5</td>\n",
       "      <td>56701.6</td>\n",
       "      <td>74435.8</td>\n",
       "      <td>64018.9</td>\n",
       "      <td>54705.2</td>\n",
       "      <td>NaN</td>\n",
       "      <td>53202.8</td>\n",
       "    </tr>\n",
       "    <tr>\n",
       "      <th>2</th>\n",
       "      <td>1995-02-01</td>\n",
       "      <td>82202.8</td>\n",
       "      <td>51085.8</td>\n",
       "      <td>93190.2</td>\n",
       "      <td>64787.9</td>\n",
       "      <td>72022.3</td>\n",
       "      <td>81657.6</td>\n",
       "      <td>119509</td>\n",
       "      <td>68951.1</td>\n",
       "      <td>80897.1</td>\n",
       "      <td>...</td>\n",
       "      <td>43925.4</td>\n",
       "      <td>44528.8</td>\n",
       "      <td>46051.6</td>\n",
       "      <td>49341.3</td>\n",
       "      <td>56593.6</td>\n",
       "      <td>72777.9</td>\n",
       "      <td>63715</td>\n",
       "      <td>54356.1</td>\n",
       "      <td>NaN</td>\n",
       "      <td>53096.2</td>\n",
       "    </tr>\n",
       "    <tr>\n",
       "      <th>3</th>\n",
       "      <td>1995-03-01</td>\n",
       "      <td>79120.7</td>\n",
       "      <td>51269</td>\n",
       "      <td>92247.5</td>\n",
       "      <td>64367.5</td>\n",
       "      <td>72015.8</td>\n",
       "      <td>81449.3</td>\n",
       "      <td>120282</td>\n",
       "      <td>68712.4</td>\n",
       "      <td>81379.9</td>\n",
       "      <td>...</td>\n",
       "      <td>44434.9</td>\n",
       "      <td>45200.5</td>\n",
       "      <td>45383.8</td>\n",
       "      <td>49442.2</td>\n",
       "      <td>56171.2</td>\n",
       "      <td>73896.8</td>\n",
       "      <td>64113.6</td>\n",
       "      <td>53583.1</td>\n",
       "      <td>NaN</td>\n",
       "      <td>53201.3</td>\n",
       "    </tr>\n",
       "    <tr>\n",
       "      <th>4</th>\n",
       "      <td>1995-04-01</td>\n",
       "      <td>77101.2</td>\n",
       "      <td>53133.5</td>\n",
       "      <td>90762.9</td>\n",
       "      <td>64277.7</td>\n",
       "      <td>72965.6</td>\n",
       "      <td>81124.4</td>\n",
       "      <td>120098</td>\n",
       "      <td>68610</td>\n",
       "      <td>82188.9</td>\n",
       "      <td>...</td>\n",
       "      <td>44267.8</td>\n",
       "      <td>45614.3</td>\n",
       "      <td>46124.2</td>\n",
       "      <td>49455.9</td>\n",
       "      <td>56567.9</td>\n",
       "      <td>74455.3</td>\n",
       "      <td>64623.2</td>\n",
       "      <td>54786</td>\n",
       "      <td>NaN</td>\n",
       "      <td>53590.9</td>\n",
       "    </tr>\n",
       "  </tbody>\n",
       "</table>\n",
       "<p>5 rows × 49 columns</p>\n",
       "</div>"
      ],
      "text/plain": [
       "  Unnamed: 0 City of London Barking & Dagenham     Barnet     Bexley  \\\n",
       "0        NaT      E09000001          E09000002  E09000003  E09000004   \n",
       "1 1995-01-01          91449            50460.2    93284.5    64958.1   \n",
       "2 1995-02-01        82202.8            51085.8    93190.2    64787.9   \n",
       "3 1995-03-01        79120.7              51269    92247.5    64367.5   \n",
       "4 1995-04-01        77101.2            53133.5    90762.9    64277.7   \n",
       "\n",
       "       Brent    Bromley     Camden    Croydon     Ealing  ... NORTH WEST  \\\n",
       "0  E09000005  E09000006  E09000007  E09000008  E09000009  ...  E12000002   \n",
       "1    71306.6    81671.5     120933    69158.2    79885.9  ...    43958.5   \n",
       "2    72022.3    81657.6     119509    68951.1    80897.1  ...    43925.4   \n",
       "3    72015.8    81449.3     120282    68712.4    81379.9  ...    44434.9   \n",
       "4    72965.6    81124.4     120098      68610    82188.9  ...    44267.8   \n",
       "\n",
       "  YORKS & THE HUMBER EAST MIDLANDS WEST MIDLANDS EAST OF ENGLAND     LONDON  \\\n",
       "0          E12000003     E12000004     E12000005       E12000006  E12000007   \n",
       "1            44803.4       45544.5       48527.5         56701.6    74435.8   \n",
       "2            44528.8       46051.6       49341.3         56593.6    72777.9   \n",
       "3            45200.5       45383.8       49442.2         56171.2    73896.8   \n",
       "4            45614.3       46124.2       49455.9         56567.9    74455.3   \n",
       "\n",
       "  SOUTH EAST SOUTH WEST Unnamed: 47    England  \n",
       "0  E12000008  E12000009         NaN  E92000001  \n",
       "1    64018.9    54705.2         NaN    53202.8  \n",
       "2      63715    54356.1         NaN    53096.2  \n",
       "3    64113.6    53583.1         NaN    53201.3  \n",
       "4    64623.2      54786         NaN    53590.9  \n",
       "\n",
       "[5 rows x 49 columns]"
      ]
     },
<<<<<<< HEAD
     "execution_count": 102,
=======
     "execution_count": 6,
>>>>>>> 145aba8a865dd334daa87e8f9cf73dce32bfb472
     "metadata": {},
     "output_type": "execute_result"
    }
   ],
   "source": [
    "properties.head()"
   ]
  },
  {
   "cell_type": "code",
<<<<<<< HEAD
   "execution_count": 103,
=======
   "execution_count": 7,
>>>>>>> 145aba8a865dd334daa87e8f9cf73dce32bfb472
   "metadata": {},
   "outputs": [
    {
     "data": {
      "text/plain": [
       "RangeIndex(start=0, stop=313, step=1)"
      ]
     },
<<<<<<< HEAD
     "execution_count": 103,
=======
     "execution_count": 7,
>>>>>>> 145aba8a865dd334daa87e8f9cf73dce32bfb472
     "metadata": {},
     "output_type": "execute_result"
    }
   ],
   "source": [
    "properties.index"
   ]
  },
  {
   "cell_type": "markdown",
   "metadata": {
    "colab_type": "text",
    "id": "tE9Sqt9-oAta"
   },
   "source": [
    "**2.2. Cleaning the data**\n",
    "\n",
    "You might find you need to transpose your dataframe, check out what its row indexes are, and reset the index. You  also might find you need to assign the values of the first row to your column headings  . (Hint: recall the .columns feature of DataFrames, as well as the iloc[] method).\n",
    "\n",
    "Don't be afraid to use StackOverflow for help  with this."
   ]
  },
  {
   "cell_type": "code",
<<<<<<< HEAD
   "execution_count": 104,
=======
   "execution_count": 8,
>>>>>>> 145aba8a865dd334daa87e8f9cf73dce32bfb472
   "metadata": {
    "colab": {},
    "colab_type": "code",
    "id": "cdAu1A3YoH_r"
   },
   "outputs": [],
   "source": [
    "prop_tr=properties.transpose()"
   ]
  },
  {
   "cell_type": "code",
<<<<<<< HEAD
   "execution_count": 105,
=======
   "execution_count": 9,
>>>>>>> 145aba8a865dd334daa87e8f9cf73dce32bfb472
   "metadata": {},
   "outputs": [
    {
     "data": {
      "text/html": [
       "<div>\n",
       "<style scoped>\n",
       "    .dataframe tbody tr th:only-of-type {\n",
       "        vertical-align: middle;\n",
       "    }\n",
       "\n",
       "    .dataframe tbody tr th {\n",
       "        vertical-align: top;\n",
       "    }\n",
       "\n",
       "    .dataframe thead th {\n",
       "        text-align: right;\n",
       "    }\n",
       "</style>\n",
       "<table border=\"1\" class=\"dataframe\">\n",
       "  <thead>\n",
       "    <tr style=\"text-align: right;\">\n",
       "      <th></th>\n",
       "      <th>0</th>\n",
       "      <th>1</th>\n",
       "      <th>2</th>\n",
       "      <th>3</th>\n",
       "      <th>4</th>\n",
       "      <th>5</th>\n",
       "      <th>6</th>\n",
       "      <th>7</th>\n",
       "      <th>8</th>\n",
       "      <th>9</th>\n",
       "      <th>...</th>\n",
       "      <th>303</th>\n",
       "      <th>304</th>\n",
       "      <th>305</th>\n",
       "      <th>306</th>\n",
       "      <th>307</th>\n",
       "      <th>308</th>\n",
       "      <th>309</th>\n",
       "      <th>310</th>\n",
       "      <th>311</th>\n",
       "      <th>312</th>\n",
       "    </tr>\n",
       "  </thead>\n",
       "  <tbody>\n",
       "    <tr>\n",
       "      <th>Unnamed: 0</th>\n",
       "      <td>NaT</td>\n",
       "      <td>1995-01-01 00:00:00</td>\n",
       "      <td>1995-02-01 00:00:00</td>\n",
       "      <td>1995-03-01 00:00:00</td>\n",
       "      <td>1995-04-01 00:00:00</td>\n",
       "      <td>1995-05-01 00:00:00</td>\n",
       "      <td>1995-06-01 00:00:00</td>\n",
       "      <td>1995-07-01 00:00:00</td>\n",
       "      <td>1995-08-01 00:00:00</td>\n",
       "      <td>1995-09-01 00:00:00</td>\n",
       "      <td>...</td>\n",
       "      <td>2020-03-01 00:00:00</td>\n",
       "      <td>2020-04-01 00:00:00</td>\n",
       "      <td>2020-05-01 00:00:00</td>\n",
       "      <td>2020-06-01 00:00:00</td>\n",
       "      <td>2020-07-01 00:00:00</td>\n",
       "      <td>2020-08-01 00:00:00</td>\n",
       "      <td>2020-09-01 00:00:00</td>\n",
       "      <td>2020-10-01 00:00:00</td>\n",
       "      <td>2020-11-01 00:00:00</td>\n",
       "      <td>2020-12-01 00:00:00</td>\n",
       "    </tr>\n",
       "    <tr>\n",
       "      <th>City of London</th>\n",
       "      <td>E09000001</td>\n",
       "      <td>91449</td>\n",
       "      <td>82202.8</td>\n",
       "      <td>79120.7</td>\n",
       "      <td>77101.2</td>\n",
       "      <td>84409.1</td>\n",
       "      <td>94900.5</td>\n",
       "      <td>110128</td>\n",
       "      <td>112329</td>\n",
       "      <td>104473</td>\n",
       "      <td>...</td>\n",
       "      <td>836241</td>\n",
       "      <td>920444</td>\n",
       "      <td>918209</td>\n",
       "      <td>882872</td>\n",
       "      <td>786627</td>\n",
       "      <td>798227</td>\n",
       "      <td>774654</td>\n",
       "      <td>813356</td>\n",
       "      <td>788715</td>\n",
       "      <td>784006</td>\n",
       "    </tr>\n",
       "    <tr>\n",
       "      <th>Barking &amp; Dagenham</th>\n",
       "      <td>E09000002</td>\n",
       "      <td>50460.2</td>\n",
       "      <td>51085.8</td>\n",
       "      <td>51269</td>\n",
       "      <td>53133.5</td>\n",
       "      <td>53042.2</td>\n",
       "      <td>53700.3</td>\n",
       "      <td>52113.1</td>\n",
       "      <td>52232.2</td>\n",
       "      <td>51471.6</td>\n",
       "      <td>...</td>\n",
       "      <td>301413</td>\n",
       "      <td>293603</td>\n",
       "      <td>293816</td>\n",
       "      <td>300526</td>\n",
       "      <td>304556</td>\n",
       "      <td>304336</td>\n",
       "      <td>302165</td>\n",
       "      <td>305197</td>\n",
       "      <td>306987</td>\n",
       "      <td>317947</td>\n",
       "    </tr>\n",
       "    <tr>\n",
       "      <th>Barnet</th>\n",
       "      <td>E09000003</td>\n",
       "      <td>93284.5</td>\n",
       "      <td>93190.2</td>\n",
       "      <td>92247.5</td>\n",
       "      <td>90762.9</td>\n",
       "      <td>90258</td>\n",
       "      <td>90107.2</td>\n",
       "      <td>91441.2</td>\n",
       "      <td>92361.3</td>\n",
       "      <td>93273.1</td>\n",
       "      <td>...</td>\n",
       "      <td>522115</td>\n",
       "      <td>526689</td>\n",
       "      <td>526033</td>\n",
       "      <td>518175</td>\n",
       "      <td>523280</td>\n",
       "      <td>527952</td>\n",
       "      <td>536177</td>\n",
       "      <td>534081</td>\n",
       "      <td>535055</td>\n",
       "      <td>534719</td>\n",
       "    </tr>\n",
       "    <tr>\n",
       "      <th>Bexley</th>\n",
       "      <td>E09000004</td>\n",
       "      <td>64958.1</td>\n",
       "      <td>64787.9</td>\n",
       "      <td>64367.5</td>\n",
       "      <td>64277.7</td>\n",
       "      <td>63997.1</td>\n",
       "      <td>64252.3</td>\n",
       "      <td>63722.7</td>\n",
       "      <td>64432.6</td>\n",
       "      <td>64509.5</td>\n",
       "      <td>...</td>\n",
       "      <td>339182</td>\n",
       "      <td>341553</td>\n",
       "      <td>339353</td>\n",
       "      <td>340893</td>\n",
       "      <td>344091</td>\n",
       "      <td>346997</td>\n",
       "      <td>345829</td>\n",
       "      <td>346656</td>\n",
       "      <td>350585</td>\n",
       "      <td>354466</td>\n",
       "    </tr>\n",
       "  </tbody>\n",
       "</table>\n",
       "<p>5 rows × 313 columns</p>\n",
       "</div>"
      ],
      "text/plain": [
       "                          0                    1                    2    \\\n",
       "Unnamed: 0                NaT  1995-01-01 00:00:00  1995-02-01 00:00:00   \n",
       "City of London      E09000001                91449              82202.8   \n",
       "Barking & Dagenham  E09000002              50460.2              51085.8   \n",
       "Barnet              E09000003              93284.5              93190.2   \n",
       "Bexley              E09000004              64958.1              64787.9   \n",
       "\n",
       "                                    3                    4    \\\n",
       "Unnamed: 0          1995-03-01 00:00:00  1995-04-01 00:00:00   \n",
       "City of London                  79120.7              77101.2   \n",
       "Barking & Dagenham                51269              53133.5   \n",
       "Barnet                          92247.5              90762.9   \n",
       "Bexley                          64367.5              64277.7   \n",
       "\n",
       "                                    5                    6    \\\n",
       "Unnamed: 0          1995-05-01 00:00:00  1995-06-01 00:00:00   \n",
       "City of London                  84409.1              94900.5   \n",
       "Barking & Dagenham              53042.2              53700.3   \n",
       "Barnet                            90258              90107.2   \n",
       "Bexley                          63997.1              64252.3   \n",
       "\n",
       "                                    7                    8    \\\n",
       "Unnamed: 0          1995-07-01 00:00:00  1995-08-01 00:00:00   \n",
       "City of London                   110128               112329   \n",
       "Barking & Dagenham              52113.1              52232.2   \n",
       "Barnet                          91441.2              92361.3   \n",
       "Bexley                          63722.7              64432.6   \n",
       "\n",
       "                                    9    ...                  303  \\\n",
       "Unnamed: 0          1995-09-01 00:00:00  ...  2020-03-01 00:00:00   \n",
       "City of London                   104473  ...               836241   \n",
       "Barking & Dagenham              51471.6  ...               301413   \n",
       "Barnet                          93273.1  ...               522115   \n",
       "Bexley                          64509.5  ...               339182   \n",
       "\n",
       "                                    304                  305  \\\n",
       "Unnamed: 0          2020-04-01 00:00:00  2020-05-01 00:00:00   \n",
       "City of London                   920444               918209   \n",
       "Barking & Dagenham               293603               293816   \n",
       "Barnet                           526689               526033   \n",
       "Bexley                           341553               339353   \n",
       "\n",
       "                                    306                  307  \\\n",
       "Unnamed: 0          2020-06-01 00:00:00  2020-07-01 00:00:00   \n",
       "City of London                   882872               786627   \n",
       "Barking & Dagenham               300526               304556   \n",
       "Barnet                           518175               523280   \n",
       "Bexley                           340893               344091   \n",
       "\n",
       "                                    308                  309  \\\n",
       "Unnamed: 0          2020-08-01 00:00:00  2020-09-01 00:00:00   \n",
       "City of London                   798227               774654   \n",
       "Barking & Dagenham               304336               302165   \n",
       "Barnet                           527952               536177   \n",
       "Bexley                           346997               345829   \n",
       "\n",
       "                                    310                  311  \\\n",
       "Unnamed: 0          2020-10-01 00:00:00  2020-11-01 00:00:00   \n",
       "City of London                   813356               788715   \n",
       "Barking & Dagenham               305197               306987   \n",
       "Barnet                           534081               535055   \n",
       "Bexley                           346656               350585   \n",
       "\n",
       "                                    312  \n",
       "Unnamed: 0          2020-12-01 00:00:00  \n",
       "City of London                   784006  \n",
       "Barking & Dagenham               317947  \n",
       "Barnet                           534719  \n",
       "Bexley                           354466  \n",
       "\n",
       "[5 rows x 313 columns]"
      ]
     },
<<<<<<< HEAD
     "execution_count": 105,
=======
     "execution_count": 9,
>>>>>>> 145aba8a865dd334daa87e8f9cf73dce32bfb472
     "metadata": {},
     "output_type": "execute_result"
    }
   ],
   "source": [
    "prop_tr.head()"
   ]
  },
  {
   "cell_type": "code",
<<<<<<< HEAD
   "execution_count": 106,
=======
   "execution_count": 10,
>>>>>>> 145aba8a865dd334daa87e8f9cf73dce32bfb472
   "metadata": {},
   "outputs": [
    {
     "data": {
      "text/plain": [
       "RangeIndex(start=0, stop=313, step=1)"
      ]
     },
<<<<<<< HEAD
     "execution_count": 106,
=======
     "execution_count": 10,
>>>>>>> 145aba8a865dd334daa87e8f9cf73dce32bfb472
     "metadata": {},
     "output_type": "execute_result"
    }
   ],
   "source": [
    "prop_tr.columns"
   ]
  },
  {
   "cell_type": "code",
<<<<<<< HEAD
   "execution_count": 107,
=======
   "execution_count": 11,
>>>>>>> 145aba8a865dd334daa87e8f9cf73dce32bfb472
   "metadata": {},
   "outputs": [],
   "source": [
    "prop_tr = prop_tr.reset_index()"
   ]
  },
  {
   "cell_type": "code",
<<<<<<< HEAD
   "execution_count": 108,
=======
   "execution_count": 12,
>>>>>>> 145aba8a865dd334daa87e8f9cf73dce32bfb472
   "metadata": {
    "scrolled": false
   },
   "outputs": [
    {
     "data": {
      "text/html": [
       "<div>\n",
       "<style scoped>\n",
       "    .dataframe tbody tr th:only-of-type {\n",
       "        vertical-align: middle;\n",
       "    }\n",
       "\n",
       "    .dataframe tbody tr th {\n",
       "        vertical-align: top;\n",
       "    }\n",
       "\n",
       "    .dataframe thead th {\n",
       "        text-align: right;\n",
       "    }\n",
       "</style>\n",
       "<table border=\"1\" class=\"dataframe\">\n",
       "  <thead>\n",
       "    <tr style=\"text-align: right;\">\n",
       "      <th></th>\n",
       "      <th>index</th>\n",
       "      <th>0</th>\n",
       "      <th>1</th>\n",
       "      <th>2</th>\n",
       "      <th>3</th>\n",
       "      <th>4</th>\n",
       "      <th>5</th>\n",
       "      <th>6</th>\n",
       "      <th>7</th>\n",
       "      <th>8</th>\n",
       "      <th>...</th>\n",
       "      <th>303</th>\n",
       "      <th>304</th>\n",
       "      <th>305</th>\n",
       "      <th>306</th>\n",
       "      <th>307</th>\n",
       "      <th>308</th>\n",
       "      <th>309</th>\n",
       "      <th>310</th>\n",
       "      <th>311</th>\n",
       "      <th>312</th>\n",
       "    </tr>\n",
       "  </thead>\n",
       "  <tbody>\n",
       "    <tr>\n",
       "      <th>0</th>\n",
       "      <td>Unnamed: 0</td>\n",
       "      <td>NaT</td>\n",
       "      <td>1995-01-01 00:00:00</td>\n",
       "      <td>1995-02-01 00:00:00</td>\n",
       "      <td>1995-03-01 00:00:00</td>\n",
       "      <td>1995-04-01 00:00:00</td>\n",
       "      <td>1995-05-01 00:00:00</td>\n",
       "      <td>1995-06-01 00:00:00</td>\n",
       "      <td>1995-07-01 00:00:00</td>\n",
       "      <td>1995-08-01 00:00:00</td>\n",
       "      <td>...</td>\n",
       "      <td>2020-03-01 00:00:00</td>\n",
       "      <td>2020-04-01 00:00:00</td>\n",
       "      <td>2020-05-01 00:00:00</td>\n",
       "      <td>2020-06-01 00:00:00</td>\n",
       "      <td>2020-07-01 00:00:00</td>\n",
       "      <td>2020-08-01 00:00:00</td>\n",
       "      <td>2020-09-01 00:00:00</td>\n",
       "      <td>2020-10-01 00:00:00</td>\n",
       "      <td>2020-11-01 00:00:00</td>\n",
       "      <td>2020-12-01 00:00:00</td>\n",
       "    </tr>\n",
       "  </tbody>\n",
       "</table>\n",
       "<p>1 rows × 314 columns</p>\n",
       "</div>"
      ],
      "text/plain": [
       "        index    0                    1                    2  \\\n",
       "0  Unnamed: 0  NaT  1995-01-01 00:00:00  1995-02-01 00:00:00   \n",
       "\n",
       "                     3                    4                    5  \\\n",
       "0  1995-03-01 00:00:00  1995-04-01 00:00:00  1995-05-01 00:00:00   \n",
       "\n",
       "                     6                    7                    8  ...  \\\n",
       "0  1995-06-01 00:00:00  1995-07-01 00:00:00  1995-08-01 00:00:00  ...   \n",
       "\n",
       "                   303                  304                  305  \\\n",
       "0  2020-03-01 00:00:00  2020-04-01 00:00:00  2020-05-01 00:00:00   \n",
       "\n",
       "                   306                  307                  308  \\\n",
       "0  2020-06-01 00:00:00  2020-07-01 00:00:00  2020-08-01 00:00:00   \n",
       "\n",
       "                   309                  310                  311  \\\n",
       "0  2020-09-01 00:00:00  2020-10-01 00:00:00  2020-11-01 00:00:00   \n",
       "\n",
       "                   312  \n",
       "0  2020-12-01 00:00:00  \n",
       "\n",
       "[1 rows x 314 columns]"
      ]
     },
<<<<<<< HEAD
     "execution_count": 108,
=======
     "execution_count": 12,
>>>>>>> 145aba8a865dd334daa87e8f9cf73dce32bfb472
     "metadata": {},
     "output_type": "execute_result"
    }
   ],
   "source": [
    "prop_tr.iloc[[0]]\n",
    "### double brackets to data frame"
   ]
  },
  {
   "cell_type": "code",
<<<<<<< HEAD
   "execution_count": 109,
=======
   "execution_count": 13,
>>>>>>> 145aba8a865dd334daa87e8f9cf73dce32bfb472
   "metadata": {},
   "outputs": [],
   "source": [
    "prop_tr.columns = prop_tr.iloc[0]\n",
    "### data frame used to replace columns index labels"
   ]
  },
  {
   "cell_type": "code",
<<<<<<< HEAD
   "execution_count": 110,
=======
   "execution_count": 14,
>>>>>>> 145aba8a865dd334daa87e8f9cf73dce32bfb472
   "metadata": {},
   "outputs": [
    {
     "data": {
      "text/html": [
       "<div>\n",
       "<style scoped>\n",
       "    .dataframe tbody tr th:only-of-type {\n",
       "        vertical-align: middle;\n",
       "    }\n",
       "\n",
       "    .dataframe tbody tr th {\n",
       "        vertical-align: top;\n",
       "    }\n",
       "\n",
       "    .dataframe thead th {\n",
       "        text-align: right;\n",
       "    }\n",
       "</style>\n",
       "<table border=\"1\" class=\"dataframe\">\n",
       "  <thead>\n",
       "    <tr style=\"text-align: right;\">\n",
       "      <th></th>\n",
       "      <th>Unnamed: 0</th>\n",
       "      <th>NaN</th>\n",
       "      <th>1995-01-01 00:00:00</th>\n",
       "      <th>1995-02-01 00:00:00</th>\n",
       "      <th>1995-03-01 00:00:00</th>\n",
       "      <th>1995-04-01 00:00:00</th>\n",
       "      <th>1995-05-01 00:00:00</th>\n",
       "      <th>1995-06-01 00:00:00</th>\n",
       "      <th>1995-07-01 00:00:00</th>\n",
       "      <th>1995-08-01 00:00:00</th>\n",
       "      <th>...</th>\n",
       "      <th>2020-03-01 00:00:00</th>\n",
       "      <th>2020-04-01 00:00:00</th>\n",
       "      <th>2020-05-01 00:00:00</th>\n",
       "      <th>2020-06-01 00:00:00</th>\n",
       "      <th>2020-07-01 00:00:00</th>\n",
       "      <th>2020-08-01 00:00:00</th>\n",
       "      <th>2020-09-01 00:00:00</th>\n",
       "      <th>2020-10-01 00:00:00</th>\n",
       "      <th>2020-11-01 00:00:00</th>\n",
       "      <th>2020-12-01 00:00:00</th>\n",
       "    </tr>\n",
       "  </thead>\n",
       "  <tbody>\n",
       "    <tr>\n",
       "      <th>0</th>\n",
       "      <td>Unnamed: 0</td>\n",
       "      <td>NaT</td>\n",
       "      <td>1995-01-01 00:00:00</td>\n",
       "      <td>1995-02-01 00:00:00</td>\n",
       "      <td>1995-03-01 00:00:00</td>\n",
       "      <td>1995-04-01 00:00:00</td>\n",
       "      <td>1995-05-01 00:00:00</td>\n",
       "      <td>1995-06-01 00:00:00</td>\n",
       "      <td>1995-07-01 00:00:00</td>\n",
       "      <td>1995-08-01 00:00:00</td>\n",
       "      <td>...</td>\n",
       "      <td>2020-03-01 00:00:00</td>\n",
       "      <td>2020-04-01 00:00:00</td>\n",
       "      <td>2020-05-01 00:00:00</td>\n",
       "      <td>2020-06-01 00:00:00</td>\n",
       "      <td>2020-07-01 00:00:00</td>\n",
       "      <td>2020-08-01 00:00:00</td>\n",
       "      <td>2020-09-01 00:00:00</td>\n",
       "      <td>2020-10-01 00:00:00</td>\n",
       "      <td>2020-11-01 00:00:00</td>\n",
       "      <td>2020-12-01 00:00:00</td>\n",
       "    </tr>\n",
       "    <tr>\n",
       "      <th>1</th>\n",
       "      <td>City of London</td>\n",
       "      <td>E09000001</td>\n",
       "      <td>91449</td>\n",
       "      <td>82202.8</td>\n",
       "      <td>79120.7</td>\n",
       "      <td>77101.2</td>\n",
       "      <td>84409.1</td>\n",
       "      <td>94900.5</td>\n",
       "      <td>110128</td>\n",
       "      <td>112329</td>\n",
       "      <td>...</td>\n",
       "      <td>836241</td>\n",
       "      <td>920444</td>\n",
       "      <td>918209</td>\n",
       "      <td>882872</td>\n",
       "      <td>786627</td>\n",
       "      <td>798227</td>\n",
       "      <td>774654</td>\n",
       "      <td>813356</td>\n",
       "      <td>788715</td>\n",
       "      <td>784006</td>\n",
       "    </tr>\n",
       "    <tr>\n",
       "      <th>2</th>\n",
       "      <td>Barking &amp; Dagenham</td>\n",
       "      <td>E09000002</td>\n",
       "      <td>50460.2</td>\n",
       "      <td>51085.8</td>\n",
       "      <td>51269</td>\n",
       "      <td>53133.5</td>\n",
       "      <td>53042.2</td>\n",
       "      <td>53700.3</td>\n",
       "      <td>52113.1</td>\n",
       "      <td>52232.2</td>\n",
       "      <td>...</td>\n",
       "      <td>301413</td>\n",
       "      <td>293603</td>\n",
       "      <td>293816</td>\n",
       "      <td>300526</td>\n",
       "      <td>304556</td>\n",
       "      <td>304336</td>\n",
       "      <td>302165</td>\n",
       "      <td>305197</td>\n",
       "      <td>306987</td>\n",
       "      <td>317947</td>\n",
       "    </tr>\n",
       "    <tr>\n",
       "      <th>3</th>\n",
       "      <td>Barnet</td>\n",
       "      <td>E09000003</td>\n",
       "      <td>93284.5</td>\n",
       "      <td>93190.2</td>\n",
       "      <td>92247.5</td>\n",
       "      <td>90762.9</td>\n",
       "      <td>90258</td>\n",
       "      <td>90107.2</td>\n",
       "      <td>91441.2</td>\n",
       "      <td>92361.3</td>\n",
       "      <td>...</td>\n",
       "      <td>522115</td>\n",
       "      <td>526689</td>\n",
       "      <td>526033</td>\n",
       "      <td>518175</td>\n",
       "      <td>523280</td>\n",
       "      <td>527952</td>\n",
       "      <td>536177</td>\n",
       "      <td>534081</td>\n",
       "      <td>535055</td>\n",
       "      <td>534719</td>\n",
       "    </tr>\n",
       "    <tr>\n",
       "      <th>4</th>\n",
       "      <td>Bexley</td>\n",
       "      <td>E09000004</td>\n",
       "      <td>64958.1</td>\n",
       "      <td>64787.9</td>\n",
       "      <td>64367.5</td>\n",
       "      <td>64277.7</td>\n",
       "      <td>63997.1</td>\n",
       "      <td>64252.3</td>\n",
       "      <td>63722.7</td>\n",
       "      <td>64432.6</td>\n",
       "      <td>...</td>\n",
       "      <td>339182</td>\n",
       "      <td>341553</td>\n",
       "      <td>339353</td>\n",
       "      <td>340893</td>\n",
       "      <td>344091</td>\n",
       "      <td>346997</td>\n",
       "      <td>345829</td>\n",
       "      <td>346656</td>\n",
       "      <td>350585</td>\n",
       "      <td>354466</td>\n",
       "    </tr>\n",
       "  </tbody>\n",
       "</table>\n",
       "<p>5 rows × 314 columns</p>\n",
       "</div>"
      ],
      "text/plain": [
       "0          Unnamed: 0        NaN  1995-01-01 00:00:00  1995-02-01 00:00:00  \\\n",
       "0          Unnamed: 0        NaT  1995-01-01 00:00:00  1995-02-01 00:00:00   \n",
       "1      City of London  E09000001                91449              82202.8   \n",
       "2  Barking & Dagenham  E09000002              50460.2              51085.8   \n",
       "3              Barnet  E09000003              93284.5              93190.2   \n",
       "4              Bexley  E09000004              64958.1              64787.9   \n",
       "\n",
       "0  1995-03-01 00:00:00  1995-04-01 00:00:00  1995-05-01 00:00:00  \\\n",
       "0  1995-03-01 00:00:00  1995-04-01 00:00:00  1995-05-01 00:00:00   \n",
       "1              79120.7              77101.2              84409.1   \n",
       "2                51269              53133.5              53042.2   \n",
       "3              92247.5              90762.9                90258   \n",
       "4              64367.5              64277.7              63997.1   \n",
       "\n",
       "0  1995-06-01 00:00:00  1995-07-01 00:00:00  1995-08-01 00:00:00  ...  \\\n",
       "0  1995-06-01 00:00:00  1995-07-01 00:00:00  1995-08-01 00:00:00  ...   \n",
       "1              94900.5               110128               112329  ...   \n",
       "2              53700.3              52113.1              52232.2  ...   \n",
       "3              90107.2              91441.2              92361.3  ...   \n",
       "4              64252.3              63722.7              64432.6  ...   \n",
       "\n",
       "0  2020-03-01 00:00:00  2020-04-01 00:00:00  2020-05-01 00:00:00  \\\n",
       "0  2020-03-01 00:00:00  2020-04-01 00:00:00  2020-05-01 00:00:00   \n",
       "1               836241               920444               918209   \n",
       "2               301413               293603               293816   \n",
       "3               522115               526689               526033   \n",
       "4               339182               341553               339353   \n",
       "\n",
       "0  2020-06-01 00:00:00  2020-07-01 00:00:00  2020-08-01 00:00:00  \\\n",
       "0  2020-06-01 00:00:00  2020-07-01 00:00:00  2020-08-01 00:00:00   \n",
       "1               882872               786627               798227   \n",
       "2               300526               304556               304336   \n",
       "3               518175               523280               527952   \n",
       "4               340893               344091               346997   \n",
       "\n",
       "0  2020-09-01 00:00:00  2020-10-01 00:00:00  2020-11-01 00:00:00  \\\n",
       "0  2020-09-01 00:00:00  2020-10-01 00:00:00  2020-11-01 00:00:00   \n",
       "1               774654               813356               788715   \n",
       "2               302165               305197               306987   \n",
       "3               536177               534081               535055   \n",
       "4               345829               346656               350585   \n",
       "\n",
       "0  2020-12-01 00:00:00  \n",
       "0  2020-12-01 00:00:00  \n",
       "1               784006  \n",
       "2               317947  \n",
       "3               534719  \n",
       "4               354466  \n",
       "\n",
       "[5 rows x 314 columns]"
      ]
     },
<<<<<<< HEAD
     "execution_count": 110,
=======
     "execution_count": 14,
>>>>>>> 145aba8a865dd334daa87e8f9cf73dce32bfb472
     "metadata": {},
     "output_type": "execute_result"
    }
   ],
   "source": [
    "prop_tr.head()"
   ]
  },
  {
   "cell_type": "code",
<<<<<<< HEAD
   "execution_count": 111,
=======
   "execution_count": 15,
>>>>>>> 145aba8a865dd334daa87e8f9cf73dce32bfb472
   "metadata": {
    "scrolled": true
   },
   "outputs": [],
   "source": [
    "prop_tr = prop_tr.drop(0)\n",
    "### delete first data row"
   ]
  },
  {
   "cell_type": "code",
<<<<<<< HEAD
   "execution_count": 112,
=======
   "execution_count": 16,
>>>>>>> 145aba8a865dd334daa87e8f9cf73dce32bfb472
   "metadata": {},
   "outputs": [
    {
     "data": {
      "text/html": [
       "<div>\n",
       "<style scoped>\n",
       "    .dataframe tbody tr th:only-of-type {\n",
       "        vertical-align: middle;\n",
       "    }\n",
       "\n",
       "    .dataframe tbody tr th {\n",
       "        vertical-align: top;\n",
       "    }\n",
       "\n",
       "    .dataframe thead th {\n",
       "        text-align: right;\n",
       "    }\n",
       "</style>\n",
       "<table border=\"1\" class=\"dataframe\">\n",
       "  <thead>\n",
       "    <tr style=\"text-align: right;\">\n",
       "      <th></th>\n",
       "      <th>Unnamed: 0</th>\n",
       "      <th>NaN</th>\n",
       "      <th>1995-01-01 00:00:00</th>\n",
       "      <th>1995-02-01 00:00:00</th>\n",
       "      <th>1995-03-01 00:00:00</th>\n",
       "      <th>1995-04-01 00:00:00</th>\n",
       "      <th>1995-05-01 00:00:00</th>\n",
       "      <th>1995-06-01 00:00:00</th>\n",
       "      <th>1995-07-01 00:00:00</th>\n",
       "      <th>1995-08-01 00:00:00</th>\n",
       "      <th>...</th>\n",
       "      <th>2020-03-01 00:00:00</th>\n",
       "      <th>2020-04-01 00:00:00</th>\n",
       "      <th>2020-05-01 00:00:00</th>\n",
       "      <th>2020-06-01 00:00:00</th>\n",
       "      <th>2020-07-01 00:00:00</th>\n",
       "      <th>2020-08-01 00:00:00</th>\n",
       "      <th>2020-09-01 00:00:00</th>\n",
       "      <th>2020-10-01 00:00:00</th>\n",
       "      <th>2020-11-01 00:00:00</th>\n",
       "      <th>2020-12-01 00:00:00</th>\n",
       "    </tr>\n",
       "  </thead>\n",
       "  <tbody>\n",
       "    <tr>\n",
       "      <th>1</th>\n",
       "      <td>City of London</td>\n",
       "      <td>E09000001</td>\n",
       "      <td>91449</td>\n",
       "      <td>82202.8</td>\n",
       "      <td>79120.7</td>\n",
       "      <td>77101.2</td>\n",
       "      <td>84409.1</td>\n",
       "      <td>94900.5</td>\n",
       "      <td>110128</td>\n",
       "      <td>112329</td>\n",
       "      <td>...</td>\n",
       "      <td>836241</td>\n",
       "      <td>920444</td>\n",
       "      <td>918209</td>\n",
       "      <td>882872</td>\n",
       "      <td>786627</td>\n",
       "      <td>798227</td>\n",
       "      <td>774654</td>\n",
       "      <td>813356</td>\n",
       "      <td>788715</td>\n",
       "      <td>784006</td>\n",
       "    </tr>\n",
       "    <tr>\n",
       "      <th>2</th>\n",
       "      <td>Barking &amp; Dagenham</td>\n",
       "      <td>E09000002</td>\n",
       "      <td>50460.2</td>\n",
       "      <td>51085.8</td>\n",
       "      <td>51269</td>\n",
       "      <td>53133.5</td>\n",
       "      <td>53042.2</td>\n",
       "      <td>53700.3</td>\n",
       "      <td>52113.1</td>\n",
       "      <td>52232.2</td>\n",
       "      <td>...</td>\n",
       "      <td>301413</td>\n",
       "      <td>293603</td>\n",
       "      <td>293816</td>\n",
       "      <td>300526</td>\n",
       "      <td>304556</td>\n",
       "      <td>304336</td>\n",
       "      <td>302165</td>\n",
       "      <td>305197</td>\n",
       "      <td>306987</td>\n",
       "      <td>317947</td>\n",
       "    </tr>\n",
       "    <tr>\n",
       "      <th>3</th>\n",
       "      <td>Barnet</td>\n",
       "      <td>E09000003</td>\n",
       "      <td>93284.5</td>\n",
       "      <td>93190.2</td>\n",
       "      <td>92247.5</td>\n",
       "      <td>90762.9</td>\n",
       "      <td>90258</td>\n",
       "      <td>90107.2</td>\n",
       "      <td>91441.2</td>\n",
       "      <td>92361.3</td>\n",
       "      <td>...</td>\n",
       "      <td>522115</td>\n",
       "      <td>526689</td>\n",
       "      <td>526033</td>\n",
       "      <td>518175</td>\n",
       "      <td>523280</td>\n",
       "      <td>527952</td>\n",
       "      <td>536177</td>\n",
       "      <td>534081</td>\n",
       "      <td>535055</td>\n",
       "      <td>534719</td>\n",
       "    </tr>\n",
       "    <tr>\n",
       "      <th>4</th>\n",
       "      <td>Bexley</td>\n",
       "      <td>E09000004</td>\n",
       "      <td>64958.1</td>\n",
       "      <td>64787.9</td>\n",
       "      <td>64367.5</td>\n",
       "      <td>64277.7</td>\n",
       "      <td>63997.1</td>\n",
       "      <td>64252.3</td>\n",
       "      <td>63722.7</td>\n",
       "      <td>64432.6</td>\n",
       "      <td>...</td>\n",
       "      <td>339182</td>\n",
       "      <td>341553</td>\n",
       "      <td>339353</td>\n",
       "      <td>340893</td>\n",
       "      <td>344091</td>\n",
       "      <td>346997</td>\n",
       "      <td>345829</td>\n",
       "      <td>346656</td>\n",
       "      <td>350585</td>\n",
       "      <td>354466</td>\n",
       "    </tr>\n",
       "    <tr>\n",
       "      <th>5</th>\n",
       "      <td>Brent</td>\n",
       "      <td>E09000005</td>\n",
       "      <td>71306.6</td>\n",
       "      <td>72022.3</td>\n",
       "      <td>72015.8</td>\n",
       "      <td>72965.6</td>\n",
       "      <td>73704</td>\n",
       "      <td>74310.5</td>\n",
       "      <td>74127</td>\n",
       "      <td>73547</td>\n",
       "      <td>...</td>\n",
       "      <td>466250</td>\n",
       "      <td>470601</td>\n",
       "      <td>482808</td>\n",
       "      <td>484160</td>\n",
       "      <td>482303</td>\n",
       "      <td>493930</td>\n",
       "      <td>519117</td>\n",
       "      <td>523644</td>\n",
       "      <td>517569</td>\n",
       "      <td>496316</td>\n",
       "    </tr>\n",
       "  </tbody>\n",
       "</table>\n",
       "<p>5 rows × 314 columns</p>\n",
       "</div>"
      ],
      "text/plain": [
       "0          Unnamed: 0        NaN 1995-01-01 00:00:00 1995-02-01 00:00:00  \\\n",
       "1      City of London  E09000001               91449             82202.8   \n",
       "2  Barking & Dagenham  E09000002             50460.2             51085.8   \n",
       "3              Barnet  E09000003             93284.5             93190.2   \n",
       "4              Bexley  E09000004             64958.1             64787.9   \n",
       "5               Brent  E09000005             71306.6             72022.3   \n",
       "\n",
       "0 1995-03-01 00:00:00 1995-04-01 00:00:00 1995-05-01 00:00:00  \\\n",
       "1             79120.7             77101.2             84409.1   \n",
       "2               51269             53133.5             53042.2   \n",
       "3             92247.5             90762.9               90258   \n",
       "4             64367.5             64277.7             63997.1   \n",
       "5             72015.8             72965.6               73704   \n",
       "\n",
       "0 1995-06-01 00:00:00 1995-07-01 00:00:00 1995-08-01 00:00:00  ...  \\\n",
       "1             94900.5              110128              112329  ...   \n",
       "2             53700.3             52113.1             52232.2  ...   \n",
       "3             90107.2             91441.2             92361.3  ...   \n",
       "4             64252.3             63722.7             64432.6  ...   \n",
       "5             74310.5               74127               73547  ...   \n",
       "\n",
       "0 2020-03-01 00:00:00 2020-04-01 00:00:00 2020-05-01 00:00:00  \\\n",
       "1              836241              920444              918209   \n",
       "2              301413              293603              293816   \n",
       "3              522115              526689              526033   \n",
       "4              339182              341553              339353   \n",
       "5              466250              470601              482808   \n",
       "\n",
       "0 2020-06-01 00:00:00 2020-07-01 00:00:00 2020-08-01 00:00:00  \\\n",
       "1              882872              786627              798227   \n",
       "2              300526              304556              304336   \n",
       "3              518175              523280              527952   \n",
       "4              340893              344091              346997   \n",
       "5              484160              482303              493930   \n",
       "\n",
       "0 2020-09-01 00:00:00 2020-10-01 00:00:00 2020-11-01 00:00:00  \\\n",
       "1              774654              813356              788715   \n",
       "2              302165              305197              306987   \n",
       "3              536177              534081              535055   \n",
       "4              345829              346656              350585   \n",
       "5              519117              523644              517569   \n",
       "\n",
       "0 2020-12-01 00:00:00  \n",
       "1              784006  \n",
       "2              317947  \n",
       "3              534719  \n",
       "4              354466  \n",
       "5              496316  \n",
       "\n",
       "[5 rows x 314 columns]"
      ]
     },
<<<<<<< HEAD
     "execution_count": 112,
=======
     "execution_count": 16,
>>>>>>> 145aba8a865dd334daa87e8f9cf73dce32bfb472
     "metadata": {},
     "output_type": "execute_result"
    }
   ],
   "source": [
    "prop_tr.head()"
   ]
  },
  {
   "cell_type": "markdown",
   "metadata": {
    "colab_type": "text",
    "id": "o1uLbJAsoIjK"
   },
   "source": [
    "**2.3. Cleaning the data (part 2)**\n",
    "\n",
    "You might we have to **rename** a couple columns. How do you do this? The clue's pretty bold..."
   ]
  },
  {
   "cell_type": "code",
   "execution_count": 17,
   "metadata": {},
   "outputs": [],
   "source": [
    "rename1_dict = {'Unnamed: 0':'London_Borough', pd.NaT: 'ID'}\n",
    "prop_tr = prop_tr.rename(columns = rename1_dict)\n",
    "### renamed columns -- is 'pd.NaT: 'ID'' best way of doing?"
   ]
  },
  {
   "cell_type": "code",
<<<<<<< HEAD
   "execution_count": 19,
=======
   "execution_count": 18,
>>>>>>> 145aba8a865dd334daa87e8f9cf73dce32bfb472
   "metadata": {
    "scrolled": true
   },
   "outputs": [
    {
     "data": {
      "text/html": [
       "<div>\n",
       "<style scoped>\n",
       "    .dataframe tbody tr th:only-of-type {\n",
       "        vertical-align: middle;\n",
       "    }\n",
       "\n",
       "    .dataframe tbody tr th {\n",
       "        vertical-align: top;\n",
       "    }\n",
       "\n",
       "    .dataframe thead th {\n",
       "        text-align: right;\n",
       "    }\n",
       "</style>\n",
       "<table border=\"1\" class=\"dataframe\">\n",
       "  <thead>\n",
       "    <tr style=\"text-align: right;\">\n",
       "      <th></th>\n",
       "      <th>London_Borough</th>\n",
       "      <th>ID</th>\n",
       "      <th>1995-01-01 00:00:00</th>\n",
       "      <th>1995-02-01 00:00:00</th>\n",
       "      <th>1995-03-01 00:00:00</th>\n",
       "      <th>1995-04-01 00:00:00</th>\n",
       "      <th>1995-05-01 00:00:00</th>\n",
       "      <th>1995-06-01 00:00:00</th>\n",
       "      <th>1995-07-01 00:00:00</th>\n",
       "      <th>1995-08-01 00:00:00</th>\n",
       "      <th>...</th>\n",
<<<<<<< HEAD
       "      <th>2020-01-01 00:00:00</th>\n",
       "      <th>2020-02-01 00:00:00</th>\n",
=======
>>>>>>> 145aba8a865dd334daa87e8f9cf73dce32bfb472
       "      <th>2020-03-01 00:00:00</th>\n",
       "      <th>2020-04-01 00:00:00</th>\n",
       "      <th>2020-05-01 00:00:00</th>\n",
       "      <th>2020-06-01 00:00:00</th>\n",
       "      <th>2020-07-01 00:00:00</th>\n",
       "      <th>2020-08-01 00:00:00</th>\n",
       "      <th>2020-09-01 00:00:00</th>\n",
       "      <th>2020-10-01 00:00:00</th>\n",
<<<<<<< HEAD
=======
       "      <th>2020-11-01 00:00:00</th>\n",
       "      <th>2020-12-01 00:00:00</th>\n",
>>>>>>> 145aba8a865dd334daa87e8f9cf73dce32bfb472
       "    </tr>\n",
       "  </thead>\n",
       "  <tbody>\n",
       "    <tr>\n",
       "      <th>1</th>\n",
       "      <td>City of London</td>\n",
       "      <td>E09000001</td>\n",
       "      <td>91449</td>\n",
       "      <td>82202.8</td>\n",
       "      <td>79120.7</td>\n",
       "      <td>77101.2</td>\n",
       "      <td>84409.1</td>\n",
       "      <td>94900.5</td>\n",
       "      <td>110128</td>\n",
       "      <td>112329</td>\n",
       "      <td>...</td>\n",
<<<<<<< HEAD
       "      <td>773679</td>\n",
       "      <td>792769</td>\n",
       "      <td>828658</td>\n",
       "      <td>900126</td>\n",
       "      <td>904803</td>\n",
       "      <td>869929</td>\n",
       "      <td>785001</td>\n",
       "      <td>794881</td>\n",
       "      <td>768714</td>\n",
       "      <td>721490</td>\n",
=======
       "      <td>836241</td>\n",
       "      <td>920444</td>\n",
       "      <td>918209</td>\n",
       "      <td>882872</td>\n",
       "      <td>786627</td>\n",
       "      <td>798227</td>\n",
       "      <td>774654</td>\n",
       "      <td>813356</td>\n",
       "      <td>788715</td>\n",
       "      <td>784006</td>\n",
>>>>>>> 145aba8a865dd334daa87e8f9cf73dce32bfb472
       "    </tr>\n",
       "    <tr>\n",
       "      <th>2</th>\n",
       "      <td>Barking &amp; Dagenham</td>\n",
       "      <td>E09000002</td>\n",
       "      <td>50460.2</td>\n",
       "      <td>51085.8</td>\n",
       "      <td>51269</td>\n",
       "      <td>53133.5</td>\n",
       "      <td>53042.2</td>\n",
       "      <td>53700.3</td>\n",
       "      <td>52113.1</td>\n",
       "      <td>52232.2</td>\n",
       "      <td>...</td>\n",
<<<<<<< HEAD
       "      <td>303054</td>\n",
       "      <td>302748</td>\n",
       "      <td>301570</td>\n",
       "      <td>293553</td>\n",
       "      <td>292478</td>\n",
       "      <td>299074</td>\n",
       "      <td>303701</td>\n",
       "      <td>304696</td>\n",
       "      <td>301170</td>\n",
       "      <td>308583</td>\n",
=======
       "      <td>301413</td>\n",
       "      <td>293603</td>\n",
       "      <td>293816</td>\n",
       "      <td>300526</td>\n",
       "      <td>304556</td>\n",
       "      <td>304336</td>\n",
       "      <td>302165</td>\n",
       "      <td>305197</td>\n",
       "      <td>306987</td>\n",
       "      <td>317947</td>\n",
>>>>>>> 145aba8a865dd334daa87e8f9cf73dce32bfb472
       "    </tr>\n",
       "    <tr>\n",
       "      <th>3</th>\n",
       "      <td>Barnet</td>\n",
       "      <td>E09000003</td>\n",
       "      <td>93284.5</td>\n",
       "      <td>93190.2</td>\n",
       "      <td>92247.5</td>\n",
       "      <td>90762.9</td>\n",
       "      <td>90258</td>\n",
       "      <td>90107.2</td>\n",
       "      <td>91441.2</td>\n",
       "      <td>92361.3</td>\n",
       "      <td>...</td>\n",
<<<<<<< HEAD
       "      <td>521612</td>\n",
       "      <td>516411</td>\n",
       "      <td>522770</td>\n",
       "      <td>529115</td>\n",
       "      <td>527494</td>\n",
       "      <td>517266</td>\n",
       "      <td>521528</td>\n",
       "      <td>525762</td>\n",
       "      <td>535663</td>\n",
       "      <td>536263</td>\n",
=======
       "      <td>522115</td>\n",
       "      <td>526689</td>\n",
       "      <td>526033</td>\n",
       "      <td>518175</td>\n",
       "      <td>523280</td>\n",
       "      <td>527952</td>\n",
       "      <td>536177</td>\n",
       "      <td>534081</td>\n",
       "      <td>535055</td>\n",
       "      <td>534719</td>\n",
>>>>>>> 145aba8a865dd334daa87e8f9cf73dce32bfb472
       "    </tr>\n",
       "    <tr>\n",
       "      <th>4</th>\n",
       "      <td>Bexley</td>\n",
       "      <td>E09000004</td>\n",
       "      <td>64958.1</td>\n",
       "      <td>64787.9</td>\n",
       "      <td>64367.5</td>\n",
       "      <td>64277.7</td>\n",
       "      <td>63997.1</td>\n",
       "      <td>64252.3</td>\n",
       "      <td>63722.7</td>\n",
       "      <td>64432.6</td>\n",
       "      <td>...</td>\n",
<<<<<<< HEAD
       "      <td>336863</td>\n",
       "      <td>338817</td>\n",
       "      <td>339095</td>\n",
       "      <td>341997</td>\n",
       "      <td>338857</td>\n",
       "      <td>340723</td>\n",
       "      <td>343385</td>\n",
       "      <td>348046</td>\n",
       "      <td>345461</td>\n",
       "      <td>344254</td>\n",
=======
       "      <td>339182</td>\n",
       "      <td>341553</td>\n",
       "      <td>339353</td>\n",
       "      <td>340893</td>\n",
       "      <td>344091</td>\n",
       "      <td>346997</td>\n",
       "      <td>345829</td>\n",
       "      <td>346656</td>\n",
       "      <td>350585</td>\n",
       "      <td>354466</td>\n",
>>>>>>> 145aba8a865dd334daa87e8f9cf73dce32bfb472
       "    </tr>\n",
       "    <tr>\n",
       "      <th>5</th>\n",
       "      <td>Brent</td>\n",
       "      <td>E09000005</td>\n",
       "      <td>71306.6</td>\n",
       "      <td>72022.3</td>\n",
       "      <td>72015.8</td>\n",
       "      <td>72965.6</td>\n",
       "      <td>73704</td>\n",
       "      <td>74310.5</td>\n",
       "      <td>74127</td>\n",
       "      <td>73547</td>\n",
       "      <td>...</td>\n",
<<<<<<< HEAD
       "      <td>428436</td>\n",
       "      <td>469962</td>\n",
       "      <td>465941</td>\n",
       "      <td>469583</td>\n",
       "      <td>481570</td>\n",
       "      <td>485388</td>\n",
       "      <td>485619</td>\n",
       "      <td>496606</td>\n",
       "      <td>522546</td>\n",
       "      <td>518636</td>\n",
       "    </tr>\n",
       "  </tbody>\n",
       "</table>\n",
       "<p>5 rows × 312 columns</p>\n",
=======
       "      <td>466250</td>\n",
       "      <td>470601</td>\n",
       "      <td>482808</td>\n",
       "      <td>484160</td>\n",
       "      <td>482303</td>\n",
       "      <td>493930</td>\n",
       "      <td>519117</td>\n",
       "      <td>523644</td>\n",
       "      <td>517569</td>\n",
       "      <td>496316</td>\n",
       "    </tr>\n",
       "  </tbody>\n",
       "</table>\n",
       "<p>5 rows × 314 columns</p>\n",
>>>>>>> 145aba8a865dd334daa87e8f9cf73dce32bfb472
       "</div>"
      ],
      "text/plain": [
       "0      London_Borough         ID 1995-01-01 00:00:00 1995-02-01 00:00:00  \\\n",
       "1      City of London  E09000001               91449             82202.8   \n",
       "2  Barking & Dagenham  E09000002             50460.2             51085.8   \n",
       "3              Barnet  E09000003             93284.5             93190.2   \n",
       "4              Bexley  E09000004             64958.1             64787.9   \n",
       "5               Brent  E09000005             71306.6             72022.3   \n",
       "\n",
       "0 1995-03-01 00:00:00 1995-04-01 00:00:00 1995-05-01 00:00:00  \\\n",
       "1             79120.7             77101.2             84409.1   \n",
       "2               51269             53133.5             53042.2   \n",
       "3             92247.5             90762.9               90258   \n",
       "4             64367.5             64277.7             63997.1   \n",
       "5             72015.8             72965.6               73704   \n",
       "\n",
       "0 1995-06-01 00:00:00 1995-07-01 00:00:00 1995-08-01 00:00:00  ...  \\\n",
       "1             94900.5              110128              112329  ...   \n",
       "2             53700.3             52113.1             52232.2  ...   \n",
       "3             90107.2             91441.2             92361.3  ...   \n",
       "4             64252.3             63722.7             64432.6  ...   \n",
       "5             74310.5               74127               73547  ...   \n",
       "\n",
<<<<<<< HEAD
       "0 2020-01-01 00:00:00 2020-02-01 00:00:00 2020-03-01 00:00:00  \\\n",
       "1              773679              792769              828658   \n",
       "2              303054              302748              301570   \n",
       "3              521612              516411              522770   \n",
       "4              336863              338817              339095   \n",
       "5              428436              469962              465941   \n",
       "\n",
       "0 2020-04-01 00:00:00 2020-05-01 00:00:00 2020-06-01 00:00:00  \\\n",
       "1              900126              904803              869929   \n",
       "2              293553              292478              299074   \n",
       "3              529115              527494              517266   \n",
       "4              341997              338857              340723   \n",
       "5              469583              481570              485388   \n",
       "\n",
       "0 2020-07-01 00:00:00 2020-08-01 00:00:00 2020-09-01 00:00:00  \\\n",
       "1              785001              794881              768714   \n",
       "2              303701              304696              301170   \n",
       "3              521528              525762              535663   \n",
       "4              343385              348046              345461   \n",
       "5              485619              496606              522546   \n",
       "\n",
       "0 2020-10-01 00:00:00  \n",
       "1              721490  \n",
       "2              308583  \n",
       "3              536263  \n",
       "4              344254  \n",
       "5              518636  \n",
       "\n",
       "[5 rows x 312 columns]"
      ]
     },
     "execution_count": 19,
=======
       "0 2020-03-01 00:00:00 2020-04-01 00:00:00 2020-05-01 00:00:00  \\\n",
       "1              836241              920444              918209   \n",
       "2              301413              293603              293816   \n",
       "3              522115              526689              526033   \n",
       "4              339182              341553              339353   \n",
       "5              466250              470601              482808   \n",
       "\n",
       "0 2020-06-01 00:00:00 2020-07-01 00:00:00 2020-08-01 00:00:00  \\\n",
       "1              882872              786627              798227   \n",
       "2              300526              304556              304336   \n",
       "3              518175              523280              527952   \n",
       "4              340893              344091              346997   \n",
       "5              484160              482303              493930   \n",
       "\n",
       "0 2020-09-01 00:00:00 2020-10-01 00:00:00 2020-11-01 00:00:00  \\\n",
       "1              774654              813356              788715   \n",
       "2              302165              305197              306987   \n",
       "3              536177              534081              535055   \n",
       "4              345829              346656              350585   \n",
       "5              519117              523644              517569   \n",
       "\n",
       "0 2020-12-01 00:00:00  \n",
       "1              784006  \n",
       "2              317947  \n",
       "3              534719  \n",
       "4              354466  \n",
       "5              496316  \n",
       "\n",
       "[5 rows x 314 columns]"
      ]
     },
     "execution_count": 18,
>>>>>>> 145aba8a865dd334daa87e8f9cf73dce32bfb472
     "metadata": {},
     "output_type": "execute_result"
    }
   ],
   "source": [
    "prop_tr.head()"
   ]
  },
  {
   "cell_type": "code",
<<<<<<< HEAD
   "execution_count": 20,
=======
   "execution_count": 19,
>>>>>>> 145aba8a865dd334daa87e8f9cf73dce32bfb472
   "metadata": {},
   "outputs": [
    {
     "data": {
      "text/plain": [
       "Index([   'London_Borough',                'ID', 1995-01-01 00:00:00,\n",
       "       1995-02-01 00:00:00, 1995-03-01 00:00:00, 1995-04-01 00:00:00,\n",
       "       1995-05-01 00:00:00, 1995-06-01 00:00:00, 1995-07-01 00:00:00,\n",
       "       1995-08-01 00:00:00,\n",
       "       ...\n",
<<<<<<< HEAD
       "       2020-01-01 00:00:00, 2020-02-01 00:00:00, 2020-03-01 00:00:00,\n",
       "       2020-04-01 00:00:00, 2020-05-01 00:00:00, 2020-06-01 00:00:00,\n",
       "       2020-07-01 00:00:00, 2020-08-01 00:00:00, 2020-09-01 00:00:00,\n",
       "       2020-10-01 00:00:00],\n",
       "      dtype='object', name=0, length=312)"
      ]
     },
     "execution_count": 20,
=======
       "       2020-03-01 00:00:00, 2020-04-01 00:00:00, 2020-05-01 00:00:00,\n",
       "       2020-06-01 00:00:00, 2020-07-01 00:00:00, 2020-08-01 00:00:00,\n",
       "       2020-09-01 00:00:00, 2020-10-01 00:00:00, 2020-11-01 00:00:00,\n",
       "       2020-12-01 00:00:00],\n",
       "      dtype='object', name=0, length=314)"
      ]
     },
     "execution_count": 19,
>>>>>>> 145aba8a865dd334daa87e8f9cf73dce32bfb472
     "metadata": {},
     "output_type": "execute_result"
    }
   ],
   "source": [
    "prop_tr.columns"
   ]
  },
  {
   "cell_type": "markdown",
   "metadata": {
    "colab_type": "text",
    "id": "jy8BzXHmoWEw"
   },
   "source": [
    "**2.4.Transforming the data**\n",
    "\n",
    "Remember what Wes McKinney said about tidy data? \n",
    "\n",
    "You might need to **melt** your DataFrame here. "
   ]
  },
  {
   "cell_type": "markdown",
   "metadata": {
    "colab_type": "text",
    "id": "7kIsgAo7o3mf"
   },
   "source": [
    "Remember to make sure your column data types are all correct. Average prices, for example, should be floating point numbers... "
   ]
  },
  {
   "cell_type": "code",
<<<<<<< HEAD
   "execution_count": 21,
=======
   "execution_count": 20,
>>>>>>> 145aba8a865dd334daa87e8f9cf73dce32bfb472
   "metadata": {
    "colab": {},
    "colab_type": "code",
    "id": "ZcR4IHbcpOaq"
   },
   "outputs": [],
   "source": [
    "prop_clean = pd.melt(prop_tr, id_vars= ['London_Borough', 'ID'])"
   ]
  },
  {
   "cell_type": "code",
<<<<<<< HEAD
   "execution_count": 22,
=======
   "execution_count": 21,
>>>>>>> 145aba8a865dd334daa87e8f9cf73dce32bfb472
   "metadata": {},
   "outputs": [
    {
     "data": {
      "text/html": [
       "<div>\n",
       "<style scoped>\n",
       "    .dataframe tbody tr th:only-of-type {\n",
       "        vertical-align: middle;\n",
       "    }\n",
       "\n",
       "    .dataframe tbody tr th {\n",
       "        vertical-align: top;\n",
       "    }\n",
       "\n",
       "    .dataframe thead th {\n",
       "        text-align: right;\n",
       "    }\n",
       "</style>\n",
       "<table border=\"1\" class=\"dataframe\">\n",
       "  <thead>\n",
       "    <tr style=\"text-align: right;\">\n",
       "      <th></th>\n",
       "      <th>London_Borough</th>\n",
       "      <th>ID</th>\n",
       "      <th>0</th>\n",
       "      <th>value</th>\n",
       "    </tr>\n",
       "  </thead>\n",
       "  <tbody>\n",
       "    <tr>\n",
       "      <th>0</th>\n",
       "      <td>City of London</td>\n",
       "      <td>E09000001</td>\n",
       "      <td>1995-01-01</td>\n",
       "      <td>91449</td>\n",
       "    </tr>\n",
       "    <tr>\n",
       "      <th>1</th>\n",
       "      <td>Barking &amp; Dagenham</td>\n",
       "      <td>E09000002</td>\n",
       "      <td>1995-01-01</td>\n",
       "      <td>50460.2</td>\n",
       "    </tr>\n",
       "    <tr>\n",
       "      <th>2</th>\n",
       "      <td>Barnet</td>\n",
       "      <td>E09000003</td>\n",
       "      <td>1995-01-01</td>\n",
       "      <td>93284.5</td>\n",
       "    </tr>\n",
       "    <tr>\n",
       "      <th>3</th>\n",
       "      <td>Bexley</td>\n",
       "      <td>E09000004</td>\n",
       "      <td>1995-01-01</td>\n",
       "      <td>64958.1</td>\n",
       "    </tr>\n",
       "    <tr>\n",
       "      <th>4</th>\n",
       "      <td>Brent</td>\n",
       "      <td>E09000005</td>\n",
       "      <td>1995-01-01</td>\n",
       "      <td>71306.6</td>\n",
       "    </tr>\n",
       "  </tbody>\n",
       "</table>\n",
       "</div>"
      ],
      "text/plain": [
       "       London_Borough         ID          0    value\n",
       "0      City of London  E09000001 1995-01-01    91449\n",
       "1  Barking & Dagenham  E09000002 1995-01-01  50460.2\n",
       "2              Barnet  E09000003 1995-01-01  93284.5\n",
       "3              Bexley  E09000004 1995-01-01  64958.1\n",
       "4               Brent  E09000005 1995-01-01  71306.6"
      ]
     },
<<<<<<< HEAD
     "execution_count": 22,
=======
     "execution_count": 21,
>>>>>>> 145aba8a865dd334daa87e8f9cf73dce32bfb472
     "metadata": {},
     "output_type": "execute_result"
    }
   ],
   "source": [
    "prop_clean.head()"
   ]
  },
  {
   "cell_type": "code",
<<<<<<< HEAD
   "execution_count": 23,
=======
   "execution_count": 22,
>>>>>>> 145aba8a865dd334daa87e8f9cf73dce32bfb472
   "metadata": {},
   "outputs": [],
   "source": [
    "rename2={0: 'Month', 'value': 'Average_price'}\n",
    "prop_clean=prop_clean.rename(columns = rename2)"
   ]
  },
  {
   "cell_type": "code",
<<<<<<< HEAD
   "execution_count": 25,
=======
   "execution_count": 23,
>>>>>>> 145aba8a865dd334daa87e8f9cf73dce32bfb472
   "metadata": {},
   "outputs": [
    {
     "data": {
      "text/html": [
       "<div>\n",
       "<style scoped>\n",
       "    .dataframe tbody tr th:only-of-type {\n",
       "        vertical-align: middle;\n",
       "    }\n",
       "\n",
       "    .dataframe tbody tr th {\n",
       "        vertical-align: top;\n",
       "    }\n",
       "\n",
       "    .dataframe thead th {\n",
       "        text-align: right;\n",
       "    }\n",
       "</style>\n",
       "<table border=\"1\" class=\"dataframe\">\n",
       "  <thead>\n",
       "    <tr style=\"text-align: right;\">\n",
       "      <th></th>\n",
       "      <th>London_Borough</th>\n",
       "      <th>ID</th>\n",
       "      <th>Month</th>\n",
       "      <th>Average_price</th>\n",
       "    </tr>\n",
       "  </thead>\n",
       "  <tbody>\n",
       "    <tr>\n",
       "      <th>0</th>\n",
       "      <td>City of London</td>\n",
       "      <td>E09000001</td>\n",
       "      <td>1995-01-01</td>\n",
       "      <td>91449</td>\n",
       "    </tr>\n",
       "    <tr>\n",
       "      <th>1</th>\n",
       "      <td>Barking &amp; Dagenham</td>\n",
       "      <td>E09000002</td>\n",
       "      <td>1995-01-01</td>\n",
       "      <td>50460.2</td>\n",
       "    </tr>\n",
       "    <tr>\n",
       "      <th>2</th>\n",
       "      <td>Barnet</td>\n",
       "      <td>E09000003</td>\n",
       "      <td>1995-01-01</td>\n",
       "      <td>93284.5</td>\n",
       "    </tr>\n",
       "    <tr>\n",
       "      <th>3</th>\n",
       "      <td>Bexley</td>\n",
       "      <td>E09000004</td>\n",
       "      <td>1995-01-01</td>\n",
       "      <td>64958.1</td>\n",
       "    </tr>\n",
       "    <tr>\n",
       "      <th>4</th>\n",
       "      <td>Brent</td>\n",
       "      <td>E09000005</td>\n",
       "      <td>1995-01-01</td>\n",
       "      <td>71306.6</td>\n",
       "    </tr>\n",
       "  </tbody>\n",
       "</table>\n",
       "</div>"
      ],
      "text/plain": [
       "       London_Borough         ID      Month Average_price\n",
       "0      City of London  E09000001 1995-01-01         91449\n",
       "1  Barking & Dagenham  E09000002 1995-01-01       50460.2\n",
       "2              Barnet  E09000003 1995-01-01       93284.5\n",
       "3              Bexley  E09000004 1995-01-01       64958.1\n",
       "4               Brent  E09000005 1995-01-01       71306.6"
      ]
     },
<<<<<<< HEAD
     "execution_count": 25,
=======
     "execution_count": 23,
>>>>>>> 145aba8a865dd334daa87e8f9cf73dce32bfb472
     "metadata": {},
     "output_type": "execute_result"
    }
   ],
   "source": [
    "prop_clean.head()"
   ]
  },
  {
   "cell_type": "code",
<<<<<<< HEAD
   "execution_count": 26,
=======
   "execution_count": 24,
>>>>>>> 145aba8a865dd334daa87e8f9cf73dce32bfb472
   "metadata": {},
   "outputs": [
    {
     "data": {
      "text/plain": [
       "London_Borough            object\n",
       "ID                        object\n",
       "Month             datetime64[ns]\n",
       "Average_price             object\n",
       "dtype: object"
      ]
     },
<<<<<<< HEAD
     "execution_count": 26,
=======
     "execution_count": 24,
>>>>>>> 145aba8a865dd334daa87e8f9cf73dce32bfb472
     "metadata": {},
     "output_type": "execute_result"
    }
   ],
   "source": [
    "prop_clean.dtypes"
   ]
  },
  {
   "cell_type": "code",
<<<<<<< HEAD
   "execution_count": 27,
=======
   "execution_count": 25,
>>>>>>> 145aba8a865dd334daa87e8f9cf73dce32bfb472
   "metadata": {},
   "outputs": [],
   "source": [
    "prop_clean['Average_price'] = pd.to_numeric(prop_clean['Average_price'])"
   ]
  },
  {
   "cell_type": "code",
<<<<<<< HEAD
   "execution_count": 28,
=======
   "execution_count": 26,
>>>>>>> 145aba8a865dd334daa87e8f9cf73dce32bfb472
   "metadata": {},
   "outputs": [
    {
     "data": {
      "text/plain": [
       "London_Borough            object\n",
       "ID                        object\n",
       "Month             datetime64[ns]\n",
       "Average_price            float64\n",
       "dtype: object"
      ]
     },
<<<<<<< HEAD
     "execution_count": 28,
=======
     "execution_count": 26,
>>>>>>> 145aba8a865dd334daa87e8f9cf73dce32bfb472
     "metadata": {},
     "output_type": "execute_result"
    }
   ],
   "source": [
    "prop_clean.dtypes"
   ]
  },
  {
   "cell_type": "code",
<<<<<<< HEAD
   "execution_count": 29,
=======
   "execution_count": 27,
>>>>>>> 145aba8a865dd334daa87e8f9cf73dce32bfb472
   "metadata": {},
   "outputs": [
    {
     "data": {
      "text/plain": [
<<<<<<< HEAD
       "London_Borough    14880\n",
       "ID                13950\n",
       "Month             14880\n",
       "Average_price     13950\n",
       "dtype: int64"
      ]
     },
     "execution_count": 29,
=======
       "London_Borough    14976\n",
       "ID                14040\n",
       "Month             14976\n",
       "Average_price     14040\n",
       "dtype: int64"
      ]
     },
     "execution_count": 27,
>>>>>>> 145aba8a865dd334daa87e8f9cf73dce32bfb472
     "metadata": {},
     "output_type": "execute_result"
    }
   ],
   "source": [
    "prop_clean.count()"
   ]
  },
  {
   "cell_type": "markdown",
   "metadata": {
    "colab_type": "text",
    "id": "knLUXHLypOtw"
   },
   "source": [
    "**2.5. Cleaning the data (part 3)**\n",
    "\n",
    "Do we have an equal number of observations in the ID, Average Price, Month, and London Borough columns? Remember that there are only 32 London Boroughs. How many entries do you have in that column? \n",
    "\n",
    "Check out the contents of the London Borough column, and if you find null values, get rid of them however you see fit. "
   ]
  },
  {
   "cell_type": "code",
<<<<<<< HEAD
   "execution_count": 30,
=======
   "execution_count": 28,
>>>>>>> 145aba8a865dd334daa87e8f9cf73dce32bfb472
   "metadata": {},
   "outputs": [
    {
     "data": {
      "text/plain": [
       "array(['City of London', 'Barking & Dagenham', 'Barnet', 'Bexley',\n",
       "       'Brent', 'Bromley', 'Camden', 'Croydon', 'Ealing', 'Enfield',\n",
       "       'Greenwich', 'Hackney', 'Hammersmith & Fulham', 'Haringey',\n",
       "       'Harrow', 'Havering', 'Hillingdon', 'Hounslow', 'Islington',\n",
       "       'Kensington & Chelsea', 'Kingston upon Thames', 'Lambeth',\n",
       "       'Lewisham', 'Merton', 'Newham', 'Redbridge',\n",
       "       'Richmond upon Thames', 'Southwark', 'Sutton', 'Tower Hamlets',\n",
       "       'Waltham Forest', 'Wandsworth', 'Westminster', 'Unnamed: 34',\n",
       "       'Inner London', 'Outer London', 'Unnamed: 37', 'NORTH EAST',\n",
       "       'NORTH WEST', 'YORKS & THE HUMBER', 'EAST MIDLANDS',\n",
       "       'WEST MIDLANDS', 'EAST OF ENGLAND', 'LONDON', 'SOUTH EAST',\n",
       "       'SOUTH WEST', 'Unnamed: 47', 'England'], dtype=object)"
      ]
     },
<<<<<<< HEAD
     "execution_count": 30,
=======
     "execution_count": 28,
>>>>>>> 145aba8a865dd334daa87e8f9cf73dce32bfb472
     "metadata": {},
     "output_type": "execute_result"
    }
   ],
   "source": [
    "prop_clean['London_Borough'].unique()"
   ]
  },
  {
   "cell_type": "code",
<<<<<<< HEAD
   "execution_count": 31,
=======
   "execution_count": 29,
>>>>>>> 145aba8a865dd334daa87e8f9cf73dce32bfb472
   "metadata": {},
   "outputs": [
    {
     "data": {
      "text/html": [
       "<div>\n",
       "<style scoped>\n",
       "    .dataframe tbody tr th:only-of-type {\n",
       "        vertical-align: middle;\n",
       "    }\n",
       "\n",
       "    .dataframe tbody tr th {\n",
       "        vertical-align: top;\n",
       "    }\n",
       "\n",
       "    .dataframe thead th {\n",
       "        text-align: right;\n",
       "    }\n",
       "</style>\n",
       "<table border=\"1\" class=\"dataframe\">\n",
       "  <thead>\n",
       "    <tr style=\"text-align: right;\">\n",
       "      <th></th>\n",
       "      <th>London_Borough</th>\n",
       "      <th>ID</th>\n",
       "      <th>Month</th>\n",
       "      <th>Average_price</th>\n",
       "    </tr>\n",
       "  </thead>\n",
       "  <tbody>\n",
       "    <tr>\n",
       "      <th>46</th>\n",
       "      <td>Unnamed: 47</td>\n",
       "      <td>NaN</td>\n",
       "      <td>1995-01-01</td>\n",
       "      <td>NaN</td>\n",
       "    </tr>\n",
       "    <tr>\n",
       "      <th>94</th>\n",
       "      <td>Unnamed: 47</td>\n",
       "      <td>NaN</td>\n",
       "      <td>1995-02-01</td>\n",
       "      <td>NaN</td>\n",
       "    </tr>\n",
       "    <tr>\n",
       "      <th>142</th>\n",
       "      <td>Unnamed: 47</td>\n",
       "      <td>NaN</td>\n",
       "      <td>1995-03-01</td>\n",
       "      <td>NaN</td>\n",
       "    </tr>\n",
       "    <tr>\n",
       "      <th>190</th>\n",
       "      <td>Unnamed: 47</td>\n",
       "      <td>NaN</td>\n",
       "      <td>1995-04-01</td>\n",
       "      <td>NaN</td>\n",
       "    </tr>\n",
       "    <tr>\n",
       "      <th>238</th>\n",
       "      <td>Unnamed: 47</td>\n",
       "      <td>NaN</td>\n",
       "      <td>1995-05-01</td>\n",
       "      <td>NaN</td>\n",
       "    </tr>\n",
       "  </tbody>\n",
       "</table>\n",
       "</div>"
      ],
      "text/plain": [
       "    London_Borough   ID      Month  Average_price\n",
       "46     Unnamed: 47  NaN 1995-01-01            NaN\n",
       "94     Unnamed: 47  NaN 1995-02-01            NaN\n",
       "142    Unnamed: 47  NaN 1995-03-01            NaN\n",
       "190    Unnamed: 47  NaN 1995-04-01            NaN\n",
       "238    Unnamed: 47  NaN 1995-05-01            NaN"
      ]
     },
<<<<<<< HEAD
     "execution_count": 31,
=======
     "execution_count": 29,
>>>>>>> 145aba8a865dd334daa87e8f9cf73dce32bfb472
     "metadata": {},
     "output_type": "execute_result"
    }
   ],
   "source": [
    "prop_clean[prop_clean['London_Borough'] == 'Unnamed: 47'].head()"
   ]
  },
  {
   "cell_type": "code",
<<<<<<< HEAD
   "execution_count": 32,
=======
   "execution_count": 30,
>>>>>>> 145aba8a865dd334daa87e8f9cf73dce32bfb472
   "metadata": {},
   "outputs": [],
   "source": [
    "delete_row1 = ['Unnamed: 34','Unnamed: 37','Unnamed: 47']\n",
    "prop_clean.drop(prop_clean[prop_clean['London_Borough'].isin(delete_row1)].index, inplace=True)\n",
    "### better method below"
   ]
  },
  {
   "cell_type": "code",
<<<<<<< HEAD
   "execution_count": 34,
=======
   "execution_count": 31,
>>>>>>> 145aba8a865dd334daa87e8f9cf73dce32bfb472
   "metadata": {},
   "outputs": [
    {
     "data": {
      "text/plain": [
       "array(['City of London', 'Barking & Dagenham', 'Barnet', 'Bexley',\n",
       "       'Brent', 'Bromley', 'Camden', 'Croydon', 'Ealing', 'Enfield',\n",
       "       'Greenwich', 'Hackney', 'Hammersmith & Fulham', 'Haringey',\n",
       "       'Harrow', 'Havering', 'Hillingdon', 'Hounslow', 'Islington',\n",
       "       'Kensington & Chelsea', 'Kingston upon Thames', 'Lambeth',\n",
       "       'Lewisham', 'Merton', 'Newham', 'Redbridge',\n",
       "       'Richmond upon Thames', 'Southwark', 'Sutton', 'Tower Hamlets',\n",
       "       'Waltham Forest', 'Wandsworth', 'Westminster', 'Inner London',\n",
       "       'Outer London', 'NORTH EAST', 'NORTH WEST', 'YORKS & THE HUMBER',\n",
       "       'EAST MIDLANDS', 'WEST MIDLANDS', 'EAST OF ENGLAND', 'LONDON',\n",
       "       'SOUTH EAST', 'SOUTH WEST', 'England'], dtype=object)"
      ]
     },
<<<<<<< HEAD
     "execution_count": 34,
=======
     "execution_count": 31,
>>>>>>> 145aba8a865dd334daa87e8f9cf73dce32bfb472
     "metadata": {},
     "output_type": "execute_result"
    }
   ],
   "source": [
    "prop_clean['London_Borough'].unique()"
   ]
  },
  {
   "cell_type": "code",
<<<<<<< HEAD
   "execution_count": 35,
=======
   "execution_count": 32,
>>>>>>> 145aba8a865dd334daa87e8f9cf73dce32bfb472
   "metadata": {},
   "outputs": [
    {
     "data": {
      "text/html": [
       "<div>\n",
       "<style scoped>\n",
       "    .dataframe tbody tr th:only-of-type {\n",
       "        vertical-align: middle;\n",
       "    }\n",
       "\n",
       "    .dataframe tbody tr th {\n",
       "        vertical-align: top;\n",
       "    }\n",
       "\n",
       "    .dataframe thead th {\n",
       "        text-align: right;\n",
       "    }\n",
       "</style>\n",
       "<table border=\"1\" class=\"dataframe\">\n",
       "  <thead>\n",
       "    <tr style=\"text-align: right;\">\n",
       "      <th></th>\n",
       "      <th>London_Borough</th>\n",
       "      <th>ID</th>\n",
       "      <th>Month</th>\n",
       "      <th>Average_price</th>\n",
       "    </tr>\n",
       "  </thead>\n",
       "  <tbody>\n",
       "  </tbody>\n",
       "</table>\n",
       "</div>"
      ],
      "text/plain": [
       "Empty DataFrame\n",
       "Columns: [London_Borough, ID, Month, Average_price]\n",
       "Index: []"
      ]
     },
<<<<<<< HEAD
     "execution_count": 35,
=======
     "execution_count": 32,
>>>>>>> 145aba8a865dd334daa87e8f9cf73dce32bfb472
     "metadata": {},
     "output_type": "execute_result"
    }
   ],
   "source": [
    "prop_clean[prop_clean['ID'].isna()]"
   ]
  },
  {
   "cell_type": "code",
<<<<<<< HEAD
   "execution_count": 36,
=======
   "execution_count": 33,
>>>>>>> 145aba8a865dd334daa87e8f9cf73dce32bfb472
   "metadata": {},
   "outputs": [
    {
     "data": {
      "text/html": [
       "<div>\n",
       "<style scoped>\n",
       "    .dataframe tbody tr th:only-of-type {\n",
       "        vertical-align: middle;\n",
       "    }\n",
       "\n",
       "    .dataframe tbody tr th {\n",
       "        vertical-align: top;\n",
       "    }\n",
       "\n",
       "    .dataframe thead th {\n",
       "        text-align: right;\n",
       "    }\n",
       "</style>\n",
       "<table border=\"1\" class=\"dataframe\">\n",
       "  <thead>\n",
       "    <tr style=\"text-align: right;\">\n",
       "      <th></th>\n",
       "      <th>London_Borough</th>\n",
       "      <th>ID</th>\n",
       "      <th>Month</th>\n",
       "      <th>Average_price</th>\n",
       "    </tr>\n",
       "  </thead>\n",
       "  <tbody>\n",
       "  </tbody>\n",
       "</table>\n",
       "</div>"
      ],
      "text/plain": [
       "Empty DataFrame\n",
       "Columns: [London_Borough, ID, Month, Average_price]\n",
       "Index: []"
      ]
     },
<<<<<<< HEAD
     "execution_count": 36,
=======
     "execution_count": 33,
>>>>>>> 145aba8a865dd334daa87e8f9cf73dce32bfb472
     "metadata": {},
     "output_type": "execute_result"
    }
   ],
   "source": [
    "prop_clean[prop_clean['Average_price'].isna()]"
   ]
  },
  {
   "cell_type": "code",
<<<<<<< HEAD
   "execution_count": 37,
=======
   "execution_count": 34,
>>>>>>> 145aba8a865dd334daa87e8f9cf73dce32bfb472
   "metadata": {},
   "outputs": [
    {
     "data": {
      "text/plain": [
<<<<<<< HEAD
       "London_Borough    13950\n",
       "ID                13950\n",
       "Month             13950\n",
       "Average_price     13950\n",
       "dtype: int64"
      ]
     },
     "execution_count": 37,
=======
       "London_Borough    14040\n",
       "ID                14040\n",
       "Month             14040\n",
       "Average_price     14040\n",
       "dtype: int64"
      ]
     },
     "execution_count": 34,
>>>>>>> 145aba8a865dd334daa87e8f9cf73dce32bfb472
     "metadata": {},
     "output_type": "execute_result"
    }
   ],
   "source": [
    "prop_clean.count()"
   ]
  },
  {
   "cell_type": "code",
<<<<<<< HEAD
   "execution_count": 38,
=======
   "execution_count": 35,
>>>>>>> 145aba8a865dd334daa87e8f9cf73dce32bfb472
   "metadata": {},
   "outputs": [],
   "source": [
    "### deleting 'Unnamed: 47' got rid of nas, but here is code getting rid of nas anyway"
   ]
  },
  {
   "cell_type": "code",
<<<<<<< HEAD
   "execution_count": 39,
=======
   "execution_count": 36,
>>>>>>> 145aba8a865dd334daa87e8f9cf73dce32bfb472
   "metadata": {},
   "outputs": [],
   "source": [
    "### first method "
   ]
  },
  {
   "cell_type": "code",
<<<<<<< HEAD
   "execution_count": 40,
=======
   "execution_count": 37,
>>>>>>> 145aba8a865dd334daa87e8f9cf73dce32bfb472
   "metadata": {},
   "outputs": [],
   "source": [
    "prop_clean_no_na1=prop_clean[prop_clean['Average_price'].notna()]"
   ]
  },
  {
   "cell_type": "code",
<<<<<<< HEAD
   "execution_count": 41,
=======
   "execution_count": 38,
>>>>>>> 145aba8a865dd334daa87e8f9cf73dce32bfb472
   "metadata": {},
   "outputs": [
    {
     "data": {
      "text/plain": [
<<<<<<< HEAD
       "London_Borough    13950\n",
       "ID                13950\n",
       "Month             13950\n",
       "Average_price     13950\n",
       "dtype: int64"
      ]
     },
     "execution_count": 41,
=======
       "London_Borough    14040\n",
       "ID                14040\n",
       "Month             14040\n",
       "Average_price     14040\n",
       "dtype: int64"
      ]
     },
     "execution_count": 38,
>>>>>>> 145aba8a865dd334daa87e8f9cf73dce32bfb472
     "metadata": {},
     "output_type": "execute_result"
    }
   ],
   "source": [
    "prop_clean_no_na1.count()"
   ]
  },
  {
   "cell_type": "code",
<<<<<<< HEAD
   "execution_count": 42,
=======
   "execution_count": 39,
>>>>>>> 145aba8a865dd334daa87e8f9cf73dce32bfb472
   "metadata": {},
   "outputs": [],
   "source": [
    "### second method "
   ]
  },
  {
   "cell_type": "code",
<<<<<<< HEAD
   "execution_count": 43,
=======
   "execution_count": 40,
>>>>>>> 145aba8a865dd334daa87e8f9cf73dce32bfb472
   "metadata": {},
   "outputs": [],
   "source": [
    "prop_clean_no_na2=prop_clean.dropna()"
   ]
  },
  {
   "cell_type": "code",
<<<<<<< HEAD
   "execution_count": 44,
=======
   "execution_count": 41,
>>>>>>> 145aba8a865dd334daa87e8f9cf73dce32bfb472
   "metadata": {},
   "outputs": [
    {
     "data": {
      "text/plain": [
<<<<<<< HEAD
       "London_Borough    13950\n",
       "ID                13950\n",
       "Month             13950\n",
       "Average_price     13950\n",
       "dtype: int64"
      ]
     },
     "execution_count": 44,
=======
       "London_Borough    14040\n",
       "ID                14040\n",
       "Month             14040\n",
       "Average_price     14040\n",
       "dtype: int64"
      ]
     },
     "execution_count": 41,
>>>>>>> 145aba8a865dd334daa87e8f9cf73dce32bfb472
     "metadata": {},
     "output_type": "execute_result"
    }
   ],
   "source": [
    "prop_clean_no_na2.count()"
   ]
  },
  {
   "cell_type": "code",
<<<<<<< HEAD
   "execution_count": 45,
=======
   "execution_count": 42,
>>>>>>> 145aba8a865dd334daa87e8f9cf73dce32bfb472
   "metadata": {},
   "outputs": [
    {
     "data": {
      "text/plain": [
       "array(['City of London', 'Barking & Dagenham', 'Barnet', 'Bexley',\n",
       "       'Brent', 'Bromley', 'Camden', 'Croydon', 'Ealing', 'Enfield',\n",
       "       'Greenwich', 'Hackney', 'Hammersmith & Fulham', 'Haringey',\n",
       "       'Harrow', 'Havering', 'Hillingdon', 'Hounslow', 'Islington',\n",
       "       'Kensington & Chelsea', 'Kingston upon Thames', 'Lambeth',\n",
       "       'Lewisham', 'Merton', 'Newham', 'Redbridge',\n",
       "       'Richmond upon Thames', 'Southwark', 'Sutton', 'Tower Hamlets',\n",
       "       'Waltham Forest', 'Wandsworth', 'Westminster', 'Inner London',\n",
       "       'Outer London', 'NORTH EAST', 'NORTH WEST', 'YORKS & THE HUMBER',\n",
       "       'EAST MIDLANDS', 'WEST MIDLANDS', 'EAST OF ENGLAND', 'LONDON',\n",
       "       'SOUTH EAST', 'SOUTH WEST', 'England'], dtype=object)"
      ]
     },
<<<<<<< HEAD
     "execution_count": 45,
=======
     "execution_count": 42,
>>>>>>> 145aba8a865dd334daa87e8f9cf73dce32bfb472
     "metadata": {},
     "output_type": "execute_result"
    }
   ],
   "source": [
    "prop_clean_no_na2['London_Borough'].unique()"
   ]
  },
  {
   "cell_type": "code",
<<<<<<< HEAD
   "execution_count": 46,
=======
   "execution_count": 43,
>>>>>>> 145aba8a865dd334daa87e8f9cf73dce32bfb472
   "metadata": {},
   "outputs": [
    {
     "data": {
      "text/plain": [
<<<<<<< HEAD
       "(311, 49)"
      ]
     },
     "execution_count": 46,
=======
       "(313, 49)"
      ]
     },
     "execution_count": 43,
>>>>>>> 145aba8a865dd334daa87e8f9cf73dce32bfb472
     "metadata": {},
     "output_type": "execute_result"
    }
   ],
   "source": [
    "properties.shape"
   ]
  },
  {
   "cell_type": "code",
<<<<<<< HEAD
   "execution_count": 47,
=======
   "execution_count": 44,
>>>>>>> 145aba8a865dd334daa87e8f9cf73dce32bfb472
   "metadata": {},
   "outputs": [
    {
     "data": {
      "text/plain": [
<<<<<<< HEAD
       "(48, 312)"
      ]
     },
     "execution_count": 47,
=======
       "(48, 314)"
      ]
     },
     "execution_count": 44,
>>>>>>> 145aba8a865dd334daa87e8f9cf73dce32bfb472
     "metadata": {},
     "output_type": "execute_result"
    }
   ],
   "source": [
    "prop_tr.shape"
   ]
  },
  {
   "cell_type": "code",
<<<<<<< HEAD
   "execution_count": 48,
=======
   "execution_count": 45,
>>>>>>> 145aba8a865dd334daa87e8f9cf73dce32bfb472
   "metadata": {},
   "outputs": [
    {
     "data": {
      "text/plain": [
<<<<<<< HEAD
       "(13950, 4)"
      ]
     },
     "execution_count": 48,
=======
       "(14040, 4)"
      ]
     },
     "execution_count": 45,
>>>>>>> 145aba8a865dd334daa87e8f9cf73dce32bfb472
     "metadata": {},
     "output_type": "execute_result"
    }
   ],
   "source": [
    "prop_clean.shape"
   ]
  },
  {
   "cell_type": "code",
<<<<<<< HEAD
   "execution_count": 49,
=======
   "execution_count": 46,
>>>>>>> 145aba8a865dd334daa87e8f9cf73dce32bfb472
   "metadata": {},
   "outputs": [
    {
     "data": {
      "text/plain": [
<<<<<<< HEAD
       "(13950, 4)"
      ]
     },
     "execution_count": 49,
=======
       "(14040, 4)"
      ]
     },
     "execution_count": 46,
>>>>>>> 145aba8a865dd334daa87e8f9cf73dce32bfb472
     "metadata": {},
     "output_type": "execute_result"
    }
   ],
   "source": [
    "prop_clean_no_na1.shape"
   ]
  },
  {
   "cell_type": "code",
<<<<<<< HEAD
   "execution_count": 50,
=======
   "execution_count": 47,
>>>>>>> 145aba8a865dd334daa87e8f9cf73dce32bfb472
   "metadata": {},
   "outputs": [
    {
     "data": {
      "text/plain": [
<<<<<<< HEAD
       "(13950, 4)"
      ]
     },
     "execution_count": 50,
=======
       "(14040, 4)"
      ]
     },
     "execution_count": 47,
>>>>>>> 145aba8a865dd334daa87e8f9cf73dce32bfb472
     "metadata": {},
     "output_type": "execute_result"
    }
   ],
   "source": [
    "prop_clean_no_na2.shape"
   ]
  },
  {
   "cell_type": "code",
<<<<<<< HEAD
   "execution_count": 51,
=======
   "execution_count": 48,
>>>>>>> 145aba8a865dd334daa87e8f9cf73dce32bfb472
   "metadata": {},
   "outputs": [],
   "source": [
    "nonBoroughs = ['Inner London', 'Outer London', \n",
    "               'NORTH EAST', 'NORTH WEST', 'YORKS & THE HUMBER', \n",
    "               'EAST MIDLANDS', 'WEST MIDLANDS',\n",
    "              'EAST OF ENGLAND', 'LONDON', 'SOUTH EAST', \n",
    "              'SOUTH WEST', 'England']"
   ]
  },
  {
   "cell_type": "code",
<<<<<<< HEAD
   "execution_count": 52,
=======
   "execution_count": 49,
>>>>>>> 145aba8a865dd334daa87e8f9cf73dce32bfb472
   "metadata": {},
   "outputs": [],
   "source": [
    "prop_clean_no_na2=prop_clean_no_na2[~prop_clean_no_na2.London_Borough.isin(nonBoroughs)]"
   ]
  },
  {
   "cell_type": "code",
<<<<<<< HEAD
   "execution_count": 53,
=======
   "execution_count": 50,
>>>>>>> 145aba8a865dd334daa87e8f9cf73dce32bfb472
   "metadata": {},
   "outputs": [],
   "source": [
    "df=prop_clean_no_na2"
   ]
  },
  {
   "cell_type": "code",
<<<<<<< HEAD
   "execution_count": 54,
=======
   "execution_count": 51,
>>>>>>> 145aba8a865dd334daa87e8f9cf73dce32bfb472
   "metadata": {},
   "outputs": [
    {
     "data": {
      "text/html": [
       "<div>\n",
       "<style scoped>\n",
       "    .dataframe tbody tr th:only-of-type {\n",
       "        vertical-align: middle;\n",
       "    }\n",
       "\n",
       "    .dataframe tbody tr th {\n",
       "        vertical-align: top;\n",
       "    }\n",
       "\n",
       "    .dataframe thead th {\n",
       "        text-align: right;\n",
       "    }\n",
       "</style>\n",
       "<table border=\"1\" class=\"dataframe\">\n",
       "  <thead>\n",
       "    <tr style=\"text-align: right;\">\n",
       "      <th></th>\n",
       "      <th>London_Borough</th>\n",
       "      <th>ID</th>\n",
       "      <th>Month</th>\n",
       "      <th>Average_price</th>\n",
       "    </tr>\n",
       "  </thead>\n",
       "  <tbody>\n",
       "    <tr>\n",
       "      <th>0</th>\n",
       "      <td>City of London</td>\n",
       "      <td>E09000001</td>\n",
       "      <td>1995-01-01</td>\n",
       "      <td>91448.98487</td>\n",
       "    </tr>\n",
       "    <tr>\n",
       "      <th>1</th>\n",
       "      <td>Barking &amp; Dagenham</td>\n",
       "      <td>E09000002</td>\n",
       "      <td>1995-01-01</td>\n",
       "      <td>50460.22660</td>\n",
       "    </tr>\n",
       "    <tr>\n",
       "      <th>2</th>\n",
       "      <td>Barnet</td>\n",
       "      <td>E09000003</td>\n",
       "      <td>1995-01-01</td>\n",
       "      <td>93284.51832</td>\n",
       "    </tr>\n",
       "    <tr>\n",
       "      <th>3</th>\n",
       "      <td>Bexley</td>\n",
       "      <td>E09000004</td>\n",
       "      <td>1995-01-01</td>\n",
       "      <td>64958.09036</td>\n",
       "    </tr>\n",
       "    <tr>\n",
       "      <th>4</th>\n",
       "      <td>Brent</td>\n",
       "      <td>E09000005</td>\n",
       "      <td>1995-01-01</td>\n",
       "      <td>71306.56698</td>\n",
       "    </tr>\n",
       "  </tbody>\n",
       "</table>\n",
       "</div>"
      ],
      "text/plain": [
       "       London_Borough         ID      Month  Average_price\n",
       "0      City of London  E09000001 1995-01-01    91448.98487\n",
       "1  Barking & Dagenham  E09000002 1995-01-01    50460.22660\n",
       "2              Barnet  E09000003 1995-01-01    93284.51832\n",
       "3              Bexley  E09000004 1995-01-01    64958.09036\n",
       "4               Brent  E09000005 1995-01-01    71306.56698"
      ]
     },
<<<<<<< HEAD
     "execution_count": 54,
=======
     "execution_count": 51,
>>>>>>> 145aba8a865dd334daa87e8f9cf73dce32bfb472
     "metadata": {},
     "output_type": "execute_result"
    }
   ],
   "source": [
    "df.head()"
   ]
  },
  {
   "cell_type": "code",
<<<<<<< HEAD
   "execution_count": 55,
=======
   "execution_count": 52,
>>>>>>> 145aba8a865dd334daa87e8f9cf73dce32bfb472
   "metadata": {},
   "outputs": [
    {
     "data": {
      "text/plain": [
       "London_Borough            object\n",
       "ID                        object\n",
       "Month             datetime64[ns]\n",
       "Average_price            float64\n",
       "dtype: object"
      ]
     },
<<<<<<< HEAD
     "execution_count": 55,
=======
     "execution_count": 52,
>>>>>>> 145aba8a865dd334daa87e8f9cf73dce32bfb472
     "metadata": {},
     "output_type": "execute_result"
    }
   ],
   "source": [
    "df.dtypes"
   ]
  },
  {
   "cell_type": "markdown",
   "metadata": {
    "colab_type": "text",
    "id": "PGEx6mJsp6dG"
   },
   "source": [
    "**2.6. Visualizing the data**\n",
    "\n",
    "To visualize the data, why not subset on a particular London Borough? Maybe do a line plot of Month against Average Price?"
   ]
  },
  {
   "cell_type": "code",
<<<<<<< HEAD
   "execution_count": 56,
=======
   "execution_count": 53,
>>>>>>> 145aba8a865dd334daa87e8f9cf73dce32bfb472
   "metadata": {
    "colab": {},
    "colab_type": "code",
    "id": "nAg5pT9cqHAR"
   },
   "outputs": [],
   "source": [
    "camden_prices = df[df['London_Borough'] == 'Camden']"
   ]
  },
  {
   "cell_type": "code",
<<<<<<< HEAD
   "execution_count": 57,
=======
   "execution_count": 54,
>>>>>>> 145aba8a865dd334daa87e8f9cf73dce32bfb472
   "metadata": {},
   "outputs": [
    {
     "data": {
<<<<<<< HEAD
      "image/png": "iVBORw0KGgoAAAANSUhEUgAAAYoAAAEGCAYAAAB7DNKzAAAAOXRFWHRTb2Z0d2FyZQBNYXRwbG90bGliIHZlcnNpb24zLjMuMiwgaHR0cHM6Ly9tYXRwbG90bGliLm9yZy8vihELAAAACXBIWXMAAAsTAAALEwEAmpwYAABG/UlEQVR4nO3dd3zV1f348dc7e0+SkAUBErYMCcOFAxnuUaw4Km2xVGur1rbfar9ttY7+1Fat1mq/brSWUerAzVCcrLBnSCAhCQlJyB5k3ZzfH59Pwk1IQgIJWe/n45HHvfd8Pufccy+X+77nnM85R4wxKKWUUq1x6e4KKKWU6tk0UCillGqTBgqllFJt0kChlFKqTRoolFJKtcmtuyvQ2QYMGGDi4uK6uxpKKdWrbN68+agxJqylY30uUMTFxZGUlNTd1VBKqV5FRA61dky7npRSSrVJA4VSSqk2aaBQSinVpnaNUYjIPcBPAAFeNsb8TURCgKVAHJAOfN8YU2Sf/wCwAHAAdxtjPrPTJwFvAN7Ax8A9xhgjIp7Am8AkoAC40RiTbueZD/zersqjxphFHX2RtbW1ZGVlUVVV1dGs6gzy8vIiJiYGd3f37q6KUsrJSQOFiIzFChJTgBrgUxH5yE5bY4x5XETuB+4Hfisio4F5wBggClgtIsONMQ7gRWAhsB4rUMwBPsEKKkXGmHgRmQc8AdxoB6MHgUTAAJtFZEVDQGqvrKws/P39iYuLQ0Q6klWdIcYYCgoKyMrKYsiQId1dHaWUk/Z0PY0C1htjKo0xdcCXwHXANUDDr/tFwLX2/WuAJcaYamNMGpAKTBGRSCDAGLPOWCsRvtksT0NZy4EZYn2jzwZWGWMK7eCwCiu4dEhVVRWhoaEaJHowESE0NFRbfUr1QO0JFLuA6SISKiI+wOVALBBhjMkBsG/D7fOjgUyn/Fl2WrR9v3l6kzx2MCoBQtsoqwkRWSgiSSKSlJ+f3+KL0CDR8+m/kVI900kDhTFmL1ZX0CrgU2A7UNdGlpb+t5s20k81j3MdXzLGJBpjEsPCWpwvopRSfdaWjCK2ZnSoR75D2nXVkzHmVWPM2caY6UAhkALk2t1J2Ld59ulZWC2OBjFAtp0e00J6kzwi4gYE2s/TWllKKaVsv12+gz++v7vLym9XoBCRcPt2EHA9sBhYAcy3T5kPvG/fXwHMExFPERkCJAAb7e6pMhGZZo8/3NYsT0NZc4HP7XGMz4BZIhIsIsHALDut13r33XcREfbt29fdVelUf/zjH1m9enV3V0OpfqeoooaUvHJS88qpr++ajejau4THf0UkFKgF7jLGFInI48AyEVkAZAA3ABhjdovIMmAPVhfVXfYVTwB3cvzy2E/sP4BXgbdEJBWrJTHPLqtQRB4BNtnnPWyMKTzlV9sDLF68mPPPP58lS5bw0EMPnVZZDocDV1fXzqnYadbj4Ycf7u5qKNUvbT5kdTkdq3VwuPgYsSE+nf4c7QoUxpgLWkgrAGa0cv5jwGMtpCcBY1tIr8IONC0cew14rT31bI8/fbCbPdmlnVUcAKOjAnjwqjEnPa+8vJxvv/2WL774gquvvpqpU6fy+uuvs2zZMgDWrl3LU089xQcffMDKlSt58MEHqa6uZtiwYbz++uv4+fkRFxfHj3/8Y1auXMnPf/5zysrKeOmll6ipqSE+Pp633noLHx8fDhw4wC233ILD4eCyyy7j6aefpry8HIC//OUvLFu2jOrqaq677jr+9Kc/tVjf9PR05syZw9SpU9m6dSvDhw/nzTffxMfH54R6fPrpp1x55ZXMnTuXTZs2cc8991BRUYGnpydr1qzBx8eH+++/n7Vr11JdXc1dd93FT3/60877R1Cql6muc/CPz1P50XlDCPb1OOVykg4dH5tIzSvvkkChM7PPoPfee485c+YwfPhwQkJCCA0NZf369VRUVACwdOlSbrzxRo4ePcqjjz7K6tWr2bJlC4mJiTz99NON5Xh5efHNN98wb948rr/+ejZt2sT27dsZNWoUr776KgD33HMP99xzD5s2bSIqKqox78qVK0lJSWHjxo1s27aNzZs389VXX7Va5+TkZBYuXMiOHTsICAjghRdeaLEeDWpqarjxxht59tln2b59O6tXr8bb25tXX32VwMBANm3axKZNm3j55ZdJS0vrtPdWqd7my+R8nvs8lQ93nN6w65ZDRQwd4AtYgaIr9LnVY0+mPb/8u8rixYu59957AZg3bx7/+c9/mDNnDh988AFz587lo48+4sknn+TLL79kz549nHfeeYD15XvOOec0lnPjjTc23t+1axe///3vKS4upry8nNmzZwOwbt063nvvPQBuvvlmfv3rXwNWoFi5ciUTJ04ErFZOSkoK06dPb7HOsbGxjfW49dZbee655xrLcq5Hg+TkZCIjI5k8eTIAAQEBjc+7Y8cOli9fDkBJSQkpKSk6uU71afX1htr6ejzdTuwi/irFupR/1+FSvjtwlJEDAwhppWVxqKCCB97ZiauL8Ns5IxkbHdh4LDW/nNljBlJaVUdKXlmXvI5+Fyi6S0FBAZ9//jm7du1CRHA4HIgIr7/+Ov/4xz8ICQlh8uTJ+Pv7Y4xh5syZLF68uMWyfH19G+//8Ic/5L333mP8+PG88cYbrF27ts16GGN44IEH2t3t03xug/Nj53o4l9/SfAhjDH//+98bA5lS/cHPF2/h451H8PFwZdLgYN5aMLXx2Ff7j1q3Kfks25zJzy4axm9mj2yxnA1phXx3oIAALzfmvbSeD35xPkMG+FJRXUdhRQ2xId7Eh/uScpIWxRvfpvFFcj43TRnEnLED2/06tOvpDFm+fDm33XYbhw4dIj09nczMTIYMGYKbmxtbtmzh5ZdfbvyFPm3aNL799ltSU1MBqKysZP/+/S2WW1ZWRmRkJLW1tbz99tuN6dOmTeO///0vAEuWLGlMnz17Nq+99lrjeMXhw4fJy8ujNRkZGaxbtw44PhDflpEjR5Kdnc2mTZsa61dXV8fs2bN58cUXqa2tBWD//v2NXW5K9UXGGL5JOcr42CDGRgXyTepRquus63rSj1aQUVhJqK8HOSVVGAMH8lr//1BSaf2/eWX+ZMqr60hKt67pySyqBCA22IeEcH9S88qxLhg90a7DJTz0wR6+TsnnhbWpTcs/Vtvma9FAcYYsXryY6667rkna9773PZYsWcKVV17JJ598wpVXXglAWFgYb7zxBjfddBPjxo1j2rRprV5O+8gjjzB16lRmzpzJyJHHf4387W9/4+mnn2bKlCnk5OQQGGg1VWfNmsXNN9/MOeecw1lnncXcuXMpK2u9uTpq1CgWLVrEuHHjKCws5M4772zzdXp4eLB06VJ+8YtfMH78eGbOnElVVRW33347o0eP5uyzz2bs2LH89Kc/pa6urXmbSnWvL5LzqKw5+We0oLyau97eQlFFTZP0rKJjlFbV8f3EGG6eOghjILPQ+mJv6Hb68fnHu17TjrYeKIqP1eDqIoyM9Lce24Ejq/AYALEhPiRE+FFWVUdeWXWLZSxLysTDzYWF04exI6uELDvIALz5XXqbr1G7ns6QlrqE7r777sb7zz//fJNjl1xySeOvcmfp6elNHt95550tfnlHR0ezfv16RIQlS5aQmJjYeKxhoLs9XFxc+Oc//3nSerzxxhuN9ydPnsz69etPyPPnP/+ZP//5z+16XqW6U1ZRJT96fRO/mT2Cuy6Ob/Pctcn5fLQzh6vGRzXpztmdXQLA2KhA6u1f+elHK4kP9+er/fnEhnhz9fgo/vJZMt7urqQVVLA3p5QAb3eig7ybPEdxZS2B3u74e7rh7ioUVlpBqaFFERPsTWW1FdRScsuJCPBqkr+6zsG7Ww9z2diB3DQlln9+eYBPdx3h9guG2nVt+0pQbVH0UZs3b2bChAmMGzeOF154gaeeeqq7q6RUr9HQ1//dgaMnPTc512qRZxQ2bRHsOlyKq4swYqA/Q+yrklLyytmSUcS6AwVMTwgjNsSHtxZM4TezR1BTV8/1L3zHr5dtP+E5So7VEuTtjogQ5OPR2HrJLDyGt7srob4exEf4AZDawoB2+tFKyqrquGRkOINDfRkW5sv6g8enpO3JaTtQaIuij7rgggvYvv3ED1xLCgoKmDHjxCkxa9asYdeuXZ1dNaV6vAN2oEhKL6Kq1oGXe+sTW/faX7IZhZVN0ndll5AQ7oeXuyte7q4Eervz7Jr9VH1aD8D04da6dBckhOHuav1mP1brYENaAfll1YT5ezaWVXKslkAfa5+WEB8PipxaFLEh3ogIYX6eBHq7tzigfajACmJxob6Nt9nFVrdVaVXtCXVvrt8EitauxlEQGhrKtm3bursarQ7CKXWmHci3vmyr6+rZklHEucMGtHpu8hHrF/yhgqZftvtyyjh3WGjj47hQH7ZnWcFj2tBQLhx+fAHThnkQbi5CXb1h5Z4j3DJ1cOPx4spaBvhZl84G+7pTVGGNUWQWVhITbE2wExHiw/1aCRSVdh2s54kK8mazvYhgeyYg94uuJy8vLwoKCvSLqAdr2LjIy8vr5Ccr1cUO5FUwcqA/IlarojWFFTWNg8eZTr/KK6rrOFJaxbBwv8a0ODsY/PTCYTxy7dgmrZQwf0+CfNy5/KxIhg7wZcW2ppPwio/VEORjBwofDwora6hz1HOooJLBocdnYseH+XEwv4VAUVhBoLd7Y6skKsib4spaKqrrTjo+Af2kRRETE0NWVhat7VWheoaGrVCVOlPe+DaNj3bm8Mptkxu/RMFqUcwcHUHpsVrSW7kaqb7esGRTBgBnRQeyN6cUR73B1UUar2BqaCkAjIsJ4qv9+S3OXxARli48h3B/T5ZsyuSJT/eRkltGQsTxq5wCva36BftaYxR7cko5Vuvg7EHBjeUMCvXhaHkNlTV1+Hgc/3o/VFBJnFNAiQqyfpBlFx/js91HiA7y5lAb71O/CBTu7u46A1gp1YQxhte/S+dQQSU/X7yFN388BRGhqKKGgooahoX5kV5QwaFW+u+XJWXy5KfJjI4M4JoJUew8XEK2vShfQ9eVc4viR+fGMW9yLL6eLX/tjhhoBYUbJ8fyzOr9vLnuEI9cO5Y6Rz1lVXUEOY1RFB+rZWOaNRg9OS6ksYyYYOtqqayiYwyP8CevrIrfvbOTb1KPcuW440v5NFxVtSwpk41phfzp6jF818Z71S+6npRSqrmUvHIOFVQyLiaQr1OOsuuw1QXTMDidEOHH4BDfxoHg5rZlFhPs485Hd5/P6EhrqZqGsYAD+RW4CE26hVxcpNUg4SzE14Mrx0XyzpYsyqpqKa2yLnsNslsUQT7uOOoNq/fmEhvizcDA4921DQsCLtuUyTXPf8Onu46wem8extCsRWEFipe/TiMq0It5U5y3/TmRBgqlVL+0cvcRAJ7+/ng8XF14Z6u1U/MWe5B3YmwwgwdYXTnl1SdOvNtvdw2JCKOjAvBwdWH13lwADuaXExPs0+IaT+0x/5w4KmqsuQ/F9hVODWMUDetBrT9Y2KQ1AcdbFP/acIjtWSW8te54h5LzVVThTve/NynmpPXUQKGU6pfWHSxgTFQA8eH+zBgVzopt2dQ56tmSUcywMF8CfdwZHGKNMWQ0u6LJGENKbjnD7bkLQT4ezBk7kP9uyeJYjYOD+RUMDTtxLbT2Gh8bxPiYQBZ9l954KWzDGIrzkuTOV04BhPl54unmQlWtdQluSl45EwcF8dh1Y7n+7OPjf26ux7/6r5kQxclooFBK9UvJR8obu4zmjB1IQUUN+46UsTWjqHGAuKHrqHn305HSKsqq6xhhDzYD3Dx1EGVVdby/7TCp+eUMdzp2Kn58/hAO5Ffw3y2HgeNdT8E+xwPFzNERTfKISGOrosGE2CBumToYv2bdXj4eVisiPvzk9WzvVqi/FJHdIrJLRBaLiJeIhIjIKhFJsW+Dnc5/QERSRSRZRGY7pU8SkZ32sefsLVGxt01daqdvEJE4pzzz7edIEZH5KKXUaSoor+ZoeXXjAPLEWOvr672thymqrGXSYOvxoIZA0WxAOyXXGqxOcAoGU4eEEO7vybNrUqipq2fa0KbdQh11xVmRxAR78+8N1pVVxy+PtQKGCE2ubGrQME7R0L00NirwhHMA1v7mIjb+b4t7z53gpIFCRKKBu4FEY8xYwBVrq9L7gTXGmARgjf0YERltHx8DzAFeEJGGDrAXgYVY+2gn2McBFgBFxph44BngCbusEOBBYCowBXjQOSAppVSDgvJq9h1p3+6V++0v+oZf/bEh3oT4evCvDVaf/rSh1kS5AC93gn3cT5i5vN9etsO51SAiXDwinJySKlxdhClDQjkdbq4u3H+ZtdCnh5tL44S76CBv5k6K4eO7T9h41Hot9gS8hdOH4iJw9uCWvzLD/b0I92/fvKX2dj25Ad4i4gb4ANnANcAi+/gi4Fr7/jXAEmNMtTEmDUgFpohIJBBgjFlnrJlvbzbL01DWcmCG3dqYDawyxhQaY4qAVRwPLkop1ei+Zdu5+eUN7ZpY2/BF39CiEBEmxAZRVVvPhNigxslxANHB3o3LXTTYmllMVKDXCRsNXTzSGjMYHxN4QlfPqbhyXBT7HpnDd/dfgr+X1ZJwc3XhrzeMZ5TdbdbcnLEDuX5iNAvOH8J3989oXGfqdJw0UBhjDgN/BTKAHKDEGLMSiDDG5Njn5ADhdpZoINOpiCw7Ldq+3zy9SR5jTB1QAoS2UVYTIrJQRJJEJEkn1SnV/yQfKePL/fkUVtRwuNmXeovn55YR6O3e5OqfCbFBAFw3selXTGSgNznFVY2PjTFsSitk8pATu5bOix+Ar4crl4wMP+HYqfJyd2WAn+fJT3Sqw9M3TkBEmlw6ezra0/UUjPWLfwgQBfiKyK1tZWkhzbSRfqp5jicY85IxJtEYkxgWFtZCFqVUX/aPL45vxNOetYv2HyljhH1pa4PLxg7kvPjQE64Cig5q2qLIKKwkr6z6hEtTAfy93Pn81xfx0wuHncrL6LHa0/V0KZBmjMk3xtQC7wDnArl2dxL2bcM2aVmA8+yNGKyuqiz7fvP0Jnns7q1AoLCNspRSCoCv9uezYns2t58/BBHYm9P2vtHGGJJzyxg+0K9JekKEP2/fPq1x0LhBVJAXZdV1lFZZC/E1zIie0kKLAiAiwKtxNdi+oj2vJgOYJiI+9rjBDGAvsAJouAppPvC+fX8FMM++kmkI1qD1Rrt7qkxEptnl3NYsT0NZc4HP7XGMz4BZIhJst2xm2WlKKQXAM6v3Exfqw69nj2BIqC97ckraPP9IaRVlVU0vbW1LwyzmhlbFpvRCgnzciQ/zaytbn3LS0RZjzAYRWQ5sAeqArcBLgB+wTEQWYAWTG+zzd4vIMmCPff5dxhiHXdydwBuAN/CJ/QfwKvCWiKRitSTm2WUVisgjQMNWbw8bY47vtqGU6tcqquvYkVXCHRcOxcvdlVFRAezMajtQNCwLPmJgy4PBzTUEipziKkYODGBTehGJg0Nwcek/2xa0a1jeGPMg1mWqzqqxWhctnf8Y8FgL6UnA2BbSq7ADTQvHXgNea089lVL9y9aMYhz1pvFS1ImxQXy0I4fUvLJWJ5I1BIqGWdUnExVoBYrDxcfIK6si7WgFN51kbaS+pm91pCml+pWN6YXWXIFBQQBcMyEaNxdhycbMVvMk55YREeB5wlhEa8L8PXFzEbKLjzXuTdHSQHZfpoFCKdVrbUorZHRUQOMcgzB/T2aOjuC/W7JIO1rB7Ys28dvlO8i3NxcCaw5FR5bXcHWxLjPNKKxkY1oh3u6ujI1uebZzX6WBQinVK9XXG3YeLmmycQ/A/HPjKKqs5cb/W8eX+/NZtjmTxRutZTAc9dZifu0dyG4wLiaQLYeK+O7AUSYNDu5zVzWdTP96tUqpPiOzqJLy6jrGRDUdlJ42NJTz4kPJK6tm/jlxTI4LYcX2bIwxZBRWUl1Xz/CBHQsU04aGkl1Sxf7ccqYPb33/7L5KA4VSqldqmFjX0lIWv7t8FBckDOBnF8dz9fgoUvPK2ZtTdvyKpw62KM4ZenzdpvPj+9+kXg0USqleaU9OKa4u0uJ4w5ioQN5aMJUQXw8uPysSTzcXXlib2rjGU0I7r3hqEB/uR6ivBwP8PBnZwdZIX9Av9sxWSvU9e7JLGRbmi5d727uzhfh6cMeFw3h2TQoBXvkMCvFpcXnutogId89IwMVF+tX8iQbaolBK9Uq7s0tbXUG1uTsuHMawMF9Kq+qICGj/AnvO5p8bxw+mDT6lvL2dBgqlVK9zuPgYR0qrGld8PRlvD1eW/vQcLh0Vwfxz47q0bn2Rdj0ppXqdpHRrJZ+OTHwb4OfJK/MTu6pKfZq2KJRSvc6m9EL8PN365cByd9BAoZTqdZLSi5g4KAi3fjbxrbvou6yU6lUO5Jez70hZ477WqutpoFBK9Rq1jnr+8UUqXu4u3Di5f63g2p10MFsp1SvklBxjxlNfUlnj4IfnxnVoH2l1ejRQKKV6ha0ZxVTWOPjVzOH8ZPrQ7q5Ov6JdT0qpXmHfkTJcBH4yfehJZ2OrznXSQCEiI0Rkm9NfqYjcKyIhIrJKRFLs22CnPA+ISKqIJIvIbKf0SSKy0z72nL13Nvb+2kvt9A0iEueUZ779HCkiMh+lVJ/21rp0fvT6Rr5NPdokPflIKXGhJ1+yQ3W+kwYKY0yyMWaCMWYCMAmoBN4F7gfWGGMSgDX2Y0RkNNae12OAOcALItLwL/sisBBIsP/m2OkLgCJjTDzwDPCEXVYI1hasU4EpwIPOAUkp1fe8ue4QXyTn85M3k6iuczSmJx8pY4TOm+gWHe16mgEcMMYcAq4BFtnpi4Br7fvXAEuMMdXGmDQgFZgiIpFAgDFmnTHGAG82y9NQ1nJght3amA2sMsYUGmOKgFUcDy5KqT6mus5B2tEKEsL9qKxxsDWjGIBjNQ4OFVZqoOgmHQ0U84DF9v0IY0wOgH0bbqdHA84b1mbZadH2/ebpTfIYY+qAEiC0jbKaEJGFIpIkIkn5+fkdfElKqZ4iJbecunrDgvOH4OoifJNidT+l5JVhDDoTu5u0O1CIiAdwNfCfk53aQpppI/1U8xxPMOYlY0yiMSYxLKz/bSqiVF+x63AJYO0oNz4mkG/scYp99oZDHdnrWnWejrQoLgO2GGNy7ce5dncS9m2enZ4FOM+EiQGy7fSYFtKb5BERNyAQKGyjLKVUH7Q7uxQ/TzcGhfhwzrBQdmQVU1XrYP+RMrzcXRgc6tvdVeyXOhIobuJ4txPACqDhKqT5wPtO6fPsK5mGYA1ab7S7p8pEZJo9/nBbszwNZc0FPrfHMT4DZolIsD2IPctOU0r1QVszixgdFYCLvXNdvYFDBZUk55aREO6Paz/cNKgnaFegEBEfYCbwjlPy48BMEUmxjz0OYIzZDSwD9gCfAncZYxouXbgTeAVrgPsA8Imd/ioQKiKpwH3YV1AZYwqBR4BN9t/DdppSqo85UlLFrsOlXDjc6j4eFmZtV9qwtpMOZHefds3MNsZUYg0uO6cVYF0F1dL5jwGPtZCeBIxtIb0KuKGVsl4DXmtPPZVSvdeafVav9szREQAMDbO6mTalF5JfVs0IHZ/oNjozWynVI6zek8vgUB8Swq2WhI+HG9FB3ny8MwdAWxTdSAOFUqrbOeoNG9MKmZ4Qhr1gA2C1KnJLq/F0c2FcTGA31rB/00ChlOp2qXnlVNQ4mDgoqEm6u70x0c1TBxHk49ENNVOggUIp1QNszywGYHxsUJP0GyZZV9T/dPqwM1wj5UyXGVdKdbutmcUEeLkxpNk8icvOiiTt/13epDtKnXnaolBKnXHHahw88M4OckuryC+rZsPBAsbHBuHSwjwJDRLdT1sUSqkzbmN6IYs3ZhIR4MW/1mdQUFHNzy6O7+5qqVZooFBKnXH77bWbXv0mjbKqOl76wSRmjRnYzbVSrdGuJ6XUGdewyF9ZVR0+Hq5cOEIX8+zJNFAopc64/blluLtaYw8XJAzA0013revJNFAopc4oR71hf24ZV42Lwt/TjavHn7DFjOphdIxCKXVGZRRWUl1Xz7RhoTw5dxxurvp7tafTfyGl1Bn1nyRr08qJsUEaJHoJ/VdSSp0xhwoqeOXrNK4/O5oEXQ2219BAoZTqMrWOesqqahsfr9mbR42jnl9eOrwba6U6SgOFUqrL/Po/2znroZX89K0kAJKPlBHi60FMsHc310x1RHt3uAsSkeUisk9E9orIOSISIiKrRCTFvg12Ov8BEUkVkWQRme2UPklEdtrHnrO3RMXeNnWpnb5BROKc8sy3nyNFROajlOoVqmodrNydi6ebC5/tzqW4soZ9uWWMHOivy3L0Mu1tUTwLfGqMGQmMB/ZibVe6xhiTAKyxHyMio4F5wBhgDvCCiDRcJP0isBBrH+0E+zjAAqDIGBMPPAM8YZcVAjwITAWmAA86BySlVM+17kABx2od/Oi8IQBsySgiJVe3NO2NThooRCQAmI61rzXGmBpjTDFwDbDIPm0RcK19/xpgiTGm2hiThrU/9hQRiQQCjDHrjDEGeLNZnoaylgMz7NbGbGCVMabQGFMErOJ4cFFK9WCr9ubi6+HKHRcOxdVFeH9bNpU1DkZqoOh12tOiGArkA6+LyFYReUVEfIEIY0wOgH0bbp8fDWQ65c+y06Lt+83Tm+QxxtQBJVh7dLdWVhMislBEkkQkKT8/vx0vSSnV1ZLSC5k6NJQgHw9GDvTng+3ZAIwYGNDNNVMd1Z5A4QacDbxojJkIVGB3M7Wipc5H00b6qeY5nmDMS8aYRGNMYliYrhmjVHerqavnYH5FY+shcXAw9Qaig7y1RdELtWdmdhaQZYzZYD9ejhUockUk0hiTY3cr5TmdH+uUPwbIttNjWkh3zpMlIm5AIFBop1/ULM/adr0ypVS3SS+ooK7eNI5H3HVJPIlxIcwYFY6Xu67r1NuctEVhjDkCZIrICDtpBrAHWAE0XIU0H3jfvr8CmGdfyTQEa9B6o909VSYi0+zxh9ua5Wkoay7wuT2O8RkwS0SC7UHsWXaaUqoHS7ZXh00ItwJFuL8XV42PwsdDVw3qjdr7r/YL4G0R8QAOAj/CCjLLRGQBkAHcAGCM2S0iy7CCSR1wlzHGYZdzJ/AG4A18Yv+BNVD+loikYrUk5tllFYrII8Am+7yHjTGFp/halVJnSEpuGS4CQ8N8T36y6vHE+uHedyQmJpqkpKTuroZSfVJmYSWp+eVcNDysxbkQFdV1bMss5tk1KRwtr+bzX1105iupTomIbDbGJLZ0TNuBSql2+8P7u1ibnM+V4yJ5bt7EJntcZxVVcs3z31JQUQPAFeMiu6uaqpNpoFBKtUtJZS3fph4lPtyPD3fkMDkuhPnnxgFQX2+4b+l2quvqeXV+Iu6uLoyM1Kub+gpd60kp1S4r9xyh1mH46w3juXB4GE98uo+K6joA9uSUsjG9kP+ZM4IZoyKYPjyMcH+vbq6x6iwaKJRS7fLZ7lyig7wZHxPIj88fQmWNg+1ZxYA1uQ5gxqiIbqyh6ioaKJRSLdp1uKSxxVDnqGfDwQIuHGENYk+ICQJga0YxAJsOFREV6EV0kK4K2xdpoFBKneBAfjlXP/8Nz6zaD8DOwyWUVddx7rBQAAJ93BkW5svWjGKMMSSlF5IYF9KdVVZdSAOFUv3QxztzuPnl9fzx/V0tHn9x7QHqDby3LZs6Rz3fHSgA4JyhoY3nTBwUzNaMIl79Jo3c0momx+nCzn2VBgql+qFXv0lj3cEC3lx3iB32OMOxGmtebFJ6Ie9tPczwCD+Ollfz4IrdLPounVGRAYT6eTaWMWlwMAUVNTz60V7OHRbK1RNOWK9T9RF6eaxS/YwxhpTcMq4eH8XqPbm8/m06s0ZH8PPFW7l16iDe357NoBAf/rVgKpc/9w1vb8hgfEwgf7pmbJNyrpsYjZ+nG4NDfTgrOlA3I+rDNFAo1c/klVVTWlXH2YOCCfbx4F/rD7HrcAnGGBatO8TY6ABeuHkS4QFerPrldACCfT1OKMfL3ZWrxked6eqrbqCBQql+JiW3HICEcD8uO2sgy5IySckr5zezRzA9IYwxUQGNM65bChCq/9ExCqX6mZQ8e2XXCH/C/b34+SXx+Hi4csOkGM6KCWyyLIdSoC0KpXqUA/nlOOoNwyO6bvmLlLxygnzcGeBntRbuvHAYt0wdTKC3e5c9p+rdtEWhVA/xwfZsLnv2a25+eT01dfVd9jypueXEh/k1Dj6LiAYJ1SYNFEr1AMYY/vzxXoK83TlaXsOnu4902XMdKqwgboDuE6HaTwOFUj3AwaMV5JRU8YtL4q1LU9cf6pLnqap1kFtazeAQny4pX/VNOkahVDeoc9Tz740ZFJTX8L2zY/gm5SgA04eHkV9ew/Ofp1BSWUugT+d2CWUWVgIwKFQDhWq/drUoRCRdRHaKyDYRSbLTQkRklYik2LfBTuc/ICKpIpIsIrOd0ifZ5aSKyHP23tnY+2svtdM3iEicU5759nOkiMh8lOrljDE88M5O/vj+bp5dk8L3/vkdSzdlEhvizeBQX84dFkq9gQ1pBZ3+3IcKrEARqy0K1QEd6Xq62BgzwWmrvPuBNcaYBGCN/RgRGY215/UYYA7wgoi42nleBBYCCfbfHDt9AVBkjIkHngGesMsKAR4EpgJTgAedA5JSvUGto77J4PSWjGL+szmLuy4exur7puPuIuzJKeU6ewmMiYOC8HRzYd3Bzg8UGXaLQrueVEecTtfTNcBF9v1FwFrgt3b6EmNMNZAmIqnAFBFJBwKMMesARORN4FrgEzvPQ3ZZy4Hn7dbGbGCVMabQzrMKK7gsPo16K3XGvPFtGo99vJcgHw+W33EOg0N9G/du+NF5Qxjg58nXv70EYwxurtbvNk83VxLjgll34PQDRZ2jnj+8v5sth4q4b9ZwMgor8fVwJUQn0qkOaG+LwgArRWSziCy00yKMMTkA9m24nR4NZDrlzbLTou37zdOb5DHG1AElQGgbZTUhIgtFJElEkvLz89v5kpTqWuXVdTy1aj/jYoKoqavnjn9toc5Rz+ZDRcSF+jDAXmDP1UUag0SDyXEh7DtSRmVN3WnVYXtWCYs3ZpBWUMFTK5M5VFDBoFBfXZdJdUh7A8V5xpizgcuAu0RkehvntvQJNG2kn2qe4wnGvGSMSTTGJIaFhbVRNaXOnKWbMimrquMPV47moatHszenlA1phWzJKOLswW33oI6wJ9wdzK84rTpsPmS1Xn41czj7c8v5JvUocTqQrTqoXYHCGJNt3+YB72KNF+SKSCSAfZtnn54FxDpljwGy7fSYFtKb5BERNyAQKGyjLKV6vJW7jzA2OoAJsUHMGROJt7srL6xN5Wh5DZNOEijiw/0ASM0rP606bEq3Wi8/Om8Iw8J8GRcTxK9mjTitMlX/c9JAISK+IuLfcB+YBewCVgANVyHNB963768A5tlXMg3BGrTeaHdPlYnINHv84bZmeRrKmgt8bowxwGfALBEJtgexZ9lpSvVoxhiSc8s4KzoIAG8PV2aMCufb1AI83Fy4IL7tlu/gUF/cXKRxXaZTrcOWQ0VMGhyCh5sLq++7kP/eeW5jEFKqvdozmB0BvGv3aboB/zbGfCoim4BlIrIAyABuADDG7BaRZcAeoA64yxjjsMu6E3gD8MYaxP7ETn8VeMse+C7EumoKY0yhiDwCbLLPe7hhYFupniyvrJriylpGRBz/Ur512mC2ZhTz5NxxJ53H4OHmQtwA38aVXk9FekElBRU1JNo7z+m4hDpVJw0UxpiDwPgW0guAGa3keQx4rIX0JGBsC+lV2IGmhWOvAa+drJ5K9STJR6yWwIiBAY1p04aG8u39l7S7jIRwv8ZyTmbzoUJ2ZJUw/5y4xtVfk4+UAjAmKqCtrEqdlM7MVqoLHA8Up74KbHy4Hyv35FJV68DL3bXV86rrHNy9eBuHi4+RfKSMx783Dji+78SwMO1qUqdH13pSqgvsO1JGmL/nac1XOHtQMI56w6b0472tJZW1WMN3xy3ekMHh4mNMiQthyaZMSiprAUjNLyc6yBtfT/09qE6PBgqlOpkxhq2ZRYyKPL0un6lDrUHoL5OtuUFZRZVM+fNq3t16uMl5y7dkMSE2iJ9fEg/A7uwSwGpRJERoa0KdPg0USnWyfUfKOJhfwazREadVjo+HG1OHhPDlfitQfLgjh+q6ej7ckdN4TlFFDbuzS7l4RHjjWMSu7BIc9YYD+eUk6BVOqhNooFCqk324IxtXF+GysQNPu6wLh4eRklfOoYIKPthuTSH6JvVo44ztdQcLMAbOTwgl1M+TqEAvdh0uJauokuq6ehLCu26nPNV/aKBQqhMYY3j8k33sOlzCB9tzOHeY9cV9uq4YF4mLwEMrdrM7u5QZI8Opqavnq/3WsuTfph7F18OVcTFBAIyJDmRXdglf7LPmv55u95dSoIFCqU6x+VAR//zyAHf9ewsZhZVcNS6qU8qNDPRmxqgIvkjOJ9zfkyfnjmOAnydvb7A2NvruQAHThobibq8VdVZ0IGlHK/jbmhSmDglhbLQGCnX6NFAo1Qne32Z1Cx0qqMTdVZg95vS7nRrcfv4Q/D3deGLuOEL9PFlw/hC+TjnKZ7uPkHa0gnPjBzSe+4Npg5k6JISSY7X8ZvYInWSnOoU0v9Sut0tMTDRJSUndXQ3VT+w6XMIN/1xHXX0942OC2JxRxCUjwnn1h5M79XlqHfWNrYbSqlrOe/xzBCitquPTey9gpNPEPke9Ibe0iqgg706tg+rbRGSz035DTegF1kqdImMMj320Fw83F4aH+vG7K0aRWVjZJTOh3Z2WIQ/wcufOi4bx5KfJDPDzaFxptoGri2iQUJ1KA4VSp+i/Ww6z7mABf7p6DPPPjQOsSXJnwo/PG8LijRmcO3SAdi+pLqeBQqlTkHykjN+9s5NzhoZy89RBZ/z5vdxd+eSe6bi7apBQXU8DhVKnYNWeI9Q46nnupolNuoXOJD9dmkOdIXrVk1KnYEdWCUMG+BLmf/pzJZTq6TRQKHUKdh0u4azowO6uhlJnhAYKpTroaHk12SVVGihUv9HuQCEiriKyVUQ+tB+HiMgqEUmxb4Odzn1ARFJFJFlEZjulTxKRnfax5+wtUbG3TV1qp28QkTinPPPt50gRkfko1Q2q6xwUVdQAsPOwtTrrWTEaKFT/0JHRsHuAvUDDReL3A2uMMY+LyP3249+KyGisrUzHAFHAahEZbm+H+iKwEFgPfAzMwdoOdQFQZIyJF5F5wBPAjSISAjwIJAIG2CwiK4wxRaf1qpXqAEe94QevbmRjWiEJ4X64ubrg7e7KWG1RqH6iXS0KEYkBrgBecUq+Blhk318EXOuUvsQYU22MSQNSgSkiEgkEGGPWGWs6+JvN8jSUtRyYYbc2ZgOrjDGFdnBYhRVclDpjXv3mIBvTCrl12iAqaxyk5pXxwq1n61VHqt9o7yf9b8D/AM5TQCOMMTkAxpgcEQm306OxWgwNsuy0Wvt+8/SGPJl2WXUiUgKEOqe3kKeRiCzEaqkwaNCZv6Zd9V25pVU8syqFmaMjeOSasVRdXs/R8mpiQ3y6u2pKnTEnbVGIyJVAnjFmczvLbGkGkGkj/VTzHE8w5iVjTKIxJjEsLKyd1VT9VVWtg6pax0nPc9QbHv1oL456wx+uGI2I4O3hqkFC9Tvt6Xo6D7haRNKBJcAlIvIvINfuTsK+zbPPzwJinfLHANl2ekwL6U3yiIgbEAgUtlGWUqfs5//ewsV/Xcvh4mOtnuOoN/zkzSQ+2J7Nzy4exqBQDQ6q/zppoDDGPGCMiTHGxGENUn9ujLkVWAE0XIU0H3jfvr8CmGdfyTQESAA22t1UZSIyzR5/uK1Znoay5trPYYDPgFkiEmxfVTXLTlPqlBzIL2f13jxySqq48f/WsTGtsMXz3lqXzuf78vj9FaO499LhZ7iWSvUspzOP4nFgpoikADPtxxhjdgPLgD3Ap8Bd9hVPAHdiDYinAgewrngCeBUIFZFU4D6sK6gwxhQCjwCb7L+H7TSlOqygvJqnVibj7iq8clsiLiL86PWNJ3RDHcwv5y+fJTN9eBgLzh/STbVVqufo0GUbxpi1wFr7fgEwo5XzHgMeayE9CRjbQnoVcEMrZb0GvNaReirVXJ2jnutf/I5DBZX85IIhXDo6AgP85M0ktmcWM3VoKADFlTX87O0teLi58Pj1Z+nKrEqhM7NVP/HZ7lwOFVTy/M0T+d8rRgMwJS4EEdhgdz/llVZx/YvfcTC/gr/Nm6h7Oihl0wvBVa+1+VARL391kKggb/5w5ag2f/2/8V0ag0J8uGxsZGNaoI87IyL82ZBWQEruQO5btp0jJVW8tWBKYwtDKaWBQvVSxhjuXryVosoaKmscxAR7c93EaNILKpjYbPOgXYdL2JRexO+vGIWrS9NgMm1oKG98l87MZ77C3VV48ZZJGiSUakYDheqV9h0p43DxMR6//ixW783l4Q/38ORn+6iqree9u85jQmxQ47mvf5uOr4cr358ce0I5t04bTK2jntFRAcwcHUG4v9cZfBVK9Q4aKFSvtGZvLgCXjArn+rNjeOWbg+zILGFTeiF/+Wwfb98+DYDCiho+2J7NvCmxBHi5n1BOfLgfj1131hmtu1K9jQYK1Sut3pvH+JjAxhbAzy6KB+CVrw/y6Ed72Z5ZzPjYIN7depgaRz23TB3cndVVqlfTq55Ur5N+tIJtmcXMHjvwhGPfnxyLp5sLyzdnYYxh6aYMxscGMWKgfwslKaXaQwOF6nXe2ZKFCFw38YT1IQnwcmfO2IG8v+0wK7Znsz+3nJunnDg2oZRqPw0UqteorzdU1TpYvjmL8+MHEBnY8jyHW6YOprSqjnuWbGPkQH++d3ZMi+cppdpHxyhUj2CM4bPdR1i9N4/YYB/uuTShyfG0oxVc/8K3hPl7kl1SxV9vGN9qWVOGhPDSDybx1Mr9PHbdWbi56u8hpU6HBgrVZapqHXy2+wj5ZdVcPT6K8IDWLz19aMVuFq07hJ+nG+XVdYyLCeTikeGNxx/7aC8VNQ6K88q5eeogzo0f0OZzzxozkFljThzDUEp1nAYK1WXuXryVlXusy1j/ujKZ318xmlunnXj10eZDRSxad4gfTBvM7y4fxZV//5rfv7eL5XeeQ4CXO797dyer9+byP3NGcO2EaCLaCDhKqc6nbXLVJVbvyWXlnlzuvTSBNb+6kClDQvn9e7v4ZGdOk/PqHPU8/MFuwv09eeDykXh7uPL09ydQcqyW7//fOu5ZspUPtmdz94wEFl4wlKgg7xNmVyulupYGCtWpqmod3LdsG7e/mcTQMF/uvGgYw8L8eHV+ImOiAvjD+7soOVbbeP7fP09le1YJf7hyND4eVgN3fGwQ/7p9Ksdq6lm9N4+7ZyRw38zhOtagVDfR/3mqU93xr828s+Uwd1w4jOV3nIunmysA7q4uPHjVGI6W17A22doMsbKmjhfXHuCq8VFcNT6qSTkTYoP44Bfn8f+uP4ufXxx/xl+HUuo4DRSq0+zOLmFtcj7/M2cE9182khBfjybHJw0OJsDLjXUHCgBYf7CAGkc9Nya2PM8hMtCbm6YM0paEUt1M/weqTvPvDRl4urlwy5SWl8twdRGmDQ3l2wNHAfgyOR9vd1cS44JbPF8p1TOcNFCIiJeIbBSR7SKyW0T+ZKeHiMgqEUmxb4Od8jwgIqkikiwis53SJ4nITvvYc/be2dj7ay+10zeISJxTnvn2c6SIyHxUj1RV6+D9bdlcMS6SQJ8TF99rcO6wUDILj5FZWMlXKUeZNjQEL3fXM1hTpVRHtadFUQ1cYowZD0wA5ojINKx9rdcYYxKANfZjRGQ0MA8YA8wBXhCRhm+CF4GFQIL9N8dOXwAUGWPigWeAJ+yyQoAHganAFOBB54Ckeo7Ve3Mpr65j7klmQV88MhwXgYVvbSbtaIXOdVCqFzhpoDCWcvuhu/1ngGuARXb6IuBa+/41wBJjTLUxJg1IBaaISCQQYIxZZ4wxwJvN8jSUtRyYYbc2ZgOrjDGFxpgiYBXHg4vqQd7bmk1EgOdJN/0ZHOrLTy8cxt6cUibEBvH9VsYnlFI9R7sm3Nktgs1APPAPY8wGEYkwxuQAGGNyRKRhGm00sN4pe5adVmvfb57ekCfTLqtOREqAUOf0FvI4128hVkuFQYMGteclqU6UWVjJl/vz+OG5ce2a43DPjAQ8XF2YOylG50Qo1Qu0K1AYYxzABBEJAt4VkbFtnN7S/3zTRvqp5nGu30vASwCJiYknHFedo77e8EVyHh/uyOFoeTWTBgczdUgor3x9EDcXFxacP7Rd5Xi5u/LLmcO7uLZKqc7SoSU8jDHFIrIWq/snV0Qi7dZEJJBnn5YFOPcnxADZdnpMC+nOebJExA0IBArt9Iua5VnbkTqr0/d1Sj6vf5vOlowiiitrCfX1IMzfk2fXpGBMCgC/mT2CgYG6tIZSfdFJA4WIhAG1dpDwBi7FGmxeAcwHHrdv37ezrAD+LSJPA1FYg9YbjTEOESmzB8I3ALcBf3fKMx9YB8wFPjfGGBH5DPiz0wD2LOCB033Rqv0yCyu5463NBHq7M3v0QM5LGMBlYwfi7upCcWUN2zKLCfR2b7JHtVKqb2lPiyISWGSPU7gAy4wxH4rIOmCZiCwAMoAbAIwxu0VkGbAHqAPusruuAO4E3gC8gU/sP4BXgbdEJBWrJTHPLqtQRB4BNtnnPWyMKTydF6w65o/v7wLgP3eeS3RQ0/0fgnw8uGhEeEvZlFJ9iFgXIPUdiYmJJikpqbur0WvV1xtc7AHmHVnFXP38t/zPnBGNe1IrpfomEdlsjEls6ZjOzFaNtmUWc/ajq/jb6v3szCrh0Q/3EuDlxg9aWBpcKdV/6H4UCrDWXbp3yTYqaxz8bXUKf1udgoerC3+8ajT+Xq3PtFZK9X0aKPqJzMJK/vD+LtxdXfj9FaMYHOrbeOy71KPc/MoGIgO9ePdn55J8pAxXF+GChLATFvZTSvU/Gij6gfp6w62vbqCgvAaAy5/9mmdunNC4fMbyzVkEeLmx5lcX4uPhxpiowO6srlKqh9Exin5ge1Yxhwoq+dPVY1h133SGhftx79JtlFTWUlXrYOWeXGaPGdi4cZBSSjnTb4Z+4JNdR3B3FS4dHUGgtzuPXz+Oy5/7mqdWJVNYUUN5dR1XNts4SCmlGmig6OMc9YaPduRwXvwAAr2tQenRUQGcFx/Km+sO4e3uyk8uGML58QO6uaZKqZ5KA0Uft3L3EQ4XH+OBy0c2SX/kmrF8k3qUq8dHEeSjA9ZKqdZpoOjDjDH888sDDA714bKxkU2ODQ3zY2iYXzfVTCnVm+hgdh+27mAB27NK+MkFQ3U5b6XUKdNA0Yf988uDDPDzYO6ktnedU0qptmig6IOO1Ti4463NfLU/nx+dN0T3pFZKnRYNFH3Q8i1ZfLr7CPfMSGDh9PZtJqSUUq3Rwew+xhjDvzdkMCYqgHsvTcDaelwppU6dtij6mE3pRezNKeWWqYM1SCilOoUGij6kvt7w2Md7iQjw5NqJOtNaKdU5ThooRCRWRL4Qkb0isltE7rHTQ0RklYik2LfBTnkeEJFUEUkWkdlO6ZNEZKd97Dmxf/KKiKeILLXTN4hInFOe+fZzpIjI/E599X1EnaOe179NY8bTX7I9s5j/mT1S121SSnWa9rQo6oBfGWNGAdOAu0RkNHA/sMYYkwCssR9jH5sHjAHmAC/Y26gCvAgsxNpHO8E+DrAAKDLGxAPPYO3JjYiEAA8CU4EpwIPOAUnBkZIq5r20nj99sIcwf08euWYM102M7u5qKaX6kJP+7DTG5AA59v0yEdkLRAPXABfZpy0C1gK/tdOXGGOqgTR7H+wpIpIOBBhj1gGIyJvAtVj7Zl8DPGSXtRx43m5tzAZWNeyTLSKrsILL4tN4zX1GYUUNN728ntzSKp65cTzXTojWcQmlVKfrUP+E3SU0EdgARNhBBGNMjoiE26dFA+udsmXZabX2/ebpDXky7bLqRKQECHVObyGPc70WYrVUGDRoUEdeUq9ljOHepds4XHyMt2+fyuS4kO6uklKqj2r3YLaI+AH/Be41xpS2dWoLaaaN9FPNczzBmJeMMYnGmMSwsLA2qtZ3rNiezVf78/nfy0dpkFBKdal2BQoRcccKEm8bY96xk3NFJNI+Hgnk2elZQKxT9hgg206PaSG9SR4RcQMCgcI2yurX8kqr+NMHexgfG8St0wZ3d3WUUn1ce656EuBVYK8x5mmnQyuAhquQ5gPvO6XPs69kGoI1aL3R7qYqE5Fpdpm3NcvTUNZc4HNjjAE+A2aJSLA9iD3LTuuXHPWGOkc99y3bTmVNHU/dMF4X+1NKdbn2jFGcB/wA2Cki2+y03wGPA8tEZAGQAdwAYIzZLSLLgD1YV0zdZYxx2PnuBN4AvLEGsT+x018F3rIHvguxrprCGFMoIo8Am+zzHm4Y2O5vNqYV8pM3k/D3ciOr6BhPfm8c8eG6TLhSquuJ9cO970hMTDRJSUndXY0OOVJSxfqDBcSG+DBp8IlX/+46XMIN/1xHmL8njnrD1ROi+O2ckS2UpJRSp0ZENhtjEls6prOyutmqPbn8cuk2yqvrALhpSix1DsOWjCIuHR3BRcPD+c3y7QT5uLP8znMI9/fq5horpfobDRRnwN6cUr7an4+3hys3To7F082V+nrDs2tSeHZNCuNiAnn02rEs2ZTJ8qQsEJgYG8QrX6fxf18eJMjHnTd+NEWDhFKqW2ig6GL/3pDB797d2fg4v6yaCxLCeGFtKmuT8/ne2TE8dt1YvNxdGRcTxINXjabWYfDzdCOzsJJvUo8yZ8xAgn11X2ulVPfQMYouVOuo58Inv2BgoBcv35bIox/t5d2thwHw83Tj17OGM//cOJ1NrZTqdjpG0U1WbMsmu6SKR68bS6ifJ3+4cjQeri4kxgVzxbhIXbhPKdUr6DdVF8kvq+bPH+/lrOhALhpurW4S4uvBE3PHdXPNlFKqYzRQtKG6zoGLCO6uJ5/AnppXTm5pFSXHahkx0J//9/FeyqrrePr743HRSXFKqV5MA0UrDhVUcPPLGxgY6MXin0zDw631YPFt6lHmv7aRunprvMfVRXDUG35/xSgSIvzPVJWVUqpLaKBoQU1dPbe9tpGSY7UcLj7Gk5/u4/dXjm5yTlWtg6dX7WfxxgzKquoYHuHHQ1ePwcvdlRe+SMXNxYUfnzekm16BUkp1Hg0ULXhnSxaHCip57YeJfLEvn1e+SWPa0FAuHR3ReM7DH+7h3xsyuHJcJKMiA7hhUgzhAdY8h1fmT+6uqiulVKfTQNFMZU0df/88lfExgVw8Ipxzhw1gS0YRP3t7C1eOj6Siuo7UvHIO5Fdwx4XDuP8yXUpDKdW3aaBo5s8f7yW75BhPf388IoKXuyuLfjyFhz/Yw+f78gjz82RQiA+3nRPHLVP7xyZJSqn+rd8ECmMMSYeK8HJz5ayYwBaPv/ZtOv9an8Ht5w9h6tDQxmMD/Dx57qaJZ7K6SinVY/S5QFFeXUedo57qunpEwEWED3fk8No3aezJKcXL3YWlC89hfGxQY56k9ELuWWJtKzp7TIR2JymllJM+t4SHZ2SCGXL7c1TV1jdJHx7hxw+mDeb/vjpIybFa/nzdWUQGevH3z1NZd7CA6CBvfn5xPFeNj2rzUlillOqL+tUSHoNDfLgxMZbwAC9cRKiqdZAYF8z58QMQES4aEc5d/97CLxZvBSAy0IsbJsVw38zhhPp5dnPtlVKq5+lzLYr2LApY66jn/W3Z7Mku5Z5LEwj0dj9DtVNKqZ6prRZFe/bMfk1E8kRkl1NaiIisEpEU+zbY6dgDIpIqIskiMtspfZKI7LSPPWfvm429t/ZSO32DiMQ55ZlvP0eKiDTsqX3a3F1dmDsphj9eNVqDhFJKnUR7OuPfAOY0S7sfWGOMSQDW2I8RkdFY+12PsfO8ICKudp4XgYVAgv3XUOYCoMgYEw88AzxhlxUCPAhMBaYADzoHJKWUUmfGSQOFMeYroLBZ8jXAIvv+IuBap/QlxphqY0wakApMEZFIIMAYs85YfV1vNsvTUNZyYIbd2pgNrDLGFBpjioBVnBiwlFJKdbFTvbwnwhiTA2Dfhtvp0UCm03lZdlq0fb95epM8xpg6oAQIbaOsE4jIQhFJEpGk/Pz8U3xJSimlWtLZ14G2tJ62aSP9VPM0TTTmJWNMojEmMSwsrF0VVUop1T6nGihy7e4k7Ns8Oz0LiHU6LwbIttNjWkhvkkdE3IBArK6u1spSSil1Bp1qoFgBNFyFNB943yl9nn0l0xCsQeuNdvdUmYhMs8cfbmuWp6GsucDn9jjGZ8AsEQm2B7Fn2WlKKaXOoJNOuBORxcBFwAARycK6EulxYJmILAAygBsAjDG7RWQZsAeoA+4yxjjsou7EuoLKG/jE/gN4FXhLRFKxWhLz7LIKReQRYJN93sPGmOaD6koppbpYv5xwp5RSqqm2Jtz1uUAhIiVASgezBWJdbdUT8wwAjp6B5+nJefQ90PcA9D2Arn0PBhtjWr4ayBjTp/6Al/pYnqQeXDd9D/Q90PegD74Hzf/64jKpH/SxPKeiJ78efQ/0PTjVPKeiJ7+envweNNHnup76GhFJMq30G/YX+h7oewD6HkD3vQd9sUXR17zU3RXoAfQ90PcA9D2AbnoPtEWhlFKqTdqiUEop1SYNFEoppdqkgaIbtLIZ1HgRWWdv7vSBiATY6R4i8rqdvl1ELnLKc6OI7BCR3SLy5Jl/JadGRGJF5AsR2WvX/R47vcMbYjkdX+H8fvZ0nfke9JfPgYiE2ueXi8jzrZTZpz8Hbb0HXfo5ON3ra/Wv43/AdOBsYJdT2ibgQvv+j4FH7Pt3Aa/b98OBzVgBPhRr+ZQw+9giYEZ3v7Z2vv5I4Gz7vj+wHxgNPAncb6ffDzxh3x8NbAc8gSHAAcDVqbzrgX87v589/a+z3oN+9jnwBc4H7gCeb6G8/vA5aPE96OrPgbYouoFpeTOoEcBX9v1VwPfs+6OxdhHEGJMHFAOJwFBgvzGmYQOO1U55ejRjTI4xZot9vwzYi7XXSIc2xAIQET/gPuDRM/YCOkEnvgf95nNgjKkwxnwDVDUvq798Dtp4D7r0c6CBoufYBVxt37+B40usbweuERE3e0XeSfaxVGCkiMTZy7NfS9Nl2XsFsfZInwhsoOMbYgE8AjwFVJ6J+naF03wP+tPnoC395XPQmi79HGig6Dl+DNwlIpuxmqA1dvprWF8KScDfgO+AOmNtD3snsBT4GkjHWrG317B/Bf4XuNcYU9rWqS2kGRGZAMQbY97tivqdCaf7HvSzz0Fr+SfQfz4HLerqz8FJlxlXZ4YxZh/WnhuIyHDgCju9Dvhlw3ki8h32oofGmA+wp+eLyELAQS8hIu5Y/zHeNsa8YyfnikikMSZH2rch1jnAJBFJx/osh4vIWmPMRWfiNZyuTnoP+tPnoDX96XPQqq78HGiLoocQkXD71gX4PfBP+7GPiPja92ditSb2NMsTDPwMeKUbqt5hIiJY+5DsNcY87XSooxtivWiMiTLGxGEN8O3vRV8OnfIe2GX1l89Bi/rZ56Ctsrruc9Ddo/798Q9YDOQAtVi/FBcA92Bd8bAfa2OohlnzcUAy1iDXaqylgJ3L2WP/zevu19WB138+1v7nO4Bt9t/lWFdurMFqMa0BQpzy/C/WlT7JwGUtlBlH77rapdPeg372OUjHuhCk3P6/M7offg5afA+68nOgS3gopZRqk3Y9KaWUapMGCqWUUm3SQKGUUqpNGiiUUkq1SQOFUkqpNmmgUKqDRMSIyFtOj91EJF9EPjzF8oJE5GdOjy861bKU6goaKJTquApgrIh4249nAodPo7wgrAlSSvVIGiiUOjWfYC+zAtyENdkJaNxL4D17b4D1IjLOTn9IrL1I1orIQRG5287yODBMRLaJyF/sND8RWS4i+0TkbXsGr1LdQgOFUqdmCdaSGl7AOKwVPxv8CdhqjBkH/A540+nYSGA21hLhD9rr/NwPHDDGTDDG/MY+byJwL9Yy80OB87rwtSjVJg0USp0CY8wOrOUibgI+bnb4fOAt+7zPgVARCbSPfWSsPSWOYi30FtHKU2w0xmQZY+qxlnWI69QXoFQH6OqxSp26FcBfgYuw1uZp0OKS4PZttVOag9b/D7b3PKW6nLYolDp1rwEPG2N2Nkv/CrgFrCuYgKOm7T0GyrD2IFGqR9JfKUqdImNMFvBsC4ceAl4XkR1YO67Nb+Ec53IKRORbEdmFNUj+UWfXVanToavHKqWUapN2PSmllGqTBgqllFJt0kChlFKqTRoolFJKtUkDhVJKqTZpoFBKKdUmDRRKKaXa9P8BVxjQ+WkcjBgAAAAASUVORK5CYII=\n",
=======
      "image/png": "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\n",
>>>>>>> 145aba8a865dd334daa87e8f9cf73dce32bfb472
      "text/plain": [
       "<Figure size 432x288 with 1 Axes>"
      ]
     },
     "metadata": {
      "needs_background": "light"
     },
     "output_type": "display_data"
    }
   ],
   "source": [
    "ax = camden_prices.plot(kind ='line', x = 'Month', y='Average_price')"
   ]
  },
  {
   "cell_type": "code",
<<<<<<< HEAD
   "execution_count": 58,
=======
   "execution_count": 55,
>>>>>>> 145aba8a865dd334daa87e8f9cf73dce32bfb472
   "metadata": {},
   "outputs": [
    {
     "data": {
      "text/plain": [
       "Text(3.200000000000003, 0.5, 'price')"
      ]
     },
<<<<<<< HEAD
     "execution_count": 58,
=======
     "execution_count": 55,
>>>>>>> 145aba8a865dd334daa87e8f9cf73dce32bfb472
     "metadata": {},
     "output_type": "execute_result"
    }
   ],
   "source": [
    "ax.set_ylabel('price')"
   ]
  },
  {
   "cell_type": "markdown",
   "metadata": {
    "colab_type": "text",
    "id": "aWTPqSJeqHnC"
   },
   "source": [
    "To limit the number of data points you have, you might want to extract the year from every month value your *Month* column. \n",
    "\n",
    "To this end, you *could* apply a ***lambda function***. Your logic could work as follows:\n",
    "1. look through the `Month` column\n",
    "2. extract the year from each individual value in that column \n",
    "3. store that corresponding year as separate column. \n",
    "\n",
    "Whether you go ahead with this is up to you. Just so long as you answer our initial brief: which boroughs of London have seen the greatest house price increase, on average, over the past two decades? "
   ]
  },
  {
   "cell_type": "code",
<<<<<<< HEAD
   "execution_count": 59,
=======
   "execution_count": 56,
>>>>>>> 145aba8a865dd334daa87e8f9cf73dce32bfb472
   "metadata": {
    "colab": {},
    "colab_type": "code",
    "id": "e0DF92cyqnu8"
   },
   "outputs": [],
   "source": [
    "df['Year'] = df['Month'].apply(lambda t: t.year)"
   ]
  },
  {
   "cell_type": "code",
<<<<<<< HEAD
   "execution_count": 60,
=======
   "execution_count": 57,
>>>>>>> 145aba8a865dd334daa87e8f9cf73dce32bfb472
   "metadata": {},
   "outputs": [
    {
     "data": {
      "text/html": [
       "<div>\n",
       "<style scoped>\n",
       "    .dataframe tbody tr th:only-of-type {\n",
       "        vertical-align: middle;\n",
       "    }\n",
       "\n",
       "    .dataframe tbody tr th {\n",
       "        vertical-align: top;\n",
       "    }\n",
       "\n",
       "    .dataframe thead th {\n",
       "        text-align: right;\n",
       "    }\n",
       "</style>\n",
       "<table border=\"1\" class=\"dataframe\">\n",
       "  <thead>\n",
       "    <tr style=\"text-align: right;\">\n",
       "      <th></th>\n",
       "      <th>London_Borough</th>\n",
       "      <th>ID</th>\n",
       "      <th>Month</th>\n",
       "      <th>Average_price</th>\n",
       "      <th>Year</th>\n",
       "    </tr>\n",
       "  </thead>\n",
       "  <tbody>\n",
       "    <tr>\n",
<<<<<<< HEAD
       "      <th>14860</th>\n",
       "      <td>Sutton</td>\n",
       "      <td>E09000029</td>\n",
       "      <td>2020-10-01</td>\n",
       "      <td>385190.4259</td>\n",
       "      <td>2020</td>\n",
       "    </tr>\n",
       "    <tr>\n",
       "      <th>14861</th>\n",
       "      <td>Tower Hamlets</td>\n",
       "      <td>E09000030</td>\n",
       "      <td>2020-10-01</td>\n",
       "      <td>470150.7691</td>\n",
       "      <td>2020</td>\n",
       "    </tr>\n",
       "    <tr>\n",
       "      <th>14862</th>\n",
       "      <td>Waltham Forest</td>\n",
       "      <td>E09000031</td>\n",
       "      <td>2020-10-01</td>\n",
       "      <td>459386.6641</td>\n",
       "      <td>2020</td>\n",
       "    </tr>\n",
       "    <tr>\n",
       "      <th>14863</th>\n",
       "      <td>Wandsworth</td>\n",
       "      <td>E09000032</td>\n",
       "      <td>2020-10-01</td>\n",
       "      <td>638185.4331</td>\n",
       "      <td>2020</td>\n",
       "    </tr>\n",
       "    <tr>\n",
       "      <th>14864</th>\n",
       "      <td>Westminster</td>\n",
       "      <td>E09000033</td>\n",
       "      <td>2020-10-01</td>\n",
       "      <td>930164.4873</td>\n",
=======
       "      <th>14956</th>\n",
       "      <td>Sutton</td>\n",
       "      <td>E09000029</td>\n",
       "      <td>2020-12-01</td>\n",
       "      <td>398639.3017</td>\n",
       "      <td>2020</td>\n",
       "    </tr>\n",
       "    <tr>\n",
       "      <th>14957</th>\n",
       "      <td>Tower Hamlets</td>\n",
       "      <td>E09000030</td>\n",
       "      <td>2020-12-01</td>\n",
       "      <td>471445.0342</td>\n",
       "      <td>2020</td>\n",
       "    </tr>\n",
       "    <tr>\n",
       "      <th>14958</th>\n",
       "      <td>Waltham Forest</td>\n",
       "      <td>E09000031</td>\n",
       "      <td>2020-12-01</td>\n",
       "      <td>485676.3481</td>\n",
       "      <td>2020</td>\n",
       "    </tr>\n",
       "    <tr>\n",
       "      <th>14959</th>\n",
       "      <td>Wandsworth</td>\n",
       "      <td>E09000032</td>\n",
       "      <td>2020-12-01</td>\n",
       "      <td>618530.6898</td>\n",
       "      <td>2020</td>\n",
       "    </tr>\n",
       "    <tr>\n",
       "      <th>14960</th>\n",
       "      <td>Westminster</td>\n",
       "      <td>E09000033</td>\n",
       "      <td>2020-12-01</td>\n",
       "      <td>930070.2937</td>\n",
>>>>>>> 145aba8a865dd334daa87e8f9cf73dce32bfb472
       "      <td>2020</td>\n",
       "    </tr>\n",
       "  </tbody>\n",
       "</table>\n",
       "</div>"
      ],
      "text/plain": [
       "       London_Borough         ID      Month  Average_price  Year\n",
<<<<<<< HEAD
       "14860          Sutton  E09000029 2020-10-01    385190.4259  2020\n",
       "14861   Tower Hamlets  E09000030 2020-10-01    470150.7691  2020\n",
       "14862  Waltham Forest  E09000031 2020-10-01    459386.6641  2020\n",
       "14863      Wandsworth  E09000032 2020-10-01    638185.4331  2020\n",
       "14864     Westminster  E09000033 2020-10-01    930164.4873  2020"
      ]
     },
     "execution_count": 60,
=======
       "14956          Sutton  E09000029 2020-12-01    398639.3017  2020\n",
       "14957   Tower Hamlets  E09000030 2020-12-01    471445.0342  2020\n",
       "14958  Waltham Forest  E09000031 2020-12-01    485676.3481  2020\n",
       "14959      Wandsworth  E09000032 2020-12-01    618530.6898  2020\n",
       "14960     Westminster  E09000033 2020-12-01    930070.2937  2020"
      ]
     },
     "execution_count": 57,
>>>>>>> 145aba8a865dd334daa87e8f9cf73dce32bfb472
     "metadata": {},
     "output_type": "execute_result"
    }
   ],
   "source": [
    "df.tail()"
   ]
  },
  {
   "cell_type": "code",
<<<<<<< HEAD
   "execution_count": 61,
=======
   "execution_count": 58,
>>>>>>> 145aba8a865dd334daa87e8f9cf73dce32bfb472
   "metadata": {},
   "outputs": [
    {
     "data": {
      "text/html": [
       "<div>\n",
       "<style scoped>\n",
       "    .dataframe tbody tr th:only-of-type {\n",
       "        vertical-align: middle;\n",
       "    }\n",
       "\n",
       "    .dataframe tbody tr th {\n",
       "        vertical-align: top;\n",
       "    }\n",
       "\n",
       "    .dataframe thead th {\n",
       "        text-align: right;\n",
       "    }\n",
       "</style>\n",
       "<table border=\"1\" class=\"dataframe\">\n",
       "  <thead>\n",
       "    <tr style=\"text-align: right;\">\n",
       "      <th></th>\n",
       "      <th></th>\n",
       "      <th>Average_price</th>\n",
       "    </tr>\n",
       "    <tr>\n",
       "      <th>London_Borough</th>\n",
       "      <th>Year</th>\n",
       "      <th></th>\n",
       "    </tr>\n",
       "  </thead>\n",
       "  <tbody>\n",
       "    <tr>\n",
<<<<<<< HEAD
       "      <th>Haringey</th>\n",
       "      <th>2013</th>\n",
       "      <td>372233.573275</td>\n",
       "    </tr>\n",
       "    <tr>\n",
       "      <th rowspan=\"2\" valign=\"top\">Kingston upon Thames</th>\n",
       "      <th>2011</th>\n",
       "      <td>312073.910233</td>\n",
       "    </tr>\n",
       "    <tr>\n",
       "      <th>2020</th>\n",
       "      <td>493324.657930</td>\n",
       "    </tr>\n",
       "    <tr>\n",
       "      <th>Barking &amp; Dagenham</th>\n",
       "      <th>1996</th>\n",
       "      <td>51718.192690</td>\n",
       "    </tr>\n",
       "    <tr>\n",
       "      <th>Tower Hamlets</th>\n",
       "      <th>2020</th>\n",
       "      <td>460619.532530</td>\n",
       "    </tr>\n",
       "    <tr>\n",
       "      <th>Hackney</th>\n",
       "      <th>2014</th>\n",
       "      <td>456388.443458</td>\n",
       "    </tr>\n",
       "    <tr>\n",
       "      <th>Richmond upon Thames</th>\n",
       "      <th>2007</th>\n",
       "      <td>410382.623250</td>\n",
       "    </tr>\n",
       "    <tr>\n",
       "      <th>Barking &amp; Dagenham</th>\n",
       "      <th>2014</th>\n",
       "      <td>201172.229417</td>\n",
       "    </tr>\n",
       "    <tr>\n",
       "      <th>Hounslow</th>\n",
       "      <th>2009</th>\n",
       "      <td>236242.593458</td>\n",
       "    </tr>\n",
       "    <tr>\n",
       "      <th>Harrow</th>\n",
       "      <th>2004</th>\n",
       "      <td>252291.715792</td>\n",
=======
       "      <th>Brent</th>\n",
       "      <th>2012</th>\n",
       "      <td>314112.757642</td>\n",
       "    </tr>\n",
       "    <tr>\n",
       "      <th>Waltham Forest</th>\n",
       "      <th>2015</th>\n",
       "      <td>357513.365125</td>\n",
       "    </tr>\n",
       "    <tr>\n",
       "      <th>Richmond upon Thames</th>\n",
       "      <th>2012</th>\n",
       "      <td>454941.838392</td>\n",
       "    </tr>\n",
       "    <tr>\n",
       "      <th>Bexley</th>\n",
       "      <th>2009</th>\n",
       "      <td>189050.806042</td>\n",
       "    </tr>\n",
       "    <tr>\n",
       "      <th>Hounslow</th>\n",
       "      <th>2009</th>\n",
       "      <td>236242.593458</td>\n",
       "    </tr>\n",
       "    <tr>\n",
       "      <th>Kensington &amp; Chelsea</th>\n",
       "      <th>2000</th>\n",
       "      <td>376802.247850</td>\n",
       "    </tr>\n",
       "    <tr>\n",
       "      <th>Barking &amp; Dagenham</th>\n",
       "      <th>2013</th>\n",
       "      <td>173733.624933</td>\n",
       "    </tr>\n",
       "    <tr>\n",
       "      <th>Ealing</th>\n",
       "      <th>1998</th>\n",
       "      <td>111343.154650</td>\n",
       "    </tr>\n",
       "    <tr>\n",
       "      <th>Southwark</th>\n",
       "      <th>2011</th>\n",
       "      <td>312539.494950</td>\n",
       "    </tr>\n",
       "    <tr>\n",
       "      <th>Sutton</th>\n",
       "      <th>2011</th>\n",
       "      <td>233026.678975</td>\n",
>>>>>>> 145aba8a865dd334daa87e8f9cf73dce32bfb472
       "    </tr>\n",
       "  </tbody>\n",
       "</table>\n",
       "</div>"
      ],
      "text/plain": [
       "                           Average_price\n",
       "London_Borough       Year               \n",
<<<<<<< HEAD
       "Haringey             2013  372233.573275\n",
       "Kingston upon Thames 2011  312073.910233\n",
       "                     2020  493324.657930\n",
       "Barking & Dagenham   1996   51718.192690\n",
       "Tower Hamlets        2020  460619.532530\n",
       "Hackney              2014  456388.443458\n",
       "Richmond upon Thames 2007  410382.623250\n",
       "Barking & Dagenham   2014  201172.229417\n",
       "Hounslow             2009  236242.593458\n",
       "Harrow               2004  252291.715792"
      ]
     },
     "execution_count": 61,
=======
       "Brent                2012  314112.757642\n",
       "Waltham Forest       2015  357513.365125\n",
       "Richmond upon Thames 2012  454941.838392\n",
       "Bexley               2009  189050.806042\n",
       "Hounslow             2009  236242.593458\n",
       "Kensington & Chelsea 2000  376802.247850\n",
       "Barking & Dagenham   2013  173733.624933\n",
       "Ealing               1998  111343.154650\n",
       "Southwark            2011  312539.494950\n",
       "Sutton               2011  233026.678975"
      ]
     },
     "execution_count": 58,
>>>>>>> 145aba8a865dd334daa87e8f9cf73dce32bfb472
     "metadata": {},
     "output_type": "execute_result"
    }
   ],
   "source": [
    "dfg = df.groupby(by=['London_Borough', 'Year']).mean()\n",
    "dfg.sample(10)"
   ]
  },
  {
   "cell_type": "code",
<<<<<<< HEAD
   "execution_count": 62,
=======
   "execution_count": 59,
>>>>>>> 145aba8a865dd334daa87e8f9cf73dce32bfb472
   "metadata": {},
   "outputs": [
    {
     "data": {
      "text/html": [
       "<div>\n",
       "<style scoped>\n",
       "    .dataframe tbody tr th:only-of-type {\n",
       "        vertical-align: middle;\n",
       "    }\n",
       "\n",
       "    .dataframe tbody tr th {\n",
       "        vertical-align: top;\n",
       "    }\n",
       "\n",
       "    .dataframe thead th {\n",
       "        text-align: right;\n",
       "    }\n",
       "</style>\n",
       "<table border=\"1\" class=\"dataframe\">\n",
       "  <thead>\n",
       "    <tr style=\"text-align: right;\">\n",
       "      <th></th>\n",
       "      <th>London_Borough</th>\n",
       "      <th>Year</th>\n",
       "      <th>Average_price</th>\n",
       "    </tr>\n",
       "  </thead>\n",
       "  <tbody>\n",
       "    <tr>\n",
       "      <th>0</th>\n",
       "      <td>Barking &amp; Dagenham</td>\n",
       "      <td>1995</td>\n",
       "      <td>51817.969390</td>\n",
       "    </tr>\n",
       "    <tr>\n",
       "      <th>1</th>\n",
       "      <td>Barking &amp; Dagenham</td>\n",
       "      <td>1996</td>\n",
       "      <td>51718.192690</td>\n",
       "    </tr>\n",
       "    <tr>\n",
       "      <th>2</th>\n",
       "      <td>Barking &amp; Dagenham</td>\n",
       "      <td>1997</td>\n",
       "      <td>55974.262309</td>\n",
       "    </tr>\n",
       "    <tr>\n",
       "      <th>3</th>\n",
       "      <td>Barking &amp; Dagenham</td>\n",
       "      <td>1998</td>\n",
       "      <td>60285.821083</td>\n",
       "    </tr>\n",
       "    <tr>\n",
       "      <th>4</th>\n",
       "      <td>Barking &amp; Dagenham</td>\n",
       "      <td>1999</td>\n",
       "      <td>65320.934441</td>\n",
       "    </tr>\n",
       "  </tbody>\n",
       "</table>\n",
       "</div>"
      ],
      "text/plain": [
       "       London_Borough  Year  Average_price\n",
       "0  Barking & Dagenham  1995   51817.969390\n",
       "1  Barking & Dagenham  1996   51718.192690\n",
       "2  Barking & Dagenham  1997   55974.262309\n",
       "3  Barking & Dagenham  1998   60285.821083\n",
       "4  Barking & Dagenham  1999   65320.934441"
      ]
     },
<<<<<<< HEAD
     "execution_count": 62,
=======
     "execution_count": 59,
>>>>>>> 145aba8a865dd334daa87e8f9cf73dce32bfb472
     "metadata": {},
     "output_type": "execute_result"
    }
   ],
   "source": [
    "dfg = dfg.reset_index()\n",
    "dfg.head()"
   ]
  },
  {
   "cell_type": "markdown",
   "metadata": {
    "colab_type": "text",
    "id": "2knuTxAEqoJ4"
   },
   "source": [
    "**3. Modeling**\n",
    "\n",
    "Consider creating a function that will calculate a ratio of house prices, comparing the price of a house in 2018 to the price in 1998.\n",
    "\n",
    "Consider calling this function create_price_ratio.\n",
    "\n",
    "You'd want this function to:\n",
    "1. Take a filter of dfg, specifically where this filter constrains the London_Borough, as an argument. For example, one admissible argument should be: dfg[dfg['London_Borough']=='Camden'].\n",
    "2. Get the Average Price for that Borough, for the years 1998 and 2018.\n",
    "4. Calculate the ratio of the Average Price for 1998 divided by the Average Price for 2018.\n",
    "5. Return that ratio.\n",
    "\n",
    "Once you've written this function, you ultimately want to use it to iterate through all the unique London_Boroughs and work out the ratio capturing the difference of house prices between 1998 and 2018.\n",
    "\n",
    "Bear in mind: you don't have to write a function like this if you don't want to. If you can solve the brief otherwise, then great! \n",
    "\n",
    "***Hint***: This section should test the skills you acquired in:\n",
    "- Python Data Science Toolbox - Part One, all modules"
   ]
  },
  {
   "cell_type": "code",
<<<<<<< HEAD
   "execution_count": 75,
   "metadata": {},
   "outputs": [],
   "source": [
    "def create_price_ratio(price):\n",
    "    average_price_1998 = float(price['Average_price'][price['Year']==1998])\n",
    "    average_price_2018 = float(price['Average_price'][price['Year']==2018])\n",
=======
   "execution_count": 60,
   "metadata": {},
   "outputs": [],
   "source": [
    "def create_price_ratio(check_borough):\n",
    "    average_price_1998 = float(check_borough['Average_price'][check_borough['Year']==1998])\n",
    "    average_price_2018 = float(check_borough['Average_price'][check_borough['Year']==2018])\n",
>>>>>>> 145aba8a865dd334daa87e8f9cf73dce32bfb472
    "    price_ratio = [average_price_2018/average_price_1998]\n",
    "    return price_ratio"
   ]
  },
  {
   "cell_type": "code",
<<<<<<< HEAD
   "execution_count": 76,
=======
   "execution_count": 61,
>>>>>>> 145aba8a865dd334daa87e8f9cf73dce32bfb472
   "metadata": {
    "colab": {},
    "colab_type": "code",
    "id": "cKTyr437UgDa"
   },
   "outputs": [
    {
     "data": {
      "text/plain": [
       "[4.89661861291754]"
      ]
     },
<<<<<<< HEAD
     "execution_count": 76,
=======
     "execution_count": 61,
>>>>>>> 145aba8a865dd334daa87e8f9cf73dce32bfb472
     "metadata": {},
     "output_type": "execute_result"
    }
   ],
   "source": [
    "create_price_ratio(dfg[dfg['London_Borough']=='Barking & Dagenham'])"
   ]
  },
  {
   "cell_type": "code",
<<<<<<< HEAD
   "execution_count": 77,
=======
   "execution_count": 62,
>>>>>>> 145aba8a865dd334daa87e8f9cf73dce32bfb472
   "metadata": {},
   "outputs": [],
   "source": [
    "final = {}"
   ]
  },
  {
   "cell_type": "code",
<<<<<<< HEAD
   "execution_count": 78,
=======
   "execution_count": 63,
>>>>>>> 145aba8a865dd334daa87e8f9cf73dce32bfb472
   "metadata": {},
   "outputs": [
    {
     "name": "stdout",
     "output_type": "stream",
     "text": [
      "{'Barking & Dagenham': [4.89661861291754], 'Barnet': [4.358195917538044], 'Bexley': [4.248977046127877], 'Brent': [4.8945544971392865], 'Bromley': [4.0947846853338765], 'Camden': [4.935353408884261], 'City of London': [5.301620377587609], 'Croydon': [4.201100280024767], 'Ealing': [4.311450902121834], 'Enfield': [4.26347158349581], 'Greenwich': [4.763036347329193], 'Hackney': [6.198285561008662], 'Hammersmith & Fulham': [4.137798101936229], 'Haringey': [5.134624964136042], 'Harrow': [4.0591964329643195], 'Havering': [4.325230371335308], 'Hillingdon': [4.2002730803844575], 'Hounslow': [3.976409106143329], 'Islington': [4.844048012802298], 'Kensington & Chelsea': [5.082465066092464], 'Kingston upon Thames': [4.270549521484271], 'Lambeth': [4.957751163514063], 'Lewisham': [5.449221041059685], 'Merton': [4.741273313294604], 'Newham': [5.305390437201879], 'Redbridge': [4.471182006097364], 'Richmond upon Thames': [4.005161895721457], 'Southwark': [5.516485302379376], 'Sutton': [4.118522608573157], 'Tower Hamlets': [4.62670104006116], 'Waltham Forest': [5.83475580932281], 'Wandsworth': [4.757709347739269], 'Westminster': [5.353565392605413]}\n"
     ]
    }
   ],
   "source": [
    "for b in dfg['London_Borough'].unique():\n",
    "    borough = dfg[dfg['London_Borough'] == b]\n",
    "    final[b] = create_price_ratio(borough)\n",
    "print(final) "
   ]
  },
  {
   "cell_type": "code",
<<<<<<< HEAD
   "execution_count": 79,
=======
   "execution_count": null,
   "metadata": {},
   "outputs": [],
   "source": [
    "### why use 'unique'?"
   ]
  },
  {
   "cell_type": "code",
   "execution_count": 64,
>>>>>>> 145aba8a865dd334daa87e8f9cf73dce32bfb472
   "metadata": {},
   "outputs": [],
   "source": [
    "df_ratios = pd.DataFrame(final)"
   ]
  },
  {
   "cell_type": "code",
<<<<<<< HEAD
   "execution_count": 80,
=======
   "execution_count": 65,
>>>>>>> 145aba8a865dd334daa87e8f9cf73dce32bfb472
   "metadata": {},
   "outputs": [
    {
     "data": {
      "text/html": [
       "<div>\n",
       "<style scoped>\n",
       "    .dataframe tbody tr th:only-of-type {\n",
       "        vertical-align: middle;\n",
       "    }\n",
       "\n",
       "    .dataframe tbody tr th {\n",
       "        vertical-align: top;\n",
       "    }\n",
       "\n",
       "    .dataframe thead th {\n",
       "        text-align: right;\n",
       "    }\n",
       "</style>\n",
       "<table border=\"1\" class=\"dataframe\">\n",
       "  <thead>\n",
       "    <tr style=\"text-align: right;\">\n",
       "      <th></th>\n",
       "      <th>Barking &amp; Dagenham</th>\n",
       "      <th>Barnet</th>\n",
       "      <th>Bexley</th>\n",
       "      <th>Brent</th>\n",
       "      <th>Bromley</th>\n",
       "      <th>Camden</th>\n",
       "      <th>City of London</th>\n",
       "      <th>Croydon</th>\n",
       "      <th>Ealing</th>\n",
       "      <th>Enfield</th>\n",
       "      <th>...</th>\n",
       "      <th>Merton</th>\n",
       "      <th>Newham</th>\n",
       "      <th>Redbridge</th>\n",
       "      <th>Richmond upon Thames</th>\n",
       "      <th>Southwark</th>\n",
       "      <th>Sutton</th>\n",
       "      <th>Tower Hamlets</th>\n",
       "      <th>Waltham Forest</th>\n",
       "      <th>Wandsworth</th>\n",
       "      <th>Westminster</th>\n",
       "    </tr>\n",
       "  </thead>\n",
       "  <tbody>\n",
       "    <tr>\n",
       "      <th>0</th>\n",
       "      <td>4.896619</td>\n",
       "      <td>4.358196</td>\n",
       "      <td>4.248977</td>\n",
       "      <td>4.894554</td>\n",
       "      <td>4.094785</td>\n",
       "      <td>4.935353</td>\n",
       "      <td>5.30162</td>\n",
       "      <td>4.2011</td>\n",
       "      <td>4.311451</td>\n",
       "      <td>4.263472</td>\n",
       "      <td>...</td>\n",
       "      <td>4.741273</td>\n",
       "      <td>5.30539</td>\n",
       "      <td>4.471182</td>\n",
       "      <td>4.005162</td>\n",
       "      <td>5.516485</td>\n",
       "      <td>4.118523</td>\n",
       "      <td>4.626701</td>\n",
       "      <td>5.834756</td>\n",
       "      <td>4.757709</td>\n",
       "      <td>5.353565</td>\n",
       "    </tr>\n",
       "  </tbody>\n",
       "</table>\n",
       "<p>1 rows × 33 columns</p>\n",
       "</div>"
      ],
      "text/plain": [
       "   Barking & Dagenham    Barnet    Bexley     Brent   Bromley    Camden  \\\n",
       "0            4.896619  4.358196  4.248977  4.894554  4.094785  4.935353   \n",
       "\n",
       "   City of London  Croydon    Ealing   Enfield  ...    Merton   Newham  \\\n",
       "0         5.30162   4.2011  4.311451  4.263472  ...  4.741273  5.30539   \n",
       "\n",
       "   Redbridge  Richmond upon Thames  Southwark    Sutton  Tower Hamlets  \\\n",
       "0   4.471182              4.005162   5.516485  4.118523       4.626701   \n",
       "\n",
       "   Waltham Forest  Wandsworth  Westminster  \n",
       "0        5.834756    4.757709     5.353565  \n",
       "\n",
       "[1 rows x 33 columns]"
      ]
     },
<<<<<<< HEAD
     "execution_count": 80,
=======
     "execution_count": 65,
>>>>>>> 145aba8a865dd334daa87e8f9cf73dce32bfb472
     "metadata": {},
     "output_type": "execute_result"
    }
   ],
   "source": [
    "df_ratios.head()"
   ]
  },
  {
   "cell_type": "code",
<<<<<<< HEAD
   "execution_count": 81,
=======
   "execution_count": 66,
>>>>>>> 145aba8a865dd334daa87e8f9cf73dce32bfb472
   "metadata": {},
   "outputs": [
    {
     "data": {
      "text/html": [
       "<div>\n",
       "<style scoped>\n",
       "    .dataframe tbody tr th:only-of-type {\n",
       "        vertical-align: middle;\n",
       "    }\n",
       "\n",
       "    .dataframe tbody tr th {\n",
       "        vertical-align: top;\n",
       "    }\n",
       "\n",
       "    .dataframe thead th {\n",
       "        text-align: right;\n",
       "    }\n",
       "</style>\n",
       "<table border=\"1\" class=\"dataframe\">\n",
       "  <thead>\n",
       "    <tr style=\"text-align: right;\">\n",
       "      <th></th>\n",
       "      <th>index</th>\n",
       "      <th>0</th>\n",
       "    </tr>\n",
       "  </thead>\n",
       "  <tbody>\n",
       "    <tr>\n",
       "      <th>0</th>\n",
       "      <td>Barking &amp; Dagenham</td>\n",
       "      <td>4.896619</td>\n",
       "    </tr>\n",
       "    <tr>\n",
       "      <th>1</th>\n",
       "      <td>Barnet</td>\n",
       "      <td>4.358196</td>\n",
       "    </tr>\n",
       "    <tr>\n",
       "      <th>2</th>\n",
       "      <td>Bexley</td>\n",
       "      <td>4.248977</td>\n",
       "    </tr>\n",
       "    <tr>\n",
       "      <th>3</th>\n",
       "      <td>Brent</td>\n",
       "      <td>4.894554</td>\n",
       "    </tr>\n",
       "    <tr>\n",
       "      <th>4</th>\n",
       "      <td>Bromley</td>\n",
       "      <td>4.094785</td>\n",
       "    </tr>\n",
       "  </tbody>\n",
       "</table>\n",
       "</div>"
      ],
      "text/plain": [
       "                index         0\n",
       "0  Barking & Dagenham  4.896619\n",
       "1              Barnet  4.358196\n",
       "2              Bexley  4.248977\n",
       "3               Brent  4.894554\n",
       "4             Bromley  4.094785"
      ]
     },
<<<<<<< HEAD
     "execution_count": 81,
=======
     "execution_count": 66,
>>>>>>> 145aba8a865dd334daa87e8f9cf73dce32bfb472
     "metadata": {},
     "output_type": "execute_result"
    }
   ],
   "source": [
    "df_ratios_T = df_ratios.T\n",
    "df_ratios = df_ratios_T.reset_index()\n",
    "df_ratios.head()"
   ]
  },
  {
   "cell_type": "code",
<<<<<<< HEAD
   "execution_count": 82,
=======
   "execution_count": 71,
>>>>>>> 145aba8a865dd334daa87e8f9cf73dce32bfb472
   "metadata": {},
   "outputs": [
    {
     "data": {
      "text/html": [
       "<div>\n",
       "<style scoped>\n",
       "    .dataframe tbody tr th:only-of-type {\n",
       "        vertical-align: middle;\n",
       "    }\n",
       "\n",
       "    .dataframe tbody tr th {\n",
       "        vertical-align: top;\n",
       "    }\n",
       "\n",
       "    .dataframe thead th {\n",
       "        text-align: right;\n",
       "    }\n",
       "</style>\n",
       "<table border=\"1\" class=\"dataframe\">\n",
       "  <thead>\n",
       "    <tr style=\"text-align: right;\">\n",
       "      <th></th>\n",
       "      <th>Borough</th>\n",
       "      <th>2018</th>\n",
       "    </tr>\n",
       "  </thead>\n",
       "  <tbody>\n",
       "    <tr>\n",
       "      <th>0</th>\n",
       "      <td>Barking &amp; Dagenham</td>\n",
       "      <td>4.896619</td>\n",
       "    </tr>\n",
       "    <tr>\n",
       "      <th>1</th>\n",
       "      <td>Barnet</td>\n",
       "      <td>4.358196</td>\n",
       "    </tr>\n",
       "    <tr>\n",
       "      <th>2</th>\n",
       "      <td>Bexley</td>\n",
       "      <td>4.248977</td>\n",
       "    </tr>\n",
       "    <tr>\n",
       "      <th>3</th>\n",
       "      <td>Brent</td>\n",
       "      <td>4.894554</td>\n",
       "    </tr>\n",
       "    <tr>\n",
       "      <th>4</th>\n",
       "      <td>Bromley</td>\n",
       "      <td>4.094785</td>\n",
       "    </tr>\n",
       "  </tbody>\n",
       "</table>\n",
       "</div>"
      ],
      "text/plain": [
       "              Borough      2018\n",
       "0  Barking & Dagenham  4.896619\n",
       "1              Barnet  4.358196\n",
       "2              Bexley  4.248977\n",
       "3               Brent  4.894554\n",
       "4             Bromley  4.094785"
      ]
     },
<<<<<<< HEAD
     "execution_count": 82,
=======
     "execution_count": 71,
>>>>>>> 145aba8a865dd334daa87e8f9cf73dce32bfb472
     "metadata": {},
     "output_type": "execute_result"
    }
   ],
   "source": [
    "df_ratios.rename(columns={'index':'Borough', 0:'2018'}, inplace=True)\n",
    "df_ratios.head()"
   ]
  },
  {
   "cell_type": "code",
<<<<<<< HEAD
   "execution_count": 83,
=======
   "execution_count": 72,
>>>>>>> 145aba8a865dd334daa87e8f9cf73dce32bfb472
   "metadata": {},
   "outputs": [
    {
     "name": "stdout",
     "output_type": "stream",
     "text": [
      "                 Borough      2018\n",
      "11               Hackney  6.198286\n",
      "30        Waltham Forest  5.834756\n",
      "27             Southwark  5.516485\n",
      "22              Lewisham  5.449221\n",
      "32           Westminster  5.353565\n",
      "24                Newham  5.305390\n",
      "6         City of London  5.301620\n",
      "13              Haringey  5.134625\n",
      "19  Kensington & Chelsea  5.082465\n",
      "21               Lambeth  4.957751\n",
      "5                 Camden  4.935353\n",
      "0     Barking & Dagenham  4.896619\n",
      "3                  Brent  4.894554\n",
      "18             Islington  4.844048\n",
      "10             Greenwich  4.763036\n"
     ]
    }
   ],
   "source": [
    "top15= df_ratios.sort_values(by='2018',ascending=False).head(15)\n",
    "print(top15)"
   ]
  },
  {
   "cell_type": "code",
<<<<<<< HEAD
   "execution_count": 84,
=======
   "execution_count": 73,
>>>>>>> 145aba8a865dd334daa87e8f9cf73dce32bfb472
   "metadata": {},
   "outputs": [
    {
     "data": {
      "text/plain": [
       "[Text(0, 0, 'Hackney'),\n",
       " Text(1, 0, 'Waltham Forest'),\n",
       " Text(2, 0, 'Southwark'),\n",
       " Text(3, 0, 'Lewisham'),\n",
       " Text(4, 0, 'Westminster'),\n",
       " Text(5, 0, 'Newham'),\n",
       " Text(6, 0, 'City of London'),\n",
       " Text(7, 0, 'Haringey'),\n",
       " Text(8, 0, 'Kensington & Chelsea'),\n",
       " Text(9, 0, 'Lambeth'),\n",
       " Text(10, 0, 'Camden'),\n",
       " Text(11, 0, 'Barking & Dagenham'),\n",
       " Text(12, 0, 'Brent'),\n",
       " Text(13, 0, 'Islington'),\n",
       " Text(14, 0, 'Greenwich')]"
      ]
     },
<<<<<<< HEAD
     "execution_count": 84,
=======
     "execution_count": 73,
>>>>>>> 145aba8a865dd334daa87e8f9cf73dce32bfb472
     "metadata": {},
     "output_type": "execute_result"
    },
    {
     "data": {
      "image/png": "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\n",
      "text/plain": [
       "<Figure size 432x288 with 1 Axes>"
      ]
     },
     "metadata": {
      "needs_background": "light"
     },
     "output_type": "display_data"
    }
   ],
   "source": [
    "ax = top15[['Borough','2018']].plot(kind='bar')\n",
    "ax.set_xticklabels(top15.Borough)"
   ]
  },
  {
   "cell_type": "markdown",
   "metadata": {
    "colab_type": "text",
    "id": "NzYUI7FxJpgv"
   },
   "source": [
    "### 4. Conclusion\n",
    "What can you conclude? Type out your conclusion below. \n",
    "\n",
    "Look back at your notebook. Think about how you might summarize what you have done, and prepare a quick presentation on it to your mentor at your next meeting. \n",
    "\n",
    "We hope you enjoyed this practical project. It should have consolidated your data hygiene and pandas skills by looking at a real-world problem involving just the kind of dataset you might encounter as a budding data scientist. Congratulations, and looking forward to seeing you at the next step in the course! "
   ]
  },
  {
   "cell_type": "code",
<<<<<<< HEAD
=======
   "execution_count": 80,
   "metadata": {},
   "outputs": [],
   "source": [
    "def get_price(check_borough):\n",
    "    price = float(check_borough['Average_price'][check_borough['Year']==2018])\n",
    "    return price"
   ]
  },
  {
   "cell_type": "code",
   "execution_count": 81,
   "metadata": {},
   "outputs": [
    {
     "name": "stdout",
     "output_type": "stream",
     "text": [
      "{'Barking & Dagenham': 295196.67361166666, 'Barnet': 533266.534055, 'Bexley': 342603.6056541667, 'Brent': 492845.37125250004, 'Bromley': 443409.985635, 'Camden': 842410.4093608333, 'City of London': 784808.9086350001, 'Croydon': 370298.5433200001, 'Ealing': 480050.54456083337, 'Enfield': 396631.71780166664, 'Greenwich': 388344.32512583333, 'Hackney': 544640.4750275, 'Hammersmith & Fulham': 725525.3311399999, 'Haringey': 551560.64401, 'Harrow': 465907.4632525, 'Havering': 370248.75077, 'Hillingdon': 410266.07901, 'Hounslow': 396631.1797875, 'Islington': 649824.0675333334, 'Kensington & Chelsea': 1363880.1212666666, 'Kingston upon Thames': 497090.97848000005, 'Lambeth': 511536.3969916667, 'Lewisham': 411628.98966833326, 'Merton': 512293.89456999995, 'Newham': 359022.5127766666, 'Redbridge': 422591.065915, 'Richmond upon Thames': 652665.42632, 'Southwark': 504235.3749449999, 'Sutton': 379262.58058166667, 'Tower Hamlets': 446500.55378500005, 'Waltham Forest': 440859.4111275, 'Wandsworth': 596649.1390441667, 'Westminster': 1020025.2533933334}\n"
     ]
    }
   ],
   "source": [
    "for b in dfg['London_Borough'].unique():\n",
    "    borough = dfg[dfg['London_Borough'] == b]\n",
    "    final[b] = get_price(borough)\n",
    "print(final)"
   ]
  },
  {
   "cell_type": "code",
   "execution_count": 97,
   "metadata": {},
   "outputs": [],
   "source": [
    "df_price = pd.DataFrame(list(final.items()),columns = ['Borough','2018']) "
   ]
  },
  {
   "cell_type": "code",
   "execution_count": 98,
   "metadata": {},
   "outputs": [
    {
     "data": {
      "text/html": [
       "<div>\n",
       "<style scoped>\n",
       "    .dataframe tbody tr th:only-of-type {\n",
       "        vertical-align: middle;\n",
       "    }\n",
       "\n",
       "    .dataframe tbody tr th {\n",
       "        vertical-align: top;\n",
       "    }\n",
       "\n",
       "    .dataframe thead th {\n",
       "        text-align: right;\n",
       "    }\n",
       "</style>\n",
       "<table border=\"1\" class=\"dataframe\">\n",
       "  <thead>\n",
       "    <tr style=\"text-align: right;\">\n",
       "      <th></th>\n",
       "      <th>Borough</th>\n",
       "      <th>2018</th>\n",
       "    </tr>\n",
       "  </thead>\n",
       "  <tbody>\n",
       "    <tr>\n",
       "      <th>0</th>\n",
       "      <td>Barking &amp; Dagenham</td>\n",
       "      <td>295196.673612</td>\n",
       "    </tr>\n",
       "    <tr>\n",
       "      <th>1</th>\n",
       "      <td>Barnet</td>\n",
       "      <td>533266.534055</td>\n",
       "    </tr>\n",
       "    <tr>\n",
       "      <th>2</th>\n",
       "      <td>Bexley</td>\n",
       "      <td>342603.605654</td>\n",
       "    </tr>\n",
       "    <tr>\n",
       "      <th>3</th>\n",
       "      <td>Brent</td>\n",
       "      <td>492845.371253</td>\n",
       "    </tr>\n",
       "    <tr>\n",
       "      <th>4</th>\n",
       "      <td>Bromley</td>\n",
       "      <td>443409.985635</td>\n",
       "    </tr>\n",
       "  </tbody>\n",
       "</table>\n",
       "</div>"
      ],
      "text/plain": [
       "              Borough           2018\n",
       "0  Barking & Dagenham  295196.673612\n",
       "1              Barnet  533266.534055\n",
       "2              Bexley  342603.605654\n",
       "3               Brent  492845.371253\n",
       "4             Bromley  443409.985635"
      ]
     },
     "execution_count": 98,
     "metadata": {},
     "output_type": "execute_result"
    }
   ],
   "source": [
    "df_price.head()"
   ]
  },
  {
   "cell_type": "code",
   "execution_count": 99,
   "metadata": {},
   "outputs": [
    {
     "name": "stdout",
     "output_type": "stream",
     "text": [
      "                 Borough          2018\n",
      "19  Kensington & Chelsea  1.363880e+06\n",
      "32           Westminster  1.020025e+06\n",
      "5                 Camden  8.424104e+05\n",
      "6         City of London  7.848089e+05\n",
      "12  Hammersmith & Fulham  7.255253e+05\n",
      "26  Richmond upon Thames  6.526654e+05\n",
      "18             Islington  6.498241e+05\n",
      "31            Wandsworth  5.966491e+05\n",
      "13              Haringey  5.515606e+05\n",
      "11               Hackney  5.446405e+05\n",
      "1                 Barnet  5.332665e+05\n",
      "23                Merton  5.122939e+05\n",
      "21               Lambeth  5.115364e+05\n",
      "27             Southwark  5.042354e+05\n",
      "20  Kingston upon Thames  4.970910e+05\n"
     ]
    }
   ],
   "source": [
    "top15_price= df_price.sort_values(by='2018',ascending=False).head(15)\n",
    "print(top15_price)"
   ]
  },
  {
   "cell_type": "code",
   "execution_count": 104,
   "metadata": {},
   "outputs": [
    {
     "data": {
      "text/plain": [
       "[Text(0, 0, 'Kensington & Chelsea'),\n",
       " Text(1, 0, 'Westminster'),\n",
       " Text(2, 0, 'Camden'),\n",
       " Text(3, 0, 'City of London'),\n",
       " Text(4, 0, 'Hammersmith & Fulham'),\n",
       " Text(5, 0, 'Richmond upon Thames'),\n",
       " Text(6, 0, 'Islington'),\n",
       " Text(7, 0, 'Wandsworth'),\n",
       " Text(8, 0, 'Haringey'),\n",
       " Text(9, 0, 'Hackney'),\n",
       " Text(10, 0, 'Barnet'),\n",
       " Text(11, 0, 'Merton'),\n",
       " Text(12, 0, 'Lambeth'),\n",
       " Text(13, 0, 'Southwark'),\n",
       " Text(14, 0, 'Kingston upon Thames')]"
      ]
     },
     "execution_count": 104,
     "metadata": {},
     "output_type": "execute_result"
    },
    {
     "data": {
      "image/png": "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\n",
      "text/plain": [
       "<Figure size 432x288 with 1 Axes>"
      ]
     },
     "metadata": {
      "needs_background": "light"
     },
     "output_type": "display_data"
    }
   ],
   "source": [
    "ax = top15_price[['Borough','2018']].plot(kind='bar')\n",
    "ax.set_xticklabels(top15_price.Borough)"
   ]
  },
  {
   "cell_type": "code",
   "execution_count": null,
   "metadata": {},
   "outputs": [],
   "source": []
  },
  {
   "cell_type": "code",
>>>>>>> 145aba8a865dd334daa87e8f9cf73dce32bfb472
   "execution_count": null,
   "metadata": {},
   "outputs": [],
   "source": []
  }
 ],
 "metadata": {
  "colab": {
   "collapsed_sections": [],
   "name": "Springboard Data Science Career Track Unit 4 Challenge - Tier 3 Complete .ipynb",
   "provenance": []
  },
  "kernelspec": {
   "display_name": "Python 3",
   "language": "python",
   "name": "python3"
  },
  "language_info": {
   "codemirror_mode": {
    "name": "ipython",
    "version": 3
   },
   "file_extension": ".py",
   "mimetype": "text/x-python",
   "name": "python",
   "nbconvert_exporter": "python",
   "pygments_lexer": "ipython3",
   "version": "3.8.3"
  }
 },
 "nbformat": 4,
 "nbformat_minor": 1
}
